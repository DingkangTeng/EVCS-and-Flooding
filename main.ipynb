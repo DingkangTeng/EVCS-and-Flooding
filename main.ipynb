{
 "cells": [
  {
   "cell_type": "markdown",
   "id": "ca24db02",
   "metadata": {},
   "source": [
    "Download Flooding data"
   ]
  },
  {
   "cell_type": "code",
   "execution_count": null,
   "id": "ef2dfb81",
   "metadata": {},
   "outputs": [],
   "source": [
    "from crawlerF.globalFloodDatabase import globalFloodDatabase\n",
    "globalFloodDatabase().downloadAll(\"download\")\n",
    "# Finished on 2025/06/06"
   ]
  },
  {
   "cell_type": "markdown",
   "id": "7db33014",
   "metadata": {},
   "source": [
    "Download Population data"
   ]
  },
  {
   "cell_type": "code",
   "execution_count": null,
   "id": "01975d10",
   "metadata": {},
   "outputs": [],
   "source": [
    "from crawlerF.globalPopulation import globalPopulation\n",
    "globalPopulation().downloadAll(\"test\")\n",
    "# Finished from 2025/06/07 to 2025/06/11"
   ]
  },
  {
   "cell_type": "markdown",
   "id": "ab46f5ac",
   "metadata": {},
   "source": [
    "Remove permanent water"
   ]
  },
  {
   "cell_type": "code",
   "execution_count": null,
   "id": "920a9cff",
   "metadata": {},
   "outputs": [],
   "source": [
    "from raster.floodingMerge import floodingMerge\n",
    "import os\n",
    "\"\"\"\n",
    "Useful band\n",
    "Band 1: flooded\n",
    "Band 2: flood_duration\n",
    "Band 5: jrc_perm_water (1 - permanent water, 0 - non-water)\n",
    "\"\"\"\n",
    "flooding = floodingMerge(r\"C:\\\\0_PolyU\\\\flooding\")\n",
    "flooding.readAllTifInZip(\"C:\\\\0_PolyU\\\\floodingAll_Times\", 1, multiThread=os.cpu_count()) # type: ignore\n",
    "flooding.readAllTifInZip(\"C:\\\\0_PolyU\\\\floodingAll_Days\", 2, multiThread=os.cpu_count()) # type: ignore\n",
    "flooding.calculateStasticPeriod(\"C:\\\\0_PolyU\\\\flooding\")\n",
    "# Finished on 2025/07/09"
   ]
  },
  {
   "cell_type": "markdown",
   "id": "e1be5318",
   "metadata": {},
   "source": [
    "Get road network graph"
   ]
  },
  {
   "cell_type": "code",
   "execution_count": null,
   "id": "a49680f7",
   "metadata": {},
   "outputs": [],
   "source": [
    "from nodeAnalysis.simpleRoad import getSimpleRoad\n",
    "# Only obtain roads of level three or above\n",
    "customFilter = \" \\\n",
    "    [\\\"highway\\\"~\\\"^motorway$|^trunk$|^primary$|^secondary$|^tertiary$|^motorway_link$| \\\n",
    "    ^trunk_link$|^primary_link$|^secondary_link$|^tertiary_link$\\\"] \\\n",
    "\"\n",
    "getSimpleRoad().getAllCountriesNetworksGraph(\"C:\\\\0_PolyU\\\\roadsGraph\", customFilter=customFilter, multiThread=os.cpu_count()) # type: ignore"
   ]
  }
 ],
 "metadata": {
  "kernelspec": {
   "display_name": "Python 3",
   "language": "python",
   "name": "python3"
  },
  "language_info": {
   "codemirror_mode": {
    "name": "ipython",
    "version": 3
   },
   "file_extension": ".py",
   "mimetype": "text/x-python",
   "name": "python",
   "nbconvert_exporter": "python",
   "pygments_lexer": "ipython3",
   "version": "3.13.4"
  }
 },
 "nbformat": 4,
 "nbformat_minor": 5
}
