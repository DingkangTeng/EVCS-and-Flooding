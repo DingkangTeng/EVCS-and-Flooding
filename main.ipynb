{
 "cells": [
  {
   "cell_type": "markdown",
   "id": "ca24db02",
   "metadata": {},
   "source": [
    "Download Flooding data"
   ]
  },
  {
   "cell_type": "code",
   "execution_count": null,
   "id": "ef2dfb81",
   "metadata": {},
   "outputs": [],
   "source": [
    "from crawlerF.globalFloodDatabase import globalFloodDatabase\n",
    "globalFloodDatabase().downloadAll(\"download\")\n",
    "# Finished on 2025/04/21"
   ]
  },
  {
   "cell_type": "markdown",
   "id": "7db33014",
   "metadata": {},
   "source": [
    "Download Population data"
   ]
  },
  {
   "cell_type": "code",
   "execution_count": null,
   "id": "01975d10",
   "metadata": {},
   "outputs": [
    {
     "name": "stderr",
     "output_type": "stream",
     "text": [
      "Downloading: https://data.worldpop.org/GIS/AgeSex_structures/Global_2000_2020_Constrained_UNadj/2020/DZA//dza_f_0_2020_constrained_UNadj.tif: 13091712it [00:36, 356964.04it/s]                              \n",
      "Downloading: https://data.worldpop.org/GIS/AgeSex_structures/Global_2000_2020_Constrained_UNadj/2020/DZA//dza_f_10_2020_constrained_UNadj.tif: 13091328it [00:32, 398591.27it/s]                              \n",
      "Downloading: https://data.worldpop.org/GIS/AgeSex_structures/Global_2000_2020_Constrained_UNadj/2020/DZA//dza_f_15_2020_constrained_UNadj.tif:  67%|██████▋   | 8787456/13093366 [00:15<00:06, 618768.83it/s]"
     ]
    },
    {
     "ename": "KeyboardInterrupt",
     "evalue": "",
     "output_type": "error",
     "traceback": [
      "\u001b[1;31m---------------------------------------------------------------------------\u001b[0m",
      "\u001b[1;31mKeyboardInterrupt\u001b[0m                         Traceback (most recent call last)",
      "Cell \u001b[1;32mIn[1], line 2\u001b[0m\n\u001b[0;32m      1\u001b[0m \u001b[38;5;28;01mfrom\u001b[39;00m \u001b[38;5;21;01mcrawlerF\u001b[39;00m\u001b[38;5;21;01m.\u001b[39;00m\u001b[38;5;21;01mglobalPopulation\u001b[39;00m \u001b[38;5;28;01mimport\u001b[39;00m globalPopulation\n\u001b[1;32m----> 2\u001b[0m \u001b[43mglobalPopulation\u001b[49m\u001b[43m(\u001b[49m\u001b[43m)\u001b[49m\u001b[38;5;241;43m.\u001b[39;49m\u001b[43mdownloadAll\u001b[49m\u001b[43m(\u001b[49m\u001b[38;5;124;43m\"\u001b[39;49m\u001b[38;5;124;43mtest\u001b[39;49m\u001b[38;5;124;43m\"\u001b[39;49m\u001b[43m)\u001b[49m\n",
      "File \u001b[1;32md:\\OneDrive - The Hong Kong Polytechnic University\\Subject\\Dissertation\\Report\\DataProcess\\crawlerF\\globalPopulation.py:33\u001b[0m, in \u001b[0;36mglobalPopulation.downloadAll\u001b[1;34m(self, savePath)\u001b[0m\n\u001b[0;32m     31\u001b[0m \u001b[38;5;28;01mdef\u001b[39;00m \u001b[38;5;21mdownloadAll\u001b[39m(\u001b[38;5;28mself\u001b[39m, savePath: \u001b[38;5;28mstr\u001b[39m):\n\u001b[0;32m     32\u001b[0m     \u001b[38;5;28;01mfor\u001b[39;00m i \u001b[38;5;129;01min\u001b[39;00m \u001b[38;5;28mself\u001b[39m\u001b[38;5;241m.\u001b[39m__countries:\n\u001b[1;32m---> 33\u001b[0m         \u001b[38;5;28;43mself\u001b[39;49m\u001b[38;5;241;43m.\u001b[39;49m\u001b[43mdownloadOneCountry\u001b[49m\u001b[43m(\u001b[49m\u001b[43msavePath\u001b[49m\u001b[43m,\u001b[49m\u001b[43m \u001b[49m\u001b[38;5;28;43mid\u001b[39;49m\u001b[38;5;241;43m=\u001b[39;49m\u001b[43mi\u001b[49m\u001b[38;5;241;43m.\u001b[39;49m\u001b[43mget\u001b[49m\u001b[43m(\u001b[49m\u001b[38;5;124;43m\"\u001b[39;49m\u001b[38;5;124;43mid\u001b[39;49m\u001b[38;5;124;43m\"\u001b[39;49m\u001b[43m)\u001b[49m\u001b[43m)\u001b[49m\n\u001b[0;32m     35\u001b[0m     \u001b[38;5;28;01mreturn\u001b[39;00m\n",
      "File \u001b[1;32md:\\OneDrive - The Hong Kong Polytechnic University\\Subject\\Dissertation\\Report\\DataProcess\\crawlerF\\globalPopulation.py:64\u001b[0m, in \u001b[0;36mglobalPopulation.downloadOneCountry\u001b[1;34m(self, savePath, id, meta, country)\u001b[0m\n\u001b[0;32m     62\u001b[0m     \u001b[38;5;66;03m# Download\u001b[39;00m\n\u001b[0;32m     63\u001b[0m     \u001b[38;5;28msuper\u001b[39m()\u001b[38;5;241m.\u001b[39m\u001b[38;5;21m__init__\u001b[39m(downloadUrl)\n\u001b[1;32m---> 64\u001b[0m     \u001b[38;5;28;43mself\u001b[39;49m\u001b[38;5;241;43m.\u001b[39;49m\u001b[43mdownload\u001b[49m\u001b[43m(\u001b[49m\u001b[43mos\u001b[49m\u001b[38;5;241;43m.\u001b[39;49m\u001b[43mpath\u001b[49m\u001b[38;5;241;43m.\u001b[39;49m\u001b[43mjoin\u001b[49m\u001b[43m(\u001b[49m\u001b[43msavePath2\u001b[49m\u001b[43m,\u001b[49m\u001b[43m \u001b[49m\u001b[43mfilename\u001b[49m\u001b[43m)\u001b[49m\u001b[43m,\u001b[49m\u001b[43m \u001b[49m\u001b[43mmulti\u001b[49m\u001b[38;5;241;43m=\u001b[39;49m\u001b[38;5;28;43;01mFalse\u001b[39;49;00m\u001b[43m)\u001b[49m\n\u001b[0;32m     66\u001b[0m \u001b[38;5;66;03m# Save meta data\u001b[39;00m\n\u001b[0;32m     67\u001b[0m pd\u001b[38;5;241m.\u001b[39mDataFrame(meta)\u001b[38;5;241m.\u001b[39mto_csv(os\u001b[38;5;241m.\u001b[39mpath\u001b[38;5;241m.\u001b[39mjoin(savePath2, \u001b[38;5;124m\"\u001b[39m\u001b[38;5;132;01m{}\u001b[39;00m\u001b[38;5;124m_metadata.csv\u001b[39m\u001b[38;5;124m\"\u001b[39m\u001b[38;5;241m.\u001b[39mformat(iso)), encoding\u001b[38;5;241m=\u001b[39m\u001b[38;5;124m\"\u001b[39m\u001b[38;5;124mutf-8\u001b[39m\u001b[38;5;124m\"\u001b[39m)\n",
      "File \u001b[1;32md:\\OneDrive - The Hong Kong Polytechnic University\\Subject\\Dissertation\\Report\\DataProcess\\crawlerF\\crawler.py:119\u001b[0m, in \u001b[0;36mcrawler.download\u001b[1;34m(self, savePath, retryTimes, eachSize, multi)\u001b[0m\n\u001b[0;32m    117\u001b[0m     startDownload(start, end)\n\u001b[0;32m    118\u001b[0m \u001b[38;5;66;03m# Waiting multitask ends\u001b[39;00m\n\u001b[1;32m--> 119\u001b[0m \u001b[43mmultitasking\u001b[49m\u001b[38;5;241;43m.\u001b[39;49m\u001b[43mwait_for_tasks\u001b[49m\u001b[43m(\u001b[49m\u001b[43m)\u001b[49m\n\u001b[0;32m    120\u001b[0m file\u001b[38;5;241m.\u001b[39mclose()\n\u001b[0;32m    121\u001b[0m bar\u001b[38;5;241m.\u001b[39mclose()\n",
      "File \u001b[1;32mc:\\Users\\tengd\\AppData\\Local\\Programs\\Python\\Python311\\Lib\\site-packages\\multitasking\\__init__.py:140\u001b[0m, in \u001b[0;36mwait_for_tasks\u001b[1;34m(sleep)\u001b[0m\n\u001b[0;32m    138\u001b[0m \u001b[38;5;28;01mtry\u001b[39;00m:\n\u001b[0;32m    139\u001b[0m     \u001b[38;5;28;01mwhile\u001b[39;00m \u001b[38;5;28;01mTrue\u001b[39;00m:\n\u001b[1;32m--> 140\u001b[0m         running \u001b[38;5;241m=\u001b[39m \u001b[38;5;28mlen\u001b[39m(\u001b[43m[\u001b[49m\u001b[43mt\u001b[49m\u001b[38;5;241;43m.\u001b[39;49m\u001b[43mjoin\u001b[49m\u001b[43m(\u001b[49m\u001b[38;5;241;43m1\u001b[39;49m\u001b[43m)\u001b[49m\u001b[43m \u001b[49m\u001b[38;5;28;43;01mfor\u001b[39;49;00m\u001b[43m \u001b[49m\u001b[43mt\u001b[49m\u001b[43m \u001b[49m\u001b[38;5;129;43;01min\u001b[39;49;00m\u001b[43m \u001b[49m\u001b[43mconfig\u001b[49m\u001b[43m[\u001b[49m\u001b[38;5;124;43m\"\u001b[39;49m\u001b[38;5;124;43mTASKS\u001b[39;49m\u001b[38;5;124;43m\"\u001b[39;49m\u001b[43m]\u001b[49m\n\u001b[0;32m    141\u001b[0m \u001b[43m                       \u001b[49m\u001b[38;5;28;43;01mif\u001b[39;49;00m\u001b[43m \u001b[49m\u001b[43mt\u001b[49m\u001b[43m \u001b[49m\u001b[38;5;129;43;01mis\u001b[39;49;00m\u001b[43m \u001b[49m\u001b[38;5;129;43;01mnot\u001b[39;49;00m\u001b[43m \u001b[49m\u001b[38;5;28;43;01mNone\u001b[39;49;00m\u001b[43m \u001b[49m\u001b[38;5;129;43;01mand\u001b[39;49;00m\u001b[43m \u001b[49m\u001b[43mt\u001b[49m\u001b[38;5;241;43m.\u001b[39;49m\u001b[43mis_alive\u001b[49m\u001b[43m(\u001b[49m\u001b[43m)\u001b[49m\u001b[43m]\u001b[49m)\n\u001b[0;32m    142\u001b[0m         \u001b[38;5;28;01mif\u001b[39;00m running \u001b[38;5;241m==\u001b[39m \u001b[38;5;241m0\u001b[39m:\n\u001b[0;32m    143\u001b[0m             \u001b[38;5;28;01mbreak\u001b[39;00m\n",
      "File \u001b[1;32mc:\\Users\\tengd\\AppData\\Local\\Programs\\Python\\Python311\\Lib\\site-packages\\multitasking\\__init__.py:140\u001b[0m, in \u001b[0;36m<listcomp>\u001b[1;34m(.0)\u001b[0m\n\u001b[0;32m    138\u001b[0m \u001b[38;5;28;01mtry\u001b[39;00m:\n\u001b[0;32m    139\u001b[0m     \u001b[38;5;28;01mwhile\u001b[39;00m \u001b[38;5;28;01mTrue\u001b[39;00m:\n\u001b[1;32m--> 140\u001b[0m         running \u001b[38;5;241m=\u001b[39m \u001b[38;5;28mlen\u001b[39m([\u001b[43mt\u001b[49m\u001b[38;5;241;43m.\u001b[39;49m\u001b[43mjoin\u001b[49m\u001b[43m(\u001b[49m\u001b[38;5;241;43m1\u001b[39;49m\u001b[43m)\u001b[49m \u001b[38;5;28;01mfor\u001b[39;00m t \u001b[38;5;129;01min\u001b[39;00m config[\u001b[38;5;124m\"\u001b[39m\u001b[38;5;124mTASKS\u001b[39m\u001b[38;5;124m\"\u001b[39m]\n\u001b[0;32m    141\u001b[0m                        \u001b[38;5;28;01mif\u001b[39;00m t \u001b[38;5;129;01mis\u001b[39;00m \u001b[38;5;129;01mnot\u001b[39;00m \u001b[38;5;28;01mNone\u001b[39;00m \u001b[38;5;129;01mand\u001b[39;00m t\u001b[38;5;241m.\u001b[39mis_alive()])\n\u001b[0;32m    142\u001b[0m         \u001b[38;5;28;01mif\u001b[39;00m running \u001b[38;5;241m==\u001b[39m \u001b[38;5;241m0\u001b[39m:\n\u001b[0;32m    143\u001b[0m             \u001b[38;5;28;01mbreak\u001b[39;00m\n",
      "File \u001b[1;32mc:\\Users\\tengd\\AppData\\Local\\Programs\\Python\\Python311\\Lib\\threading.py:1116\u001b[0m, in \u001b[0;36mThread.join\u001b[1;34m(self, timeout)\u001b[0m\n\u001b[0;32m   1112\u001b[0m     \u001b[38;5;28mself\u001b[39m\u001b[38;5;241m.\u001b[39m_wait_for_tstate_lock()\n\u001b[0;32m   1113\u001b[0m \u001b[38;5;28;01melse\u001b[39;00m:\n\u001b[0;32m   1114\u001b[0m     \u001b[38;5;66;03m# the behavior of a negative timeout isn't documented, but\u001b[39;00m\n\u001b[0;32m   1115\u001b[0m     \u001b[38;5;66;03m# historically .join(timeout=x) for x<0 has acted as if timeout=0\u001b[39;00m\n\u001b[1;32m-> 1116\u001b[0m     \u001b[38;5;28;43mself\u001b[39;49m\u001b[38;5;241;43m.\u001b[39;49m\u001b[43m_wait_for_tstate_lock\u001b[49m\u001b[43m(\u001b[49m\u001b[43mtimeout\u001b[49m\u001b[38;5;241;43m=\u001b[39;49m\u001b[38;5;28;43mmax\u001b[39;49m\u001b[43m(\u001b[49m\u001b[43mtimeout\u001b[49m\u001b[43m,\u001b[49m\u001b[43m \u001b[49m\u001b[38;5;241;43m0\u001b[39;49m\u001b[43m)\u001b[49m\u001b[43m)\u001b[49m\n",
      "File \u001b[1;32mc:\\Users\\tengd\\AppData\\Local\\Programs\\Python\\Python311\\Lib\\threading.py:1132\u001b[0m, in \u001b[0;36mThread._wait_for_tstate_lock\u001b[1;34m(self, block, timeout)\u001b[0m\n\u001b[0;32m   1129\u001b[0m     \u001b[38;5;28;01mreturn\u001b[39;00m\n\u001b[0;32m   1131\u001b[0m \u001b[38;5;28;01mtry\u001b[39;00m:\n\u001b[1;32m-> 1132\u001b[0m     \u001b[38;5;28;01mif\u001b[39;00m \u001b[43mlock\u001b[49m\u001b[38;5;241;43m.\u001b[39;49m\u001b[43macquire\u001b[49m\u001b[43m(\u001b[49m\u001b[43mblock\u001b[49m\u001b[43m,\u001b[49m\u001b[43m \u001b[49m\u001b[43mtimeout\u001b[49m\u001b[43m)\u001b[49m:\n\u001b[0;32m   1133\u001b[0m         lock\u001b[38;5;241m.\u001b[39mrelease()\n\u001b[0;32m   1134\u001b[0m         \u001b[38;5;28mself\u001b[39m\u001b[38;5;241m.\u001b[39m_stop()\n",
      "\u001b[1;31mKeyboardInterrupt\u001b[0m: "
     ]
    },
    {
     "name": "stderr",
     "output_type": "stream",
     "text": [
      "Downloading: https://data.worldpop.org/GIS/AgeSex_structures/Global_2000_2020_Constrained_UNadj/2020/DZA//dza_f_15_2020_constrained_UNadj.tif:  68%|██████▊   | 8849920/13093366 [00:15<00:06, 609437.47it/s]"
     ]
    },
    {
     "name": "stderr",
     "output_type": "stream",
     "text": [
      "Downloading: https://data.worldpop.org/GIS/AgeSex_structures/Global_2000_2020_Constrained_UNadj/2020/DZA//dza_f_15_2020_constrained_UNadj.tif:  99%|█████████▉| 12962304/13093366 [00:21<00:00, 621901.88it/s]"
     ]
    }
   ],
   "source": [
    "from crawlerF.globalPopulation import globalPopulation\n",
    "globalPopulation().downloadAll(\"test\")"
   ]
  },
  {
   "cell_type": "markdown",
   "id": "ab46f5ac",
   "metadata": {},
   "source": [
    "Mosaic Raster"
   ]
  },
  {
   "cell_type": "code",
   "execution_count": null,
   "id": "920a9cff",
   "metadata": {},
   "outputs": [],
   "source": [
    "from raster.floodingMerge import floodingMerge\n",
    "\"\"\"\n",
    "Useful band\n",
    "Band 1: flooded\n",
    "Band 2: flood_duration\n",
    "Band 5: jrc_perm_water (1 - permanent water, 0 - non-water)\n",
    "\"\"\"\n",
    "floodingMerge(r\"F:\\\\Flooding\").mergeAll(\"test\", 2)"
   ]
  }
 ],
 "metadata": {
  "kernelspec": {
   "display_name": "Python 3",
   "language": "python",
   "name": "python3"
  },
  "language_info": {
   "codemirror_mode": {
    "name": "ipython",
    "version": 3
   },
   "file_extension": ".py",
   "mimetype": "text/x-python",
   "name": "python",
   "nbconvert_exporter": "python",
   "pygments_lexer": "ipython3",
   "version": "3.11.3"
  }
 },
 "nbformat": 4,
 "nbformat_minor": 5
}
