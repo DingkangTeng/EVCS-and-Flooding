{
 "cells": [
  {
   "cell_type": "markdown",
   "id": "ca24db02",
   "metadata": {},
   "source": [
    "Download Flooding data"
   ]
  },
  {
   "cell_type": "code",
   "execution_count": null,
   "id": "ef2dfb81",
   "metadata": {},
   "outputs": [],
   "source": [
    "from crawlerF.globalFloodDatabase import globalFloodDatabase\n",
    "globalFloodDatabase().downloadAll(\"download\")\n",
    "# Finished on 2025/06/06"
   ]
  },
  {
   "cell_type": "markdown",
   "id": "7db33014",
   "metadata": {},
   "source": [
    "Download Population data"
   ]
  },
  {
   "cell_type": "code",
   "execution_count": null,
   "id": "01975d10",
   "metadata": {},
   "outputs": [],
   "source": [
    "from crawlerF.globalPopulation import globalPopulation\n",
    "globalPopulation().downloadAll(\"test\")\n",
    "# Finished from 2025/06/07 to 2025/06/11\n",
    "# IDN、IND、IRN、IRQ、ISR、JOR、JPN、KAZ、KGZ、KWT、LAO、LBN have problem, re-download from 2025/07/21 - 2025/07/29\n",
    "import os\n",
    "a = globalPopulation()\n",
    "for country in [\"IDN\", \"IND\", \"IRN\", \"IRQ\", \"ISR\", \"JOR\", \"JPN\", \"KAZ\", \"KGZ\", \"KWT\", \"LAO\", \"LBN\"]:\n",
    "    a.downloadOneCountryByISO(os.path.join(\"C:\\\\0_PolyU\\\\population_tmp\", country), country)"
   ]
  },
  {
   "cell_type": "markdown",
   "id": "ab46f5ac",
   "metadata": {},
   "source": [
    "Remove permanent water"
   ]
  },
  {
   "cell_type": "code",
   "execution_count": null,
   "id": "920a9cff",
   "metadata": {},
   "outputs": [],
   "source": [
    "from raster.floodingMerge import floodingMerge\n",
    "import os\n",
    "\"\"\"\n",
    "Useful band\n",
    "Band 1: flooded\n",
    "Band 2: flood_duration\n",
    "Band 5: jrc_perm_water (1 - permanent water, 0 - non-water)\n",
    "\"\"\"\n",
    "flooding = floodingMerge(r\"C:\\\\0_PolyU\\\\flooding\")\n",
    "# Flooding times\n",
    "flooding.readAllTifInZip(\"C:\\\\0_PolyU\\\\floodingAll_Times\", 1, multiThread=os.cpu_count()) # type: ignore\n",
    "# Flooding days\n",
    "flooding.readAllTifInZip(\"C:\\\\0_PolyU\\\\floodingAll_Days\", 2, multiThread=os.cpu_count()) # type: ignore\n",
    "# Flooding statistic period\n",
    "flooding.calculateStasticPeriod(\"C:\\\\0_PolyU\\\\flooding\")\n",
    "# Finished on 2025/07/09"
   ]
  },
  {
   "cell_type": "markdown",
   "id": "82f9484c",
   "metadata": {},
   "source": [
    "Merge population"
   ]
  },
  {
   "cell_type": "code",
   "execution_count": null,
   "id": "047a706a",
   "metadata": {},
   "outputs": [],
   "source": [
    "from raster.populationMerge import populationMerge\n",
    "# All population\n",
    "populationMerge(r\"C:\\\\0_PolyU\\\\population\\\\\", blockSize=2048).mergeAll(r\"C:\\\\0_PolyU\\\\population_All\", multiThread=4)\n",
    "# All Male population\n",
    "populationMerge(r\"C:\\\\0_PolyU\\\\population\\\\\", blockSize=2048).mergeAll(r\"C:\\\\0_PolyU\\\\population_All\", gender=['m'], multiThread=4)\n",
    "# All Female population\n",
    "populationMerge(r\"C:\\\\0_PolyU\\\\population\\\\\", blockSize=2048).mergeAll(r\"C:\\\\0_PolyU\\\\population_Female\", gender=['f'], multiThread=4)\n",
    "# Different age group\n",
    "ageGroup = {\n",
    "        \"children\": [x for x in range(0, 25, 5)] + [1],\n",
    "        \"young\": [x for x in range(25, 45, 5)],\n",
    "        \"middle\": [x for x in range(45, 60, 5)],\n",
    "        \"elderly\": [x for x in range(60, 81, 5)] # [x for x in range(60, 75, 5)]\n",
    "        # \"senile&long_living\": [x for x in range(75, 81, 5)]\n",
    "    }\n",
    "for group in [\"children\", \"young\", \"middle\", \"elderly\"]:\n",
    "    populationMerge(r\"C:\\\\0_PolyU\\\\population\\\\\", blockSize=4096) \\\n",
    "        .mergeAll(\"C:\\\\0_PolyU\\\\population_All_{}\".format(group), mainAge=ageGroup[group], multiThread=4)"
   ]
  },
  {
   "cell_type": "markdown",
   "id": "e1be5318",
   "metadata": {},
   "source": [
    "Get road network graph"
   ]
  },
  {
   "cell_type": "code",
   "execution_count": null,
   "id": "a49680f7",
   "metadata": {},
   "outputs": [],
   "source": [
    "from nodeAnalysis.simpleRoad import getSimpleRoad\n",
    "# Only obtain roads of level three or above\n",
    "customFilter = \" \\\n",
    "    [\\\"highway\\\"~\\\"^motorway','trunk','primary','secondary','tertiary','motorway_link$| \\\n",
    "    ^trunk_link','primary_link','secondary_link','tertiary_link$\\\"] \\\n",
    "\"\n",
    "getSimpleRoad().getAllCountriesNetworksGraph(\"C:\\\\0_PolyU\\\\roadsGraph\", customFilter=customFilter, multiThread=os.cpu_count()) # type: ignore\n",
    "\n",
    "# Countries that are too large to processed with osmnx origion method, which needs to be processed by offline osm.pbf file and transformed directly to graph:\n",
    "## Sint Maarten\n",
    "getSimpleRoad().getOneCountry(\"SINT MAARTEN\", \"C:\\\\0_PolyU\\\\roadsGraph\", customFilter=customFilter)\n",
    "\n",
    "customFilter = [\n",
    "    \"motorway\", \"trunk\", \"primary\", \"secondary\", \"tertiary\", \"motorway_link\",\n",
    "    \"trunk_link\", \"primary_link\", \"secondary_link\", \"tertiary_link\"\n",
    "]\n",
    "## Russia\n",
    "getSimpleRoad().getOneCountryFromFile((\"C:\\\\0_PolyU\\\\russia-latest.osm.pbf\", \"lines\"), \"RUS\", \"C:\\\\0_PolyU\\\\roadsGraph\", customFilter=customFilter)\n",
    "## Norway\n",
    "getSimpleRoad().getOneCountryFromFile((\"C:\\\\0_PolyU\\\\norway-latest.osm.pbf\", \"lines\"), \"NOR\", \"C:\\\\0_PolyU\\\\roadsGraph\", customFilter=customFilter)\n",
    "## New Caledonia\n",
    "getSimpleRoad().getOneCountryFromFile((\"C:\\\\0_PolyU\\\\new-caledonia-latest.osm.pbf\", \"lines\"), \"NCL\", \"C:\\\\0_PolyU\\\\roadsGraph\", customFilter=customFilter)\n",
    "## Kiribati\n",
    "getSimpleRoad().getOneCountryFromFile((\"C:\\\\0_PolyU\\\\kiribati-latest.osm.pbf\", \"lines\"), \"KIR\", \"C:\\\\0_PolyU\\\\roadsGraph\", customFilter=customFilter)\n",
    "## Pitcairn Islands\n",
    "getSimpleRoad().getOneCountryFromFile((\"C:\\\\0_PolyU\\\\pitcairn-islands-latest.osm.pbf\", \"lines\"), \"PCN\", \"C:\\\\0_PolyU\\\\roadsGraph\", customFilter=customFilter + [\"residential\", \"residential_link\", \"unclassified\"])\n",
    "## Tokelau\n",
    "getSimpleRoad().getOneCountryFromFile((\"C:\\\\0_PolyU\\\\tokelau-latest.osm.pbf\", \"lines\"), \"TKL\", \"C:\\\\0_PolyU\\\\roadsGraph\", customFilter=customFilter + [\"residential\", \"residential_link\", \"unclassified\"])\n",
    "## China\n",
    "getSimpleRoad().getOneCountryFromFile((\"D:\\\\origionalOSMFile\\\\china-lastest.gdb\", \"china_lastest\"), \"CHN\", \"C:\\\\0_PolyU\\\\roadsGraph\", customFilter=customFilter)\n",
    "## Check Results\n",
    "getSimpleRoad().checkCountry(\"C:\\\\0_PolyU\\\\roadsGraph\")"
   ]
  },
  {
   "cell_type": "code",
   "execution_count": null,
   "id": "43d83e5e",
   "metadata": {},
   "outputs": [],
   "source": [
    "import geopandas as gpd\n",
    "place = gpd.read_file(r\"_GISAnalysis\\Dissertation.gdb\", layer = \"iso2_geom\", encoding=\"utf-8\")\n",
    "border = place.loc[place[\"iso2\"].isin([\"C_\", \"_E\", \"_D\"])]\n",
    "border['geometry'] = border['geometry'].buffer(0)\n",
    "border = border[border.is_valid & ~border.is_empty]\n",
    "border_union = border.union_all()\n",
    "border_union"
   ]
  },
  {
   "cell_type": "code",
   "execution_count": 23,
   "id": "b67303b9",
   "metadata": {},
   "outputs": [],
   "source": [
    "a = gpd.GeoDataFrame({\"geometry\": [border_union]})\n",
    "a = a.set_crs(4326)\n",
    "a.to_file(r\"test/a.geojson\", encoding=\"utf-8\")"
   ]
  },
  {
   "cell_type": "code",
   "execution_count": null,
   "id": "5dae5efd",
   "metadata": {},
   "outputs": [],
   "source": [
    "import geopandas as gpd\n",
    "b=gpd.read_file(r\"D:\\origionalOSMFile\\china-latest.osm.pbf\", layer = \"lines\", encoding=\"utf-8\")\n",
    "b.to_file(\"D:\\\\origionalOSMFile\\\\china-lastest2.gpkg\", encoding=\"utf-8\")"
   ]
  },
  {
   "cell_type": "code",
   "execution_count": 3,
   "id": "22f005ed",
   "metadata": {},
   "outputs": [],
   "source": [
    "customFilter = [\n",
    "    \"motorway\", \"trunk\", \"primary\", \"secondary\", \"tertiary\", \"motorway_link\",\n",
    "    \"trunk_link\", \"primary_link\", \"secondary_link\", \"tertiary_link\"\n",
    "]\n",
    "gdf = b[b[\"highway\"].isin(customFilter)].copy()\n",
    "gdf.to_file(\"D:\\\\origionalOSMFile\\\\china-lastest.gpkg\", encoding=\"utf-8\")"
   ]
  }
 ],
 "metadata": {
  "kernelspec": {
   "display_name": "Python 3",
   "language": "python",
   "name": "python3"
  },
  "language_info": {
   "codemirror_mode": {
    "name": "ipython",
    "version": 3
   },
   "file_extension": ".py",
   "mimetype": "text/x-python",
   "name": "python",
   "nbconvert_exporter": "python",
   "pygments_lexer": "ipython3",
   "version": "3.13.4"
  }
 },
 "nbformat": 4,
 "nbformat_minor": 5
}
