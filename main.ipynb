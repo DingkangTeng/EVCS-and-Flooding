{
 "cells": [
  {
   "cell_type": "markdown",
   "id": "ca24db02",
   "metadata": {},
   "source": [
    "Download Flooding data"
   ]
  },
  {
   "cell_type": "code",
   "execution_count": null,
   "id": "ef2dfb81",
   "metadata": {},
   "outputs": [],
   "source": [
    "from crawlerF.globalFloodDatabase import globalFloodDatabase\n",
    "globalFloodDatabase().downloadAll(\"download\")\n",
    "# Finished on 2025/06/06"
   ]
  },
  {
   "cell_type": "markdown",
   "id": "7db33014",
   "metadata": {},
   "source": [
    "Download Population data"
   ]
  },
  {
   "cell_type": "code",
   "execution_count": null,
   "id": "01975d10",
   "metadata": {},
   "outputs": [],
   "source": [
    "from crawlerF.globalPopulation import globalPopulation\n",
    "globalPopulation().downloadAll(\"test\")\n",
    "# Finished from 2025/06/07 to 2025/06/11"
   ]
  },
  {
   "cell_type": "markdown",
   "id": "ab46f5ac",
   "metadata": {},
   "source": [
    "Mosaic Raster"
   ]
  },
  {
   "cell_type": "code",
   "execution_count": null,
   "id": "920a9cff",
   "metadata": {},
   "outputs": [],
   "source": [
    "from raster.floodingMerge import floodingMerge\n",
    "\"\"\"\n",
    "Useful band\n",
    "Band 1: flooded\n",
    "Band 2: flood_duration\n",
    "Band 5: jrc_perm_water (1 - permanent water, 0 - non-water)\n",
    "\"\"\"\n",
    "floodingMerge(r\"C:\\\\0_PolyU\\\\flooding\").mergeAll(\"test\", 2)"
   ]
  },
  {
   "cell_type": "markdown",
   "id": "9dbf61fc",
   "metadata": {},
   "source": [
    "Mosaic Population"
   ]
  },
  {
   "cell_type": "code",
   "execution_count": null,
   "id": "fa6cba61",
   "metadata": {},
   "outputs": [],
   "source": [
    "from raster.populationMerge import populationMerge\n",
    "populationMerge(r\"C:\\\\0_PolyU\\\\flooding\").mergeAll(\"test\", multiThread=2)"
   ]
  }
 ],
 "metadata": {
  "kernelspec": {
   "display_name": "Python 3",
   "language": "python",
   "name": "python3"
  },
  "language_info": {
   "codemirror_mode": {
    "name": "ipython",
    "version": 3
   },
   "file_extension": ".py",
   "mimetype": "text/x-python",
   "name": "python",
   "nbconvert_exporter": "python",
   "pygments_lexer": "ipython3",
   "version": "3.13.4"
  }
 },
 "nbformat": 4,
 "nbformat_minor": 5
}
