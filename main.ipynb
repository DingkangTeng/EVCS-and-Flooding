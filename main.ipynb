{
 "cells": [
  {
   "cell_type": "markdown",
   "id": "ca24db02",
   "metadata": {},
   "source": [
    "Download Flooding data"
   ]
  },
  {
   "cell_type": "code",
   "execution_count": 1,
   "id": "ef2dfb81",
   "metadata": {},
   "outputs": [
    {
     "name": "stdout",
     "output_type": "stream",
     "text": [
      "Downloading Afghanistan (AFG).\n"
     ]
    },
    {
     "name": "stderr",
     "output_type": "stream",
     "text": [
      "Downloading: https://storage.googleapis.com/gfd_v1_4/DFO_2160_From_20030216_to_20030222.zip: 21482240it [00:03, 6236907.62it/s]                               \n",
      "Downloading: https://storage.googleapis.com/gfd_v1_4/DFO_2279_From_20030715_to_20030901.zip: 65999232it [00:04, 14763803.48it/s]                              \n",
      "Downloading: https://storage.googleapis.com/gfd_v1_4/DFO_2632_From_20050305_to_20050405.zip: 17193344it [00:03, 5654745.63it/s]                               \n",
      "Downloading: https://storage.googleapis.com/gfd_v1_4/DFO_2641_From_20050320_to_20050324.zip: 4910976it [00:00, 23204737.67it/s]                             \n",
      "Downloading: https://storage.googleapis.com/gfd_v1_4/DFO_2675_From_20050621_to_20050805.zip: 5382272it [00:00, 24298655.93it/s]                             \n",
      "Downloading: https://storage.googleapis.com/gfd_v1_4/DFO_2689_From_20050705_to_20050814.zip: 49325184it [00:03, 12486851.57it/s]                              \n",
      "Downloading: https://storage.googleapis.com/gfd_v1_4/DFO_2931_From_20060724_to_20060822.zip: 12745856it [00:02, 4274494.78it/s]                               \n",
      "Downloading: https://storage.googleapis.com/gfd_v1_4/DFO_2958_From_20060831_to_20060911.zip: 9024896it [00:00, 24818650.39it/s]                             \n",
      "Downloading: https://storage.googleapis.com/gfd_v1_4/DFO_2995_From_20061119_to_20061121.zip: 3307136it [00:00, 18904698.88it/s]                             \n",
      "Downloading: https://storage.googleapis.com/gfd_v1_4/DFO_3055_From_20070417_to_20070418.zip: 6266112it [00:00, 22848450.57it/s]                             \n",
      "Downloading: https://storage.googleapis.com/gfd_v1_4/DFO_3061_From_20070423_to_20070504.zip: 5770240it [00:00, 23092213.47it/s]                             \n",
      "Downloading: https://storage.googleapis.com/gfd_v1_4/DFO_3101_From_20070616_to_20070620.zip: 2128000it [00:00, 16154859.16it/s]                             \n",
      "Downloading: https://storage.googleapis.com/gfd_v1_4/DFO_3109_From_20070624_to_20070703.zip: 10622208it [00:02, 3887314.97it/s]                              \n",
      "Downloading: https://storage.googleapis.com/gfd_v1_4/DFO_3116_From_20070628_to_20070722.zip: 5095808it [00:02, 2088951.25it/s]                             \n",
      "Downloading: https://storage.googleapis.com/gfd_v1_4/DFO_3165_From_20070812_to_20070814.zip: 1002752it [00:01, 524560.48it/s]                             \n",
      "Downloading: https://storage.googleapis.com/gfd_v1_4/DFO_3359_From_20080809_to_20080820.zip: 15115520it [00:04, 3718675.56it/s]                               \n",
      "Downloading: https://storage.googleapis.com/gfd_v1_4/DFO_3643_From_20100504_to_20100514.zip: 9488512it [00:03, 2543878.29it/s]                              \n",
      "Downloading: https://storage.googleapis.com/gfd_v1_4/DFO_3666_From_20100622_to_20100624.zip: 2138496it [00:02, 988453.55it/s]                              \n",
      "Downloading: https://storage.googleapis.com/gfd_v1_4/DFO_3696_From_20100727_to_20101115.zip: 13203584it [00:02, 4588227.41it/s]                               \n",
      "Downloading: https://storage.googleapis.com/gfd_v1_4/DFO_3974_From_20120823_to_20120829.zip: 9787136it [00:02, 3639972.23it/s]                              \n",
      "Downloading: https://storage.googleapis.com/gfd_v1_4/DFO_4078_From_20130801_to_20130807.zip: 26208768it [00:03, 7291973.31it/s]                               \n",
      "Downloading: https://storage.googleapis.com/gfd_v1_4/DFO_4082_From_20130807_to_20130821.zip: 27354496it [00:03, 7855002.98it/s]                               \n",
      "Downloading: https://storage.googleapis.com/gfd_v1_4/DFO_4179_From_20140901_to_20141011.zip: 13586560it [00:02, 4619849.92it/s]                               \n",
      "Downloading: https://storage.googleapis.com/gfd_v1_4/DFO_4272_From_20150715_to_20150819.zip: 13287168it [00:02, 4589484.46it/s]                               \n",
      "Downloading: https://storage.googleapis.com/gfd_v1_4/DFO_4339_From_20160312_to_20160413.zip: 8876800it [00:02, 3423686.44it/s]                              \n"
     ]
    },
    {
     "name": "stdout",
     "output_type": "stream",
     "text": [
      "Downloading Albania (ALB).\n"
     ]
    },
    {
     "name": "stderr",
     "output_type": "stream",
     "text": [
      "Downloading: https://storage.googleapis.com/gfd_v1_4/DFO_2060_From_20020921_to_20021008.zip: 8101248it [00:03, 2225330.08it/s]                              \n",
      "Downloading: https://storage.googleapis.com/gfd_v1_4/DFO_2099_From_20021122_to_20021203.zip: 11553152it [00:02, 4146655.60it/s]                               \n",
      "Downloading: https://storage.googleapis.com/gfd_v1_4/DFO_2172_From_20030127_to_20030207.zip: 8097024it [00:02, 3134969.65it/s]                              \n",
      "Downloading: https://storage.googleapis.com/gfd_v1_4/DFO_2174_From_20030117_to_20030303.zip: 10411520it [00:02, 3812503.63it/s]                              \n",
      "Downloading: https://storage.googleapis.com/gfd_v1_4/DFO_2626_From_20050217_to_20050324.zip: 8904448it [00:02, 3350119.70it/s]                              \n",
      "Downloading: https://storage.googleapis.com/gfd_v1_4/DFO_2784_From_20060102_to_20060120.zip: 8704128it [00:02, 3289860.14it/s]                              \n",
      "Downloading: https://storage.googleapis.com/gfd_v1_4/DFO_2817_From_20060309_to_20060325.zip: 8044160it [00:02, 3083207.38it/s]                              \n",
      "Downloading: https://storage.googleapis.com/gfd_v1_4/DFO_3085_From_20070522_to_20070606.zip: 12132352it [00:02, 4313364.99it/s]                               \n",
      "Downloading: https://storage.googleapis.com/gfd_v1_4/DFO_3193_From_20070918_to_20070920.zip: 9723136it [00:02, 3580512.94it/s]                              \n",
      "Downloading: https://storage.googleapis.com/gfd_v1_4/DFO_3536_From_20090907_to_20090910.zip: 16941440it [00:03, 5493891.22it/s]                               \n",
      "Downloading: https://storage.googleapis.com/gfd_v1_4/DFO_3591_From_20100104_to_20100113.zip: 9654144it [00:02, 3506415.72it/s]                              \n",
      "Downloading: https://storage.googleapis.com/gfd_v1_4/DFO_3607_From_20100213_to_20100220.zip: 19352832it [00:03, 6267332.24it/s]                               \n",
      "Downloading: https://storage.googleapis.com/gfd_v1_4/DFO_3665_From_20100622_to_20100626.zip: 9102208it [00:02, 3396096.63it/s]                              \n",
      "Downloading: https://storage.googleapis.com/gfd_v1_4/DFO_3756_From_20101203_to_20101217.zip: 8519680it [00:02, 3244797.54it/s]                              \n",
      "Downloading: https://storage.googleapis.com/gfd_v1_4/DFO_3896_From_20120201_to_20120206.zip: 11061760it [00:02, 3983249.49it/s]                               \n",
      "Downloading: https://storage.googleapis.com/gfd_v1_4/DFO_4211_From_20141204_to_20141214.zip: 23506816it [00:03, 7521433.41it/s]                               \n",
      "Downloading: https://storage.googleapis.com/gfd_v1_4/DFO_4221_From_20150201_to_20150209.zip: 23606528it [00:03, 7298233.73it/s]                               \n",
      "Downloading: https://storage.googleapis.com/gfd_v1_4/DFO_4580_From_20180307_to_20180314.zip: 7630848it [00:02, 2996441.12it/s]                              \n",
      "Downloading: https://storage.googleapis.com/gfd_v1_4/DFO_4581_From_20180310_to_20180314.zip: 9143168it [00:02, 3387211.80it/s]                              \n",
      "Downloading: https://storage.googleapis.com/gfd_v1_4/DFO_4583_From_20180226_to_20180302.zip: 7512704it [00:02, 2888462.29it/s]                              \n",
      "Downloading: https://storage.googleapis.com/gfd_v1_4/DFO_4597_From_20180325_to_20180408.zip: 8590848it [00:02, 3240526.68it/s]                              \n"
     ]
    },
    {
     "name": "stdout",
     "output_type": "stream",
     "text": [
      "Downloading Algeria (DZA).\n"
     ]
    },
    {
     "name": "stderr",
     "output_type": "stream",
     "text": [
      "Downloading: https://storage.googleapis.com/gfd_v1_4/DFO_2311_From_20030805_to_20031012.zip: 45515136it [00:03, 11583285.00it/s]                              \n",
      "Downloading: https://storage.googleapis.com/gfd_v1_4/DFO_2320_From_20030810_to_20031019.zip: 82118272it [00:04, 16516762.18it/s]                              \n",
      "Downloading: https://storage.googleapis.com/gfd_v1_4/DFO_2634_From_20050306_to_20050309.zip: 25037952it [00:03, 7915823.93it/s]                               \n",
      "Downloading: https://storage.googleapis.com/gfd_v1_4/DFO_2947_From_20060803_to_20061011.zip: 119138432it [00:06, 19657584.73it/s]                               \n",
      "Downloading: https://storage.googleapis.com/gfd_v1_4/DFO_3197_From_20070921_to_20070924.zip: 7311104it [00:02, 2858088.86it/s]                             \n",
      "Downloading: https://storage.googleapis.com/gfd_v1_4/DFO_3221_From_20071030_to_20071102.zip: 10361600it [00:02, 3788691.74it/s]                              \n",
      "Downloading: https://storage.googleapis.com/gfd_v1_4/DFO_3331_From_20080706_to_20080711.zip: 6423936it [00:02, 2537050.49it/s]                             \n",
      "Downloading: https://storage.googleapis.com/gfd_v1_4/DFO_3445_From_20090207_to_20090209.zip: 13552896it [00:03, 4516957.48it/s]                               \n",
      "Downloading: https://storage.googleapis.com/gfd_v1_4/DFO_3904_From_20120225_to_20120227.zip: 9159040it [00:02, 3455649.12it/s]                              \n"
     ]
    },
    {
     "name": "stdout",
     "output_type": "stream",
     "text": [
      "Downloading Angola (AGO).\n"
     ]
    },
    {
     "name": "stderr",
     "output_type": "stream",
     "text": [
      "Downloading: https://storage.googleapis.com/gfd_v1_4/DFO_2161_From_20030115_to_20030701.zip: 85033600it [00:04, 17137281.58it/s]                              \n",
      "Downloading: https://storage.googleapis.com/gfd_v1_4/DFO_2162_From_20030206_to_20030220.zip: 28603264it [00:03, 8442059.02it/s]                               \n",
      "Downloading: https://storage.googleapis.com/gfd_v1_4/DFO_2425_From_20040127_to_20040301.zip: 17378176it [00:03, 4845447.09it/s]                               \n",
      "Downloading: https://storage.googleapis.com/gfd_v1_4/DFO_2430_From_20040201_to_20040602.zip: 97285376it [00:05, 17363584.40it/s]                              \n",
      "Downloading: https://storage.googleapis.com/gfd_v1_4/DFO_2620_From_20050127_to_20050328.zip: 36258432it [00:05, 6059833.82it/s]                               \n",
      "Downloading: https://storage.googleapis.com/gfd_v1_4/DFO_3214_From_20071025_to_20071031.zip: 2337536it [00:03, 718381.57it/s]                              \n",
      "Downloading: https://storage.googleapis.com/gfd_v1_4/DFO_3272_From_20080209_to_20080501.zip: 77951872it [00:06, 12204912.01it/s]                              \n",
      "Downloading: https://storage.googleapis.com/gfd_v1_4/DFO_3454_From_20090215_to_20090217.zip: 7569920it [00:03, 1997806.90it/s]                             \n",
      "Downloading: https://storage.googleapis.com/gfd_v1_4/DFO_3462_From_20090304_to_20090309.zip: 9820288it [00:03, 2633318.21it/s]                              \n",
      "Downloading: https://storage.googleapis.com/gfd_v1_4/DFO_3467_From_20090327_to_20090327.zip: 30733440it [00:04, 6759079.02it/s]                               \n",
      "Downloading: https://storage.googleapis.com/gfd_v1_4/DFO_3493_From_20090621_to_20090628.zip: 14777600it [00:03, 4732555.67it/s]                               \n",
      "Downloading: https://storage.googleapis.com/gfd_v1_4/DFO_3616_From_20100301_to_20100317.zip: 19769472it [00:03, 5323721.40it/s]                               \n",
      "Downloading: https://storage.googleapis.com/gfd_v1_4/DFO_3639_From_20100416_to_20100421.zip: 6271744it [00:02, 2484085.73it/s]                             \n",
      "Downloading: https://storage.googleapis.com/gfd_v1_4/DFO_4026_From_20130115_to_20130201.zip: 16159616it [00:03, 4735445.87it/s]                               \n",
      "Downloading: https://storage.googleapis.com/gfd_v1_4/DFO_4037_From_20130301_to_20130317.zip: 23007488it [00:04, 4641519.34it/s]                               \n",
      "Downloading: https://storage.googleapis.com/gfd_v1_4/DFO_4233_From_20150309_to_20150323.zip: 100%|██████████| 5257984/5257984 [00:02<00:00, 2129503.09it/s]\n",
      "Downloading: https://storage.googleapis.com/gfd_v1_4/DFO_4455_From_20170309_to_20170322.zip: 25326848it [00:04, 5679583.55it/s]                               \n",
      "Downloading: https://storage.googleapis.com/gfd_v1_4/DFO_4586_From_20180301_to_20180314.zip: 45594240it [00:05, 9117349.85it/s]                               \n"
     ]
    },
    {
     "name": "stdout",
     "output_type": "stream",
     "text": [
      "Downloading Argentina (ARG).\n"
     ]
    },
    {
     "name": "stderr",
     "output_type": "stream",
     "text": [
      "Downloading: https://storage.googleapis.com/gfd_v1_4/DFO_1810_From_20011001_to_20011201.zip: 22748160it [00:04, 5414191.44it/s]                               \n",
      "Downloading: https://storage.googleapis.com/gfd_v1_4/DFO_1925_From_20020506_to_20020528.zip: 30465024it [00:05, 5620405.07it/s]                               \n",
      "Downloading: https://storage.googleapis.com/gfd_v1_4/DFO_1939_From_20020423_to_20020509.zip: 11231104it [00:03, 2954504.34it/s]                               \n",
      "Downloading: https://storage.googleapis.com/gfd_v1_4/DFO_2042_From_20020824_to_20020829.zip: 4527104it [00:03, 1292597.85it/s]                             \n",
      "Downloading: https://storage.googleapis.com/gfd_v1_4/DFO_2070_From_20021012_to_20021102.zip: 50782464it [00:05, 8762310.52it/s]                               \n",
      "Downloading: https://storage.googleapis.com/gfd_v1_4/DFO_2073_From_20021012_to_20021111.zip: 49836800it [00:04, 10635775.36it/s]                              \n",
      "Downloading: https://storage.googleapis.com/gfd_v1_4/DFO_2130_From_20030113_to_20030131.zip: 9719936it [00:03, 2593529.29it/s]                              \n",
      "Downloading: https://storage.googleapis.com/gfd_v1_4/DFO_2145_From_20030128_to_20030210.zip: 67656448it [00:06, 10687572.05it/s]                              \n",
      "Downloading: https://storage.googleapis.com/gfd_v1_4/DFO_2216_From_20030428_to_20030510.zip: 19767808it [00:04, 4360377.59it/s]                               \n",
      "Downloading: https://storage.googleapis.com/gfd_v1_4/DFO_2372_From_20031027_to_20031031.zip: 7980672it [00:03, 2200849.62it/s]                              \n",
      "Downloading: https://storage.googleapis.com/gfd_v1_4/DFO_2381_From_20031111_to_20031113.zip: 13668992it [00:04, 3384324.24it/s]                               \n",
      "Downloading: https://storage.googleapis.com/gfd_v1_4/DFO_2586_From_20041107_to_20041215.zip: 47988096it [00:04, 10003877.41it/s]                              \n",
      "Downloading: https://storage.googleapis.com/gfd_v1_4/DFO_2596_From_20041206_to_20041210.zip: 5997440it [00:02, 2433486.30it/s]                             \n",
      "Downloading: https://storage.googleapis.com/gfd_v1_4/DFO_2786_From_20060125_to_20060417.zip: 151504512it [00:08, 17929029.66it/s]                               \n",
      "Downloading: https://storage.googleapis.com/gfd_v1_4/DFO_3019_From_20070110_to_20070501.zip: 90576768it [00:06, 14185489.42it/s]                              \n",
      "Downloading: https://storage.googleapis.com/gfd_v1_4/DFO_3071_From_20070504_to_20070525.zip: 10022912it [00:03, 2649816.99it/s]                              \n",
      "Downloading: https://storage.googleapis.com/gfd_v1_4/DFO_3198_From_20070924_to_20071002.zip: 8973568it [00:03, 2380831.94it/s]                              \n",
      "Downloading: https://storage.googleapis.com/gfd_v1_4/DFO_3246_From_20071215_to_20071228.zip: 54316288it [00:05, 9077429.07it/s]                               \n",
      "Downloading: https://storage.googleapis.com/gfd_v1_4/DFO_3267_From_20080204_to_20080507.zip: 120307328it [00:07, 15731320.80it/s]                               \n",
      "Downloading: https://storage.googleapis.com/gfd_v1_4/DFO_3448_From_20090207_to_20090212.zip: 35380224it [00:04, 7550533.53it/s]                               \n",
      "Downloading: https://storage.googleapis.com/gfd_v1_4/DFO_3457_From_20090201_to_20090216.zip: 55639168it [00:05, 9556364.81it/s]                               \n",
      "Downloading: https://storage.googleapis.com/gfd_v1_4/DFO_3559_From_20091026_to_20091028.zip: 26734976it [00:04, 5866900.29it/s]                               \n",
      "Downloading: https://storage.googleapis.com/gfd_v1_4/DFO_3572_From_20091114_to_20091122.zip: 20856192it [00:04, 4558303.57it/s]                               \n",
      "Downloading: https://storage.googleapis.com/gfd_v1_4/DFO_3577_From_20091121_to_20091208.zip: 6640000it [00:02, 2636025.98it/s]                             \n",
      "Downloading: https://storage.googleapis.com/gfd_v1_4/DFO_3775_From_20110130_to_20110131.zip: 38603136it [00:03, 10475664.02it/s]                              \n",
      "Downloading: https://storage.googleapis.com/gfd_v1_4/DFO_3846_From_20110723_to_20110729.zip: 11360896it [00:02, 3814008.82it/s]                               \n",
      "Downloading: https://storage.googleapis.com/gfd_v1_4/DFO_3919_From_20120405_to_20120426.zip: 26791040it [00:04, 6551293.21it/s]                               \n",
      "Downloading: https://storage.googleapis.com/gfd_v1_4/DFO_4007_From_20121120_to_20121204.zip: 51302912it [00:04, 12755883.65it/s]                              \n",
      "Downloading: https://storage.googleapis.com/gfd_v1_4/DFO_4075_From_20130704_to_20130715.zip: 25573888it [00:05, 4662256.28it/s]                               \n",
      "Downloading: https://storage.googleapis.com/gfd_v1_4/DFO_4117_From_20140110_to_20140501.zip: 91545728it [00:05, 17255804.85it/s]                              \n",
      "Downloading: https://storage.googleapis.com/gfd_v1_4/DFO_4150_From_20140603_to_20140714.zip: 54543872it [00:04, 13176720.02it/s]                              \n",
      "Downloading: https://storage.googleapis.com/gfd_v1_4/DFO_4163_From_20140703_to_20140729.zip: 13037440it [00:02, 4572174.05it/s]                               \n",
      "Downloading: https://storage.googleapis.com/gfd_v1_4/DFO_4276_From_20150710_to_20150721.zip: 29734272it [00:03, 8166465.90it/s]                               \n",
      "Downloading: https://storage.googleapis.com/gfd_v1_4/DFO_4301_From_20151014_to_20151028.zip: 45721216it [00:03, 11835219.62it/s]                              \n",
      "Downloading: https://storage.googleapis.com/gfd_v1_4/DFO_4315_From_20151201_to_20160129.zip: 60896384it [00:04, 12830886.88it/s]                              \n",
      "Downloading: https://storage.googleapis.com/gfd_v1_4/DFO_4325_From_20160105_to_20160129.zip: 26795776it [00:03, 8281503.25it/s]                               \n",
      "Downloading: https://storage.googleapis.com/gfd_v1_4/DFO_4340_From_20160305_to_20160325.zip: 13701120it [00:03, 4397860.13it/s]                               \n",
      "Downloading: https://storage.googleapis.com/gfd_v1_4/DFO_4346_From_20160401_to_20160413.zip: 23655296it [00:03, 7616367.87it/s]                               \n",
      "Downloading: https://storage.googleapis.com/gfd_v1_4/DFO_4350_From_20160412_to_20160511.zip: 14797056it [00:02, 4934845.91it/s]                               \n",
      "Downloading: https://storage.googleapis.com/gfd_v1_4/DFO_4412_From_20161010_to_20161110.zip: 18678144it [00:03, 5236703.27it/s]                               \n",
      "Downloading: https://storage.googleapis.com/gfd_v1_4/DFO_4427_From_20161226_to_20170105.zip: 23115776it [00:03, 5783088.66it/s]                               \n",
      "Downloading: https://storage.googleapis.com/gfd_v1_4/DFO_4435_From_20170105_to_20170121.zip: 51821952it [00:04, 10867706.49it/s]                              \n",
      "Downloading: https://storage.googleapis.com/gfd_v1_4/DFO_4462_From_20170405_to_20170421.zip: 8914688it [00:02, 3321799.11it/s]                              \n",
      "Downloading: https://storage.googleapis.com/gfd_v1_4/DFO_4464_From_20170405_to_20170421.zip: 36993024it [00:05, 6582582.27it/s]                               \n",
      "Downloading: https://storage.googleapis.com/gfd_v1_4/DFO_4562_From_20180113_to_20180122.zip: 22353664it [00:04, 5208197.05it/s]                               \n",
      "Downloading: https://storage.googleapis.com/gfd_v1_4/DFO_4569_From_20180201_to_20180221.zip: 45127552it [00:04, 10577671.43it/s]                              \n",
      "Downloading: https://storage.googleapis.com/gfd_v1_4/DFO_4703_From_20181029_to_20181107.zip: 27269632it [00:04, 6527299.22it/s]                               \n"
     ]
    },
    {
     "name": "stdout",
     "output_type": "stream",
     "text": [
      "Downloading Armenia (ARM).\n"
     ]
    },
    {
     "name": "stderr",
     "output_type": "stream",
     "text": [
      "Downloading: https://storage.googleapis.com/gfd_v1_4/DFO_1962_From_20020619_to_20020701.zip: 9533184it [00:03, 2499134.15it/s]                              \n",
      "Downloading: https://storage.googleapis.com/gfd_v1_4/DFO_2206_From_20030416_to_20030604.zip: 6004736it [00:02, 2414506.03it/s]                             \n",
      "Downloading: https://storage.googleapis.com/gfd_v1_4/DFO_2650_From_20050425_to_20050530.zip: 86925440it [00:05, 16627844.86it/s]                              \n"
     ]
    },
    {
     "name": "stdout",
     "output_type": "stream",
     "text": [
      "Downloading Australia (AUS).\n"
     ]
    },
    {
     "name": "stderr",
     "output_type": "stream",
     "text": [
      "Downloading: https://storage.googleapis.com/gfd_v1_4/DFO_1586_From_20000218_to_20000301.zip: 16652032it [00:04, 4022509.45it/s]                               \n",
      "Downloading: https://storage.googleapis.com/gfd_v1_4/DFO_2137_From_20030122_to_20030306.zip: 36382208it [00:03, 9300422.53it/s]                               \n",
      "Downloading: https://storage.googleapis.com/gfd_v1_4/DFO_2143_From_20030126_to_20030204.zip: 16464640it [00:04, 3777657.68it/s]                               \n",
      "Downloading: https://storage.googleapis.com/gfd_v1_4/DFO_2152_From_20030205_to_20030212.zip: 4597376it [00:03, 1331889.04it/s]                             \n",
      "Downloading: https://storage.googleapis.com/gfd_v1_4/DFO_2154_From_20030211_to_20030214.zip: 12381568it [00:03, 3151716.97it/s]                               \n",
      "Downloading: https://storage.googleapis.com/gfd_v1_4/DFO_2170_From_20030222_to_20030324.zip: 59219328it [00:05, 10601162.26it/s]                              \n",
      "Downloading: https://storage.googleapis.com/gfd_v1_4/DFO_2176_From_20030302_to_20030311.zip: 9561088it [00:02, 3449404.68it/s]                              \n",
      "Downloading: https://storage.googleapis.com/gfd_v1_4/DFO_2180_From_20030307_to_20030317.zip: 14747136it [00:03, 4604874.40it/s]                               \n",
      "Downloading: https://storage.googleapis.com/gfd_v1_4/DFO_2330_From_20030824_to_20030827.zip: 1922688it [00:02, 792487.99it/s]                              \n",
      "Downloading: https://storage.googleapis.com/gfd_v1_4/DFO_2417_From_20040114_to_20040225.zip: 69613696it [00:04, 14605026.56it/s]                              \n",
      "Downloading: https://storage.googleapis.com/gfd_v1_4/DFO_2424_From_20040129_to_20040205.zip: 1950976it [00:03, 614573.49it/s]                              \n",
      "Downloading: https://storage.googleapis.com/gfd_v1_4/DFO_2441_From_20040218_to_20040310.zip: 27112832it [00:05, 5288609.60it/s]                               \n",
      "Downloading: https://storage.googleapis.com/gfd_v1_4/DFO_2442_From_20040220_to_20040307.zip: 9159936it [00:03, 2469966.84it/s]                              \n",
      "Downloading: https://storage.googleapis.com/gfd_v1_4/DFO_2444_From_20040301_to_20040309.zip: 7588352it [00:03, 2117008.21it/s]                              \n",
      "Downloading: https://storage.googleapis.com/gfd_v1_4/DFO_2458_From_20040319_to_20040327.zip: 6163456it [00:02, 2472869.10it/s]                             \n",
      "Downloading: https://storage.googleapis.com/gfd_v1_4/DFO_2461_From_20040327_to_20040403.zip: 7717632it [00:02, 3014279.82it/s]                              \n",
      "Downloading: https://storage.googleapis.com/gfd_v1_4/DFO_2598_From_20041208_to_20041222.zip: 4378752it [00:02, 1806981.36it/s]                             \n",
      "Downloading: https://storage.googleapis.com/gfd_v1_4/DFO_2683_From_20050630_to_20050703.zip: 1650816it [00:02, 804521.68it/s]                              \n",
      "Downloading: https://storage.googleapis.com/gfd_v1_4/DFO_2720_From_20050830_to_20050903.zip: 1951360it [00:03, 616681.70it/s]                              \n",
      "Downloading: https://storage.googleapis.com/gfd_v1_4/DFO_2780_From_20060109_to_20060131.zip: 29882368it [00:04, 6435844.84it/s]                               \n",
      "Downloading: https://storage.googleapis.com/gfd_v1_4/DFO_2815_From_20060303_to_20060323.zip: 3952768it [00:03, 1163201.72it/s]                             \n",
      "Downloading: https://storage.googleapis.com/gfd_v1_4/DFO_2821_From_20060320_to_20060417.zip: 35581824it [00:04, 7789804.99it/s]                               \n",
      "Downloading: https://storage.googleapis.com/gfd_v1_4/DFO_3095_From_20070608_to_20070613.zip: 6614144it [00:02, 2539078.28it/s]                             \n",
      "Downloading: https://storage.googleapis.com/gfd_v1_4/DFO_3114_From_20070627_to_20070704.zip: 12681984it [00:02, 4458297.64it/s]                               \n",
      "Downloading: https://storage.googleapis.com/gfd_v1_4/DFO_3237_From_20071201_to_20071217.zip: 22190080it [00:03, 6394704.75it/s]                               \n",
      "Downloading: https://storage.googleapis.com/gfd_v1_4/DFO_3247_From_20071222_to_20071231.zip: 16660224it [00:03, 5375826.75it/s]                               \n",
      "Downloading: https://storage.googleapis.com/gfd_v1_4/DFO_3252_From_20080103_to_20080109.zip: 12271616it [00:02, 4328334.92it/s]                               \n",
      "Downloading: https://storage.googleapis.com/gfd_v1_4/DFO_3257_From_20080114_to_20080201.zip: 41739520it [00:05, 7491978.39it/s]                               \n",
      "Downloading: https://storage.googleapis.com/gfd_v1_4/DFO_3270_From_20080213_to_20080226.zip: 4854528it [00:02, 1956275.21it/s]                             \n",
      "Downloading: https://storage.googleapis.com/gfd_v1_4/DFO_3297_From_20080424_to_20080427.zip: 6125184it [00:03, 1693912.20it/s]                             \n",
      "Downloading: https://storage.googleapis.com/gfd_v1_4/DFO_3590_From_20100101_to_20100113.zip: 17832960it [00:04, 3906031.12it/s]                               \n",
      "Downloading: https://storage.googleapis.com/gfd_v1_4/DFO_3615_From_20100228_to_20100317.zip: 29317888it [00:04, 6426237.07it/s]                               \n",
      "Downloading: https://storage.googleapis.com/gfd_v1_4/DFO_3734_From_20101015_to_20101019.zip: 13297408it [00:04, 3126808.53it/s]                               \n",
      "Downloading: https://storage.googleapis.com/gfd_v1_4/DFO_3752_From_20101127_to_20101220.zip: 40344320it [00:04, 8218757.47it/s]                               \n",
      "Downloading: https://storage.googleapis.com/gfd_v1_4/DFO_3786_From_20110307_to_20110328.zip: 31684992it [00:05, 5728764.61it/s]                               \n",
      "Downloading: https://storage.googleapis.com/gfd_v1_4/DFO_3793_From_20110322_to_20110328.zip: 1940480it [00:02, 914672.13it/s]                              \n",
      "Downloading: https://storage.googleapis.com/gfd_v1_4/DFO_3879_From_20111127_to_20111222.zip: 5755264it [00:02, 2296494.54it/s]                             \n",
      "Downloading: https://storage.googleapis.com/gfd_v1_4/DFO_3894_From_20120122_to_20120307.zip: 55896448it [00:04, 11580634.70it/s]                              \n",
      "Downloading: https://storage.googleapis.com/gfd_v1_4/DFO_4024_From_20130122_to_20130201.zip: 38543488it [00:03, 9719915.72it/s]                               \n",
      "Downloading: https://storage.googleapis.com/gfd_v1_4/DFO_4130_From_20140324_to_20140330.zip: 11619840it [00:02, 4163456.02it/s]                               \n",
      "Downloading: https://storage.googleapis.com/gfd_v1_4/DFO_4218_From_20150105_to_20150111.zip: 56705152it [00:04, 12290302.79it/s]                              \n",
      "Downloading: https://storage.googleapis.com/gfd_v1_4/DFO_4226_From_20150222_to_20150224.zip: 25863552it [00:04, 6216518.30it/s]                               \n",
      "Downloading: https://storage.googleapis.com/gfd_v1_4/DFO_4327_From_20160127_to_20160129.zip: 11896064it [00:02, 4254762.72it/s]                               \n",
      "Downloading: https://storage.googleapis.com/gfd_v1_4/DFO_4428_From_20161225_to_20170105.zip: 46443136it [00:04, 9539911.27it/s]                               \n",
      "Downloading: https://storage.googleapis.com/gfd_v1_4/DFO_4451_From_20170313_to_20170322.zip: 16527872it [00:03, 5133713.43it/s]                               \n",
      "Downloading: https://storage.googleapis.com/gfd_v1_4/DFO_4458_From_20170328_to_20170408.zip: 15987584it [00:04, 3730038.60it/s]                               \n",
      "Downloading: https://storage.googleapis.com/gfd_v1_4/DFO_4579_From_20180305_to_20180326.zip: 11862272it [00:02, 4222737.23it/s]                               \n"
     ]
    },
    {
     "name": "stdout",
     "output_type": "stream",
     "text": [
      "Downloading Austria (AUT).\n"
     ]
    },
    {
     "name": "stderr",
     "output_type": "stream",
     "text": [
      "Downloading: https://storage.googleapis.com/gfd_v1_4/DFO_2024_From_20020807_to_20020828.zip: 21745792it [00:03, 6850822.19it/s]                               \n",
      "Downloading: https://storage.googleapis.com/gfd_v1_4/DFO_2460_From_20040323_to_20040403.zip: 10863232it [00:03, 2857754.66it/s]                               \n",
      "Downloading: https://storage.googleapis.com/gfd_v1_4/DFO_2469_From_20040412_to_20040502.zip: 16473856it [00:03, 5369382.89it/s]                               \n",
      "Downloading: https://storage.googleapis.com/gfd_v1_4/DFO_2640_From_20050317_to_20050408.zip: 34163456it [00:03, 8620701.45it/s]                               \n",
      "Downloading: https://storage.googleapis.com/gfd_v1_4/DFO_2827_From_20060328_to_20060509.zip: 20910336it [00:03, 6035169.75it/s]                               \n",
      "Downloading: https://storage.googleapis.com/gfd_v1_4/DFO_2832_From_20060404_to_20060511.zip: 18903168it [00:03, 6160792.34it/s]                               \n",
      "Downloading: https://storage.googleapis.com/gfd_v1_4/DFO_3193_From_20070918_to_20070920.zip: 9723136it [00:02, 3667759.14it/s]                              \n",
      "Downloading: https://storage.googleapis.com/gfd_v1_4/DFO_3648_From_20100515_to_20100524.zip: 14474624it [00:04, 3406557.15it/s]                               \n",
      "Downloading: https://storage.googleapis.com/gfd_v1_4/DFO_3657_From_20100529_to_20100611.zip: 19492864it [00:03, 6220499.43it/s]                               \n",
      "Downloading: https://storage.googleapis.com/gfd_v1_4/DFO_3698_From_20100727_to_20100808.zip: 6945920it [00:02, 2708095.12it/s]                             \n"
     ]
    },
    {
     "name": "stdout",
     "output_type": "stream",
     "text": [
      "Downloading Azerbaijan (AZE).\n"
     ]
    },
    {
     "name": "stderr",
     "output_type": "stream",
     "text": [
      "Downloading: https://storage.googleapis.com/gfd_v1_4/DFO_1962_From_20020619_to_20020701.zip: 9533184it [00:02, 3570833.14it/s]                              \n",
      "Downloading: https://storage.googleapis.com/gfd_v1_4/DFO_2206_From_20030416_to_20030604.zip: 6004736it [00:02, 2401407.51it/s]                             \n",
      "Downloading: https://storage.googleapis.com/gfd_v1_4/DFO_2650_From_20050425_to_20050530.zip: 86925440it [00:06, 14399266.64it/s]                              \n"
     ]
    },
    {
     "name": "stdout",
     "output_type": "stream",
     "text": [
      "Downloading Bahamas (BHS).\n"
     ]
    },
    {
     "name": "stderr",
     "output_type": "stream",
     "text": [
      "Downloading: https://storage.googleapis.com/gfd_v1_4/DFO_3218_From_20071028_to_20071110.zip: 7536512it [00:03, 2097024.70it/s]                              \n",
      "Downloading: https://storage.googleapis.com/gfd_v1_4/DFO_4306_From_20151002_to_20151008.zip: 1331584it [00:02, 643177.97it/s]                              \n",
      "Downloading: https://storage.googleapis.com/gfd_v1_4/DFO_4516_From_20170908_to_20170919.zip: 15716992it [00:04, 3897068.16it/s]                               \n"
     ]
    },
    {
     "name": "stdout",
     "output_type": "stream",
     "text": [
      "Downloading Bangladesh (BGD).\n"
     ]
    },
    {
     "name": "stderr",
     "output_type": "stream",
     "text": [
      "Downloading: https://storage.googleapis.com/gfd_v1_4/DFO_1641_From_20000918_to_20001021.zip: 25968768it [00:03, 7577426.05it/s]                               \n",
      "Downloading: https://storage.googleapis.com/gfd_v1_4/DFO_1747_From_20010708_to_20010810.zip: 8413440it [00:02, 3234970.63it/s]                              \n",
      "Downloading: https://storage.googleapis.com/gfd_v1_4/DFO_1789_From_20010820_to_20010911.zip: 17278208it [00:03, 5623929.51it/s]                               \n",
      "Downloading: https://storage.googleapis.com/gfd_v1_4/DFO_1791_From_20010907_to_20010924.zip: 15143808it [00:02, 5056777.28it/s]                               \n",
      "Downloading: https://storage.googleapis.com/gfd_v1_4/DFO_1908_From_20020418_to_20020429.zip: 1372288it [00:02, 658856.76it/s]                              \n",
      "Downloading: https://storage.googleapis.com/gfd_v1_4/DFO_1974_From_20020621_to_20020828.zip: 46438528it [00:04, 11546154.77it/s]                              \n",
      "Downloading: https://storage.googleapis.com/gfd_v1_4/DFO_1999_From_20020721_to_20020815.zip: 21978240it [00:03, 6550134.77it/s]                               \n",
      "Downloading: https://storage.googleapis.com/gfd_v1_4/DFO_2248_From_20030611_to_20031010.zip: 91019264it [00:06, 14405507.17it/s]                              \n",
      "Downloading: https://storage.googleapis.com/gfd_v1_4/DFO_2257_From_20030619_to_20030703.zip: 2336640it [00:02, 1065460.94it/s]                             \n",
      "Downloading: https://storage.googleapis.com/gfd_v1_4/DFO_2276_From_20030702_to_20030901.zip: 16430080it [00:03, 5348654.17it/s]                               \n",
      "Downloading: https://storage.googleapis.com/gfd_v1_4/DFO_2279_From_20030715_to_20030901.zip: 65999232it [00:04, 14853756.40it/s]                              \n",
      "Downloading: https://storage.googleapis.com/gfd_v1_4/DFO_2338_From_20030827_to_20031020.zip: 14061824it [00:02, 4759441.44it/s]                               \n",
      "Downloading: https://storage.googleapis.com/gfd_v1_4/DFO_2473_From_20040414_to_20040503.zip: 13171840it [00:03, 4327325.20it/s]                              \n",
      "Downloading: https://storage.googleapis.com/gfd_v1_4/DFO_2507_From_20040620_to_20041007.zip: 82961152it [00:04, 17327923.00it/s]                              \n",
      "Downloading: https://storage.googleapis.com/gfd_v1_4/DFO_2519_From_20040705_to_20040811.zip: 30657024it [00:03, 9079314.13it/s]                               \n",
      "Downloading: https://storage.googleapis.com/gfd_v1_4/DFO_2570_From_20041007_to_20041018.zip: 27644032it [00:04, 6255426.69it/s]                               \n",
      "Downloading: https://storage.googleapis.com/gfd_v1_4/DFO_2657_From_20050525_to_20050528.zip: 1793792it [00:02, 876430.10it/s]                              \n",
      "Downloading: https://storage.googleapis.com/gfd_v1_4/DFO_2676_From_20050623_to_20050630.zip: 19476352it [00:03, 5601459.08it/s]                               \n",
      "Downloading: https://storage.googleapis.com/gfd_v1_4/DFO_2686_From_20050702_to_20050715.zip: 27666432it [00:03, 8235309.10it/s]                               \n",
      "Downloading: https://storage.googleapis.com/gfd_v1_4/DFO_2689_From_20050705_to_20050814.zip: 49325184it [00:04, 10940411.18it/s]                              \n",
      "Downloading: https://storage.googleapis.com/gfd_v1_4/DFO_2690_From_20050707_to_20050727.zip: 46257664it [00:04, 11087774.72it/s]                              \n",
      "Downloading: https://storage.googleapis.com/gfd_v1_4/DFO_2718_From_20050826_to_20050830.zip: 14639488it [00:03, 4807739.86it/s]                               \n",
      "Downloading: https://storage.googleapis.com/gfd_v1_4/DFO_2728_From_20050914_to_20050930.zip: 34691840it [00:04, 7328759.90it/s]                               \n",
      "Downloading: https://storage.googleapis.com/gfd_v1_4/DFO_2731_From_20050916_to_20051005.zip: 34272768it [00:04, 7276803.13it/s]                               \n",
      "Downloading: https://storage.googleapis.com/gfd_v1_4/DFO_2737_From_20050925_to_20051002.zip: 16968832it [00:03, 4765603.55it/s]                               \n",
      "Downloading: https://storage.googleapis.com/gfd_v1_4/DFO_2747_From_20051003_to_20051022.zip: 24627200it [00:03, 8005123.23it/s]                               \n",
      "Downloading: https://storage.googleapis.com/gfd_v1_4/DFO_2754_From_20051021_to_20051028.zip: 3947520it [00:03, 1241998.74it/s]                             \n",
      "Downloading: https://storage.googleapis.com/gfd_v1_4/DFO_2859_From_20060429_to_20060505.zip: 9790848it [00:02, 3517815.52it/s]                              \n",
      "Downloading: https://storage.googleapis.com/gfd_v1_4/DFO_2879_From_20060531_to_20060724.zip: 43199104it [00:03, 11151609.16it/s]                              \n",
      "Downloading: https://storage.googleapis.com/gfd_v1_4/DFO_2894_From_20060624_to_20060803.zip: 36461184it [00:03, 9480975.99it/s]                               \n",
      "Downloading: https://storage.googleapis.com/gfd_v1_4/DFO_2935_From_20060728_to_20060912.zip: 70708608it [00:04, 14541609.05it/s]                              \n",
      "Downloading: https://storage.googleapis.com/gfd_v1_4/DFO_2940_From_20060801_to_20060910.zip: 29094144it [00:03, 7828452.62it/s]                               \n",
      "Downloading: https://storage.googleapis.com/gfd_v1_4/DFO_2954_From_20060826_to_20060913.zip: 22133248it [00:03, 5718333.51it/s]                               \n",
      "Downloading: https://storage.googleapis.com/gfd_v1_4/DFO_2956_From_20060829_to_20060904.zip: 17120640it [00:03, 5470445.38it/s]                               \n",
      "Downloading: https://storage.googleapis.com/gfd_v1_4/DFO_2961_From_20060824_to_20060920.zip: 35013248it [00:04, 7899707.71it/s]                               \n",
      "Downloading: https://storage.googleapis.com/gfd_v1_4/DFO_3097_From_20070611_to_20070624.zip: 13163904it [00:02, 4630327.20it/s]                               \n",
      "Downloading: https://storage.googleapis.com/gfd_v1_4/DFO_3100_From_20070615_to_20070618.zip: 13609472it [00:02, 4704650.48it/s]                               \n",
      "Downloading: https://storage.googleapis.com/gfd_v1_4/DFO_3104_From_20070618_to_20070626.zip: 10361728it [00:02, 3827925.83it/s]                              \n",
      "Downloading: https://storage.googleapis.com/gfd_v1_4/DFO_3118_From_20070630_to_20070713.zip: 23822720it [00:03, 6840283.12it/s]                               \n",
      "Downloading: https://storage.googleapis.com/gfd_v1_4/DFO_3120_From_20070701_to_20070713.zip: 43648256it [00:05, 8703361.65it/s]                               \n",
      "Downloading: https://storage.googleapis.com/gfd_v1_4/DFO_3122_From_20070703_to_20070922.zip: 47788032it [00:04, 10468492.96it/s]                              \n",
      "Downloading: https://storage.googleapis.com/gfd_v1_4/DFO_3125_From_20070706_to_20070801.zip: 16837504it [00:04, 4021731.11it/s]                               \n",
      "Downloading: https://storage.googleapis.com/gfd_v1_4/DFO_3128_From_20070712_to_20071010.zip: 48284416it [00:03, 12683532.23it/s]                              \n",
      "Downloading: https://storage.googleapis.com/gfd_v1_4/DFO_3136_From_20070721_to_20071015.zip: 54386560it [00:04, 11854523.69it/s]                              \n",
      "Downloading: https://storage.googleapis.com/gfd_v1_4/DFO_3143_From_20070723_to_20071002.zip: 32132736it [00:03, 8495382.13it/s]                               \n",
      "Downloading: https://storage.googleapis.com/gfd_v1_4/DFO_3150_From_20070803_to_20070827.zip: 11543168it [00:02, 3946724.25it/s]                               \n",
      "Downloading: https://storage.googleapis.com/gfd_v1_4/DFO_3164_From_20070812_to_20070817.zip: 26141056it [00:04, 5427236.60it/s]                               \n",
      "Downloading: https://storage.googleapis.com/gfd_v1_4/DFO_3169_From_20070814_to_20071004.zip: 19998976it [00:03, 6469696.70it/s]                               \n",
      "Downloading: https://storage.googleapis.com/gfd_v1_4/DFO_3195_From_20070922_to_20071008.zip: 10840576it [00:03, 2865047.18it/s]                               \n",
      "Downloading: https://storage.googleapis.com/gfd_v1_4/DFO_3208_From_20071017_to_20071024.zip: 9295488it [00:02, 3421687.42it/s]                              \n",
      "Downloading: https://storage.googleapis.com/gfd_v1_4/DFO_3226_From_20071115_to_20071201.zip: 9441792it [00:02, 3571130.95it/s]                              \n",
      "Downloading: https://storage.googleapis.com/gfd_v1_4/DFO_3312_From_20080524_to_20080528.zip: 12597376it [00:02, 4406697.54it/s]                               \n",
      "Downloading: https://storage.googleapis.com/gfd_v1_4/DFO_3327_From_20080705_to_20080714.zip: 36825088it [00:04, 8188656.28it/s]                               \n",
      "Downloading: https://storage.googleapis.com/gfd_v1_4/DFO_3338_From_20080720_to_20080808.zip: 30480640it [00:03, 8600599.29it/s]                               \n",
      "Downloading: https://storage.googleapis.com/gfd_v1_4/DFO_3365_From_20080818_to_20080924.zip: 32584576it [00:03, 8200193.12it/s]                               \n",
      "Downloading: https://storage.googleapis.com/gfd_v1_4/DFO_3371_From_20080830_to_20080908.zip: 25137920it [00:03, 7309505.96it/s]                               \n",
      "Downloading: https://storage.googleapis.com/gfd_v1_4/DFO_3372_From_20080830_to_20080908.zip: 16645376it [00:03, 5373910.63it/s]                               \n",
      "Downloading: https://storage.googleapis.com/gfd_v1_4/DFO_3382_From_20080922_to_20080929.zip: 39644928it [00:04, 8394187.20it/s]                               \n",
      "Downloading: https://storage.googleapis.com/gfd_v1_4/DFO_3383_From_20080922_to_20080929.zip: 26668928it [00:04, 5985278.95it/s]                               \n",
      "Downloading: https://storage.googleapis.com/gfd_v1_4/DFO_3485_From_20090420_to_20090515.zip: 4313344it [00:02, 1794997.81it/s]                             \n",
      "Downloading: https://storage.googleapis.com/gfd_v1_4/DFO_3495_From_20090703_to_20090706.zip: 19142656it [00:05, 3262316.41it/s]                               \n",
      "Downloading: https://storage.googleapis.com/gfd_v1_4/DFO_3496_From_20090703_to_20090706.zip: 9031680it [00:03, 2412206.64it/s]                              \n",
      "Downloading: https://storage.googleapis.com/gfd_v1_4/DFO_3530_From_20090818_to_20090827.zip: 16139904it [00:04, 3943025.97it/s]                               \n",
      "Downloading: https://storage.googleapis.com/gfd_v1_4/DFO_3553_From_20091004_to_20091012.zip: 23765376it [00:03, 6722110.92it/s]                               \n",
      "Downloading: https://storage.googleapis.com/gfd_v1_4/DFO_3633_From_20100327_to_20100407.zip: 3354240it [00:03, 986684.02it/s]                              \n",
      "Downloading: https://storage.googleapis.com/gfd_v1_4/DFO_3636_From_20100418_to_20100421.zip: 2768896it [00:03, 829283.04it/s]                              \n",
      "Downloading: https://storage.googleapis.com/gfd_v1_4/DFO_3650_From_20100515_to_20100626.zip: 5402624it [00:03, 1555918.06it/s]                             \n",
      "Downloading: https://storage.googleapis.com/gfd_v1_4/DFO_3662_From_20100615_to_20100626.zip: 10999168it [00:03, 2933964.68it/s]                              \n",
      "Downloading: https://storage.googleapis.com/gfd_v1_4/DFO_3674_From_20100705_to_20100715.zip: 31659136it [00:05, 5622575.32it/s]                               \n",
      "Downloading: https://storage.googleapis.com/gfd_v1_4/DFO_3679_From_20100701_to_20100713.zip: 32836480it [00:04, 6868714.76it/s]                               \n",
      "Downloading: https://storage.googleapis.com/gfd_v1_4/DFO_3713_From_20100905_to_20100917.zip: 4787712it [00:02, 2003450.53it/s]                             \n",
      "Downloading: https://storage.googleapis.com/gfd_v1_4/DFO_3716_From_20100909_to_20100930.zip: 34751232it [00:04, 7544328.37it/s]                               \n",
      "Downloading: https://storage.googleapis.com/gfd_v1_4/DFO_3717_From_20100918_to_20100930.zip: 18747008it [00:04, 4153592.96it/s]                               \n",
      "Downloading: https://storage.googleapis.com/gfd_v1_4/DFO_3732_From_20101001_to_20101012.zip: 30071680it [00:03, 8332202.67it/s]                               \n",
      "Downloading: https://storage.googleapis.com/gfd_v1_4/DFO_3843_From_20110721_to_20110729.zip: 4658432it [00:02, 1911221.13it/s]                             \n",
      "Downloading: https://storage.googleapis.com/gfd_v1_4/DFO_3854_From_20110815_to_20111002.zip: 30138752it [00:03, 7913156.72it/s]                               \n",
      "Downloading: https://storage.googleapis.com/gfd_v1_4/DFO_3856_From_20110815_to_20110908.zip: 5337984it [00:02, 2151190.65it/s]                             \n",
      "Downloading: https://storage.googleapis.com/gfd_v1_4/DFO_3866_From_20110905_to_20111002.zip: 11243136it [00:02, 3949151.19it/s]                               \n",
      "Downloading: https://storage.googleapis.com/gfd_v1_4/DFO_3983_From_20120916_to_20120918.zip: 25506176it [00:03, 7488336.80it/s]                               \n",
      "Downloading: https://storage.googleapis.com/gfd_v1_4/DFO_4098_From_20131012_to_20131110.zip: 29101312it [00:04, 6469892.82it/s]                               \n",
      "Downloading: https://storage.googleapis.com/gfd_v1_4/DFO_4154_From_20140623_to_20140625.zip: 7222272it [00:02, 2801305.75it/s]                              \n",
      "Downloading: https://storage.googleapis.com/gfd_v1_4/DFO_4171_From_20140811_to_20140908.zip: 25297152it [00:03, 7899453.73it/s]                               \n",
      "Downloading: https://storage.googleapis.com/gfd_v1_4/DFO_4174_From_20140814_to_20140908.zip: 24897408it [00:03, 7886227.11it/s]                               \n",
      "Downloading: https://storage.googleapis.com/gfd_v1_4/DFO_4176_From_20140815_to_20140908.zip: 9650432it [00:03, 2588236.49it/s]                              \n",
      "Downloading: https://storage.googleapis.com/gfd_v1_4/DFO_4178_From_20140820_to_20140908.zip: 29899648it [00:03, 8986300.82it/s]                               \n",
      "Downloading: https://storage.googleapis.com/gfd_v1_4/DFO_4188_From_20140924_to_20141011.zip: 10931584it [00:02, 3884846.37it/s]                               \n",
      "Downloading: https://storage.googleapis.com/gfd_v1_4/DFO_4259_From_20150602_to_20150629.zip: 9638016it [00:02, 3524824.06it/s]                              \n",
      "Downloading: https://storage.googleapis.com/gfd_v1_4/DFO_4282_From_20150715_to_20150819.zip: 73621376it [00:04, 15335177.21it/s]                              \n",
      "Downloading: https://storage.googleapis.com/gfd_v1_4/DFO_4283_From_20150715_to_20150819.zip: 17913856it [00:03, 5245096.39it/s]                               \n",
      "Downloading: https://storage.googleapis.com/gfd_v1_4/DFO_4288_From_20150813_to_20150911.zip: 10036224it [00:02, 3562095.50it/s]                              \n",
      "Downloading: https://storage.googleapis.com/gfd_v1_4/DFO_4355_From_20160420_to_20160501.zip: 17167360it [00:03, 4575706.62it/s]                               \n",
      "Downloading: https://storage.googleapis.com/gfd_v1_4/DFO_4365_From_20160601_to_20160816.zip: 15878272it [00:03, 5228864.43it/s]                               \n",
      "Downloading: https://storage.googleapis.com/gfd_v1_4/DFO_4378_From_20160707_to_20160803.zip: 41001088it [00:04, 9861793.92it/s]                               \n",
      "Downloading: https://storage.googleapis.com/gfd_v1_4/DFO_4382_From_20160725_to_20160826.zip: 41706752it [00:04, 9801075.26it/s]                               \n",
      "Downloading: https://storage.googleapis.com/gfd_v1_4/DFO_4459_From_20170330_to_20170418.zip: 5575936it [00:02, 2223941.87it/s]                             \n",
      "Downloading: https://storage.googleapis.com/gfd_v1_4/DFO_4483_From_20170602_to_20170703.zip: 18870016it [00:03, 6182811.93it/s]                               \n",
      "Downloading: https://storage.googleapis.com/gfd_v1_4/DFO_4499_From_20170727_to_20170810.zip: 4887936it [00:02, 1977860.14it/s]                             \n",
      "Downloading: https://storage.googleapis.com/gfd_v1_4/DFO_4507_From_20170810_to_20170826.zip: 41056000it [00:04, 10039413.72it/s]                              \n",
      "Downloading: https://storage.googleapis.com/gfd_v1_4/DFO_4508_From_20170810_to_20170826.zip: 35916672it [00:04, 7987054.96it/s]                               \n",
      "Downloading: https://storage.googleapis.com/gfd_v1_4/DFO_4632_From_20180615_to_20180620.zip: 14192512it [00:04, 3536623.42it/s]                               \n",
      "Downloading: https://storage.googleapis.com/gfd_v1_4/DFO_4665_From_20180802_to_20180810.zip: 8966016it [00:02, 3387721.33it/s]                              \n",
      "Downloading: https://storage.googleapis.com/gfd_v1_4/DFO_4666_From_20180715_to_20180810.zip: 12219264it [00:03, 3149294.37it/s]                               \n",
      "Downloading: https://storage.googleapis.com/gfd_v1_4/DFO_4673_From_20180901_to_20180907.zip: 16128640it [00:03, 5152780.60it/s]                               \n"
     ]
    },
    {
     "name": "stdout",
     "output_type": "stream",
     "text": [
      "Downloading Belarus (BLR).\n"
     ]
    },
    {
     "name": "stderr",
     "output_type": "stream",
     "text": [
      "Downloading: https://storage.googleapis.com/gfd_v1_4/DFO_1595_From_20000405_to_20000425.zip: 12872192it [00:02, 4445618.61it/s]                               \n",
      "Downloading: https://storage.googleapis.com/gfd_v1_4/DFO_2187_From_20030322_to_20030404.zip: 16371968it [00:03, 5248099.98it/s]                               \n",
      "Downloading: https://storage.googleapis.com/gfd_v1_4/DFO_2193_From_20030322_to_20030505.zip: 34770944it [00:04, 7518635.73it/s]                               \n",
      "Downloading: https://storage.googleapis.com/gfd_v1_4/DFO_2209_From_20030415_to_20030518.zip: 34712192it [00:03, 9343891.23it/s]                               \n",
      "Downloading: https://storage.googleapis.com/gfd_v1_4/DFO_2463_From_20040330_to_20040505.zip: 74277504it [00:05, 13158591.00it/s]                              \n",
      "Downloading: https://storage.googleapis.com/gfd_v1_4/DFO_2640_From_20050317_to_20050408.zip: 34163456it [00:04, 7315906.14it/s]                               \n",
      "Downloading: https://storage.googleapis.com/gfd_v1_4/DFO_2827_From_20060328_to_20060509.zip: 20910336it [00:03, 5922611.94it/s]                               \n",
      "Downloading: https://storage.googleapis.com/gfd_v1_4/DFO_3630_From_20100327_to_20100331.zip: 8015616it [00:03, 2173734.38it/s]                              \n",
      "Downloading: https://storage.googleapis.com/gfd_v1_4/DFO_3648_From_20100515_to_20100524.zip: 14474624it [00:02, 4944007.09it/s]                               \n",
      "Downloading: https://storage.googleapis.com/gfd_v1_4/DFO_3657_From_20100529_to_20100611.zip: 19492864it [00:03, 6352495.85it/s]                               \n",
      "Downloading: https://storage.googleapis.com/gfd_v1_4/DFO_3916_From_20120408_to_20120426.zip: 65857408it [00:04, 14003326.41it/s]                              \n"
     ]
    },
    {
     "name": "stdout",
     "output_type": "stream",
     "text": [
      "Downloading Belgium (BEL).\n"
     ]
    },
    {
     "name": "stderr",
     "output_type": "stream",
     "text": [
      "Downloading: https://storage.googleapis.com/gfd_v1_4/DFO_2117_From_20030101_to_20030108.zip: 34964608it [00:03, 9303229.63it/s]                               \n"
     ]
    },
    {
     "name": "stdout",
     "output_type": "stream",
     "text": [
      "Downloading Belize (BLZ).\n"
     ]
    },
    {
     "name": "stderr",
     "output_type": "stream",
     "text": [
      "Downloading: https://storage.googleapis.com/gfd_v1_4/DFO_1818_From_20011026_to_20011115.zip: 11133184it [00:02, 4054585.01it/s]                               \n",
      "Downloading: https://storage.googleapis.com/gfd_v1_4/DFO_2510_From_20040624_to_20040720.zip: 10182656it [00:02, 3732206.22it/s]                              \n",
      "Downloading: https://storage.googleapis.com/gfd_v1_4/DFO_2744_From_20051001_to_20051016.zip: 21100800it [00:03, 5898037.70it/s]                               \n",
      "Downloading: https://storage.googleapis.com/gfd_v1_4/DFO_2753_From_20051019_to_20051025.zip: 21271040it [00:03, 6765658.90it/s]                               \n",
      "Downloading: https://storage.googleapis.com/gfd_v1_4/DFO_3184_From_20070904_to_20070912.zip: 15148160it [00:03, 4842177.13it/s]                               \n",
      "Downloading: https://storage.googleapis.com/gfd_v1_4/DFO_3205_From_20071012_to_20071026.zip: 17747456it [00:03, 5691837.44it/s]                               \n",
      "Downloading: https://storage.googleapis.com/gfd_v1_4/DFO_3220_From_20071028_to_20071201.zip: 14229504it [00:02, 4843665.03it/s]                               \n",
      "Downloading: https://storage.googleapis.com/gfd_v1_4/DFO_3490_From_20090619_to_20090622.zip: 16278400it [00:03, 5145328.82it/s]                               \n",
      "Downloading: https://storage.googleapis.com/gfd_v1_4/DFO_3653_From_20100518_to_20100524.zip: 16951040it [00:03, 5466819.60it/s]                               \n",
      "Downloading: https://storage.googleapis.com/gfd_v1_4/DFO_3707_From_20100815_to_20101006.zip: 18687360it [00:04, 4545050.78it/s]                               \n",
      "Downloading: https://storage.googleapis.com/gfd_v1_4/DFO_3721_From_20100918_to_20100930.zip: 19787776it [00:04, 4377356.70it/s]                               \n",
      "Downloading: https://storage.googleapis.com/gfd_v1_4/DFO_3871_From_20111010_to_20111101.zip: 30494464it [00:03, 8987425.38it/s]                               \n"
     ]
    },
    {
     "name": "stdout",
     "output_type": "stream",
     "text": [
      "Downloading Benin (BEN).\n"
     ]
    },
    {
     "name": "stderr",
     "output_type": "stream",
     "text": [
      "Downloading: https://storage.googleapis.com/gfd_v1_4/DFO_2311_From_20030805_to_20031012.zip: 45515136it [00:04, 10909212.09it/s]                              \n",
      "Downloading: https://storage.googleapis.com/gfd_v1_4/DFO_2320_From_20030810_to_20031019.zip: 82118272it [00:04, 17152842.75it/s]                              \n",
      "Downloading: https://storage.googleapis.com/gfd_v1_4/DFO_2576_From_20041007_to_20041104.zip: 5117696it [00:02, 2114728.89it/s]                             \n",
      "Downloading: https://storage.googleapis.com/gfd_v1_4/DFO_2947_From_20060803_to_20061011.zip: 119138432it [00:06, 19777336.30it/s]                               \n",
      "Downloading: https://storage.googleapis.com/gfd_v1_4/DFO_3151_From_20070804_to_20071021.zip: 36338560it [00:04, 7691355.02it/s]                               \n",
      "Downloading: https://storage.googleapis.com/gfd_v1_4/DFO_3166_From_20070726_to_20071010.zip: 90931328it [00:05, 16812393.38it/s]                              \n",
      "Downloading: https://storage.googleapis.com/gfd_v1_4/DFO_3534_From_20090810_to_20090902.zip: 156698752it [00:07, 20438094.78it/s]                               \n",
      "Downloading: https://storage.googleapis.com/gfd_v1_4/DFO_3555_From_20091020_to_20091026.zip: 5390848it [00:03, 1539115.21it/s]                             \n",
      "Downloading: https://storage.googleapis.com/gfd_v1_4/DFO_3994_From_20120915_to_20121015.zip: 24517248it [00:04, 5986670.71it/s]                               \n",
      "Downloading: https://storage.googleapis.com/gfd_v1_4/DFO_4391_From_20160914_to_20160922.zip: 12014720it [00:03, 3082740.42it/s]                               \n"
     ]
    },
    {
     "name": "stdout",
     "output_type": "stream",
     "text": [
      "Downloading Bhutan (BTN).\n"
     ]
    },
    {
     "name": "stderr",
     "output_type": "stream",
     "text": [
      "Downloading: https://storage.googleapis.com/gfd_v1_4/DFO_1641_From_20000918_to_20001021.zip: 25968768it [00:04, 5630909.83it/s]                               \n",
      "Downloading: https://storage.googleapis.com/gfd_v1_4/DFO_1974_From_20020621_to_20020828.zip: 46438528it [00:03, 12215304.38it/s]                              \n",
      "Downloading: https://storage.googleapis.com/gfd_v1_4/DFO_2248_From_20030611_to_20031010.zip: 91019264it [00:05, 17382549.17it/s]                              \n",
      "Downloading: https://storage.googleapis.com/gfd_v1_4/DFO_2473_From_20040414_to_20040503.zip: 13171840it [00:02, 4510900.68it/s]                               \n",
      "Downloading: https://storage.googleapis.com/gfd_v1_4/DFO_2507_From_20040620_to_20041007.zip: 82961152it [00:06, 13656230.03it/s]                              \n",
      "Downloading: https://storage.googleapis.com/gfd_v1_4/DFO_2570_From_20041007_to_20041018.zip: 27644032it [00:04, 6046890.79it/s]                               \n",
      "Downloading: https://storage.googleapis.com/gfd_v1_4/DFO_2676_From_20050623_to_20050630.zip: 19476352it [00:04, 4438189.69it/s]                               \n",
      "Downloading: https://storage.googleapis.com/gfd_v1_4/DFO_2690_From_20050707_to_20050727.zip: 46257664it [00:03, 11631970.97it/s]                              \n",
      "Downloading: https://storage.googleapis.com/gfd_v1_4/DFO_2747_From_20051003_to_20051022.zip: 24627200it [00:03, 7840640.00it/s]                               \n",
      "Downloading: https://storage.googleapis.com/gfd_v1_4/DFO_2879_From_20060531_to_20060724.zip: 43199104it [00:05, 7700744.03it/s]                               \n",
      "Downloading: https://storage.googleapis.com/gfd_v1_4/DFO_2894_From_20060624_to_20060803.zip: 36461184it [00:04, 7384348.19it/s]                               \n",
      "Downloading: https://storage.googleapis.com/gfd_v1_4/DFO_2961_From_20060824_to_20060920.zip: 35013248it [00:03, 9980762.18it/s]                               \n",
      "Downloading: https://storage.googleapis.com/gfd_v1_4/DFO_3097_From_20070611_to_20070624.zip: 13163904it [00:03, 3316577.59it/s]                               \n",
      "Downloading: https://storage.googleapis.com/gfd_v1_4/DFO_3104_From_20070618_to_20070626.zip: 10361728it [00:03, 2780966.44it/s]                              \n",
      "Downloading: https://storage.googleapis.com/gfd_v1_4/DFO_3122_From_20070703_to_20070922.zip: 47788032it [00:04, 11259452.67it/s]                              \n",
      "Downloading: https://storage.googleapis.com/gfd_v1_4/DFO_3128_From_20070712_to_20071010.zip: 48284416it [00:03, 12255805.83it/s]                              \n",
      "Downloading: https://storage.googleapis.com/gfd_v1_4/DFO_3136_From_20070721_to_20071015.zip: 54386560it [00:04, 11652275.51it/s]                              \n",
      "Downloading: https://storage.googleapis.com/gfd_v1_4/DFO_3312_From_20080524_to_20080528.zip: 12597376it [00:02, 4328652.47it/s]                               \n",
      "Downloading: https://storage.googleapis.com/gfd_v1_4/DFO_3327_From_20080705_to_20080714.zip: 36825088it [00:03, 9825892.02it/s]                               \n",
      "Downloading: https://storage.googleapis.com/gfd_v1_4/DFO_3338_From_20080720_to_20080808.zip: 30480640it [00:03, 8872812.35it/s]                               \n",
      "Downloading: https://storage.googleapis.com/gfd_v1_4/DFO_3365_From_20080818_to_20080924.zip: 32584576it [00:03, 9409736.36it/s]                               \n",
      "Downloading: https://storage.googleapis.com/gfd_v1_4/DFO_3371_From_20080830_to_20080908.zip: 25137920it [00:03, 8101049.17it/s]                               \n",
      "Downloading: https://storage.googleapis.com/gfd_v1_4/DFO_3372_From_20080830_to_20080908.zip: 16645376it [00:04, 4046173.40it/s]                               \n",
      "Downloading: https://storage.googleapis.com/gfd_v1_4/DFO_3496_From_20090703_to_20090706.zip: 9031680it [00:03, 2416109.25it/s]                              \n",
      "Downloading: https://storage.googleapis.com/gfd_v1_4/DFO_3530_From_20090818_to_20090827.zip: 16139904it [00:04, 3951976.61it/s]                               \n",
      "Downloading: https://storage.googleapis.com/gfd_v1_4/DFO_3553_From_20091004_to_20091012.zip: 23765376it [00:04, 5819695.31it/s]                               \n",
      "Downloading: https://storage.googleapis.com/gfd_v1_4/DFO_3636_From_20100418_to_20100421.zip: 2768896it [00:03, 843290.54it/s]                              \n",
      "Downloading: https://storage.googleapis.com/gfd_v1_4/DFO_3650_From_20100515_to_20100626.zip: 5402624it [00:02, 2160960.16it/s]                             \n",
      "Downloading: https://storage.googleapis.com/gfd_v1_4/DFO_3713_From_20100905_to_20100917.zip: 4787712it [00:02, 2013055.42it/s]                             \n",
      "Downloading: https://storage.googleapis.com/gfd_v1_4/DFO_3716_From_20100909_to_20100930.zip: 34751232it [00:04, 7534780.08it/s]                               \n",
      "Downloading: https://storage.googleapis.com/gfd_v1_4/DFO_3732_From_20101001_to_20101012.zip: 30071680it [00:04, 7045926.29it/s]                               \n",
      "Downloading: https://storage.googleapis.com/gfd_v1_4/DFO_3856_From_20110815_to_20110908.zip: 5337984it [00:02, 2180658.22it/s]                             \n",
      "Downloading: https://storage.googleapis.com/gfd_v1_4/DFO_4176_From_20140815_to_20140908.zip: 9650432it [00:03, 2610812.95it/s]                              \n",
      "Downloading: https://storage.googleapis.com/gfd_v1_4/DFO_4178_From_20140820_to_20140908.zip: 29899648it [00:04, 6618298.20it/s]                               \n",
      "Downloading: https://storage.googleapis.com/gfd_v1_4/DFO_4188_From_20140924_to_20141011.zip: 10931584it [00:02, 4014386.75it/s]                              \n",
      "Downloading: https://storage.googleapis.com/gfd_v1_4/DFO_4259_From_20150602_to_20150629.zip: 9638016it [00:02, 3683698.66it/s]                              \n",
      "Downloading: https://storage.googleapis.com/gfd_v1_4/DFO_4282_From_20150715_to_20150819.zip: 73621376it [00:05, 14643052.99it/s]                              \n",
      "Downloading: https://storage.googleapis.com/gfd_v1_4/DFO_4288_From_20150813_to_20150911.zip: 10036224it [00:02, 3727985.61it/s]                              \n",
      "Downloading: https://storage.googleapis.com/gfd_v1_4/DFO_4355_From_20160420_to_20160501.zip: 17167360it [00:04, 3900408.15it/s]                               \n",
      "Downloading: https://storage.googleapis.com/gfd_v1_4/DFO_4382_From_20160725_to_20160826.zip: 41706752it [00:05, 7605091.63it/s]                               \n",
      "Downloading: https://storage.googleapis.com/gfd_v1_4/DFO_4459_From_20170330_to_20170418.zip: 5575936it [00:03, 1691378.36it/s]                             \n",
      "Downloading: https://storage.googleapis.com/gfd_v1_4/DFO_4483_From_20170602_to_20170703.zip: 18870016it [00:03, 5355834.15it/s]                               \n"
     ]
    },
    {
     "name": "stdout",
     "output_type": "stream",
     "text": [
      "Downloading Bolivia (BOL).\n"
     ]
    },
    {
     "name": "stderr",
     "output_type": "stream",
     "text": [
      "Downloading: https://storage.googleapis.com/gfd_v1_4/DFO_1925_From_20020506_to_20020528.zip: 30465024it [00:05, 5382085.87it/s]                               \n",
      "Downloading: https://storage.googleapis.com/gfd_v1_4/DFO_2070_From_20021012_to_20021102.zip: 50782464it [00:04, 10731621.50it/s]                              \n",
      "Downloading: https://storage.googleapis.com/gfd_v1_4/DFO_2073_From_20021012_to_20021111.zip: 49836800it [00:04, 12434274.70it/s]                              \n",
      "Downloading: https://storage.googleapis.com/gfd_v1_4/DFO_2120_From_20030103_to_20030108.zip: 22763136it [00:03, 6548871.91it/s]                               \n",
      "Downloading: https://storage.googleapis.com/gfd_v1_4/DFO_2138_From_20030123_to_20030210.zip: 29637888it [00:03, 9053400.38it/s]                               \n",
      "Downloading: https://storage.googleapis.com/gfd_v1_4/DFO_2145_From_20030128_to_20030210.zip: 67656448it [00:05, 12110075.71it/s]                              \n",
      "Downloading: https://storage.googleapis.com/gfd_v1_4/DFO_2443_From_20040223_to_20040401.zip: 35763712it [00:03, 10116541.59it/s]                              \n",
      "Downloading: https://storage.googleapis.com/gfd_v1_4/DFO_2586_From_20041107_to_20041215.zip: 47988096it [00:04, 10749604.72it/s]                              \n",
      "Downloading: https://storage.googleapis.com/gfd_v1_4/DFO_2786_From_20060125_to_20060417.zip: 151504512it [00:07, 21108011.20it/s]                               \n",
      "Downloading: https://storage.googleapis.com/gfd_v1_4/DFO_3019_From_20070110_to_20070501.zip: 90576768it [00:05, 17636622.54it/s]                              \n",
      "Downloading: https://storage.googleapis.com/gfd_v1_4/DFO_3246_From_20071215_to_20071228.zip: 54316288it [00:05, 10744391.84it/s]                              \n",
      "Downloading: https://storage.googleapis.com/gfd_v1_4/DFO_3267_From_20080204_to_20080507.zip: 120307328it [00:06, 19582769.97it/s]                               \n",
      "Downloading: https://storage.googleapis.com/gfd_v1_4/DFO_3448_From_20090207_to_20090212.zip: 35380224it [00:04, 7188673.24it/s]                               \n",
      "Downloading: https://storage.googleapis.com/gfd_v1_4/DFO_3457_From_20090201_to_20090216.zip: 55639168it [00:04, 13133654.45it/s]                              \n",
      "Downloading: https://storage.googleapis.com/gfd_v1_4/DFO_3559_From_20091026_to_20091028.zip: 26734976it [00:03, 8478440.54it/s]                               \n",
      "Downloading: https://storage.googleapis.com/gfd_v1_4/DFO_3775_From_20110130_to_20110131.zip: 38603136it [00:04, 8167268.05it/s]                               \n",
      "Downloading: https://storage.googleapis.com/gfd_v1_4/DFO_3782_From_20110214_to_20110226.zip: 23666688it [00:03, 7398988.18it/s]                               \n",
      "Downloading: https://storage.googleapis.com/gfd_v1_4/DFO_3919_From_20120405_to_20120426.zip: 26791040it [00:03, 8485737.58it/s]                               \n",
      "Downloading: https://storage.googleapis.com/gfd_v1_4/DFO_3925_From_20120501_to_20120507.zip: 60683008it [00:04, 12530965.59it/s]                              \n",
      "Downloading: https://storage.googleapis.com/gfd_v1_4/DFO_4007_From_20121120_to_20121204.zip: 51302912it [00:04, 12375110.71it/s]                              \n",
      "Downloading: https://storage.googleapis.com/gfd_v1_4/DFO_4075_From_20130704_to_20130715.zip: 25573888it [00:03, 7458700.49it/s]                               \n",
      "Downloading: https://storage.googleapis.com/gfd_v1_4/DFO_4117_From_20140110_to_20140501.zip: 91545728it [00:06, 14091503.47it/s]                              \n",
      "Downloading: https://storage.googleapis.com/gfd_v1_4/DFO_4150_From_20140603_to_20140714.zip: 54543872it [00:04, 12146883.00it/s]                              \n",
      "Downloading: https://storage.googleapis.com/gfd_v1_4/DFO_4159_From_20140522_to_20140729.zip: 155167232it [00:07, 19797256.74it/s]                               \n",
      "Downloading: https://storage.googleapis.com/gfd_v1_4/DFO_4220_From_20150105_to_20150209.zip: 34403584it [00:03, 9184344.84it/s]                               \n",
      "Downloading: https://storage.googleapis.com/gfd_v1_4/DFO_4225_From_20150220_to_20150224.zip: 45023232it [00:05, 8092904.57it/s]                               \n",
      "Downloading: https://storage.googleapis.com/gfd_v1_4/DFO_4301_From_20151014_to_20151028.zip: 45721216it [00:03, 12010691.33it/s]                              \n",
      "Downloading: https://storage.googleapis.com/gfd_v1_4/DFO_4315_From_20151201_to_20160129.zip: 60896384it [00:04, 12672618.03it/s]                              \n",
      "Downloading: https://storage.googleapis.com/gfd_v1_4/DFO_4325_From_20160105_to_20160129.zip: 26795776it [00:03, 8038477.71it/s]                               \n",
      "Downloading: https://storage.googleapis.com/gfd_v1_4/DFO_4335_From_20160228_to_20160310.zip: 24689152it [00:04, 6014025.14it/s]                               \n",
      "Downloading: https://storage.googleapis.com/gfd_v1_4/DFO_4435_From_20170105_to_20170121.zip: 51821952it [00:04, 11559410.69it/s]                              \n",
      "Downloading: https://storage.googleapis.com/gfd_v1_4/DFO_4464_From_20170405_to_20170421.zip: 36993024it [00:03, 10407207.76it/s]                              \n",
      "Downloading: https://storage.googleapis.com/gfd_v1_4/DFO_4562_From_20180113_to_20180122.zip: 22353664it [00:03, 6465577.42it/s]                               \n",
      "Downloading: https://storage.googleapis.com/gfd_v1_4/DFO_4569_From_20180201_to_20180221.zip: 45127552it [00:03, 11849208.24it/s]                              \n",
      "Downloading: https://storage.googleapis.com/gfd_v1_4/DFO_4577_From_20180210_to_20180221.zip: 24895232it [00:03, 7251687.42it/s]                               \n",
      "Downloading: https://storage.googleapis.com/gfd_v1_4/DFO_4703_From_20181029_to_20181107.zip: 27269632it [00:03, 7741522.14it/s]                               \n"
     ]
    },
    {
     "name": "stdout",
     "output_type": "stream",
     "text": [
      "Downloading Bosnia and Herzegovina (BIH).\n"
     ]
    },
    {
     "name": "stderr",
     "output_type": "stream",
     "text": [
      "Downloading: https://storage.googleapis.com/gfd_v1_4/DFO_1595_From_20000405_to_20000425.zip: 12872192it [00:02, 4338109.23it/s]                               \n",
      "Downloading: https://storage.googleapis.com/gfd_v1_4/DFO_2060_From_20020921_to_20021008.zip: 8101248it [00:02, 3027163.85it/s]                              \n",
      "Downloading: https://storage.googleapis.com/gfd_v1_4/DFO_2099_From_20021122_to_20021203.zip: 11553152it [00:02, 4120590.17it/s]                               \n",
      "Downloading: https://storage.googleapis.com/gfd_v1_4/DFO_2172_From_20030127_to_20030207.zip: 8097024it [00:02, 3092120.43it/s]                              \n",
      "Downloading: https://storage.googleapis.com/gfd_v1_4/DFO_2174_From_20030117_to_20030303.zip: 10411520it [00:02, 3827968.67it/s]                              \n",
      "Downloading: https://storage.googleapis.com/gfd_v1_4/DFO_2460_From_20040323_to_20040403.zip: 10863232it [00:02, 3982933.99it/s]                               \n",
      "Downloading: https://storage.googleapis.com/gfd_v1_4/DFO_2469_From_20040412_to_20040502.zip: 16473856it [00:03, 5253949.46it/s]                               \n",
      "Downloading: https://storage.googleapis.com/gfd_v1_4/DFO_2626_From_20050217_to_20050324.zip: 8904448it [00:02, 3339493.64it/s]                              \n",
      "Downloading: https://storage.googleapis.com/gfd_v1_4/DFO_2640_From_20050317_to_20050408.zip: 34163456it [00:03, 9268992.34it/s]                               \n",
      "Downloading: https://storage.googleapis.com/gfd_v1_4/DFO_2648_From_20050418_to_20050604.zip: 11809280it [00:02, 3961250.21it/s]                               \n",
      "Downloading: https://storage.googleapis.com/gfd_v1_4/DFO_2784_From_20060102_to_20060120.zip: 8704128it [00:02, 3323605.18it/s]                              \n",
      "Downloading: https://storage.googleapis.com/gfd_v1_4/DFO_2817_From_20060309_to_20060325.zip: 8044160it [00:03, 2167469.41it/s]                              \n",
      "Downloading: https://storage.googleapis.com/gfd_v1_4/DFO_2832_From_20060404_to_20060511.zip: 18903168it [00:03, 5569502.90it/s]                               \n",
      "Downloading: https://storage.googleapis.com/gfd_v1_4/DFO_3085_From_20070522_to_20070606.zip: 12132352it [00:02, 4067447.05it/s]                               \n",
      "Downloading: https://storage.googleapis.com/gfd_v1_4/DFO_3193_From_20070918_to_20070920.zip: 9723136it [00:02, 3597736.70it/s]                              \n",
      "Downloading: https://storage.googleapis.com/gfd_v1_4/DFO_3536_From_20090907_to_20090910.zip: 16941440it [00:03, 5296126.71it/s]                               \n",
      "Downloading: https://storage.googleapis.com/gfd_v1_4/DFO_3591_From_20100104_to_20100113.zip: 9654144it [00:02, 3600251.58it/s]                              \n",
      "Downloading: https://storage.googleapis.com/gfd_v1_4/DFO_3607_From_20100213_to_20100220.zip: 19352832it [00:03, 6280369.61it/s]                               \n",
      "Downloading: https://storage.googleapis.com/gfd_v1_4/DFO_3665_From_20100622_to_20100626.zip: 9102208it [00:02, 3428248.77it/s]                              \n",
      "Downloading: https://storage.googleapis.com/gfd_v1_4/DFO_3756_From_20101203_to_20101217.zip: 8519680it [00:03, 2339356.88it/s]                              \n",
      "Downloading: https://storage.googleapis.com/gfd_v1_4/DFO_4211_From_20141204_to_20141214.zip: 23506816it [00:03, 6034317.17it/s]                               \n",
      "Downloading: https://storage.googleapis.com/gfd_v1_4/DFO_4221_From_20150201_to_20150209.zip: 23606528it [00:03, 6138549.44it/s]                               \n",
      "Downloading: https://storage.googleapis.com/gfd_v1_4/DFO_4334_From_20160306_to_20160310.zip: 8499328it [00:02, 3256042.54it/s]                              \n",
      "Downloading: https://storage.googleapis.com/gfd_v1_4/DFO_4580_From_20180307_to_20180314.zip: 7630848it [00:02, 3010318.09it/s]                              \n",
      "Downloading: https://storage.googleapis.com/gfd_v1_4/DFO_4581_From_20180310_to_20180314.zip: 9143168it [00:02, 3435002.45it/s]                              \n",
      "Downloading: https://storage.googleapis.com/gfd_v1_4/DFO_4583_From_20180226_to_20180302.zip: 7512704it [00:02, 2939245.59it/s]                              \n",
      "Downloading: https://storage.googleapis.com/gfd_v1_4/DFO_4597_From_20180325_to_20180408.zip: 8590848it [00:02, 3200037.88it/s]                              \n"
     ]
    },
    {
     "name": "stdout",
     "output_type": "stream",
     "text": [
      "Downloading Botswana (BWA).\n"
     ]
    },
    {
     "name": "stderr",
     "output_type": "stream",
     "text": [
      "Downloading: https://storage.googleapis.com/gfd_v1_4/DFO_2161_From_20030115_to_20030701.zip: 85033600it [00:04, 17322218.41it/s]                              \n",
      "Downloading: https://storage.googleapis.com/gfd_v1_4/DFO_2181_From_20030311_to_20030315.zip: 5213696it [00:02, 2111139.42it/s]                             \n",
      "Downloading: https://storage.googleapis.com/gfd_v1_4/DFO_2430_From_20040201_to_20040602.zip: 97285376it [00:05, 17857414.61it/s]                              \n",
      "Downloading: https://storage.googleapis.com/gfd_v1_4/DFO_3272_From_20080209_to_20080501.zip: 77951872it [00:05, 13130055.48it/s]                              \n",
      "Downloading: https://storage.googleapis.com/gfd_v1_4/DFO_3467_From_20090327_to_20090327.zip: 30733440it [00:03, 8961204.22it/s]                               \n",
      "Downloading: https://storage.googleapis.com/gfd_v1_4/DFO_3493_From_20090621_to_20090628.zip: 14777600it [00:02, 5015403.18it/s]                               \n",
      "Downloading: https://storage.googleapis.com/gfd_v1_4/DFO_3616_From_20100301_to_20100317.zip: 19769472it [00:04, 4838128.82it/s]                               \n",
      "Downloading: https://storage.googleapis.com/gfd_v1_4/DFO_3639_From_20100416_to_20100421.zip: 6271744it [00:02, 2508078.34it/s]                             \n",
      "Downloading: https://storage.googleapis.com/gfd_v1_4/DFO_4026_From_20130115_to_20130201.zip: 16159616it [00:03, 5307880.42it/s]                               \n",
      "Downloading: https://storage.googleapis.com/gfd_v1_4/DFO_4037_From_20130301_to_20130317.zip: 23007488it [00:03, 5977275.11it/s]                               \n",
      "Downloading: https://storage.googleapis.com/gfd_v1_4/DFO_4455_From_20170309_to_20170322.zip: 25326848it [00:03, 7201343.88it/s]                               \n",
      "Downloading: https://storage.googleapis.com/gfd_v1_4/DFO_4586_From_20180301_to_20180314.zip: 45594240it [00:04, 10236499.50it/s]                              \n"
     ]
    },
    {
     "name": "stdout",
     "output_type": "stream",
     "text": [
      "Downloading Brazil (BRA).\n"
     ]
    },
    {
     "name": "stderr",
     "output_type": "stream",
     "text": [
      "Downloading: https://storage.googleapis.com/gfd_v1_4/DFO_1885_From_20020115_to_20020402.zip: 28225920it [00:03, 7673098.38it/s]                               \n",
      "Downloading: https://storage.googleapis.com/gfd_v1_4/DFO_1925_From_20020506_to_20020528.zip: 30465024it [00:03, 9246855.10it/s]                               \n",
      "Downloading: https://storage.googleapis.com/gfd_v1_4/DFO_1939_From_20020423_to_20020509.zip: 11231104it [00:02, 4004611.06it/s]                               \n",
      "Downloading: https://storage.googleapis.com/gfd_v1_4/DFO_1996_From_20020720_to_20020731.zip: 34671744it [00:03, 9225396.37it/s]                               \n",
      "Downloading: https://storage.googleapis.com/gfd_v1_4/DFO_2070_From_20021012_to_20021102.zip: 50782464it [00:05, 10068805.48it/s]                              \n",
      "Downloading: https://storage.googleapis.com/gfd_v1_4/DFO_2073_From_20021012_to_20021111.zip: 49836800it [00:03, 13014678.44it/s]                              \n",
      "Downloading: https://storage.googleapis.com/gfd_v1_4/DFO_2120_From_20030103_to_20030108.zip: 22763136it [00:03, 5951879.67it/s]                               \n",
      "Downloading: https://storage.googleapis.com/gfd_v1_4/DFO_2138_From_20030123_to_20030210.zip: 29637888it [00:04, 6685176.68it/s]                               \n",
      "Downloading: https://storage.googleapis.com/gfd_v1_4/DFO_2145_From_20030128_to_20030210.zip: 67656448it [00:04, 14618279.62it/s]                              \n",
      "Downloading: https://storage.googleapis.com/gfd_v1_4/DFO_2173_From_20030111_to_20030422.zip: 44723840it [00:05, 7882038.08it/s]                               \n",
      "Downloading: https://storage.googleapis.com/gfd_v1_4/DFO_2216_From_20030428_to_20030510.zip: 19767808it [00:03, 6426016.33it/s]                               \n",
      "Downloading: https://storage.googleapis.com/gfd_v1_4/DFO_2372_From_20031027_to_20031031.zip: 7980672it [00:02, 3095695.42it/s]                              \n",
      "Downloading: https://storage.googleapis.com/gfd_v1_4/DFO_2440_From_20040211_to_20040505.zip: 43748736it [00:04, 8795721.54it/s]                               \n",
      "Downloading: https://storage.googleapis.com/gfd_v1_4/DFO_2443_From_20040223_to_20040401.zip: 35763712it [00:03, 10078647.04it/s]                              \n",
      "Downloading: https://storage.googleapis.com/gfd_v1_4/DFO_2586_From_20041107_to_20041215.zip: 47988096it [00:04, 10848913.71it/s]                              \n",
      "Downloading: https://storage.googleapis.com/gfd_v1_4/DFO_2782_From_20060108_to_20060214.zip: 10067584it [00:02, 3719628.33it/s]                              \n",
      "Downloading: https://storage.googleapis.com/gfd_v1_4/DFO_2786_From_20060125_to_20060417.zip: 151504512it [00:07, 19535361.91it/s]                               \n",
      "Downloading: https://storage.googleapis.com/gfd_v1_4/DFO_2823_From_20060322_to_20060602.zip: 72523904it [00:04, 16187819.14it/s]                              \n",
      "Downloading: https://storage.googleapis.com/gfd_v1_4/DFO_3007_From_20061226_to_20070202.zip: 49601024it [00:03, 12849798.62it/s]                              \n",
      "Downloading: https://storage.googleapis.com/gfd_v1_4/DFO_3019_From_20070110_to_20070501.zip: 90576768it [00:05, 17409025.10it/s]                              \n",
      "Downloading: https://storage.googleapis.com/gfd_v1_4/DFO_3071_From_20070504_to_20070525.zip: 10022912it [00:02, 3709722.56it/s]                              \n",
      "Downloading: https://storage.googleapis.com/gfd_v1_4/DFO_3198_From_20070924_to_20071002.zip: 8973568it [00:03, 2428078.91it/s]                              \n",
      "Downloading: https://storage.googleapis.com/gfd_v1_4/DFO_3246_From_20071215_to_20071228.zip: 54316288it [00:05, 10796582.08it/s]                              \n",
      "Downloading: https://storage.googleapis.com/gfd_v1_4/DFO_3256_From_20080112_to_20080126.zip: 12441984it [00:02, 4376972.29it/s]                               \n",
      "Downloading: https://storage.googleapis.com/gfd_v1_4/DFO_3263_From_20080130_to_20080501.zip: 75597824it [00:04, 16276635.62it/s]                              \n",
      "Downloading: https://storage.googleapis.com/gfd_v1_4/DFO_3267_From_20080204_to_20080507.zip: 120307328it [00:06, 17835053.40it/s]                               \n",
      "Downloading: https://storage.googleapis.com/gfd_v1_4/DFO_3291_From_20080330_to_20080422.zip: 42987264it [00:03, 11122372.38it/s]                              \n",
      "Downloading: https://storage.googleapis.com/gfd_v1_4/DFO_3436_From_20090108_to_20090116.zip: 45108352it [00:03, 11577520.69it/s]                              \n",
      "Downloading: https://storage.googleapis.com/gfd_v1_4/DFO_3448_From_20090207_to_20090212.zip: 35380224it [00:04, 7944268.01it/s]                               \n",
      "Downloading: https://storage.googleapis.com/gfd_v1_4/DFO_3457_From_20090201_to_20090216.zip: 55639168it [00:04, 12582739.22it/s]                              \n",
      "Downloading: https://storage.googleapis.com/gfd_v1_4/DFO_3559_From_20091026_to_20091028.zip: 26734976it [00:05, 5284391.42it/s]                               \n",
      "Downloading: https://storage.googleapis.com/gfd_v1_4/DFO_3572_From_20091114_to_20091122.zip: 20856192it [00:03, 5468751.57it/s]                               \n",
      "Downloading: https://storage.googleapis.com/gfd_v1_4/DFO_3577_From_20091121_to_20091208.zip: 6640000it [00:02, 2496973.71it/s]                              \n",
      "Downloading: https://storage.googleapis.com/gfd_v1_4/DFO_3667_From_20100622_to_20100630.zip: 12488832it [00:02, 4434575.73it/s]                               \n",
      "Downloading: https://storage.googleapis.com/gfd_v1_4/DFO_3750_From_20101115_to_20101220.zip: 97321600it [00:05, 17751738.31it/s]                              \n",
      "Downloading: https://storage.googleapis.com/gfd_v1_4/DFO_3775_From_20110130_to_20110131.zip: 38603136it [00:03, 9825429.84it/s]                               \n",
      "Downloading: https://storage.googleapis.com/gfd_v1_4/DFO_3782_From_20110214_to_20110226.zip: 23666688it [00:03, 7528480.13it/s]                               \n",
      "Downloading: https://storage.googleapis.com/gfd_v1_4/DFO_3810_From_20110508_to_20110511.zip: 14963584it [00:03, 4979894.95it/s]                               \n",
      "Downloading: https://storage.googleapis.com/gfd_v1_4/DFO_3846_From_20110723_to_20110729.zip: 11360896it [00:03, 2998577.11it/s]                               \n",
      "Downloading: https://storage.googleapis.com/gfd_v1_4/DFO_3890_From_20120101_to_20120109.zip: 21489408it [00:04, 4835490.62it/s]                               \n",
      "Downloading: https://storage.googleapis.com/gfd_v1_4/DFO_3910_From_20120301_to_20120326.zip: 49886720it [00:03, 12748952.66it/s]                              \n",
      "Downloading: https://storage.googleapis.com/gfd_v1_4/DFO_3919_From_20120405_to_20120426.zip: 26791040it [00:03, 7817875.63it/s]                               \n",
      "Downloading: https://storage.googleapis.com/gfd_v1_4/DFO_3925_From_20120501_to_20120507.zip: 60683008it [00:04, 13960074.57it/s]                              \n",
      "Downloading: https://storage.googleapis.com/gfd_v1_4/DFO_4007_From_20121120_to_20121204.zip: 51302912it [00:04, 10383756.92it/s]                              \n",
      "Downloading: https://storage.googleapis.com/gfd_v1_4/DFO_4017_From_20130104_to_20130110.zip: 34797056it [00:04, 7621633.74it/s]                               \n",
      "Downloading: https://storage.googleapis.com/gfd_v1_4/DFO_4075_From_20130704_to_20130715.zip: 25573888it [00:03, 7454511.16it/s]                               \n",
      "Downloading: https://storage.googleapis.com/gfd_v1_4/DFO_4117_From_20140110_to_20140501.zip: 91545728it [00:06, 14726979.38it/s]                              \n",
      "Downloading: https://storage.googleapis.com/gfd_v1_4/DFO_4150_From_20140603_to_20140714.zip: 54543872it [00:04, 13071390.46it/s]                              \n",
      "Downloading: https://storage.googleapis.com/gfd_v1_4/DFO_4159_From_20140522_to_20140729.zip: 155167232it [00:07, 21195866.89it/s]                               \n",
      "Downloading: https://storage.googleapis.com/gfd_v1_4/DFO_4163_From_20140703_to_20140729.zip: 13037440it [00:03, 3774298.95it/s]                              \n",
      "Downloading: https://storage.googleapis.com/gfd_v1_4/DFO_4220_From_20150105_to_20150209.zip: 34403584it [00:04, 7525706.34it/s]                               \n",
      "Downloading: https://storage.googleapis.com/gfd_v1_4/DFO_4225_From_20150220_to_20150224.zip: 45023232it [00:05, 8183007.52it/s]                               \n",
      "Downloading: https://storage.googleapis.com/gfd_v1_4/DFO_4276_From_20150710_to_20150721.zip: 29734272it [00:03, 8967818.71it/s]                               \n",
      "Downloading: https://storage.googleapis.com/gfd_v1_4/DFO_4301_From_20151014_to_20151028.zip: 45721216it [00:03, 11947518.72it/s]                              \n",
      "Downloading: https://storage.googleapis.com/gfd_v1_4/DFO_4315_From_20151201_to_20160129.zip: 60896384it [00:05, 11263644.83it/s]                              \n",
      "Downloading: https://storage.googleapis.com/gfd_v1_4/DFO_4322_From_20160115_to_20160129.zip: 4907520it [00:02, 1952635.48it/s]                             \n",
      "Downloading: https://storage.googleapis.com/gfd_v1_4/DFO_4325_From_20160105_to_20160129.zip: 26795776it [00:03, 7479141.68it/s]                               \n",
      "Downloading: https://storage.googleapis.com/gfd_v1_4/DFO_4326_From_20160119_to_20160129.zip: 40345728it [00:03, 10651665.17it/s]                              \n",
      "Downloading: https://storage.googleapis.com/gfd_v1_4/DFO_4335_From_20160228_to_20160310.zip: 24689152it [00:03, 7616665.03it/s]                               \n",
      "Downloading: https://storage.googleapis.com/gfd_v1_4/DFO_4346_From_20160401_to_20160413.zip: 23655296it [00:03, 6945261.79it/s]                               \n",
      "Downloading: https://storage.googleapis.com/gfd_v1_4/DFO_4350_From_20160412_to_20160511.zip: 14797056it [00:02, 5042483.94it/s]                               \n",
      "Downloading: https://storage.googleapis.com/gfd_v1_4/DFO_4412_From_20161010_to_20161110.zip: 18678144it [00:03, 5878016.80it/s]                               \n",
      "Downloading: https://storage.googleapis.com/gfd_v1_4/DFO_4427_From_20161226_to_20170105.zip: 23115776it [00:04, 5638286.41it/s]                               \n",
      "Downloading: https://storage.googleapis.com/gfd_v1_4/DFO_4435_From_20170105_to_20170121.zip: 51821952it [00:04, 10590724.60it/s]                              \n",
      "Downloading: https://storage.googleapis.com/gfd_v1_4/DFO_4464_From_20170405_to_20170421.zip: 36993024it [00:03, 9940690.19it/s]                               \n",
      "Downloading: https://storage.googleapis.com/gfd_v1_4/DFO_4562_From_20180113_to_20180122.zip: 22353664it [00:03, 7380570.19it/s]                               \n",
      "Downloading: https://storage.googleapis.com/gfd_v1_4/DFO_4569_From_20180201_to_20180221.zip: 45127552it [00:03, 11961482.08it/s]                              \n",
      "Downloading: https://storage.googleapis.com/gfd_v1_4/DFO_4577_From_20180210_to_20180221.zip: 24895232it [00:04, 5397956.40it/s]                               \n",
      "Downloading: https://storage.googleapis.com/gfd_v1_4/DFO_4662_From_20180726_to_20180904.zip: 27594880it [00:04, 6053947.71it/s]                               \n",
      "Downloading: https://storage.googleapis.com/gfd_v1_4/DFO_4703_From_20181029_to_20181107.zip: 27269632it [00:04, 6091894.40it/s]                               \n"
     ]
    },
    {
     "name": "stdout",
     "output_type": "stream",
     "text": [
      "Downloading Bulgaria (BGR).\n"
     ]
    },
    {
     "name": "stderr",
     "output_type": "stream",
     "text": [
      "Downloading: https://storage.googleapis.com/gfd_v1_4/DFO_1595_From_20000405_to_20000425.zip: 12872192it [00:02, 4530056.72it/s]                               \n",
      "Downloading: https://storage.googleapis.com/gfd_v1_4/DFO_1995_From_20020719_to_20020723.zip: 6340608it [00:02, 2527187.20it/s]                             \n",
      "Downloading: https://storage.googleapis.com/gfd_v1_4/DFO_2060_From_20020921_to_20021008.zip: 8101248it [00:02, 3153859.62it/s]                              \n",
      "Downloading: https://storage.googleapis.com/gfd_v1_4/DFO_2099_From_20021122_to_20021203.zip: 11553152it [00:02, 4175140.46it/s]                               \n",
      "Downloading: https://storage.googleapis.com/gfd_v1_4/DFO_2172_From_20030127_to_20030207.zip: 8097024it [00:02, 3141158.84it/s]                              \n",
      "Downloading: https://storage.googleapis.com/gfd_v1_4/DFO_2174_From_20030117_to_20030303.zip: 10411520it [00:02, 3851558.32it/s]                               \n",
      "Downloading: https://storage.googleapis.com/gfd_v1_4/DFO_2469_From_20040412_to_20040502.zip: 16473856it [00:03, 5379249.69it/s]                               \n",
      "Downloading: https://storage.googleapis.com/gfd_v1_4/DFO_2626_From_20050217_to_20050324.zip: 8904448it [00:02, 3406527.52it/s]                              \n",
      "Downloading: https://storage.googleapis.com/gfd_v1_4/DFO_2640_From_20050317_to_20050408.zip: 34163456it [00:03, 9879450.81it/s]                               \n",
      "Downloading: https://storage.googleapis.com/gfd_v1_4/DFO_2648_From_20050418_to_20050604.zip: 11809280it [00:02, 4134914.12it/s]                               \n",
      "Downloading: https://storage.googleapis.com/gfd_v1_4/DFO_2692_From_20050712_to_20050728.zip: 7437440it [00:02, 2948350.26it/s]                              \n",
      "Downloading: https://storage.googleapis.com/gfd_v1_4/DFO_2733_From_20050921_to_20051009.zip: 6466560it [00:02, 2487875.43it/s]                             \n",
      "Downloading: https://storage.googleapis.com/gfd_v1_4/DFO_2784_From_20060102_to_20060120.zip: 8704128it [00:03, 2404919.89it/s]                              \n",
      "Downloading: https://storage.googleapis.com/gfd_v1_4/DFO_2817_From_20060309_to_20060325.zip: 8044160it [00:03, 2235195.80it/s]                              \n",
      "Downloading: https://storage.googleapis.com/gfd_v1_4/DFO_2832_From_20060404_to_20060511.zip: 18903168it [00:03, 6180862.12it/s]                               \n",
      "Downloading: https://storage.googleapis.com/gfd_v1_4/DFO_2839_From_20060407_to_20060524.zip: 17551616it [00:03, 5466387.88it/s]                               \n",
      "Downloading: https://storage.googleapis.com/gfd_v1_4/DFO_3085_From_20070522_to_20070606.zip: 12132352it [00:02, 4345767.07it/s]                               \n",
      "Downloading: https://storage.googleapis.com/gfd_v1_4/DFO_3193_From_20070918_to_20070920.zip: 9723136it [00:02, 3627436.47it/s]                              \n",
      "Downloading: https://storage.googleapis.com/gfd_v1_4/DFO_3536_From_20090907_to_20090910.zip: 16941440it [00:03, 5015776.63it/s]                               \n",
      "Downloading: https://storage.googleapis.com/gfd_v1_4/DFO_3591_From_20100104_to_20100113.zip: 9654144it [00:02, 3610577.28it/s]                              \n",
      "Downloading: https://storage.googleapis.com/gfd_v1_4/DFO_3607_From_20100213_to_20100220.zip: 19352832it [00:04, 4743767.61it/s]                               \n",
      "Downloading: https://storage.googleapis.com/gfd_v1_4/DFO_3635_From_20100420_to_20100422.zip: 3952512it [00:02, 1690174.76it/s]                             \n",
      "Downloading: https://storage.googleapis.com/gfd_v1_4/DFO_3665_From_20100622_to_20100626.zip: 9102208it [00:03, 2482539.92it/s]                              \n",
      "Downloading: https://storage.googleapis.com/gfd_v1_4/DFO_3756_From_20101203_to_20101217.zip: 8519680it [00:02, 3254474.90it/s]                              \n",
      "Downloading: https://storage.googleapis.com/gfd_v1_4/DFO_3896_From_20120201_to_20120206.zip: 11061760it [00:02, 4031065.97it/s]                               \n",
      "Downloading: https://storage.googleapis.com/gfd_v1_4/DFO_4211_From_20141204_to_20141214.zip: 23506816it [00:03, 7705649.44it/s]                               \n",
      "Downloading: https://storage.googleapis.com/gfd_v1_4/DFO_4221_From_20150201_to_20150209.zip: 23606528it [00:03, 6961094.25it/s]                               \n",
      "Downloading: https://storage.googleapis.com/gfd_v1_4/DFO_4334_From_20160306_to_20160310.zip: 8499328it [00:02, 3250245.02it/s]                              \n",
      "Downloading: https://storage.googleapis.com/gfd_v1_4/DFO_4580_From_20180307_to_20180314.zip: 7630848it [00:02, 3025251.82it/s]                              \n",
      "Downloading: https://storage.googleapis.com/gfd_v1_4/DFO_4581_From_20180310_to_20180314.zip: 9143168it [00:02, 3452978.94it/s]                              \n",
      "Downloading: https://storage.googleapis.com/gfd_v1_4/DFO_4583_From_20180226_to_20180302.zip: 7512704it [00:03, 2096980.62it/s]                              \n",
      "Downloading: https://storage.googleapis.com/gfd_v1_4/DFO_4597_From_20180325_to_20180408.zip: 8590848it [00:02, 3315517.35it/s]                              \n"
     ]
    },
    {
     "name": "stdout",
     "output_type": "stream",
     "text": [
      "Downloading Burkina Faso (BFA).\n"
     ]
    },
    {
     "name": "stderr",
     "output_type": "stream",
     "text": [
      "Downloading: https://storage.googleapis.com/gfd_v1_4/DFO_1793_From_20010818_to_20011009.zip: 23542784it [00:04, 5542256.28it/s]                               \n",
      "Downloading: https://storage.googleapis.com/gfd_v1_4/DFO_2311_From_20030805_to_20031012.zip: 45515136it [00:04, 9598411.69it/s]                               \n",
      "Downloading: https://storage.googleapis.com/gfd_v1_4/DFO_2320_From_20030810_to_20031019.zip: 82118272it [00:06, 13463920.68it/s]                              \n",
      "Downloading: https://storage.googleapis.com/gfd_v1_4/DFO_2947_From_20060803_to_20061011.zip: 119138432it [00:07, 16584448.55it/s]                               \n",
      "Downloading: https://storage.googleapis.com/gfd_v1_4/DFO_3166_From_20070726_to_20071010.zip: 90931328it [00:05, 17488294.72it/s]                              \n",
      "Downloading: https://storage.googleapis.com/gfd_v1_4/DFO_3534_From_20090810_to_20090902.zip: 156698752it [00:07, 20656283.36it/s]                               \n",
      "Downloading: https://storage.googleapis.com/gfd_v1_4/DFO_3663_From_20100622_to_20100626.zip: 7249920it [00:02, 2825432.64it/s]                              \n",
      "Downloading: https://storage.googleapis.com/gfd_v1_4/DFO_3747_From_20101105_to_20101111.zip: 3331712it [00:02, 1399218.31it/s]                             \n",
      "Downloading: https://storage.googleapis.com/gfd_v1_4/DFO_3994_From_20120915_to_20121015.zip: 24517248it [00:03, 6741728.93it/s]                               \n"
     ]
    },
    {
     "name": "stdout",
     "output_type": "stream",
     "text": [
      "Downloading Burundi (BDI).\n"
     ]
    },
    {
     "name": "stderr",
     "output_type": "stream",
     "text": [
      "Downloading: https://storage.googleapis.com/gfd_v1_4/DFO_1917_From_20020426_to_20020528.zip: 61135488it [00:04, 13497875.88it/s]                              \n",
      "Downloading: https://storage.googleapis.com/gfd_v1_4/DFO_2638_From_20050301_to_20050401.zip: 29967872it [00:03, 8928635.44it/s]                               \n",
      "Downloading: https://storage.googleapis.com/gfd_v1_4/DFO_2952_From_20060812_to_20060821.zip: 13505024it [00:02, 4600714.86it/s]                               \n",
      "Downloading: https://storage.googleapis.com/gfd_v1_4/DFO_3123_From_20070703_to_20071008.zip: 110623744it [00:05, 19145452.95it/s]                               \n",
      "Downloading: https://storage.googleapis.com/gfd_v1_4/DFO_3170_From_20070815_to_20071031.zip: 29934976it [00:04, 6958816.58it/s]                               \n",
      "Downloading: https://storage.googleapis.com/gfd_v1_4/DFO_3863_From_20110820_to_20110908.zip: 16497920it [00:03, 5351066.25it/s]                               \n",
      "Downloading: https://storage.googleapis.com/gfd_v1_4/DFO_3875_From_20111109_to_20111220.zip: 20213888it [00:03, 6080418.96it/s]                               \n",
      "Downloading: https://storage.googleapis.com/gfd_v1_4/DFO_3917_From_20120409_to_20120426.zip: 24084352it [00:03, 7429241.75it/s]                               \n",
      "Downloading: https://storage.googleapis.com/gfd_v1_4/DFO_3980_From_20120820_to_20120907.zip: 16999296it [00:03, 4877771.50it/s]                               \n",
      "Downloading: https://storage.googleapis.com/gfd_v1_4/DFO_3981_From_20120815_to_20120907.zip: 17677696it [00:03, 4978474.87it/s]                               \n",
      "Downloading: https://storage.googleapis.com/gfd_v1_4/DFO_3991_From_20120907_to_20121003.zip: 39420288it [00:03, 10955231.60it/s]                              \n",
      "Downloading: https://storage.googleapis.com/gfd_v1_4/DFO_4022_From_20130113_to_20130117.zip: 21888768it [00:04, 5316264.92it/s]                               \n",
      "Downloading: https://storage.googleapis.com/gfd_v1_4/DFO_4094_From_20131008_to_20131014.zip: 19903616it [00:04, 4214842.86it/s]                               \n",
      "Downloading: https://storage.googleapis.com/gfd_v1_4/DFO_4324_From_20160114_to_20160129.zip: 23129472it [00:03, 6619019.52it/s]                               \n",
      "Downloading: https://storage.googleapis.com/gfd_v1_4/DFO_4602_From_20180428_to_20180501.zip: 15977088it [00:03, 5198101.40it/s]                               \n",
      "Downloading: https://storage.googleapis.com/gfd_v1_4/DFO_4603_From_20180423_to_20180425.zip: 15008000it [00:04, 3619735.40it/s]                               \n"
     ]
    },
    {
     "name": "stdout",
     "output_type": "stream",
     "text": [
      "Downloading Cambodia (KHM).\n"
     ]
    },
    {
     "name": "stderr",
     "output_type": "stream",
     "text": [
      "Downloading: https://storage.googleapis.com/gfd_v1_4/DFO_1614_From_20000711_to_20000810.zip: 15939840it [00:03, 5289635.59it/s]                               \n",
      "Downloading: https://storage.googleapis.com/gfd_v1_4/DFO_1781_From_20010815_to_20011119.zip: 19201792it [00:03, 5560743.71it/s]                               \n",
      "Downloading: https://storage.googleapis.com/gfd_v1_4/DFO_1991_From_20020715_to_20021202.zip: 18511104it [00:03, 5218243.94it/s]                               \n",
      "Downloading: https://storage.googleapis.com/gfd_v1_4/DFO_2039_From_20020818_to_20021126.zip: 46376960it [00:03, 12273028.42it/s]                              \n",
      "Downloading: https://storage.googleapis.com/gfd_v1_4/DFO_2059_From_20020920_to_20020930.zip: 7643904it [00:02, 2953727.50it/s]                              \n",
      "Downloading: https://storage.googleapis.com/gfd_v1_4/DFO_2061_From_20020917_to_20021202.zip: 26788224it [00:04, 6475789.27it/s]                               \n",
      "Downloading: https://storage.googleapis.com/gfd_v1_4/DFO_2077_From_20021026_to_20021029.zip: 4276736it [00:02, 1713645.55it/s]                             \n",
      "Downloading: https://storage.googleapis.com/gfd_v1_4/DFO_2347_From_20030912_to_20031012.zip: 25644288it [00:03, 7356934.84it/s]                               \n",
      "Downloading: https://storage.googleapis.com/gfd_v1_4/DFO_2368_From_20031015_to_20031022.zip: 4472192it [00:02, 1851456.80it/s]                             \n",
      "Downloading: https://storage.googleapis.com/gfd_v1_4/DFO_2370_From_20031017_to_20031104.zip: 13585024it [00:02, 4666527.59it/s]                               \n",
      "Downloading: https://storage.googleapis.com/gfd_v1_4/DFO_2543_From_20040806_to_20041003.zip: 30823296it [00:04, 6900744.49it/s]                               \n",
      "Downloading: https://storage.googleapis.com/gfd_v1_4/DFO_2555_From_20040824_to_20041021.zip: 19302656it [00:03, 6206126.27it/s]                               \n",
      "Downloading: https://storage.googleapis.com/gfd_v1_4/DFO_2709_From_20050813_to_20050926.zip: 24035200it [00:04, 5983249.99it/s]                               \n",
      "Downloading: https://storage.googleapis.com/gfd_v1_4/DFO_2725_From_20050908_to_20051101.zip: 25326336it [00:05, 4741096.89it/s]                               \n",
      "Downloading: https://storage.googleapis.com/gfd_v1_4/DFO_2732_From_20050918_to_20050924.zip: 4579968it [00:02, 1891541.83it/s]                             \n",
      "Downloading: https://storage.googleapis.com/gfd_v1_4/DFO_2736_From_20050926_to_20051006.zip: 37553792it [00:05, 7425110.28it/s]                               \n",
      "Downloading: https://storage.googleapis.com/gfd_v1_4/DFO_2748_From_20051007_to_20051011.zip: 4399488it [00:02, 1784136.48it/s]                             \n",
      "Downloading: https://storage.googleapis.com/gfd_v1_4/DFO_2760_From_20051102_to_20051104.zip: 6563328it [00:02, 2546267.38it/s]                             \n",
      "Downloading: https://storage.googleapis.com/gfd_v1_4/DFO_2867_From_20060522_to_20060611.zip: 16186368it [00:04, 3958206.25it/s]                               \n",
      "Downloading: https://storage.googleapis.com/gfd_v1_4/DFO_2948_From_20060812_to_20060902.zip: 10332800it [00:02, 3768222.57it/s]                              \n",
      "Downloading: https://storage.googleapis.com/gfd_v1_4/DFO_2949_From_20060810_to_20061101.zip: 21155456it [00:03, 6123219.57it/s]                               \n",
      "Downloading: https://storage.googleapis.com/gfd_v1_4/DFO_2951_From_20060820_to_20061213.zip: 41867776it [00:03, 11423418.46it/s]                              \n",
      "Downloading: https://storage.googleapis.com/gfd_v1_4/DFO_3002_From_20061130_to_20061208.zip: 20277248it [00:04, 4428306.23it/s]                               \n",
      "Downloading: https://storage.googleapis.com/gfd_v1_4/DFO_3073_From_20070511_to_20070521.zip: 9767808it [00:02, 3629447.50it/s]                              \n",
      "Downloading: https://storage.googleapis.com/gfd_v1_4/DFO_3149_From_20070803_to_20070817.zip: 8457600it [00:02, 3213775.93it/s]                              \n",
      "Downloading: https://storage.googleapis.com/gfd_v1_4/DFO_3168_From_20070810_to_20070824.zip: 7033600it [00:02, 2722273.93it/s]                              \n",
      "Downloading: https://storage.googleapis.com/gfd_v1_4/DFO_3188_From_20070905_to_20071110.zip: 40772992it [00:03, 10748059.71it/s]                              \n",
      "Downloading: https://storage.googleapis.com/gfd_v1_4/DFO_3210_From_20071020_to_20071116.zip: 100%|██████████| 16019584/16019584 [00:03<00:00, 5231242.96it/s] \n",
      "Downloading: https://storage.googleapis.com/gfd_v1_4/DFO_3219_From_20071028_to_20071109.zip: 8780800it [00:02, 3294658.02it/s]                              \n",
      "Downloading: https://storage.googleapis.com/gfd_v1_4/DFO_3360_From_20080811_to_20080820.zip: 20290432it [00:03, 5911124.19it/s]                               \n",
      "Downloading: https://storage.googleapis.com/gfd_v1_4/DFO_3384_From_20080911_to_20081004.zip: 19540096it [00:03, 5465786.93it/s]                               \n",
      "Downloading: https://storage.googleapis.com/gfd_v1_4/DFO_3723_From_20100920_to_20100930.zip: 18779648it [00:03, 6114135.58it/s]                               \n",
      "Downloading: https://storage.googleapis.com/gfd_v1_4/DFO_3737_From_20101010_to_20101115.zip: 11135104it [00:02, 3995807.69it/s]                               \n",
      "Downloading: https://storage.googleapis.com/gfd_v1_4/DFO_3850_From_20110805_to_20120109.zip: 20843776it [00:03, 6528412.61it/s]                               \n",
      "Downloading: https://storage.googleapis.com/gfd_v1_4/DFO_3853_From_20110810_to_20111115.zip: 12448768it [00:02, 4406225.11it/s]                               \n",
      "Downloading: https://storage.googleapis.com/gfd_v1_4/DFO_3985_From_20120912_to_20120926.zip: 14480896it [00:04, 3497440.35it/s]                               \n",
      "Downloading: https://storage.googleapis.com/gfd_v1_4/DFO_4090_From_20130927_to_20131014.zip: 10065280it [00:02, 3711075.01it/s]                              \n",
      "Downloading: https://storage.googleapis.com/gfd_v1_4/DFO_4092_From_20130930_to_20131014.zip: 28427776it [00:03, 8030648.11it/s]                               \n",
      "Downloading: https://storage.googleapis.com/gfd_v1_4/DFO_4156_From_20140711_to_20140714.zip: 14888064it [00:03, 4806770.38it/s]                               \n",
      "Downloading: https://storage.googleapis.com/gfd_v1_4/DFO_4184_From_20140901_to_20140908.zip: 8228096it [00:03, 2235243.79it/s]                              \n",
      "Downloading: https://storage.googleapis.com/gfd_v1_4/DFO_4280_From_20150725_to_20150805.zip: 16068992it [00:03, 4901108.28it/s]                               \n",
      "Downloading: https://storage.googleapis.com/gfd_v1_4/DFO_4293_From_20150907_to_20150911.zip: 17891712it [00:04, 4311917.96it/s]                               \n",
      "Downloading: https://storage.googleapis.com/gfd_v1_4/DFO_4403_From_20161006_to_20161016.zip: 6390784it [00:02, 2498527.11it/s]                             \n",
      "Downloading: https://storage.googleapis.com/gfd_v1_4/DFO_4423_From_20161201_to_20161207.zip: 12868608it [00:02, 4446961.59it/s]                               \n",
      "Downloading: https://storage.googleapis.com/gfd_v1_4/DFO_4652_From_20180717_to_20180723.zip: 6709888it [00:02, 2655432.33it/s]                             \n",
      "Downloading: https://storage.googleapis.com/gfd_v1_4/DFO_4704_From_20181124_to_20181129.zip: 7693184it [00:02, 2981893.76it/s]                              \n"
     ]
    },
    {
     "name": "stdout",
     "output_type": "stream",
     "text": [
      "Downloading Cameroon (CMR).\n"
     ]
    },
    {
     "name": "stderr",
     "output_type": "stream",
     "text": [
      "Downloading: https://storage.googleapis.com/gfd_v1_4/DFO_1778_From_20010819_to_20011011.zip: 21939840it [00:03, 7101937.33it/s]                               \n",
      "Downloading: https://storage.googleapis.com/gfd_v1_4/DFO_2303_From_20030803_to_20031102.zip: 53370624it [00:04, 13106352.53it/s]                              \n",
      "Downloading: https://storage.googleapis.com/gfd_v1_4/DFO_2314_From_20030805_to_20031012.zip: 14945408it [00:04, 3709938.08it/s]                               \n",
      "Downloading: https://storage.googleapis.com/gfd_v1_4/DFO_2345_From_20030905_to_20031028.zip: 15668480it [00:03, 4505490.18it/s]                               \n",
      "Downloading: https://storage.googleapis.com/gfd_v1_4/DFO_2361_From_20030922_to_20031010.zip: 8756608it [00:02, 3278762.63it/s]                              \n",
      "Downloading: https://storage.googleapis.com/gfd_v1_4/DFO_2721_From_20050807_to_20050916.zip: 18062976it [00:03, 4888384.32it/s]                               \n",
      "Downloading: https://storage.googleapis.com/gfd_v1_4/DFO_2947_From_20060803_to_20061011.zip: 119138432it [00:05, 20240997.43it/s]                               \n",
      "Downloading: https://storage.googleapis.com/gfd_v1_4/DFO_3151_From_20070804_to_20071021.zip: 36338560it [00:03, 10346463.72it/s]                              \n",
      "Downloading: https://storage.googleapis.com/gfd_v1_4/DFO_3166_From_20070726_to_20071010.zip: 90931328it [00:05, 17486226.86it/s]                              \n",
      "Downloading: https://storage.googleapis.com/gfd_v1_4/DFO_3167_From_20070809_to_20070815.zip: 6960384it [00:03, 1964848.62it/s]                             \n",
      "Downloading: https://storage.googleapis.com/gfd_v1_4/DFO_3179_From_20070825_to_20071001.zip: 32189568it [00:03, 9219173.61it/s]                               \n",
      "Downloading: https://storage.googleapis.com/gfd_v1_4/DFO_3348_From_20080802_to_20080808.zip: 20294016it [00:04, 4962742.53it/s]                               \n",
      "Downloading: https://storage.googleapis.com/gfd_v1_4/DFO_3368_From_20080720_to_20080825.zip: 20153984it [00:04, 4127563.33it/s]                               \n",
      "Downloading: https://storage.googleapis.com/gfd_v1_4/DFO_3534_From_20090810_to_20090902.zip: 156698752it [00:08, 18472246.10it/s]                               \n",
      "Downloading: https://storage.googleapis.com/gfd_v1_4/DFO_3714_From_20100815_to_20100917.zip: 46160512it [00:03, 11899452.51it/s]                              \n",
      "Downloading: https://storage.googleapis.com/gfd_v1_4/DFO_3741_From_20101001_to_20101105.zip: 5889408it [00:02, 2285069.35it/s]                             \n",
      "Downloading: https://storage.googleapis.com/gfd_v1_4/DFO_3901_From_20120220_to_20120227.zip: 5298944it [00:03, 1513759.82it/s]                             \n",
      "Downloading: https://storage.googleapis.com/gfd_v1_4/DFO_3976_From_20120825_to_20120926.zip: 11017472it [00:03, 2883505.52it/s]                               \n",
      "Downloading: https://storage.googleapis.com/gfd_v1_4/DFO_3995_From_20120915_to_20121015.zip: 16037248it [00:04, 3892587.61it/s]                               \n",
      "Downloading: https://storage.googleapis.com/gfd_v1_4/DFO_4175_From_20140813_to_20140819.zip: 28426240it [00:03, 8597399.71it/s]                               \n",
      "Downloading: https://storage.googleapis.com/gfd_v1_4/DFO_4294_From_20150830_to_20150911.zip: 12548864it [00:02, 4362252.36it/s]                               \n",
      "Downloading: https://storage.googleapis.com/gfd_v1_4/DFO_4667_From_20180820_to_20181002.zip: 30144384it [00:04, 6879451.26it/s]                               \n"
     ]
    },
    {
     "name": "stdout",
     "output_type": "stream",
     "text": [
      "Downloading Canada (CAN).\n"
     ]
    },
    {
     "name": "stderr",
     "output_type": "stream",
     "text": [
      "Downloading: https://storage.googleapis.com/gfd_v1_4/DFO_1919_From_20020507_to_20020608.zip: 50996864it [00:04, 10968325.34it/s]                              \n",
      "Downloading: https://storage.googleapis.com/gfd_v1_4/DFO_1943_From_20020608_to_20020629.zip: 19954176it [00:03, 6080178.81it/s]                               \n",
      "Downloading: https://storage.googleapis.com/gfd_v1_4/DFO_1979_From_20020706_to_20020708.zip: 23210624it [00:05, 3999397.13it/s]                               \n",
      "Downloading: https://storage.googleapis.com/gfd_v1_4/DFO_2007_From_20020427_to_20020531.zip: 20228608it [00:03, 6352164.80it/s]                               \n",
      "Downloading: https://storage.googleapis.com/gfd_v1_4/DFO_2182_From_20030317_to_20030321.zip: 33076224it [00:03, 9370277.59it/s]                               \n",
      "Downloading: https://storage.googleapis.com/gfd_v1_4/DFO_2198_From_20030331_to_20030403.zip: 5145088it [00:02, 2058553.48it/s]                             \n",
      "Downloading: https://storage.googleapis.com/gfd_v1_4/DFO_2273_From_20030705_to_20030721.zip: 31806720it [00:05, 5636942.90it/s]                               \n",
      "Downloading: https://storage.googleapis.com/gfd_v1_4/DFO_2412_From_20040104_to_20040116.zip: 22776832it [00:03, 6503223.03it/s]                               \n",
      "Downloading: https://storage.googleapis.com/gfd_v1_4/DFO_2455_From_20040304_to_20040308.zip: 31576960it [00:04, 6704761.42it/s]                               \n",
      "Downloading: https://storage.googleapis.com/gfd_v1_4/DFO_2462_From_20040328_to_20040411.zip: 15570176it [00:03, 5169378.13it/s]                               \n",
      "Downloading: https://storage.googleapis.com/gfd_v1_4/DFO_2476_From_20040424_to_20040502.zip: 35632128it [00:03, 9918984.44it/s]                               \n",
      "Downloading: https://storage.googleapis.com/gfd_v1_4/DFO_2606_From_20050105_to_20050201.zip: 76187648it [00:05, 12910108.02it/s]                              \n",
      "Downloading: https://storage.googleapis.com/gfd_v1_4/DFO_2829_From_20060330_to_20060425.zip: 17713536it [00:04, 4314794.52it/s]                               \n",
      "Downloading: https://storage.googleapis.com/gfd_v1_4/DFO_2841_From_20060411_to_20060509.zip: 15981952it [00:03, 5309405.82it/s]                               \n",
      "Downloading: https://storage.googleapis.com/gfd_v1_4/DFO_2852_From_20060422_to_20060531.zip: 11100032it [00:02, 4001139.28it/s]                               \n",
      "Downloading: https://storage.googleapis.com/gfd_v1_4/DFO_3070_From_20070506_to_20070518.zip: 56228480it [00:04, 13614744.29it/s]                              \n",
      "Downloading: https://storage.googleapis.com/gfd_v1_4/DFO_3083_From_20070524_to_20070529.zip: 39565056it [00:04, 8083149.75it/s]                               \n",
      "Downloading: https://storage.googleapis.com/gfd_v1_4/DFO_3092_From_20070606_to_20070614.zip: 20447872it [00:03, 6120294.84it/s]                               \n",
      "Downloading: https://storage.googleapis.com/gfd_v1_4/DFO_3113_From_20070626_to_20070723.zip: 65743744it [00:05, 11731339.82it/s]                              \n",
      "Downloading: https://storage.googleapis.com/gfd_v1_4/DFO_3171_From_20070816_to_20070827.zip: 78223488it [00:04, 16449129.59it/s]                              \n",
      "Downloading: https://storage.googleapis.com/gfd_v1_4/DFO_3268_From_20080206_to_20080212.zip: 27904128it [00:04, 6468585.93it/s]                               \n",
      "Downloading: https://storage.googleapis.com/gfd_v1_4/DFO_3285_From_20080317_to_20080502.zip: 96243584it [00:05, 17697259.00it/s]                              \n",
      "Downloading: https://storage.googleapis.com/gfd_v1_4/DFO_3298_From_20080426_to_20080501.zip: 7664640it [00:02, 2823582.20it/s]                              \n",
      "Downloading: https://storage.googleapis.com/gfd_v1_4/DFO_3300_From_20080425_to_20080507.zip: 8315392it [00:02, 3150970.72it/s]                              \n",
      "Downloading: https://storage.googleapis.com/gfd_v1_4/DFO_3340_From_20080730_to_20080811.zip: 25136640it [00:03, 8158876.05it/s]                               \n",
      "Downloading: https://storage.googleapis.com/gfd_v1_4/DFO_3464_From_20090317_to_20090319.zip: 11702912it [00:02, 4148037.60it/s]                               \n",
      "Downloading: https://storage.googleapis.com/gfd_v1_4/DFO_3476_From_20090422_to_20090514.zip: 49762688it [00:03, 12467373.55it/s]                              \n",
      "Downloading: https://storage.googleapis.com/gfd_v1_4/DFO_3625_From_20100310_to_20100324.zip: 72644608it [00:04, 15065566.01it/s]                              \n",
      "Downloading: https://storage.googleapis.com/gfd_v1_4/DFO_3629_From_20100327_to_20100331.zip: 10768384it [00:02, 3967069.88it/s]                              \n",
      "Downloading: https://storage.googleapis.com/gfd_v1_4/DFO_3655_From_20100529_to_20100531.zip: 10364288it [00:02, 3787086.58it/s]                              \n",
      "Downloading: https://storage.googleapis.com/gfd_v1_4/DFO_3673_From_20100702_to_20100706.zip: 15379328it [00:04, 3780757.80it/s]                               \n",
      "Downloading: https://storage.googleapis.com/gfd_v1_4/DFO_3689_From_20100725_to_20100725.zip: 40650112it [00:04, 9037304.60it/s]                               \n",
      "Downloading: https://storage.googleapis.com/gfd_v1_4/DFO_3799_From_20100401_to_20110524.zip: 65425408it [00:04, 14504241.98it/s]                              \n",
      "Downloading: https://storage.googleapis.com/gfd_v1_4/DFO_3812_From_20110504_to_20110609.zip: 1749760it [00:02, 830908.72it/s]                              \n",
      "Downloading: https://storage.googleapis.com/gfd_v1_4/DFO_3815_From_20110604_to_20110729.zip: 32797184it [00:04, 7023584.02it/s]                               \n",
      "Downloading: https://storage.googleapis.com/gfd_v1_4/DFO_3861_From_20110827_to_20110913.zip: 22044288it [00:03, 5923708.39it/s]                               \n",
      "Downloading: https://storage.googleapis.com/gfd_v1_4/DFO_4051_From_20130427_to_20130429.zip: 11563392it [00:03, 3030425.50it/s]                               \n",
      "Downloading: https://storage.googleapis.com/gfd_v1_4/DFO_4314_From_20151215_to_20160129.zip: 95141760it [00:05, 17644697.40it/s]                              \n"
     ]
    },
    {
     "name": "stdout",
     "output_type": "stream",
     "text": [
      "Downloading Central African Republic (CAF).\n"
     ]
    },
    {
     "name": "stderr",
     "output_type": "stream",
     "text": [
      "Downloading: https://storage.googleapis.com/gfd_v1_4/DFO_1778_From_20010819_to_20011011.zip: 21939840it [00:03, 7230314.39it/s]                               \n",
      "Downloading: https://storage.googleapis.com/gfd_v1_4/DFO_2303_From_20030803_to_20031102.zip: 53370624it [00:04, 12921139.76it/s]                              \n",
      "Downloading: https://storage.googleapis.com/gfd_v1_4/DFO_3179_From_20070825_to_20071001.zip: 32189568it [00:03, 9417255.22it/s]                               \n",
      "Downloading: https://storage.googleapis.com/gfd_v1_4/DFO_3368_From_20080720_to_20080825.zip: 20153984it [00:03, 5837215.62it/s]                               \n",
      "Downloading: https://storage.googleapis.com/gfd_v1_4/DFO_3714_From_20100815_to_20100917.zip: 46160512it [00:04, 10295474.16it/s]                              \n",
      "Downloading: https://storage.googleapis.com/gfd_v1_4/DFO_3741_From_20101001_to_20101105.zip: 5889408it [00:03, 1657644.36it/s]                             \n",
      "Downloading: https://storage.googleapis.com/gfd_v1_4/DFO_3995_From_20120915_to_20121015.zip: 16037248it [00:03, 5285459.47it/s]                               \n"
     ]
    },
    {
     "name": "stdout",
     "output_type": "stream",
     "text": [
      "Downloading Chad (TCD).\n"
     ]
    },
    {
     "name": "stderr",
     "output_type": "stream",
     "text": [
      "Downloading: https://storage.googleapis.com/gfd_v1_4/DFO_1778_From_20010819_to_20011011.zip: 21939840it [00:03, 7125794.36it/s]                               \n",
      "Downloading: https://storage.googleapis.com/gfd_v1_4/DFO_2303_From_20030803_to_20031102.zip: 53370624it [00:04, 11750078.92it/s]                              \n",
      "Downloading: https://storage.googleapis.com/gfd_v1_4/DFO_2314_From_20030805_to_20031012.zip: 14945408it [00:02, 5042374.50it/s]                               \n",
      "Downloading: https://storage.googleapis.com/gfd_v1_4/DFO_2345_From_20030905_to_20031028.zip: 15668480it [00:02, 5241497.58it/s]                               \n",
      "Downloading: https://storage.googleapis.com/gfd_v1_4/DFO_2361_From_20030922_to_20031010.zip: 8756608it [00:02, 3347512.18it/s]                              \n",
      "Downloading: https://storage.googleapis.com/gfd_v1_4/DFO_2721_From_20050807_to_20050916.zip: 18062976it [00:03, 5762969.64it/s]                               \n",
      "Downloading: https://storage.googleapis.com/gfd_v1_4/DFO_2947_From_20060803_to_20061011.zip: 119138432it [00:06, 19722236.60it/s]                               \n",
      "Downloading: https://storage.googleapis.com/gfd_v1_4/DFO_3151_From_20070804_to_20071021.zip: 36338560it [00:03, 9433139.32it/s]                               \n",
      "Downloading: https://storage.googleapis.com/gfd_v1_4/DFO_3166_From_20070726_to_20071010.zip: 90931328it [00:05, 17621582.30it/s]                              \n",
      "Downloading: https://storage.googleapis.com/gfd_v1_4/DFO_3167_From_20070809_to_20070815.zip: 6960384it [00:02, 2754368.91it/s]                              \n",
      "Downloading: https://storage.googleapis.com/gfd_v1_4/DFO_3179_From_20070825_to_20071001.zip: 32189568it [00:03, 9562704.65it/s]                               \n",
      "Downloading: https://storage.googleapis.com/gfd_v1_4/DFO_3348_From_20080802_to_20080808.zip: 20294016it [00:04, 4354575.82it/s]                               \n",
      "Downloading: https://storage.googleapis.com/gfd_v1_4/DFO_3368_From_20080720_to_20080825.zip: 20153984it [00:03, 6215785.52it/s]                               \n",
      "Downloading: https://storage.googleapis.com/gfd_v1_4/DFO_3534_From_20090810_to_20090902.zip: 156698752it [00:07, 21057707.72it/s]                               \n",
      "Downloading: https://storage.googleapis.com/gfd_v1_4/DFO_3714_From_20100815_to_20100917.zip: 46160512it [00:03, 11862476.77it/s]                              \n",
      "Downloading: https://storage.googleapis.com/gfd_v1_4/DFO_3741_From_20101001_to_20101105.zip: 5889408it [00:02, 2342039.42it/s]                             \n",
      "Downloading: https://storage.googleapis.com/gfd_v1_4/DFO_3901_From_20120220_to_20120227.zip: 5298944it [00:02, 2140268.63it/s]                             \n",
      "Downloading: https://storage.googleapis.com/gfd_v1_4/DFO_3976_From_20120825_to_20120926.zip: 11017472it [00:02, 3999711.51it/s]                               \n",
      "Downloading: https://storage.googleapis.com/gfd_v1_4/DFO_3995_From_20120915_to_20121015.zip: 16037248it [00:03, 5334598.45it/s]                               \n",
      "Downloading: https://storage.googleapis.com/gfd_v1_4/DFO_4175_From_20140813_to_20140819.zip: 28426240it [00:03, 7546595.95it/s]                               \n",
      "Downloading: https://storage.googleapis.com/gfd_v1_4/DFO_4294_From_20150830_to_20150911.zip: 12548864it [00:03, 4087277.66it/s]                               \n"
     ]
    },
    {
     "name": "stdout",
     "output_type": "stream",
     "text": [
      "Downloading Chile (CHL).\n"
     ]
    },
    {
     "name": "stderr",
     "output_type": "stream",
     "text": [
      "Downloading: https://storage.googleapis.com/gfd_v1_4/DFO_2042_From_20020824_to_20020829.zip: 4527104it [00:02, 1881896.95it/s]                             \n",
      "Downloading: https://storage.googleapis.com/gfd_v1_4/DFO_2145_From_20030128_to_20030210.zip: 67656448it [00:04, 14069121.80it/s]                              \n",
      "Downloading: https://storage.googleapis.com/gfd_v1_4/DFO_2216_From_20030428_to_20030510.zip: 19767808it [00:03, 5757138.92it/s]                               \n",
      "Downloading: https://storage.googleapis.com/gfd_v1_4/DFO_2786_From_20060125_to_20060417.zip: 151504512it [00:07, 19667536.51it/s]                               \n",
      "Downloading: https://storage.googleapis.com/gfd_v1_4/DFO_2802_From_20060216_to_20060506.zip: 14673920it [00:02, 4918234.22it/s]                               \n",
      "Downloading: https://storage.googleapis.com/gfd_v1_4/DFO_3246_From_20071215_to_20071228.zip: 54316288it [00:04, 12833834.15it/s]                              \n",
      "Downloading: https://storage.googleapis.com/gfd_v1_4/DFO_3263_From_20080130_to_20080501.zip: 75597824it [00:04, 16082734.19it/s]                              \n",
      "Downloading: https://storage.googleapis.com/gfd_v1_4/DFO_3267_From_20080204_to_20080507.zip: 120307328it [00:06, 18515201.51it/s]                               \n",
      "Downloading: https://storage.googleapis.com/gfd_v1_4/DFO_3448_From_20090207_to_20090212.zip: 35380224it [00:03, 9876214.40it/s]                               \n",
      "Downloading: https://storage.googleapis.com/gfd_v1_4/DFO_4340_From_20160305_to_20160325.zip: 13701120it [00:02, 4777223.75it/s]                               \n",
      "Downloading: https://storage.googleapis.com/gfd_v1_4/DFO_4462_From_20170405_to_20170421.zip: 8914688it [00:02, 3338431.62it/s]                              \n",
      "Downloading: https://storage.googleapis.com/gfd_v1_4/DFO_4464_From_20170405_to_20170421.zip: 36993024it [00:03, 10846517.68it/s]                              \n",
      "Downloading: https://storage.googleapis.com/gfd_v1_4/DFO_4569_From_20180201_to_20180221.zip: 45127552it [00:03, 12225791.96it/s]                              \n"
     ]
    },
    {
     "name": "stdout",
     "output_type": "stream",
     "text": [
      "Downloading China (CHN).\n"
     ]
    },
    {
     "name": "stderr",
     "output_type": "stream",
     "text": [
      "Downloading: https://storage.googleapis.com/gfd_v1_4/DFO_1627_From_20000830_to_20000910.zip: 21906304it [00:03, 5722740.38it/s]                               \n",
      "Downloading: https://storage.googleapis.com/gfd_v1_4/DFO_1631_From_20000901_to_20000906.zip: 14808320it [00:02, 4953631.69it/s]                               \n",
      "Downloading: https://storage.googleapis.com/gfd_v1_4/DFO_1641_From_20000918_to_20001021.zip: 25968768it [00:04, 6475258.20it/s]                               \n",
      "Downloading: https://storage.googleapis.com/gfd_v1_4/DFO_1725_From_20010512_to_20010608.zip: 180677632it [00:08, 20793524.27it/s]                               \n",
      "Downloading: https://storage.googleapis.com/gfd_v1_4/DFO_1789_From_20010820_to_20010911.zip: 17278208it [00:03, 5129731.92it/s]                               \n",
      "Downloading: https://storage.googleapis.com/gfd_v1_4/DFO_1791_From_20010907_to_20010924.zip: 15143808it [00:04, 3598748.90it/s]                               \n",
      "Downloading: https://storage.googleapis.com/gfd_v1_4/DFO_1971_From_20020630_to_20020713.zip: 38287232it [00:03, 10203139.26it/s]                              \n",
      "Downloading: https://storage.googleapis.com/gfd_v1_4/DFO_1974_From_20020621_to_20020828.zip: 46438528it [00:03, 12278018.31it/s]                              \n",
      "Downloading: https://storage.googleapis.com/gfd_v1_4/DFO_1980_From_20020707_to_20020709.zip: 13100288it [00:02, 4589173.75it/s]                               \n",
      "Downloading: https://storage.googleapis.com/gfd_v1_4/DFO_1997_From_20020720_to_20020726.zip: 8485888it [00:02, 3192699.32it/s]                              \n",
      "Downloading: https://storage.googleapis.com/gfd_v1_4/DFO_1999_From_20020721_to_20020815.zip: 21978240it [00:04, 4982653.51it/s]                               \n",
      "Downloading: https://storage.googleapis.com/gfd_v1_4/DFO_2019_From_20020805_to_20020812.zip: 718976it [00:01, 396318.68it/s]                             \n",
      "Downloading: https://storage.googleapis.com/gfd_v1_4/DFO_2023_From_20020806_to_20020828.zip: 25202944it [00:03, 7851325.43it/s]                               \n",
      "Downloading: https://storage.googleapis.com/gfd_v1_4/DFO_2035_From_20020814_to_20020822.zip: 10927616it [00:02, 3985514.49it/s]                               \n",
      "Downloading: https://storage.googleapis.com/gfd_v1_4/DFO_2039_From_20020818_to_20021126.zip: 46376960it [00:04, 10938128.31it/s]                              \n",
      "Downloading: https://storage.googleapis.com/gfd_v1_4/DFO_2041_From_20020817_to_20020904.zip: 9269632it [00:02, 3505478.49it/s]                              \n",
      "Downloading: https://storage.googleapis.com/gfd_v1_4/DFO_2046_From_20020828_to_20020906.zip: 4111360it [00:02, 1734464.46it/s]                             \n",
      "Downloading: https://storage.googleapis.com/gfd_v1_4/DFO_2079_From_20021028_to_20021102.zip: 6627840it [00:02, 2624853.32it/s]                             \n",
      "Downloading: https://storage.googleapis.com/gfd_v1_4/DFO_2191_From_20030325_to_20030411.zip: 4710912it [00:02, 1966046.67it/s]                             \n",
      "Downloading: https://storage.googleapis.com/gfd_v1_4/DFO_2214_From_20030423_to_20030513.zip: 81249024it [00:05, 16205910.60it/s]                              \n",
      "Downloading: https://storage.googleapis.com/gfd_v1_4/DFO_2248_From_20030611_to_20031010.zip: 91019264it [00:05, 18052564.00it/s]                              \n",
      "Downloading: https://storage.googleapis.com/gfd_v1_4/DFO_2261_From_20030623_to_20030728.zip: 57065472it [00:04, 12567050.76it/s]                              \n",
      "Downloading: https://storage.googleapis.com/gfd_v1_4/DFO_2269_From_20030701_to_20030807.zip: 14778240it [00:02, 5028809.02it/s]                               \n",
      "Downloading: https://storage.googleapis.com/gfd_v1_4/DFO_2276_From_20030702_to_20030901.zip: 16430080it [00:03, 5414217.06it/s]                               \n",
      "Downloading: https://storage.googleapis.com/gfd_v1_4/DFO_2279_From_20030715_to_20030901.zip: 65999232it [00:04, 14359444.66it/s]                              \n",
      "Downloading: https://storage.googleapis.com/gfd_v1_4/DFO_2296_From_20030727_to_20031010.zip: 27379072it [00:03, 8375628.09it/s]                               \n",
      "Downloading: https://storage.googleapis.com/gfd_v1_4/DFO_2332_From_20030824_to_20031112.zip: 49797888it [00:03, 12458444.61it/s]                              \n",
      "Downloading: https://storage.googleapis.com/gfd_v1_4/DFO_2337_From_20030826_to_20030830.zip: 15657472it [00:02, 5242997.03it/s]                               \n",
      "Downloading: https://storage.googleapis.com/gfd_v1_4/DFO_2347_From_20030912_to_20031012.zip: 25644288it [00:03, 7554641.93it/s]                               \n",
      "Downloading: https://storage.googleapis.com/gfd_v1_4/DFO_2471_From_20040414_to_20040516.zip: 64254592it [00:04, 12985732.99it/s]                              \n",
      "Downloading: https://storage.googleapis.com/gfd_v1_4/DFO_2473_From_20040414_to_20040503.zip: 13171840it [00:02, 4592064.90it/s]                               \n",
      "Downloading: https://storage.googleapis.com/gfd_v1_4/DFO_2507_From_20040620_to_20041007.zip: 82961152it [00:04, 16709961.35it/s]                              \n",
      "Downloading: https://storage.googleapis.com/gfd_v1_4/DFO_2515_From_20040628_to_20040630.zip: 14996224it [00:03, 4869483.00it/s]                               \n",
      "Downloading: https://storage.googleapis.com/gfd_v1_4/DFO_2519_From_20040705_to_20040811.zip: 30657024it [00:03, 9309676.42it/s]                               \n",
      "Downloading: https://storage.googleapis.com/gfd_v1_4/DFO_2522_From_20040714_to_20040727.zip: 9839616it [00:02, 3621840.88it/s]                              \n",
      "Downloading: https://storage.googleapis.com/gfd_v1_4/DFO_2527_From_20040717_to_20040730.zip: 5274112it [00:02, 2146783.41it/s]                             \n",
      "Downloading: https://storage.googleapis.com/gfd_v1_4/DFO_2543_From_20040806_to_20041003.zip: 30823296it [00:03, 8990891.30it/s]                               \n",
      "Downloading: https://storage.googleapis.com/gfd_v1_4/DFO_2570_From_20041007_to_20041018.zip: 27644032it [00:03, 8184354.65it/s]                               \n",
      "Downloading: https://storage.googleapis.com/gfd_v1_4/DFO_2668_From_20050610_to_20050612.zip: 12053760it [00:02, 4275284.55it/s]                               \n",
      "Downloading: https://storage.googleapis.com/gfd_v1_4/DFO_2675_From_20050621_to_20050805.zip: 5382272it [00:00, 23175977.12it/s]                             \n",
      "Downloading: https://storage.googleapis.com/gfd_v1_4/DFO_2676_From_20050623_to_20050630.zip: 19476352it [00:03, 6376592.41it/s]                               \n",
      "Downloading: https://storage.googleapis.com/gfd_v1_4/DFO_2684_From_20050628_to_20050719.zip: 17203328it [00:03, 5609938.00it/s]                               \n",
      "Downloading: https://storage.googleapis.com/gfd_v1_4/DFO_2686_From_20050702_to_20050715.zip: 27666432it [00:03, 7610905.34it/s]                               \n",
      "Downloading: https://storage.googleapis.com/gfd_v1_4/DFO_2688_From_20050701_to_20050812.zip: 25734528it [00:04, 5674875.68it/s]                               \n",
      "Downloading: https://storage.googleapis.com/gfd_v1_4/DFO_2689_From_20050705_to_20050814.zip: 49325184it [00:05, 9070307.12it/s]                               \n",
      "Downloading: https://storage.googleapis.com/gfd_v1_4/DFO_2690_From_20050707_to_20050727.zip: 46257664it [00:03, 12578648.20it/s]                              \n",
      "Downloading: https://storage.googleapis.com/gfd_v1_4/DFO_2693_From_20050710_to_20050718.zip: 7577344it [00:02, 2942935.74it/s]                              \n",
      "Downloading: https://storage.googleapis.com/gfd_v1_4/DFO_2694_From_20050716_to_20050720.zip: 4647808it [00:00, 21773310.30it/s]                             \n",
      "Downloading: https://storage.googleapis.com/gfd_v1_4/DFO_2709_From_20050813_to_20050926.zip: 24035200it [00:04, 4860570.54it/s]                               \n",
      "Downloading: https://storage.googleapis.com/gfd_v1_4/DFO_2711_From_20050813_to_20050820.zip: 18097536it [00:03, 4949468.13it/s]                               \n",
      "Downloading: https://storage.googleapis.com/gfd_v1_4/DFO_2718_From_20050826_to_20050830.zip: 14639488it [00:03, 4820037.16it/s]                               \n",
      "Downloading: https://storage.googleapis.com/gfd_v1_4/DFO_2722_From_20050901_to_20050904.zip: 11477760it [00:02, 4162040.44it/s]                               \n",
      "Downloading: https://storage.googleapis.com/gfd_v1_4/DFO_2726_From_20050911_to_20050913.zip: 8568192it [00:00, 26005916.47it/s]                             \n",
      "Downloading: https://storage.googleapis.com/gfd_v1_4/DFO_2731_From_20050916_to_20051005.zip: 34272768it [00:03, 10040708.79it/s]                              \n",
      "Downloading: https://storage.googleapis.com/gfd_v1_4/DFO_2736_From_20050926_to_20051006.zip: 37553792it [00:03, 10594419.27it/s]                              \n",
      "Downloading: https://storage.googleapis.com/gfd_v1_4/DFO_2737_From_20050925_to_20051002.zip: 16968832it [00:03, 5469968.88it/s]                               \n",
      "Downloading: https://storage.googleapis.com/gfd_v1_4/DFO_2743_From_20050929_to_20051006.zip: 2406144it [00:03, 746310.94it/s]                              \n",
      "Downloading: https://storage.googleapis.com/gfd_v1_4/DFO_2746_From_20051003_to_20051006.zip: 2316800it [00:02, 1058947.91it/s]                             \n",
      "Downloading: https://storage.googleapis.com/gfd_v1_4/DFO_2747_From_20051003_to_20051022.zip: 24627200it [00:03, 7954437.54it/s]                               \n",
      "Downloading: https://storage.googleapis.com/gfd_v1_4/DFO_2803_From_20060216_to_20060223.zip: 11670656it [00:02, 4123957.55it/s]                               \n",
      "Downloading: https://storage.googleapis.com/gfd_v1_4/DFO_2851_From_20060421_to_20060531.zip: 73062784it [00:04, 15824778.25it/s]                              \n",
      "Downloading: https://storage.googleapis.com/gfd_v1_4/DFO_2859_From_20060429_to_20060505.zip: 9790848it [00:02, 3669659.05it/s]                              \n",
      "Downloading: https://storage.googleapis.com/gfd_v1_4/DFO_2867_From_20060522_to_20060611.zip: 16186368it [00:03, 5327046.81it/s]                               \n",
      "Downloading: https://storage.googleapis.com/gfd_v1_4/DFO_2879_From_20060531_to_20060724.zip: 43199104it [00:03, 11554008.85it/s]                              \n",
      "Downloading: https://storage.googleapis.com/gfd_v1_4/DFO_2894_From_20060624_to_20060803.zip: 36461184it [00:03, 10286493.59it/s]                              \n",
      "Downloading: https://storage.googleapis.com/gfd_v1_4/DFO_2900_From_20060628_to_20060708.zip: 16115072it [00:03, 5278713.67it/s]                               \n",
      "Downloading: https://storage.googleapis.com/gfd_v1_4/DFO_2919_From_20060711_to_20060713.zip: 11442816it [00:02, 4141043.88it/s]                               \n",
      "Downloading: https://storage.googleapis.com/gfd_v1_4/DFO_2921_From_20060711_to_20060719.zip: 36860800it [00:03, 9259045.38it/s]                               \n",
      "Downloading: https://storage.googleapis.com/gfd_v1_4/DFO_2924_From_20060714_to_20060717.zip: 5052416it [00:02, 2089382.18it/s]                             \n",
      "Downloading: https://storage.googleapis.com/gfd_v1_4/DFO_2931_From_20060724_to_20060822.zip: 12745856it [00:02, 4478111.47it/s]                               \n",
      "Downloading: https://storage.googleapis.com/gfd_v1_4/DFO_2935_From_20060728_to_20060912.zip: 70708608it [00:05, 12740738.09it/s]                              \n",
      "Downloading: https://storage.googleapis.com/gfd_v1_4/DFO_2951_From_20060820_to_20061213.zip: 41867776it [00:03, 11144347.11it/s]                              \n",
      "Downloading: https://storage.googleapis.com/gfd_v1_4/DFO_2954_From_20060826_to_20060913.zip: 22133248it [00:03, 7096649.98it/s]                               \n",
      "Downloading: https://storage.googleapis.com/gfd_v1_4/DFO_2956_From_20060829_to_20060904.zip: 17120640it [00:03, 5059110.68it/s]                               \n",
      "Downloading: https://storage.googleapis.com/gfd_v1_4/DFO_2957_From_20060830_to_20060831.zip: 17582080it [00:03, 5726835.19it/s]                               \n",
      "Downloading: https://storage.googleapis.com/gfd_v1_4/DFO_2958_From_20060831_to_20060911.zip: 9024896it [00:00, 26846401.32it/s]                             \n",
      "Downloading: https://storage.googleapis.com/gfd_v1_4/DFO_2961_From_20060824_to_20060920.zip: 35013248it [00:03, 9527473.88it/s]                               \n",
      "Downloading: https://storage.googleapis.com/gfd_v1_4/DFO_3058_From_20070419_to_20070421.zip: 1345792it [00:02, 669493.07it/s]                             \n",
      "Downloading: https://storage.googleapis.com/gfd_v1_4/DFO_3061_From_20070423_to_20070504.zip: 5770240it [00:00, 22247743.21it/s]                             \n",
      "Downloading: https://storage.googleapis.com/gfd_v1_4/DFO_3068_From_20070504_to_20070509.zip: 6971392it [00:02, 2764177.13it/s]                              \n",
      "Downloading: https://storage.googleapis.com/gfd_v1_4/DFO_3076_From_20070511_to_20070613.zip: 56724352it [00:04, 12677795.97it/s]                              \n",
      "Downloading: https://storage.googleapis.com/gfd_v1_4/DFO_3079_From_20070520_to_20070521.zip: 14554496it [00:03, 4606085.88it/s]                               \n",
      "Downloading: https://storage.googleapis.com/gfd_v1_4/DFO_3084_From_20070524_to_20070526.zip: 14722688it [00:02, 4983347.06it/s]                               \n",
      "Downloading: https://storage.googleapis.com/gfd_v1_4/DFO_3094_From_20070606_to_20070817.zip: 72559616it [00:04, 15141738.49it/s]                              \n",
      "Downloading: https://storage.googleapis.com/gfd_v1_4/DFO_3097_From_20070611_to_20070624.zip: 13163904it [00:02, 4630672.04it/s]                               \n",
      "Downloading: https://storage.googleapis.com/gfd_v1_4/DFO_3100_From_20070615_to_20070618.zip: 13609472it [00:04, 3391141.22it/s]                               \n",
      "Downloading: https://storage.googleapis.com/gfd_v1_4/DFO_3101_From_20070616_to_20070620.zip: 2128000it [00:00, 16653007.10it/s]                             \n",
      "Downloading: https://storage.googleapis.com/gfd_v1_4/DFO_3104_From_20070618_to_20070626.zip: 10361728it [00:02, 3820508.56it/s]                              \n",
      "Downloading: https://storage.googleapis.com/gfd_v1_4/DFO_3109_From_20070624_to_20070703.zip: 10622208it [00:02, 3907135.53it/s]                              \n",
      "Downloading: https://storage.googleapis.com/gfd_v1_4/DFO_3116_From_20070628_to_20070722.zip: 5095808it [00:02, 2068219.58it/s]                             \n",
      "Downloading: https://storage.googleapis.com/gfd_v1_4/DFO_3120_From_20070701_to_20070713.zip: 43648256it [00:03, 11715104.26it/s]                              \n",
      "Downloading: https://storage.googleapis.com/gfd_v1_4/DFO_3122_From_20070703_to_20070922.zip: 47788032it [00:04, 10805890.51it/s]                              \n",
      "Downloading: https://storage.googleapis.com/gfd_v1_4/DFO_3125_From_20070706_to_20070801.zip: 16837504it [00:04, 3820142.69it/s]                               \n",
      "Downloading: https://storage.googleapis.com/gfd_v1_4/DFO_3128_From_20070712_to_20071010.zip: 48284416it [00:04, 9970022.38it/s]                               \n",
      "Downloading: https://storage.googleapis.com/gfd_v1_4/DFO_3132_From_20070714_to_20070803.zip: 43125120it [00:04, 10605528.98it/s]                              \n",
      "Downloading: https://storage.googleapis.com/gfd_v1_4/DFO_3134_From_20070718_to_20070813.zip: 41242496it [00:04, 9962951.92it/s]                               \n",
      "Downloading: https://storage.googleapis.com/gfd_v1_4/DFO_3136_From_20070721_to_20071015.zip: 54386560it [00:03, 13723211.42it/s]                              \n",
      "Downloading: https://storage.googleapis.com/gfd_v1_4/DFO_3143_From_20070723_to_20071002.zip: 32132736it [00:03, 9151874.88it/s]                               \n",
      "Downloading: https://storage.googleapis.com/gfd_v1_4/DFO_3161_From_20070809_to_20070812.zip: 7166336it [00:02, 2800199.19it/s]                              \n",
      "Downloading: https://storage.googleapis.com/gfd_v1_4/DFO_3164_From_20070812_to_20070817.zip: 26141056it [00:03, 7405261.32it/s]                               \n",
      "Downloading: https://storage.googleapis.com/gfd_v1_4/DFO_3165_From_20070812_to_20070814.zip: 1002752it [00:01, 522769.42it/s]                             \n",
      "Downloading: https://storage.googleapis.com/gfd_v1_4/DFO_3169_From_20070814_to_20071004.zip: 19998976it [00:03, 5781713.73it/s]                               \n",
      "Downloading: https://storage.googleapis.com/gfd_v1_4/DFO_3188_From_20070905_to_20071110.zip: 40772992it [00:03, 10897945.68it/s]                              \n",
      "Downloading: https://storage.googleapis.com/gfd_v1_4/DFO_3208_From_20071017_to_20071024.zip: 9295488it [00:02, 3528481.32it/s]                              \n",
      "Downloading: https://storage.googleapis.com/gfd_v1_4/DFO_3282_From_20080303_to_20080401.zip: 7155712it [00:02, 2817181.46it/s]                              \n",
      "Downloading: https://storage.googleapis.com/gfd_v1_4/DFO_3301_From_20080502_to_20080505.zip: 21080832it [00:03, 5592113.89it/s]                               \n",
      "Downloading: https://storage.googleapis.com/gfd_v1_4/DFO_3302_From_20080503_to_20080522.zip: 25195008it [00:03, 7333123.45it/s]                               \n",
      "Downloading: https://storage.googleapis.com/gfd_v1_4/DFO_3312_From_20080524_to_20080528.zip: 12597376it [00:02, 4411423.83it/s]                               \n",
      "Downloading: https://storage.googleapis.com/gfd_v1_4/DFO_3325_From_20080624_to_20080627.zip: 17329664it [00:03, 5337504.03it/s]                               \n",
      "Downloading: https://storage.googleapis.com/gfd_v1_4/DFO_3327_From_20080705_to_20080714.zip: 36825088it [00:04, 8148483.12it/s]                               \n",
      "Downloading: https://storage.googleapis.com/gfd_v1_4/DFO_3338_From_20080720_to_20080808.zip: 30480640it [00:03, 8446176.02it/s]                               \n",
      "Downloading: https://storage.googleapis.com/gfd_v1_4/DFO_3345_From_20080728_to_20080808.zip: 53330304it [00:04, 12549978.91it/s]                              \n",
      "Downloading: https://storage.googleapis.com/gfd_v1_4/DFO_3359_From_20080809_to_20080820.zip: 15115520it [00:02, 5118625.12it/s]                               \n",
      "Downloading: https://storage.googleapis.com/gfd_v1_4/DFO_3360_From_20080811_to_20080820.zip: 20290432it [00:03, 6545316.45it/s]                               \n",
      "Downloading: https://storage.googleapis.com/gfd_v1_4/DFO_3365_From_20080818_to_20080924.zip: 32584576it [00:04, 7470597.73it/s]                               \n",
      "Downloading: https://storage.googleapis.com/gfd_v1_4/DFO_3371_From_20080830_to_20080908.zip: 25137920it [00:03, 7410688.77it/s]                               \n",
      "Downloading: https://storage.googleapis.com/gfd_v1_4/DFO_3372_From_20080830_to_20080908.zip: 16645376it [00:04, 4057493.62it/s]                               \n",
      "Downloading: https://storage.googleapis.com/gfd_v1_4/DFO_3382_From_20080922_to_20080929.zip: 39644928it [00:03, 10666572.93it/s]                              \n",
      "Downloading: https://storage.googleapis.com/gfd_v1_4/DFO_3383_From_20080922_to_20080929.zip: 26668928it [00:04, 6578433.89it/s]                               \n",
      "Downloading: https://storage.googleapis.com/gfd_v1_4/DFO_3384_From_20080911_to_20081004.zip: 19540096it [00:03, 6379868.83it/s]                               \n",
      "Downloading: https://storage.googleapis.com/gfd_v1_4/DFO_3495_From_20090703_to_20090706.zip: 19142656it [00:03, 6286921.60it/s]                               \n",
      "Downloading: https://storage.googleapis.com/gfd_v1_4/DFO_3496_From_20090703_to_20090706.zip: 9031680it [00:02, 3455808.45it/s]                              \n",
      "Downloading: https://storage.googleapis.com/gfd_v1_4/DFO_3530_From_20090818_to_20090827.zip: 16139904it [00:04, 3995212.75it/s]                               \n",
      "Downloading: https://storage.googleapis.com/gfd_v1_4/DFO_3553_From_20091004_to_20091012.zip: 23765376it [00:03, 7829449.52it/s]                               \n",
      "Downloading: https://storage.googleapis.com/gfd_v1_4/DFO_3636_From_20100418_to_20100421.zip: 2768896it [00:02, 1251668.68it/s]                             \n",
      "Downloading: https://storage.googleapis.com/gfd_v1_4/DFO_3650_From_20100515_to_20100626.zip: 5402624it [00:03, 1541200.58it/s]                             \n",
      "Downloading: https://storage.googleapis.com/gfd_v1_4/DFO_3651_From_20100515_to_20100628.zip: 24103936it [00:03, 6903675.66it/s]                               \n",
      "Downloading: https://storage.googleapis.com/gfd_v1_4/DFO_3674_From_20100705_to_20100715.zip: 31659136it [00:03, 9492946.01it/s]                               \n",
      "Downloading: https://storage.googleapis.com/gfd_v1_4/DFO_3676_From_20100706_to_20100713.zip: 20302080it [00:03, 5885544.21it/s]                               \n",
      "Downloading: https://storage.googleapis.com/gfd_v1_4/DFO_3678_From_20100701_to_20100715.zip: 39841280it [00:05, 7202666.34it/s]                               \n",
      "Downloading: https://storage.googleapis.com/gfd_v1_4/DFO_3679_From_20100701_to_20100713.zip: 32836480it [00:03, 9535511.50it/s]                               \n",
      "Downloading: https://storage.googleapis.com/gfd_v1_4/DFO_3681_From_20100707_to_20100723.zip: 18683520it [00:04, 4546987.11it/s]                               \n",
      "Downloading: https://storage.googleapis.com/gfd_v1_4/DFO_3688_From_20100721_to_20100723.zip: 9508224it [00:02, 3580077.29it/s]                              \n",
      "Downloading: https://storage.googleapis.com/gfd_v1_4/DFO_3692_From_20100723_to_20100803.zip: 58757760it [00:04, 13679245.95it/s]                              \n",
      "Downloading: https://storage.googleapis.com/gfd_v1_4/DFO_3696_From_20100727_to_20101115.zip: 13203584it [00:03, 3324383.16it/s]                               \n",
      "Downloading: https://storage.googleapis.com/gfd_v1_4/DFO_3713_From_20100905_to_20100917.zip: 4787712it [00:02, 2013404.39it/s]                             \n",
      "Downloading: https://storage.googleapis.com/gfd_v1_4/DFO_3716_From_20100909_to_20100930.zip: 34751232it [00:03, 9651168.23it/s]                               \n",
      "Downloading: https://storage.googleapis.com/gfd_v1_4/DFO_3717_From_20100918_to_20100930.zip: 18747008it [00:03, 5955172.96it/s]                               \n",
      "Downloading: https://storage.googleapis.com/gfd_v1_4/DFO_3723_From_20100920_to_20100930.zip: 18779648it [00:04, 4178210.47it/s]                               \n",
      "Downloading: https://storage.googleapis.com/gfd_v1_4/DFO_3732_From_20101001_to_20101012.zip: 30071680it [00:04, 6866146.62it/s]                               \n",
      "Downloading: https://storage.googleapis.com/gfd_v1_4/DFO_3854_From_20110815_to_20111002.zip: 30138752it [00:04, 6579043.37it/s]                               \n",
      "Downloading: https://storage.googleapis.com/gfd_v1_4/DFO_3856_From_20110815_to_20110908.zip: 5337984it [00:02, 2183047.91it/s]                             \n",
      "Downloading: https://storage.googleapis.com/gfd_v1_4/DFO_3868_From_20111001_to_20111010.zip: 8439168it [00:02, 3240434.52it/s]                              \n",
      "Downloading: https://storage.googleapis.com/gfd_v1_4/DFO_3963_From_20120803_to_20120806.zip: 1334656it [00:02, 660928.38it/s]                              \n",
      "Downloading: https://storage.googleapis.com/gfd_v1_4/DFO_3965_From_20120814_to_20120820.zip: 18629632it [00:03, 6006447.65it/s]                               \n",
      "Downloading: https://storage.googleapis.com/gfd_v1_4/DFO_3974_From_20120823_to_20120829.zip: 9787136it [00:02, 3514275.47it/s]                              \n",
      "Downloading: https://storage.googleapis.com/gfd_v1_4/DFO_3975_From_20120825_to_20120829.zip: 8039040it [00:03, 2230974.86it/s]                              \n",
      "Downloading: https://storage.googleapis.com/gfd_v1_4/DFO_3983_From_20120916_to_20120918.zip: 25506176it [00:03, 7948100.07it/s]                               \n",
      "Downloading: https://storage.googleapis.com/gfd_v1_4/DFO_3985_From_20120912_to_20120926.zip: 14480896it [00:03, 4486987.78it/s]                               \n",
      "Downloading: https://storage.googleapis.com/gfd_v1_4/DFO_4078_From_20130801_to_20130807.zip: 26208768it [00:03, 7469977.09it/s]                               \n",
      "Downloading: https://storage.googleapis.com/gfd_v1_4/DFO_4079_From_20130801_to_20130807.zip: 24845184it [00:03, 6222178.09it/s]                               \n",
      "Downloading: https://storage.googleapis.com/gfd_v1_4/DFO_4082_From_20130807_to_20130821.zip: 27354496it [00:05, 5227906.18it/s]                               \n",
      "Downloading: https://storage.googleapis.com/gfd_v1_4/DFO_4083_From_20130807_to_20131014.zip: 115256320it [00:06, 18929060.71it/s]                               \n",
      "Downloading: https://storage.googleapis.com/gfd_v1_4/DFO_4092_From_20130930_to_20131014.zip: 28427776it [00:03, 8929594.67it/s]                               \n",
      "Downloading: https://storage.googleapis.com/gfd_v1_4/DFO_4098_From_20131012_to_20131110.zip: 29101312it [00:04, 7222981.54it/s]                               \n",
      "Downloading: https://storage.googleapis.com/gfd_v1_4/DFO_4146_From_20140530_to_20140610.zip: 10859776it [00:03, 2891195.58it/s]                               \n",
      "Downloading: https://storage.googleapis.com/gfd_v1_4/DFO_4154_From_20140623_to_20140625.zip: 7222272it [00:02, 2787164.34it/s]                              \n",
      "Downloading: https://storage.googleapis.com/gfd_v1_4/DFO_4156_From_20140711_to_20140714.zip: 14888064it [00:02, 5045531.45it/s]                               \n",
      "Downloading: https://storage.googleapis.com/gfd_v1_4/DFO_4171_From_20140811_to_20140908.zip: 25297152it [00:03, 7423266.38it/s]                               \n",
      "Downloading: https://storage.googleapis.com/gfd_v1_4/DFO_4174_From_20140814_to_20140908.zip: 24897408it [00:03, 6864477.91it/s]                               \n",
      "Downloading: https://storage.googleapis.com/gfd_v1_4/DFO_4176_From_20140815_to_20140908.zip: 9650432it [00:03, 2607719.55it/s]                              \n",
      "Downloading: https://storage.googleapis.com/gfd_v1_4/DFO_4178_From_20140820_to_20140908.zip: 29899648it [00:03, 8619810.77it/s]                               \n",
      "Downloading: https://storage.googleapis.com/gfd_v1_4/DFO_4179_From_20140901_to_20141011.zip: 13586560it [00:03, 3429310.94it/s]                               \n",
      "Downloading: https://storage.googleapis.com/gfd_v1_4/DFO_4188_From_20140924_to_20141011.zip: 10931584it [00:02, 3945726.75it/s]                               \n",
      "Downloading: https://storage.googleapis.com/gfd_v1_4/DFO_4239_From_20150320_to_20150331.zip: 5721728it [00:02, 2259408.08it/s]                             \n",
      "Downloading: https://storage.googleapis.com/gfd_v1_4/DFO_4258_From_20150515_to_20150602.zip: 44251008it [00:04, 10409988.89it/s]                              \n",
      "Downloading: https://storage.googleapis.com/gfd_v1_4/DFO_4259_From_20150602_to_20150629.zip: 9638016it [00:02, 3460636.61it/s]                              \n",
      "Downloading: https://storage.googleapis.com/gfd_v1_4/DFO_4272_From_20150715_to_20150819.zip: 13287168it [00:02, 4626090.68it/s]                               \n",
      "Downloading: https://storage.googleapis.com/gfd_v1_4/DFO_4280_From_20150725_to_20150805.zip: 16068992it [00:04, 3872810.22it/s]                               \n",
      "Downloading: https://storage.googleapis.com/gfd_v1_4/DFO_4282_From_20150715_to_20150819.zip: 73621376it [00:05, 12639888.64it/s]                              \n",
      "Downloading: https://storage.googleapis.com/gfd_v1_4/DFO_4283_From_20150715_to_20150819.zip: 17913856it [00:03, 5886405.05it/s]                               \n",
      "Downloading: https://storage.googleapis.com/gfd_v1_4/DFO_4288_From_20150813_to_20150911.zip: 10036224it [00:02, 3672670.22it/s]                              \n",
      "Downloading: https://storage.googleapis.com/gfd_v1_4/DFO_4293_From_20150907_to_20150911.zip: 17891712it [00:03, 5207468.31it/s]                               \n",
      "Downloading: https://storage.googleapis.com/gfd_v1_4/DFO_4339_From_20160312_to_20160413.zip: 8876800it [00:02, 3402461.31it/s]                              \n",
      "Downloading: https://storage.googleapis.com/gfd_v1_4/DFO_4355_From_20160420_to_20160501.zip: 17167360it [00:03, 5064370.72it/s]                               \n",
      "Downloading: https://storage.googleapis.com/gfd_v1_4/DFO_4365_From_20160601_to_20160816.zip: 15878272it [00:03, 5268413.10it/s]                               \n",
      "Downloading: https://storage.googleapis.com/gfd_v1_4/DFO_4378_From_20160707_to_20160803.zip: 41001088it [00:04, 8935411.00it/s]                               \n",
      "Downloading: https://storage.googleapis.com/gfd_v1_4/DFO_4382_From_20160725_to_20160826.zip: 41706752it [00:04, 8467949.38it/s]                               \n",
      "Downloading: https://storage.googleapis.com/gfd_v1_4/DFO_4390_From_20160815_to_20160826.zip: 8020352it [00:02, 3099931.90it/s]                              \n",
      "Downloading: https://storage.googleapis.com/gfd_v1_4/DFO_4459_From_20170330_to_20170418.zip: 5575936it [00:02, 2270042.60it/s]                             \n",
      "Downloading: https://storage.googleapis.com/gfd_v1_4/DFO_4465_From_20170414_to_20170421.zip: 44475904it [00:05, 8017139.09it/s]                               \n",
      "Downloading: https://storage.googleapis.com/gfd_v1_4/DFO_4483_From_20170602_to_20170703.zip: 18870016it [00:03, 5617193.20it/s]                               \n",
      "Downloading: https://storage.googleapis.com/gfd_v1_4/DFO_4500_From_20170802_to_20170810.zip: 4719104it [00:02, 1936128.83it/s]                             \n",
      "Downloading: https://storage.googleapis.com/gfd_v1_4/DFO_4507_From_20170810_to_20170826.zip: 41056000it [00:03, 11377576.94it/s]                              \n",
      "Downloading: https://storage.googleapis.com/gfd_v1_4/DFO_4508_From_20170810_to_20170826.zip: 35916672it [00:03, 9534858.32it/s]                               \n",
      "Downloading: https://storage.googleapis.com/gfd_v1_4/DFO_4515_From_20170823_to_20170826.zip: 9462912it [00:02, 3565115.06it/s]                              \n",
      "Downloading: https://storage.googleapis.com/gfd_v1_4/DFO_4653_From_20180717_to_20180723.zip: 15348864it [00:03, 5106917.07it/s]                               \n",
      "Downloading: https://storage.googleapis.com/gfd_v1_4/DFO_4665_From_20180802_to_20180810.zip: 8966016it [00:02, 3320366.92it/s]                              \n",
      "Downloading: https://storage.googleapis.com/gfd_v1_4/DFO_4673_From_20180901_to_20180907.zip: 16128640it [00:03, 4902500.59it/s]                               \n"
     ]
    },
    {
     "name": "stdout",
     "output_type": "stream",
     "text": [
      "Downloading Colombia (COL).\n"
     ]
    },
    {
     "name": "stderr",
     "output_type": "stream",
     "text": [
      "Downloading: https://storage.googleapis.com/gfd_v1_4/DFO_1977_From_20020705_to_20020708.zip: 3631488it [00:02, 1543862.91it/s]                             \n",
      "Downloading: https://storage.googleapis.com/gfd_v1_4/DFO_1996_From_20020720_to_20020731.zip: 34671744it [00:04, 7641538.11it/s]                               \n",
      "Downloading: https://storage.googleapis.com/gfd_v1_4/DFO_2145_From_20030128_to_20030210.zip: 67656448it [00:04, 14747135.49it/s]                              \n",
      "Downloading: https://storage.googleapis.com/gfd_v1_4/DFO_2495_From_20040608_to_20041001.zip: 13412864it [00:03, 4272742.25it/s]                               \n",
      "Downloading: https://storage.googleapis.com/gfd_v1_4/DFO_2588_From_20041120_to_20041127.zip: 5677056it [00:02, 2265411.30it/s]                             \n",
      "Downloading: https://storage.googleapis.com/gfd_v1_4/DFO_2625_From_20050211_to_20050226.zip: 15248256it [00:03, 4382132.77it/s]                              \n",
      "Downloading: https://storage.googleapis.com/gfd_v1_4/DFO_2761_From_20050915_to_20051216.zip: 24585600it [00:03, 6243154.82it/s]                               \n",
      "Downloading: https://storage.googleapis.com/gfd_v1_4/DFO_2786_From_20060125_to_20060417.zip: 151504512it [00:07, 20094431.74it/s]                               \n",
      "Downloading: https://storage.googleapis.com/gfd_v1_4/DFO_2802_From_20060216_to_20060506.zip: 14673920it [00:03, 3679463.86it/s]                               \n",
      "Downloading: https://storage.googleapis.com/gfd_v1_4/DFO_2823_From_20060322_to_20060602.zip: 72523904it [00:04, 15341811.66it/s]                              \n",
      "Downloading: https://storage.googleapis.com/gfd_v1_4/DFO_3007_From_20061226_to_20070202.zip: 49601024it [00:04, 12279808.27it/s]                              \n",
      "Downloading: https://storage.googleapis.com/gfd_v1_4/DFO_3080_From_20070519_to_20070627.zip: 5473024it [00:02, 2188107.59it/s]                             \n",
      "Downloading: https://storage.googleapis.com/gfd_v1_4/DFO_3212_From_20071001_to_20071210.zip: 23651840it [00:03, 6769473.60it/s]                               \n",
      "Downloading: https://storage.googleapis.com/gfd_v1_4/DFO_3263_From_20080130_to_20080501.zip: 75597824it [00:05, 13491848.48it/s]                              \n",
      "Downloading: https://storage.googleapis.com/gfd_v1_4/DFO_3267_From_20080204_to_20080507.zip: 120307328it [00:06, 19539864.34it/s]                               \n",
      "Downloading: https://storage.googleapis.com/gfd_v1_4/DFO_3311_From_20080527_to_20080528.zip: 9105408it [00:02, 3403343.38it/s]                              \n",
      "Downloading: https://storage.googleapis.com/gfd_v1_4/DFO_3421_From_20081213_to_20081214.zip: 12647168it [00:02, 4440492.27it/s]                               \n",
      "Downloading: https://storage.googleapis.com/gfd_v1_4/DFO_3452_From_20090212_to_20090216.zip: 9550080it [00:02, 3521483.25it/s]                              \n",
      "Downloading: https://storage.googleapis.com/gfd_v1_4/DFO_3750_From_20101115_to_20101220.zip: 97321600it [00:05, 17379197.06it/s]                              \n",
      "Downloading: https://storage.googleapis.com/gfd_v1_4/DFO_3754_From_20101125_to_20101220.zip: 13393920it [00:03, 4395902.32it/s]                               \n",
      "Downloading: https://storage.googleapis.com/gfd_v1_4/DFO_3876_From_20111109_to_20111222.zip: 13628160it [00:02, 4702927.12it/s]                               \n",
      "Downloading: https://storage.googleapis.com/gfd_v1_4/DFO_3910_From_20120301_to_20120326.zip: 49886720it [00:05, 9318661.89it/s]                               \n",
      "Downloading: https://storage.googleapis.com/gfd_v1_4/DFO_3925_From_20120501_to_20120507.zip: 60683008it [00:05, 10779117.67it/s]                              \n",
      "Downloading: https://storage.googleapis.com/gfd_v1_4/DFO_4017_From_20130104_to_20130110.zip: 34797056it [00:03, 9915826.31it/s]                               \n",
      "Downloading: https://storage.googleapis.com/gfd_v1_4/DFO_4159_From_20140522_to_20140729.zip: 155167232it [00:07, 20963478.29it/s]                               \n",
      "Downloading: https://storage.googleapis.com/gfd_v1_4/DFO_4225_From_20150220_to_20150224.zip: 45023232it [00:04, 9868018.50it/s]                               \n",
      "Downloading: https://storage.googleapis.com/gfd_v1_4/DFO_4326_From_20160119_to_20160129.zip: 40345728it [00:04, 8404649.14it/s]                               \n",
      "Downloading: https://storage.googleapis.com/gfd_v1_4/DFO_4495_From_20170804_to_20170821.zip: 18403840it [00:03, 5234753.25it/s]                               \n",
      "Downloading: https://storage.googleapis.com/gfd_v1_4/DFO_4662_From_20180726_to_20180904.zip: 27594880it [00:03, 7973978.39it/s]                               \n"
     ]
    },
    {
     "name": "stdout",
     "output_type": "stream",
     "text": [
      "Downloading Congo (COG).\n"
     ]
    },
    {
     "name": "stderr",
     "output_type": "stream",
     "text": [
      "Downloading: https://storage.googleapis.com/gfd_v1_4/DFO_2161_From_20030115_to_20030701.zip: 85033600it [00:05, 14490940.02it/s]                              \n",
      "Downloading: https://storage.googleapis.com/gfd_v1_4/DFO_2162_From_20030206_to_20030220.zip: 28603264it [00:03, 8347365.63it/s]                               \n",
      "Downloading: https://storage.googleapis.com/gfd_v1_4/DFO_2620_From_20050127_to_20050328.zip: 36258432it [00:03, 9083193.74it/s]                               \n",
      "Downloading: https://storage.googleapis.com/gfd_v1_4/DFO_3214_From_20071025_to_20071031.zip: 2337536it [00:02, 1076683.34it/s]                             \n",
      "Downloading: https://storage.googleapis.com/gfd_v1_4/DFO_3272_From_20080209_to_20080501.zip: 77951872it [00:04, 16428114.62it/s]                              \n",
      "Downloading: https://storage.googleapis.com/gfd_v1_4/DFO_3714_From_20100815_to_20100917.zip: 46160512it [00:04, 9496039.20it/s]                               \n",
      "Downloading: https://storage.googleapis.com/gfd_v1_4/DFO_4586_From_20180301_to_20180314.zip: 45594240it [00:05, 7954913.11it/s]                               \n"
     ]
    },
    {
     "name": "stdout",
     "output_type": "stream",
     "text": [
      "Downloading Congo, Democratic Repulbic of (COD).\n"
     ]
    },
    {
     "name": "stderr",
     "output_type": "stream",
     "text": [
      "Downloading: https://storage.googleapis.com/gfd_v1_4/DFO_1917_From_20020426_to_20020528.zip: 61135488it [00:04, 13366347.99it/s]                              \n",
      "Downloading: https://storage.googleapis.com/gfd_v1_4/DFO_2161_From_20030115_to_20030701.zip: 85033600it [00:04, 17088506.66it/s]                              \n",
      "Downloading: https://storage.googleapis.com/gfd_v1_4/DFO_2162_From_20030206_to_20030220.zip: 28603264it [00:03, 8369530.57it/s]                               \n",
      "Downloading: https://storage.googleapis.com/gfd_v1_4/DFO_2430_From_20040201_to_20040602.zip: 97285376it [00:06, 15527540.85it/s]                              \n",
      "Downloading: https://storage.googleapis.com/gfd_v1_4/DFO_2620_From_20050127_to_20050328.zip: 36258432it [00:03, 10351838.22it/s]                              \n",
      "Downloading: https://storage.googleapis.com/gfd_v1_4/DFO_2638_From_20050301_to_20050401.zip: 29967872it [00:04, 6763192.50it/s]                               \n",
      "Downloading: https://storage.googleapis.com/gfd_v1_4/DFO_2952_From_20060812_to_20060821.zip: 13505024it [00:02, 4614314.90it/s]                               \n",
      "Downloading: https://storage.googleapis.com/gfd_v1_4/DFO_3123_From_20070703_to_20071008.zip: 110623744it [00:05, 18655987.43it/s]                               \n",
      "Downloading: https://storage.googleapis.com/gfd_v1_4/DFO_3170_From_20070815_to_20071031.zip: 29934976it [00:03, 8729194.10it/s]                               \n",
      "Downloading: https://storage.googleapis.com/gfd_v1_4/DFO_3214_From_20071025_to_20071031.zip: 2337536it [00:03, 731214.81it/s]                              \n",
      "Downloading: https://storage.googleapis.com/gfd_v1_4/DFO_3272_From_20080209_to_20080501.zip: 77951872it [00:04, 16768451.44it/s]                              \n",
      "Downloading: https://storage.googleapis.com/gfd_v1_4/DFO_3467_From_20090327_to_20090327.zip: 30733440it [00:04, 6883490.41it/s]                               \n",
      "Downloading: https://storage.googleapis.com/gfd_v1_4/DFO_3493_From_20090621_to_20090628.zip: 14777600it [00:02, 5062491.32it/s]                               \n",
      "Downloading: https://storage.googleapis.com/gfd_v1_4/DFO_3714_From_20100815_to_20100917.zip: 46160512it [00:03, 12349517.80it/s]                              \n",
      "Downloading: https://storage.googleapis.com/gfd_v1_4/DFO_3863_From_20110820_to_20110908.zip: 16497920it [00:03, 5435062.51it/s]                               \n",
      "Downloading: https://storage.googleapis.com/gfd_v1_4/DFO_3875_From_20111109_to_20111220.zip: 20213888it [00:04, 4433780.35it/s]                               \n",
      "Downloading: https://storage.googleapis.com/gfd_v1_4/DFO_3917_From_20120409_to_20120426.zip: 24084352it [00:03, 7031476.89it/s]                               \n",
      "Downloading: https://storage.googleapis.com/gfd_v1_4/DFO_3980_From_20120820_to_20120907.zip: 16999296it [00:03, 4776560.17it/s]                               \n",
      "Downloading: https://storage.googleapis.com/gfd_v1_4/DFO_3981_From_20120815_to_20120907.zip: 17677696it [00:03, 5690586.32it/s]                               \n",
      "Downloading: https://storage.googleapis.com/gfd_v1_4/DFO_3991_From_20120907_to_20121003.zip: 39420288it [00:03, 10269540.60it/s]                              \n",
      "Downloading: https://storage.googleapis.com/gfd_v1_4/DFO_4022_From_20130113_to_20130117.zip: 21888768it [00:03, 7144251.52it/s]                               \n",
      "Downloading: https://storage.googleapis.com/gfd_v1_4/DFO_4094_From_20131008_to_20131014.zip: 19903616it [00:03, 5645351.19it/s]                               \n",
      "Downloading: https://storage.googleapis.com/gfd_v1_4/DFO_4324_From_20160114_to_20160129.zip: 23129472it [00:05, 4596042.23it/s]                               \n",
      "Downloading: https://storage.googleapis.com/gfd_v1_4/DFO_4586_From_20180301_to_20180314.zip: 45594240it [00:03, 11963535.07it/s]                              \n",
      "Downloading: https://storage.googleapis.com/gfd_v1_4/DFO_4602_From_20180428_to_20180501.zip: 15977088it [00:04, 3820368.35it/s]                               \n",
      "Downloading: https://storage.googleapis.com/gfd_v1_4/DFO_4603_From_20180423_to_20180425.zip: 15008000it [00:03, 4683530.74it/s]                               \n"
     ]
    },
    {
     "name": "stdout",
     "output_type": "stream",
     "text": [
      "Downloading Costa Rica (CRI).\n"
     ]
    },
    {
     "name": "stderr",
     "output_type": "stream",
     "text": [
      "Downloading: https://storage.googleapis.com/gfd_v1_4/DFO_2717_From_20050821_to_20050830.zip: 20369024it [00:03, 5873315.31it/s]                               \n",
      "Downloading: https://storage.googleapis.com/gfd_v1_4/DFO_2744_From_20051001_to_20051016.zip: 21100800it [00:03, 6705006.55it/s]                               \n",
      "Downloading: https://storage.googleapis.com/gfd_v1_4/DFO_3205_From_20071012_to_20071026.zip: 17747456it [00:03, 5035579.39it/s]                               \n",
      "Downloading: https://storage.googleapis.com/gfd_v1_4/DFO_3490_From_20090619_to_20090622.zip: 16278400it [00:03, 5342810.72it/s]                               \n",
      "Downloading: https://storage.googleapis.com/gfd_v1_4/DFO_3653_From_20100518_to_20100524.zip: 16951040it [00:03, 5465199.63it/s]                               \n",
      "Downloading: https://storage.googleapis.com/gfd_v1_4/DFO_3721_From_20100918_to_20100930.zip: 19787776it [00:03, 5384258.45it/s]                               \n",
      "Downloading: https://storage.googleapis.com/gfd_v1_4/DFO_3871_From_20111010_to_20111101.zip: 30494464it [00:03, 9165309.75it/s]                               \n"
     ]
    },
    {
     "name": "stdout",
     "output_type": "stream",
     "text": [
      "Downloading Croatia (HRV).\n"
     ]
    },
    {
     "name": "stderr",
     "output_type": "stream",
     "text": [
      "Downloading: https://storage.googleapis.com/gfd_v1_4/DFO_1595_From_20000405_to_20000425.zip: 12872192it [00:02, 4529229.78it/s]                               \n",
      "Downloading: https://storage.googleapis.com/gfd_v1_4/DFO_2024_From_20020807_to_20020828.zip: 21745792it [00:03, 7016160.24it/s]                               \n",
      "Downloading: https://storage.googleapis.com/gfd_v1_4/DFO_2060_From_20020921_to_20021008.zip: 8101248it [00:02, 3173535.94it/s]                              \n",
      "Downloading: https://storage.googleapis.com/gfd_v1_4/DFO_2099_From_20021122_to_20021203.zip: 11553152it [00:02, 4214397.73it/s]                              \n",
      "Downloading: https://storage.googleapis.com/gfd_v1_4/DFO_2172_From_20030127_to_20030207.zip: 8097024it [00:02, 3158302.66it/s]                              \n",
      "Downloading: https://storage.googleapis.com/gfd_v1_4/DFO_2174_From_20030117_to_20030303.zip: 10411520it [00:02, 3862030.88it/s]                              \n",
      "Downloading: https://storage.googleapis.com/gfd_v1_4/DFO_2460_From_20040323_to_20040403.zip: 10863232it [00:02, 3992530.95it/s]                               \n",
      "Downloading: https://storage.googleapis.com/gfd_v1_4/DFO_2469_From_20040412_to_20040502.zip: 16473856it [00:03, 5454700.48it/s]                               \n",
      "Downloading: https://storage.googleapis.com/gfd_v1_4/DFO_2626_From_20050217_to_20050324.zip: 8904448it [00:02, 3369731.90it/s]                              \n",
      "Downloading: https://storage.googleapis.com/gfd_v1_4/DFO_2640_From_20050317_to_20050408.zip: 34163456it [00:04, 7682007.65it/s]                               \n",
      "Downloading: https://storage.googleapis.com/gfd_v1_4/DFO_2648_From_20050418_to_20050604.zip: 11809280it [00:03, 3120880.34it/s]                               \n",
      "Downloading: https://storage.googleapis.com/gfd_v1_4/DFO_2784_From_20060102_to_20060120.zip: 8704128it [00:02, 3358238.09it/s]                              \n",
      "Downloading: https://storage.googleapis.com/gfd_v1_4/DFO_2817_From_20060309_to_20060325.zip: 8044160it [00:03, 2229728.24it/s]                              \n",
      "Downloading: https://storage.googleapis.com/gfd_v1_4/DFO_2827_From_20060328_to_20060509.zip: 20910336it [00:03, 6773716.45it/s]                               \n",
      "Downloading: https://storage.googleapis.com/gfd_v1_4/DFO_2832_From_20060404_to_20060511.zip: 18903168it [00:03, 6123251.74it/s]                               \n",
      "Downloading: https://storage.googleapis.com/gfd_v1_4/DFO_3085_From_20070522_to_20070606.zip: 12132352it [00:02, 4342347.19it/s]                               \n",
      "Downloading: https://storage.googleapis.com/gfd_v1_4/DFO_3193_From_20070918_to_20070920.zip: 9723136it [00:02, 3622999.96it/s]                              \n",
      "Downloading: https://storage.googleapis.com/gfd_v1_4/DFO_3536_From_20090907_to_20090910.zip: 16941440it [00:04, 4160549.19it/s]                               \n",
      "Downloading: https://storage.googleapis.com/gfd_v1_4/DFO_3591_From_20100104_to_20100113.zip: 9654144it [00:02, 3617296.49it/s]                              \n",
      "Downloading: https://storage.googleapis.com/gfd_v1_4/DFO_3607_From_20100213_to_20100220.zip: 19352832it [00:03, 5745640.77it/s]                               \n",
      "Downloading: https://storage.googleapis.com/gfd_v1_4/DFO_3648_From_20100515_to_20100524.zip: 14474624it [00:03, 4802563.18it/s]                               \n",
      "Downloading: https://storage.googleapis.com/gfd_v1_4/DFO_3657_From_20100529_to_20100611.zip: 19492864it [00:05, 3556716.71it/s]                               \n",
      "Downloading: https://storage.googleapis.com/gfd_v1_4/DFO_3665_From_20100622_to_20100626.zip: 9102208it [00:02, 3474620.81it/s]                              \n",
      "Downloading: https://storage.googleapis.com/gfd_v1_4/DFO_3756_From_20101203_to_20101217.zip: 8519680it [00:02, 3299480.06it/s]                              \n",
      "Downloading: https://storage.googleapis.com/gfd_v1_4/DFO_3896_From_20120201_to_20120206.zip: 11061760it [00:02, 4044348.36it/s]                               \n",
      "Downloading: https://storage.googleapis.com/gfd_v1_4/DFO_3897_From_20120203_to_20120206.zip: 7316864it [00:02, 2882534.28it/s]                              \n",
      "Downloading: https://storage.googleapis.com/gfd_v1_4/DFO_4211_From_20141204_to_20141214.zip: 23506816it [00:03, 6053634.03it/s]                               \n",
      "Downloading: https://storage.googleapis.com/gfd_v1_4/DFO_4221_From_20150201_to_20150209.zip: 23606528it [00:03, 6979764.84it/s]                               \n",
      "Downloading: https://storage.googleapis.com/gfd_v1_4/DFO_4334_From_20160306_to_20160310.zip: 8499328it [00:02, 3288691.57it/s]                              \n",
      "Downloading: https://storage.googleapis.com/gfd_v1_4/DFO_4580_From_20180307_to_20180314.zip: 7630848it [00:02, 3019476.66it/s]                              \n",
      "Downloading: https://storage.googleapis.com/gfd_v1_4/DFO_4581_From_20180310_to_20180314.zip: 9143168it [00:02, 3489878.98it/s]                              \n",
      "Downloading: https://storage.googleapis.com/gfd_v1_4/DFO_4583_From_20180226_to_20180302.zip: 7512704it [00:02, 2980075.79it/s]                             \n",
      "Downloading: https://storage.googleapis.com/gfd_v1_4/DFO_4597_From_20180325_to_20180408.zip: 8590848it [00:02, 3318901.34it/s]                              \n"
     ]
    },
    {
     "name": "stdout",
     "output_type": "stream",
     "text": [
      "Downloading Cuba (CUB).\n"
     ]
    },
    {
     "name": "stderr",
     "output_type": "stream",
     "text": [
      "Downloading: https://storage.googleapis.com/gfd_v1_4/DFO_1818_From_20011026_to_20011115.zip: 11133184it [00:03, 2942203.46it/s]                               \n",
      "Downloading: https://storage.googleapis.com/gfd_v1_4/DFO_1951_From_20020612_to_20020616.zip: 2190720it [00:02, 1008032.15it/s]                             \n",
      "Downloading: https://storage.googleapis.com/gfd_v1_4/DFO_2064_From_20020929_to_20021007.zip: 7783680it [00:02, 3032048.11it/s]                              \n",
      "Downloading: https://storage.googleapis.com/gfd_v1_4/DFO_2753_From_20051019_to_20051025.zip: 21271040it [00:04, 5275059.51it/s]                               \n",
      "Downloading: https://storage.googleapis.com/gfd_v1_4/DFO_3218_From_20071028_to_20071110.zip: 7536512it [00:02, 2977176.02it/s]                              \n",
      "Downloading: https://storage.googleapis.com/gfd_v1_4/DFO_3637_From_20100417_to_20100421.zip: 2680576it [00:02, 1217724.78it/s]                             \n",
      "Downloading: https://storage.googleapis.com/gfd_v1_4/DFO_4516_From_20170908_to_20170919.zip: 15716992it [00:02, 5252676.18it/s]                               \n"
     ]
    },
    {
     "name": "stdout",
     "output_type": "stream",
     "text": [
      "Downloading Czech Republic (CZE).\n"
     ]
    },
    {
     "name": "stderr",
     "output_type": "stream",
     "text": [
      "Downloading: https://storage.googleapis.com/gfd_v1_4/DFO_2024_From_20020807_to_20020828.zip: 21745792it [00:03, 7157644.61it/s]                               \n",
      "Downloading: https://storage.googleapis.com/gfd_v1_4/DFO_2460_From_20040323_to_20040403.zip: 10863232it [00:02, 4000873.99it/s]                               \n",
      "Downloading: https://storage.googleapis.com/gfd_v1_4/DFO_2469_From_20040412_to_20040502.zip: 16473856it [00:03, 5470455.46it/s]                               \n",
      "Downloading: https://storage.googleapis.com/gfd_v1_4/DFO_2640_From_20050317_to_20050408.zip: 34163456it [00:05, 6267854.67it/s]                               \n",
      "Downloading: https://storage.googleapis.com/gfd_v1_4/DFO_2827_From_20060328_to_20060509.zip: 20910336it [00:04, 4711019.51it/s]                               \n",
      "Downloading: https://storage.googleapis.com/gfd_v1_4/DFO_2832_From_20060404_to_20060511.zip: 18903168it [00:05, 3441089.17it/s]                               \n",
      "Downloading: https://storage.googleapis.com/gfd_v1_4/DFO_3648_From_20100515_to_20100524.zip: 14474624it [00:03, 3638690.34it/s]                               \n",
      "Downloading: https://storage.googleapis.com/gfd_v1_4/DFO_3657_From_20100529_to_20100611.zip: 19492864it [00:04, 4176807.91it/s]                               \n",
      "Downloading: https://storage.googleapis.com/gfd_v1_4/DFO_3698_From_20100727_to_20100808.zip: 6945920it [00:02, 2776211.79it/s]                              \n",
      "Downloading: https://storage.googleapis.com/gfd_v1_4/DFO_4503_From_20170725_to_20170729.zip: 7489536it [00:03, 2058571.19it/s]                              \n"
     ]
    },
    {
     "name": "stdout",
     "output_type": "stream",
     "text": [
      "Downloading Denmark (DNK).\n"
     ]
    },
    {
     "name": "stderr",
     "output_type": "stream",
     "text": [
      "Downloading: https://storage.googleapis.com/gfd_v1_4/DFO_2024_From_20020807_to_20020828.zip: 21745792it [00:04, 4536985.96it/s]                               \n",
      "Downloading: https://storage.googleapis.com/gfd_v1_4/DFO_4503_From_20170725_to_20170729.zip: 7489536it [00:03, 2123840.32it/s]                              \n"
     ]
    },
    {
     "name": "stdout",
     "output_type": "stream",
     "text": [
      "Downloading Djibouti (DJI).\n"
     ]
    },
    {
     "name": "stderr",
     "output_type": "stream",
     "text": [
      "Downloading: https://storage.googleapis.com/gfd_v1_4/DFO_1907_From_20020416_to_20020421.zip: 10391168it [00:03, 2697690.48it/s]                              \n",
      "Downloading: https://storage.googleapis.com/gfd_v1_4/DFO_2649_From_20050423_to_20050614.zip: 31061632it [00:04, 6362800.43it/s]                               \n",
      "Downloading: https://storage.googleapis.com/gfd_v1_4/DFO_3146_From_20070729_to_20071005.zip: 69832064it [00:05, 11834693.22it/s]                              \n"
     ]
    },
    {
     "name": "stdout",
     "output_type": "stream",
     "text": [
      "Downloading Dominican Republic (DOM).\n"
     ]
    },
    {
     "name": "stderr",
     "output_type": "stream",
     "text": [
      "Downloading: https://storage.googleapis.com/gfd_v1_4/DFO_2380_From_20031110_to_20031126.zip: 3084800it [00:03, 925291.05it/s]                              \n",
      "Downloading: https://storage.googleapis.com/gfd_v1_4/DFO_2566_From_20040915_to_20041001.zip: 13792768it [00:04, 3408611.41it/s]                               \n",
      "Downloading: https://storage.googleapis.com/gfd_v1_4/DFO_2753_From_20051019_to_20051025.zip: 21271040it [00:05, 4236280.36it/s]                               \n",
      "Downloading: https://storage.googleapis.com/gfd_v1_4/DFO_3089_From_20070530_to_20070603.zip: 1732096it [00:03, 550988.59it/s]                              \n",
      "Downloading: https://storage.googleapis.com/gfd_v1_4/DFO_3218_From_20071028_to_20071110.zip: 7536512it [00:02, 2973543.94it/s]                              \n",
      "Downloading: https://storage.googleapis.com/gfd_v1_4/DFO_3239_From_20071211_to_20071217.zip: 1689728it [00:02, 805474.65it/s]                              \n",
      "Downloading: https://storage.googleapis.com/gfd_v1_4/DFO_3446_From_20090201_to_20090212.zip: 1785600it [00:02, 830199.77it/s]                              \n",
      "Downloading: https://storage.googleapis.com/gfd_v1_4/DFO_3670_From_20100625_to_20100627.zip: 1613568it [00:03, 523747.07it/s]                              \n",
      "Downloading: https://storage.googleapis.com/gfd_v1_4/DFO_3915_From_20120408_to_20120426.zip: 2002432it [00:03, 632718.46it/s]                              \n",
      "Downloading: https://storage.googleapis.com/gfd_v1_4/DFO_4227_From_20150220_to_20150224.zip: 1626496it [00:02, 567967.81it/s]                              \n",
      "Downloading: https://storage.googleapis.com/gfd_v1_4/DFO_4516_From_20170908_to_20170919.zip: 15716992it [00:04, 3876049.29it/s]                               \n"
     ]
    },
    {
     "name": "stdout",
     "output_type": "stream",
     "text": [
      "Downloading Ecuador (ECU).\n"
     ]
    },
    {
     "name": "stderr",
     "output_type": "stream",
     "text": [
      "Downloading: https://storage.googleapis.com/gfd_v1_4/DFO_2145_From_20030128_to_20030210.zip: 67656448it [00:05, 12159263.95it/s]                              \n",
      "Downloading: https://storage.googleapis.com/gfd_v1_4/DFO_2761_From_20050915_to_20051216.zip: 24585600it [00:04, 5843637.50it/s]                               \n",
      "Downloading: https://storage.googleapis.com/gfd_v1_4/DFO_2786_From_20060125_to_20060417.zip: 151504512it [00:06, 21680986.91it/s]                               \n",
      "Downloading: https://storage.googleapis.com/gfd_v1_4/DFO_2802_From_20060216_to_20060506.zip: 14673920it [00:02, 4934407.25it/s]                               \n",
      "Downloading: https://storage.googleapis.com/gfd_v1_4/DFO_2823_From_20060322_to_20060602.zip: 72523904it [00:04, 15611693.20it/s]                              \n",
      "Downloading: https://storage.googleapis.com/gfd_v1_4/DFO_3007_From_20061226_to_20070202.zip: 49601024it [00:04, 9986444.37it/s]                               \n",
      "Downloading: https://storage.googleapis.com/gfd_v1_4/DFO_3212_From_20071001_to_20071210.zip: 23651840it [00:03, 7574837.21it/s]                               \n",
      "Downloading: https://storage.googleapis.com/gfd_v1_4/DFO_3263_From_20080130_to_20080501.zip: 75597824it [00:04, 15938140.66it/s]                              \n",
      "Downloading: https://storage.googleapis.com/gfd_v1_4/DFO_3267_From_20080204_to_20080507.zip: 120307328it [00:06, 19581956.83it/s]                               \n",
      "Downloading: https://storage.googleapis.com/gfd_v1_4/DFO_3452_From_20090212_to_20090216.zip: 9550080it [00:02, 3590497.53it/s]                              \n",
      "Downloading: https://storage.googleapis.com/gfd_v1_4/DFO_3750_From_20101115_to_20101220.zip: 97321600it [00:05, 17733212.88it/s]                              \n",
      "Downloading: https://storage.googleapis.com/gfd_v1_4/DFO_3910_From_20120301_to_20120326.zip: 49886720it [00:04, 12468256.23it/s]                              \n",
      "Downloading: https://storage.googleapis.com/gfd_v1_4/DFO_3925_From_20120501_to_20120507.zip: 60683008it [00:05, 10335361.46it/s]                              \n",
      "Downloading: https://storage.googleapis.com/gfd_v1_4/DFO_4017_From_20130104_to_20130110.zip: 34797056it [00:04, 7754736.99it/s]                               \n",
      "Downloading: https://storage.googleapis.com/gfd_v1_4/DFO_4159_From_20140522_to_20140729.zip: 155167232it [00:07, 20901989.64it/s]                               \n",
      "Downloading: https://storage.googleapis.com/gfd_v1_4/DFO_4225_From_20150220_to_20150224.zip: 45023232it [00:04, 10928288.60it/s]                              \n",
      "Downloading: https://storage.googleapis.com/gfd_v1_4/DFO_4326_From_20160119_to_20160129.zip: 40345728it [00:03, 11469281.23it/s]                              \n"
     ]
    },
    {
     "name": "stdout",
     "output_type": "stream",
     "text": [
      "Downloading Egypt (EGY).\n"
     ]
    },
    {
     "name": "stderr",
     "output_type": "stream",
     "text": [
      "Downloading: https://storage.googleapis.com/gfd_v1_4/DFO_1772_From_20010806_to_20010913.zip: 32349824it [00:03, 9539502.28it/s]                               \n",
      "Downloading: https://storage.googleapis.com/gfd_v1_4/DFO_1938_From_20020604_to_20020606.zip: 6878080it [00:02, 2735451.01it/s]                              \n",
      "Downloading: https://storage.googleapis.com/gfd_v1_4/DFO_2175_From_20030204_to_20030312.zip: 9720448it [00:02, 3600850.44it/s]                              \n",
      "Downloading: https://storage.googleapis.com/gfd_v1_4/DFO_2433_From_20040124_to_20040214.zip: 9122560it [00:02, 3379624.74it/s]                              \n",
      "Downloading: https://storage.googleapis.com/gfd_v1_4/DFO_3123_From_20070703_to_20071008.zip: 110623744it [00:06, 18367287.79it/s]                               \n",
      "Downloading: https://storage.googleapis.com/gfd_v1_4/DFO_3146_From_20070729_to_20071005.zip: 69832064it [00:04, 14484628.62it/s]                              \n",
      "Downloading: https://storage.googleapis.com/gfd_v1_4/DFO_3536_From_20090907_to_20090910.zip: 16941440it [00:04, 4060829.36it/s]                               \n",
      "Downloading: https://storage.googleapis.com/gfd_v1_4/DFO_3607_From_20100213_to_20100220.zip: 19352832it [00:04, 4141629.96it/s]                               \n",
      "Downloading: https://storage.googleapis.com/gfd_v1_4/DFO_3870_From_20111008_to_20111010.zip: 8552832it [00:02, 3195656.77it/s]                              \n",
      "Downloading: https://storage.googleapis.com/gfd_v1_4/DFO_3906_From_20120304_to_20120307.zip: 7902464it [00:03, 2163476.09it/s]                              \n",
      "Downloading: https://storage.googleapis.com/gfd_v1_4/DFO_4006_From_20121202_to_20121204.zip: 7805312it [00:02, 3019385.87it/s]                              \n",
      "Downloading: https://storage.googleapis.com/gfd_v1_4/DFO_4019_From_20130108_to_20130110.zip: 11673600it [00:03, 3025283.62it/s]                               \n",
      "Downloading: https://storage.googleapis.com/gfd_v1_4/DFO_4211_From_20141204_to_20141214.zip: 23506816it [00:04, 5631811.15it/s]                               \n",
      "Downloading: https://storage.googleapis.com/gfd_v1_4/DFO_4221_From_20150201_to_20150209.zip: 23606528it [00:04, 5046033.16it/s]                               \n",
      "Downloading: https://storage.googleapis.com/gfd_v1_4/DFO_4305_From_20151024_to_20151028.zip: 11037312it [00:02, 3958061.02it/s]                               \n"
     ]
    },
    {
     "name": "stdout",
     "output_type": "stream",
     "text": [
      "Downloading El Salvador (SLV).\n"
     ]
    },
    {
     "name": "stderr",
     "output_type": "stream",
     "text": [
      "Downloading: https://storage.googleapis.com/gfd_v1_4/DFO_2717_From_20050821_to_20050830.zip: 20369024it [00:03, 6273321.78it/s]                               \n",
      "Downloading: https://storage.googleapis.com/gfd_v1_4/DFO_2744_From_20051001_to_20051016.zip: 21100800it [00:03, 6938494.05it/s]                               \n",
      "Downloading: https://storage.googleapis.com/gfd_v1_4/DFO_3205_From_20071012_to_20071026.zip: 17747456it [00:04, 4106100.64it/s]                               \n",
      "Downloading: https://storage.googleapis.com/gfd_v1_4/DFO_3490_From_20090619_to_20090622.zip: 16278400it [00:04, 3984223.03it/s]                               \n",
      "Downloading: https://storage.googleapis.com/gfd_v1_4/DFO_3653_From_20100518_to_20100524.zip: 16951040it [00:04, 3834345.93it/s]                               \n",
      "Downloading: https://storage.googleapis.com/gfd_v1_4/DFO_3721_From_20100918_to_20100930.zip: 19787776it [00:04, 4473135.54it/s]                               \n",
      "Downloading: https://storage.googleapis.com/gfd_v1_4/DFO_3871_From_20111010_to_20111101.zip: 30494464it [00:03, 9147628.21it/s]                               \n"
     ]
    },
    {
     "name": "stdout",
     "output_type": "stream",
     "text": [
      "Downloading Eritrea (ERI).\n"
     ]
    },
    {
     "name": "stderr",
     "output_type": "stream",
     "text": [
      "Downloading: https://storage.googleapis.com/gfd_v1_4/DFO_2649_From_20050423_to_20050614.zip: 31061632it [00:03, 8699722.41it/s]                               \n",
      "Downloading: https://storage.googleapis.com/gfd_v1_4/DFO_3123_From_20070703_to_20071008.zip: 110623744it [00:05, 19141003.17it/s]                               \n",
      "Downloading: https://storage.googleapis.com/gfd_v1_4/DFO_3146_From_20070729_to_20071005.zip: 69832064it [00:05, 11918945.49it/s]                              \n"
     ]
    },
    {
     "name": "stdout",
     "output_type": "stream",
     "text": [
      "Downloading Estonia (EST).\n"
     ]
    },
    {
     "name": "stderr",
     "output_type": "stream",
     "text": [
      "Downloading: https://storage.googleapis.com/gfd_v1_4/DFO_2193_From_20030322_to_20030505.zip: 34770944it [00:04, 7624035.57it/s]                               \n",
      "Downloading: https://storage.googleapis.com/gfd_v1_4/DFO_2209_From_20030415_to_20030518.zip: 34712192it [00:05, 6319773.11it/s]                               \n",
      "Downloading: https://storage.googleapis.com/gfd_v1_4/DFO_2463_From_20040330_to_20040505.zip: 74277504it [00:06, 12195935.65it/s]                              \n",
      "Downloading: https://storage.googleapis.com/gfd_v1_4/DFO_3630_From_20100327_to_20100331.zip: 8015616it [00:03, 2223082.36it/s]                              \n",
      "Downloading: https://storage.googleapis.com/gfd_v1_4/DFO_3916_From_20120408_to_20120426.zip: 65857408it [00:05, 11945511.53it/s]                              \n"
     ]
    },
    {
     "name": "stdout",
     "output_type": "stream",
     "text": [
      "Downloading Ethiopia (ETH).\n"
     ]
    },
    {
     "name": "stderr",
     "output_type": "stream",
     "text": [
      "Downloading: https://storage.googleapis.com/gfd_v1_4/DFO_1772_From_20010806_to_20010913.zip: 32349824it [00:04, 7148159.39it/s]                               \n",
      "Downloading: https://storage.googleapis.com/gfd_v1_4/DFO_1820_From_20011101_to_20011114.zip: 8743936it [00:03, 2380795.93it/s]                              \n",
      "Downloading: https://storage.googleapis.com/gfd_v1_4/DFO_1907_From_20020416_to_20020421.zip: 10391168it [00:03, 2798127.66it/s]                              \n",
      "Downloading: https://storage.googleapis.com/gfd_v1_4/DFO_1917_From_20020426_to_20020528.zip: 61135488it [00:05, 10768558.21it/s]                              \n",
      "Downloading: https://storage.googleapis.com/gfd_v1_4/DFO_2224_From_20030504_to_20030520.zip: 13506688it [00:03, 3406278.04it/s]                               \n",
      "Downloading: https://storage.googleapis.com/gfd_v1_4/DFO_2649_From_20050423_to_20050614.zip: 31061632it [00:05, 5815486.35it/s]                               \n",
      "Downloading: https://storage.googleapis.com/gfd_v1_4/DFO_2952_From_20060812_to_20060821.zip: 13505024it [00:03, 4263401.61it/s]                               \n",
      "Downloading: https://storage.googleapis.com/gfd_v1_4/DFO_2955_From_20060824_to_20061010.zip: 11292032it [00:02, 4099283.45it/s]                               \n",
      "Downloading: https://storage.googleapis.com/gfd_v1_4/DFO_3123_From_20070703_to_20071008.zip: 110623744it [00:07, 15640585.19it/s]                               \n",
      "Downloading: https://storage.googleapis.com/gfd_v1_4/DFO_3146_From_20070729_to_20071005.zip: 69832064it [00:06, 11616543.15it/s]                              \n",
      "Downloading: https://storage.googleapis.com/gfd_v1_4/DFO_3170_From_20070815_to_20071031.zip: 29934976it [00:05, 5475598.09it/s]                               \n",
      "Downloading: https://storage.googleapis.com/gfd_v1_4/DFO_3287_From_20080320_to_20080402.zip: 5957760it [00:02, 2328527.80it/s]                             \n",
      "Downloading: https://storage.googleapis.com/gfd_v1_4/DFO_3367_From_20080820_to_20080828.zip: 9012224it [00:03, 2449151.11it/s]                              \n",
      "Downloading: https://storage.googleapis.com/gfd_v1_4/DFO_3394_From_20081014_to_20081016.zip: 7275264it [00:03, 2019355.64it/s]                              \n",
      "Downloading: https://storage.googleapis.com/gfd_v1_4/DFO_3404_From_20081116_to_20081120.zip: 4775680it [00:02, 1748043.18it/s]                             \n",
      "Downloading: https://storage.googleapis.com/gfd_v1_4/DFO_3863_From_20110820_to_20110908.zip: 16497920it [00:03, 5392877.70it/s]                               \n",
      "Downloading: https://storage.googleapis.com/gfd_v1_4/DFO_3874_From_20111109_to_20111115.zip: 4826368it [00:03, 1399768.40it/s]                             \n",
      "Downloading: https://storage.googleapis.com/gfd_v1_4/DFO_3875_From_20111109_to_20111220.zip: 20213888it [00:04, 4218952.68it/s]                               \n",
      "Downloading: https://storage.googleapis.com/gfd_v1_4/DFO_3881_From_20111129_to_20111222.zip: 10121856it [00:02, 3750936.42it/s]                              \n",
      "Downloading: https://storage.googleapis.com/gfd_v1_4/DFO_3980_From_20120820_to_20120907.zip: 16999296it [00:04, 4111449.54it/s]                               \n",
      "Downloading: https://storage.googleapis.com/gfd_v1_4/DFO_3981_From_20120815_to_20120907.zip: 17677696it [00:04, 4307377.65it/s]                               \n",
      "Downloading: https://storage.googleapis.com/gfd_v1_4/DFO_3991_From_20120907_to_20121003.zip: 39420288it [00:04, 8752927.86it/s]                               \n",
      "Downloading: https://storage.googleapis.com/gfd_v1_4/DFO_3992_From_20120922_to_20121003.zip: 9675008it [00:02, 3338545.31it/s]                              \n",
      "Downloading: https://storage.googleapis.com/gfd_v1_4/DFO_4022_From_20130113_to_20130117.zip: 21888768it [00:03, 7045472.28it/s]                               \n",
      "Downloading: https://storage.googleapis.com/gfd_v1_4/DFO_4055_From_20130501_to_20130516.zip: 25339648it [00:03, 7421892.75it/s]                               \n",
      "Downloading: https://storage.googleapis.com/gfd_v1_4/DFO_4186_From_20140921_to_20141011.zip: 12597888it [00:02, 4295859.11it/s]                               \n",
      "Downloading: https://storage.googleapis.com/gfd_v1_4/DFO_4201_From_20141024_to_20141116.zip: 17483776it [00:03, 5679879.54it/s]                               \n",
      "Downloading: https://storage.googleapis.com/gfd_v1_4/DFO_4369_From_20160630_to_20160706.zip: 9648256it [00:03, 2551572.55it/s]                              \n"
     ]
    },
    {
     "name": "stdout",
     "output_type": "stream",
     "text": [
      "Downloading Finland (FIN).\n"
     ]
    },
    {
     "name": "stderr",
     "output_type": "stream",
     "text": [
      "Downloading: https://storage.googleapis.com/gfd_v1_4/DFO_2463_From_20040330_to_20040505.zip: 74277504it [00:05, 12796420.42it/s]                              \n",
      "Downloading: https://storage.googleapis.com/gfd_v1_4/DFO_3916_From_20120408_to_20120426.zip: 65857408it [00:04, 13934150.63it/s]                              \n"
     ]
    },
    {
     "name": "stdout",
     "output_type": "stream",
     "text": [
      "Downloading France (FRA).\n"
     ]
    },
    {
     "name": "stderr",
     "output_type": "stream",
     "text": [
      "Downloading: https://storage.googleapis.com/gfd_v1_4/DFO_2024_From_20020807_to_20020828.zip: 21745792it [00:04, 4804625.41it/s]                               \n",
      "Downloading: https://storage.googleapis.com/gfd_v1_4/DFO_2052_From_20020908_to_20020912.zip: 8138368it [00:03, 2233397.35it/s]                              \n",
      "Downloading: https://storage.googleapis.com/gfd_v1_4/DFO_2099_From_20021122_to_20021203.zip: 11553152it [00:02, 4221740.38it/s]                               \n",
      "Downloading: https://storage.googleapis.com/gfd_v1_4/DFO_2103_From_20021213_to_20021214.zip: 8058112it [00:03, 2231586.61it/s]                             \n",
      "Downloading: https://storage.googleapis.com/gfd_v1_4/DFO_2117_From_20030101_to_20030108.zip: 34964608it [00:04, 7866181.93it/s]                               \n",
      "Downloading: https://storage.googleapis.com/gfd_v1_4/DFO_2140_From_20030125_to_20030127.zip: 5623040it [00:02, 2252520.32it/s]                             \n",
      "Downloading: https://storage.googleapis.com/gfd_v1_4/DFO_2169_From_20030205_to_20030213.zip: 12968320it [00:03, 3253592.80it/s]                               \n",
      "Downloading: https://storage.googleapis.com/gfd_v1_4/DFO_2179_From_20030227_to_20030310.zip: 8454784it [00:02, 3244327.27it/s]                              \n",
      "Downloading: https://storage.googleapis.com/gfd_v1_4/DFO_2359_From_20030922_to_20030923.zip: 7927680it [00:02, 3064315.31it/s]                              \n",
      "Downloading: https://storage.googleapis.com/gfd_v1_4/DFO_2395_From_20031201_to_20031210.zip: 13965440it [00:02, 4807820.00it/s]                               \n",
      "Downloading: https://storage.googleapis.com/gfd_v1_4/DFO_2724_From_20050907_to_20050909.zip: 10353664it [00:02, 3755703.80it/s]                               \n",
      "Downloading: https://storage.googleapis.com/gfd_v1_4/DFO_3661_From_20100616_to_20100617.zip: 7793024it [00:02, 3036668.00it/s]                              \n"
     ]
    },
    {
     "name": "stdout",
     "output_type": "stream",
     "text": [
      "Downloading Gabon (GAB).\n",
      "Downloading Gambia (GMB).\n"
     ]
    },
    {
     "name": "stderr",
     "output_type": "stream",
     "text": [
      "Downloading: https://storage.googleapis.com/gfd_v1_4/DFO_2316_From_20030809_to_20031105.zip: 57435264it [00:05, 10274343.39it/s]                              \n",
      "Downloading: https://storage.googleapis.com/gfd_v1_4/DFO_3180_From_20070831_to_20070920.zip: 18003712it [00:05, 3055878.53it/s]                               \n",
      "Downloading: https://storage.googleapis.com/gfd_v1_4/DFO_3531_From_20090824_to_20090826.zip: 1024384it [00:01, 533342.18it/s]                              \n",
      "Downloading: https://storage.googleapis.com/gfd_v1_4/DFO_3534_From_20090810_to_20090902.zip: 156698752it [00:07, 19828742.27it/s]                               \n",
      "Downloading: https://storage.googleapis.com/gfd_v1_4/DFO_3971_From_20120824_to_20120829.zip: 10093056it [00:02, 3711787.86it/s]                              \n",
      "Downloading: https://storage.googleapis.com/gfd_v1_4/DFO_3982_From_20120902_to_20120907.zip: 9936000it [00:03, 2615877.05it/s]                              \n"
     ]
    },
    {
     "name": "stdout",
     "output_type": "stream",
     "text": [
      "Downloading Georgia (GEO).\n"
     ]
    },
    {
     "name": "stderr",
     "output_type": "stream",
     "text": [
      "Downloading: https://storage.googleapis.com/gfd_v1_4/DFO_1962_From_20020619_to_20020701.zip: 9533184it [00:02, 3539774.37it/s]                              \n",
      "Downloading: https://storage.googleapis.com/gfd_v1_4/DFO_2206_From_20030416_to_20030604.zip: 6004736it [00:02, 2458100.53it/s]                             \n",
      "Downloading: https://storage.googleapis.com/gfd_v1_4/DFO_2650_From_20050425_to_20050530.zip: 86925440it [00:05, 17258336.88it/s]                              \n"
     ]
    },
    {
     "name": "stdout",
     "output_type": "stream",
     "text": [
      "Downloading Germany (DEU).\n"
     ]
    },
    {
     "name": "stderr",
     "output_type": "stream",
     "text": [
      "Downloading: https://storage.googleapis.com/gfd_v1_4/DFO_2024_From_20020807_to_20020828.zip: 21745792it [00:03, 6388834.81it/s]                               \n",
      "Downloading: https://storage.googleapis.com/gfd_v1_4/DFO_2117_From_20030101_to_20030108.zip: 34964608it [00:03, 10334407.34it/s]                              \n",
      "Downloading: https://storage.googleapis.com/gfd_v1_4/DFO_2460_From_20040323_to_20040403.zip: 10863232it [00:03, 2827460.67it/s]                              \n",
      "Downloading: https://storage.googleapis.com/gfd_v1_4/DFO_2469_From_20040412_to_20040502.zip: 16473856it [00:03, 5362890.04it/s]                               \n",
      "Downloading: https://storage.googleapis.com/gfd_v1_4/DFO_2640_From_20050317_to_20050408.zip: 34163456it [00:04, 7582091.76it/s]                               \n",
      "Downloading: https://storage.googleapis.com/gfd_v1_4/DFO_2827_From_20060328_to_20060509.zip: 20910336it [00:03, 5481787.39it/s]                               \n",
      "Downloading: https://storage.googleapis.com/gfd_v1_4/DFO_2832_From_20060404_to_20060511.zip: 18903168it [00:03, 5583350.99it/s]                               \n",
      "Downloading: https://storage.googleapis.com/gfd_v1_4/DFO_3648_From_20100515_to_20100524.zip: 14474624it [00:02, 4985448.19it/s]                               \n",
      "Downloading: https://storage.googleapis.com/gfd_v1_4/DFO_3657_From_20100529_to_20100611.zip: 19492864it [00:03, 5767431.36it/s]                               \n",
      "Downloading: https://storage.googleapis.com/gfd_v1_4/DFO_3698_From_20100727_to_20100808.zip: 6945920it [00:02, 2731141.82it/s]                             \n",
      "Downloading: https://storage.googleapis.com/gfd_v1_4/DFO_4503_From_20170725_to_20170729.zip: 7489536it [00:02, 2959726.14it/s]                              \n"
     ]
    },
    {
     "name": "stdout",
     "output_type": "stream",
     "text": [
      "Downloading Ghana (GHA).\n"
     ]
    },
    {
     "name": "stderr",
     "output_type": "stream",
     "text": [
      "Downloading: https://storage.googleapis.com/gfd_v1_4/DFO_2320_From_20030810_to_20031019.zip: 82118272it [00:04, 16597766.36it/s]                              \n",
      "Downloading: https://storage.googleapis.com/gfd_v1_4/DFO_2576_From_20041007_to_20041104.zip: 5117696it [00:02, 2146286.34it/s]                             \n",
      "Downloading: https://storage.googleapis.com/gfd_v1_4/DFO_2947_From_20060803_to_20061011.zip: 119138432it [00:06, 19779316.08it/s]                               \n",
      "Downloading: https://storage.googleapis.com/gfd_v1_4/DFO_3151_From_20070804_to_20071021.zip: 36338560it [00:03, 9631635.45it/s]                               \n",
      "Downloading: https://storage.googleapis.com/gfd_v1_4/DFO_3166_From_20070726_to_20071010.zip: 90931328it [00:05, 17999114.98it/s]                              \n",
      "Downloading: https://storage.googleapis.com/gfd_v1_4/DFO_3534_From_20090810_to_20090902.zip: 156698752it [00:07, 20174132.91it/s]                               \n",
      "Downloading: https://storage.googleapis.com/gfd_v1_4/DFO_3555_From_20091020_to_20091026.zip: 5390848it [00:02, 2178949.80it/s]                             \n",
      "Downloading: https://storage.googleapis.com/gfd_v1_4/DFO_3663_From_20100622_to_20100626.zip: 7249920it [00:02, 2863020.11it/s]                             \n",
      "Downloading: https://storage.googleapis.com/gfd_v1_4/DFO_3747_From_20101105_to_20101111.zip: 3331712it [00:02, 1454328.44it/s]                             \n",
      "Downloading: https://storage.googleapis.com/gfd_v1_4/DFO_3872_From_20111026_to_20111029.zip: 1521664it [00:02, 743390.10it/s]                              \n",
      "Downloading: https://storage.googleapis.com/gfd_v1_4/DFO_4683_From_20180901_to_20181002.zip: 8356480it [00:02, 3171588.19it/s]                              \n"
     ]
    },
    {
     "name": "stdout",
     "output_type": "stream",
     "text": [
      "Downloading Greece (GRC).\n"
     ]
    },
    {
     "name": "stderr",
     "output_type": "stream",
     "text": [
      "Downloading: https://storage.googleapis.com/gfd_v1_4/DFO_2060_From_20020921_to_20021008.zip: 8101248it [00:03, 2212024.53it/s]                              \n",
      "Downloading: https://storage.googleapis.com/gfd_v1_4/DFO_2099_From_20021122_to_20021203.zip: 11553152it [00:02, 4176850.61it/s]                              \n",
      "Downloading: https://storage.googleapis.com/gfd_v1_4/DFO_2172_From_20030127_to_20030207.zip: 8097024it [00:02, 3131163.03it/s]                              \n",
      "Downloading: https://storage.googleapis.com/gfd_v1_4/DFO_2174_From_20030117_to_20030303.zip: 10411520it [00:03, 2752952.46it/s]                              \n",
      "Downloading: https://storage.googleapis.com/gfd_v1_4/DFO_2626_From_20050217_to_20050324.zip: 8904448it [00:02, 3282059.97it/s]                              \n",
      "Downloading: https://storage.googleapis.com/gfd_v1_4/DFO_2784_From_20060102_to_20060120.zip: 8704128it [00:03, 2386652.94it/s]                              \n",
      "Downloading: https://storage.googleapis.com/gfd_v1_4/DFO_2817_From_20060309_to_20060325.zip: 8044160it [00:02, 3177917.00it/s]                              \n",
      "Downloading: https://storage.googleapis.com/gfd_v1_4/DFO_3085_From_20070522_to_20070606.zip: 12132352it [00:02, 4054486.75it/s]                               \n",
      "Downloading: https://storage.googleapis.com/gfd_v1_4/DFO_3193_From_20070918_to_20070920.zip: 9723136it [00:03, 2607477.20it/s]                              \n",
      "Downloading: https://storage.googleapis.com/gfd_v1_4/DFO_3536_From_20090907_to_20090910.zip: 16941440it [00:03, 5578220.60it/s]                               \n",
      "Downloading: https://storage.googleapis.com/gfd_v1_4/DFO_3591_From_20100104_to_20100113.zip: 9654144it [00:02, 3618004.31it/s]                              \n",
      "Downloading: https://storage.googleapis.com/gfd_v1_4/DFO_3607_From_20100213_to_20100220.zip: 19352832it [00:03, 5709009.82it/s]                               \n",
      "Downloading: https://storage.googleapis.com/gfd_v1_4/DFO_3665_From_20100622_to_20100626.zip: 9102208it [00:02, 3473281.13it/s]                              \n",
      "Downloading: https://storage.googleapis.com/gfd_v1_4/DFO_3756_From_20101203_to_20101217.zip: 8519680it [00:03, 2325226.38it/s]                              \n",
      "Downloading: https://storage.googleapis.com/gfd_v1_4/DFO_3896_From_20120201_to_20120206.zip: 11061760it [00:02, 4052969.12it/s]                               \n",
      "Downloading: https://storage.googleapis.com/gfd_v1_4/DFO_3897_From_20120203_to_20120206.zip: 7316864it [00:02, 2857553.13it/s]                              \n",
      "Downloading: https://storage.googleapis.com/gfd_v1_4/DFO_4211_From_20141204_to_20141214.zip: 23506816it [00:03, 7683558.00it/s]                               \n",
      "Downloading: https://storage.googleapis.com/gfd_v1_4/DFO_4221_From_20150201_to_20150209.zip: 23606528it [00:04, 5682767.48it/s]                               \n",
      "Downloading: https://storage.googleapis.com/gfd_v1_4/DFO_4580_From_20180307_to_20180314.zip: 7630848it [00:02, 3033365.05it/s]                              \n",
      "Downloading: https://storage.googleapis.com/gfd_v1_4/DFO_4581_From_20180310_to_20180314.zip: 9143168it [00:02, 3491305.21it/s]                              \n",
      "Downloading: https://storage.googleapis.com/gfd_v1_4/DFO_4583_From_20180226_to_20180302.zip: 7512704it [00:03, 2082597.91it/s]                              \n",
      "Downloading: https://storage.googleapis.com/gfd_v1_4/DFO_4597_From_20180325_to_20180408.zip: 8590848it [00:02, 3333174.05it/s]                              \n"
     ]
    },
    {
     "name": "stdout",
     "output_type": "stream",
     "text": [
      "Downloading Guatemala (GTM).\n"
     ]
    },
    {
     "name": "stderr",
     "output_type": "stream",
     "text": [
      "Downloading: https://storage.googleapis.com/gfd_v1_4/DFO_1818_From_20011026_to_20011115.zip: 11133184it [00:02, 4031005.88it/s]                               \n",
      "Downloading: https://storage.googleapis.com/gfd_v1_4/DFO_2510_From_20040624_to_20040720.zip: 10182656it [00:02, 3743703.23it/s]                              \n",
      "Downloading: https://storage.googleapis.com/gfd_v1_4/DFO_2717_From_20050821_to_20050830.zip: 20369024it [00:04, 4972603.55it/s]                               \n",
      "Downloading: https://storage.googleapis.com/gfd_v1_4/DFO_2744_From_20051001_to_20051016.zip: 21100800it [00:03, 6842282.82it/s]                               \n",
      "Downloading: https://storage.googleapis.com/gfd_v1_4/DFO_2753_From_20051019_to_20051025.zip: 21271040it [00:03, 7030302.89it/s]                               \n",
      "Downloading: https://storage.googleapis.com/gfd_v1_4/DFO_3184_From_20070904_to_20070912.zip: 15148160it [00:03, 4734067.64it/s]                               \n",
      "Downloading: https://storage.googleapis.com/gfd_v1_4/DFO_3205_From_20071012_to_20071026.zip: 17747456it [00:04, 4342163.76it/s]                               \n",
      "Downloading: https://storage.googleapis.com/gfd_v1_4/DFO_3220_From_20071028_to_20071201.zip: 14229504it [00:03, 3571204.05it/s]                               \n",
      "Downloading: https://storage.googleapis.com/gfd_v1_4/DFO_3490_From_20090619_to_20090622.zip: 16278400it [00:03, 5395197.02it/s]                               \n",
      "Downloading: https://storage.googleapis.com/gfd_v1_4/DFO_3653_From_20100518_to_20100524.zip: 16951040it [00:03, 5571275.01it/s]                               \n",
      "Downloading: https://storage.googleapis.com/gfd_v1_4/DFO_3707_From_20100815_to_20101006.zip: 18687360it [00:03, 6021298.80it/s]                               \n",
      "Downloading: https://storage.googleapis.com/gfd_v1_4/DFO_3721_From_20100918_to_20100930.zip: 19787776it [00:04, 4581199.57it/s]                               \n",
      "Downloading: https://storage.googleapis.com/gfd_v1_4/DFO_3871_From_20111010_to_20111101.zip: 30494464it [00:04, 6928961.55it/s]                               \n"
     ]
    },
    {
     "name": "stdout",
     "output_type": "stream",
     "text": [
      "Downloading Guinea (GIN).\n"
     ]
    },
    {
     "name": "stderr",
     "output_type": "stream",
     "text": [
      "Downloading: https://storage.googleapis.com/gfd_v1_4/DFO_1793_From_20010818_to_20011009.zip: 23542784it [00:04, 5642728.17it/s]                               \n",
      "Downloading: https://storage.googleapis.com/gfd_v1_4/DFO_2316_From_20030809_to_20031105.zip: 57435264it [00:04, 13454170.42it/s]                              \n",
      "Downloading: https://storage.googleapis.com/gfd_v1_4/DFO_2320_From_20030810_to_20031019.zip: 82118272it [00:07, 10464869.58it/s]                              \n",
      "Downloading: https://storage.googleapis.com/gfd_v1_4/DFO_2947_From_20060803_to_20061011.zip: 119138432it [00:06, 17022149.00it/s]                               \n",
      "Downloading: https://storage.googleapis.com/gfd_v1_4/DFO_3166_From_20070726_to_20071010.zip: 90931328it [00:05, 17797923.87it/s]                              \n",
      "Downloading: https://storage.googleapis.com/gfd_v1_4/DFO_3534_From_20090810_to_20090902.zip: 156698752it [00:07, 21408386.68it/s]                               \n",
      "Downloading: https://storage.googleapis.com/gfd_v1_4/DFO_3971_From_20120824_to_20120829.zip: 10093056it [00:02, 3720507.24it/s]                              \n",
      "Downloading: https://storage.googleapis.com/gfd_v1_4/DFO_3982_From_20120902_to_20120907.zip: 9936000it [00:02, 3725908.95it/s]                              \n"
     ]
    },
    {
     "name": "stdout",
     "output_type": "stream",
     "text": [
      "Downloading Guinea-Bissau (GNB).\n"
     ]
    },
    {
     "name": "stderr",
     "output_type": "stream",
     "text": [
      "Downloading: https://storage.googleapis.com/gfd_v1_4/DFO_2316_From_20030809_to_20031105.zip: 57435264it [00:04, 13995552.79it/s]                              \n",
      "Downloading: https://storage.googleapis.com/gfd_v1_4/DFO_3534_From_20090810_to_20090902.zip: 156698752it [00:08, 17791568.28it/s]                               \n",
      "Downloading: https://storage.googleapis.com/gfd_v1_4/DFO_3971_From_20120824_to_20120829.zip: 10093056it [00:03, 2673851.19it/s]                              \n",
      "Downloading: https://storage.googleapis.com/gfd_v1_4/DFO_3982_From_20120902_to_20120907.zip: 9936000it [00:03, 2667810.36it/s]                              \n"
     ]
    },
    {
     "name": "stdout",
     "output_type": "stream",
     "text": [
      "Downloading Guyana (GUY).\n"
     ]
    },
    {
     "name": "stderr",
     "output_type": "stream",
     "text": [
      "Downloading: https://storage.googleapis.com/gfd_v1_4/DFO_1996_From_20020720_to_20020731.zip: 34671744it [00:03, 9054516.29it/s]                               \n",
      "Downloading: https://storage.googleapis.com/gfd_v1_4/DFO_2613_From_20050115_to_20050225.zip: 1043456it [00:01, 546300.56it/s]                             \n",
      "Downloading: https://storage.googleapis.com/gfd_v1_4/DFO_2782_From_20060108_to_20060214.zip: 10067584it [00:02, 3719333.14it/s]                              \n",
      "Downloading: https://storage.googleapis.com/gfd_v1_4/DFO_3422_From_20081213_to_20090112.zip: 7882624it [00:02, 3056589.91it/s]                              \n",
      "Downloading: https://storage.googleapis.com/gfd_v1_4/DFO_3750_From_20101115_to_20101220.zip: 97321600it [00:05, 17712974.97it/s]                              \n",
      "Downloading: https://storage.googleapis.com/gfd_v1_4/DFO_3925_From_20120501_to_20120507.zip: 60683008it [00:05, 11260173.14it/s]                              \n",
      "Downloading: https://storage.googleapis.com/gfd_v1_4/DFO_4159_From_20140522_to_20140729.zip: 155167232it [00:07, 20424373.05it/s]                               \n",
      "Downloading: https://storage.googleapis.com/gfd_v1_4/DFO_4275_From_20150716_to_20150721.zip: 4593152it [00:02, 1868417.54it/s]                             \n",
      "Downloading: https://storage.googleapis.com/gfd_v1_4/DFO_4662_From_20180726_to_20180904.zip: 27594880it [00:03, 8466586.23it/s]                               \n"
     ]
    },
    {
     "name": "stdout",
     "output_type": "stream",
     "text": [
      "Downloading Haiti (HTI).\n"
     ]
    },
    {
     "name": "stderr",
     "output_type": "stream",
     "text": [
      "Downloading: https://storage.googleapis.com/gfd_v1_4/DFO_2380_From_20031110_to_20031126.zip: 3084800it [00:02, 1342727.74it/s]                             \n",
      "Downloading: https://storage.googleapis.com/gfd_v1_4/DFO_2566_From_20040915_to_20041001.zip: 13792768it [00:03, 4448706.70it/s]                               \n",
      "Downloading: https://storage.googleapis.com/gfd_v1_4/DFO_2753_From_20051019_to_20051025.zip: 21271040it [00:04, 5218336.07it/s]                               \n",
      "Downloading: https://storage.googleapis.com/gfd_v1_4/DFO_3089_From_20070530_to_20070603.zip: 1732096it [00:03, 546265.82it/s]                              \n",
      "Downloading: https://storage.googleapis.com/gfd_v1_4/DFO_3218_From_20071028_to_20071110.zip: 7536512it [00:03, 2070042.76it/s]                              \n",
      "Downloading: https://storage.googleapis.com/gfd_v1_4/DFO_3239_From_20071211_to_20071217.zip: 1689728it [00:03, 542518.14it/s]                              \n",
      "Downloading: https://storage.googleapis.com/gfd_v1_4/DFO_3446_From_20090201_to_20090212.zip: 1785600it [00:03, 564801.54it/s]                              \n",
      "Downloading: https://storage.googleapis.com/gfd_v1_4/DFO_3670_From_20100625_to_20100627.zip: 1613568it [00:03, 517018.76it/s]                              \n",
      "Downloading: https://storage.googleapis.com/gfd_v1_4/DFO_3915_From_20120408_to_20120426.zip: 2002432it [00:02, 941401.81it/s]                              \n",
      "Downloading: https://storage.googleapis.com/gfd_v1_4/DFO_4227_From_20150220_to_20150224.zip: 1626496it [00:03, 522393.86it/s]                              \n",
      "Downloading: https://storage.googleapis.com/gfd_v1_4/DFO_4516_From_20170908_to_20170919.zip: 15716992it [00:04, 3919496.46it/s]                               \n"
     ]
    },
    {
     "name": "stdout",
     "output_type": "stream",
     "text": [
      "Downloading Honduras (HND).\n"
     ]
    },
    {
     "name": "stderr",
     "output_type": "stream",
     "text": [
      "Downloading: https://storage.googleapis.com/gfd_v1_4/DFO_1818_From_20011026_to_20011115.zip: 11133184it [00:03, 2943321.73it/s]                               \n",
      "Downloading: https://storage.googleapis.com/gfd_v1_4/DFO_2510_From_20040624_to_20040720.zip: 10182656it [00:02, 3776575.36it/s]                              \n",
      "Downloading: https://storage.googleapis.com/gfd_v1_4/DFO_2717_From_20050821_to_20050830.zip: 20369024it [00:04, 4960813.72it/s]                               \n",
      "Downloading: https://storage.googleapis.com/gfd_v1_4/DFO_2744_From_20051001_to_20051016.zip: 21100800it [00:04, 5122280.95it/s]                               \n",
      "Downloading: https://storage.googleapis.com/gfd_v1_4/DFO_2753_From_20051019_to_20051025.zip: 21271040it [00:03, 7037486.01it/s]                               \n",
      "Downloading: https://storage.googleapis.com/gfd_v1_4/DFO_3184_From_20070904_to_20070912.zip: 15148160it [00:03, 3797938.13it/s]                               \n",
      "Downloading: https://storage.googleapis.com/gfd_v1_4/DFO_3205_From_20071012_to_20071026.zip: 17747456it [00:04, 4021793.72it/s]                               \n",
      "Downloading: https://storage.googleapis.com/gfd_v1_4/DFO_3220_From_20071028_to_20071201.zip: 14229504it [00:03, 3607055.20it/s]                               \n",
      "Downloading: https://storage.googleapis.com/gfd_v1_4/DFO_3490_From_20090619_to_20090622.zip: 16278400it [00:04, 3660902.79it/s]                               \n",
      "Downloading: https://storage.googleapis.com/gfd_v1_4/DFO_3653_From_20100518_to_20100524.zip: 16951040it [00:05, 3079868.33it/s]                               \n",
      "Downloading: https://storage.googleapis.com/gfd_v1_4/DFO_3707_From_20100815_to_20101006.zip: 18687360it [00:05, 3413895.60it/s]                               \n",
      "Downloading: https://storage.googleapis.com/gfd_v1_4/DFO_3721_From_20100918_to_20100930.zip: 19787776it [00:04, 4294403.05it/s]                               \n",
      "Downloading: https://storage.googleapis.com/gfd_v1_4/DFO_3871_From_20111010_to_20111101.zip: 30494464it [00:05, 5647554.98it/s]                               \n"
     ]
    },
    {
     "name": "stdout",
     "output_type": "stream",
     "text": [
      "Downloading Hong Kong (HKG).\n"
     ]
    },
    {
     "name": "stderr",
     "output_type": "stream",
     "text": [
      "Downloading: https://storage.googleapis.com/gfd_v1_4/DFO_1631_From_20000901_to_20000906.zip: 14808320it [00:03, 3707133.85it/s]                               \n",
      "Downloading: https://storage.googleapis.com/gfd_v1_4/DFO_2921_From_20060711_to_20060719.zip: 36860800it [00:05, 6456915.60it/s]                               \n",
      "Downloading: https://storage.googleapis.com/gfd_v1_4/DFO_3094_From_20070606_to_20070817.zip: 72559616it [00:05, 13207772.55it/s]                              \n",
      "Downloading: https://storage.googleapis.com/gfd_v1_4/DFO_3688_From_20100721_to_20100723.zip: 9508224it [00:03, 2575837.40it/s]                              \n",
      "Downloading: https://storage.googleapis.com/gfd_v1_4/DFO_4146_From_20140530_to_20140610.zip: 10859776it [00:03, 2909947.89it/s]                               \n",
      "Downloading: https://storage.googleapis.com/gfd_v1_4/DFO_4515_From_20170823_to_20170826.zip: 9462912it [00:03, 2498137.41it/s]                              \n"
     ]
    },
    {
     "name": "stdout",
     "output_type": "stream",
     "text": [
      "Downloading Hungary (HUN).\n"
     ]
    },
    {
     "name": "stderr",
     "output_type": "stream",
     "text": [
      "Downloading: https://storage.googleapis.com/gfd_v1_4/DFO_1595_From_20000405_to_20000425.zip: 12872192it [00:03, 3341066.24it/s]                               \n",
      "Downloading: https://storage.googleapis.com/gfd_v1_4/DFO_2024_From_20020807_to_20020828.zip: 21745792it [00:05, 4013961.41it/s]                               \n",
      "Downloading: https://storage.googleapis.com/gfd_v1_4/DFO_2460_From_20040323_to_20040403.zip: 10863232it [00:02, 3932215.13it/s]                               \n",
      "Downloading: https://storage.googleapis.com/gfd_v1_4/DFO_2469_From_20040412_to_20040502.zip: 16473856it [00:04, 4088267.21it/s]                               \n",
      "Downloading: https://storage.googleapis.com/gfd_v1_4/DFO_2640_From_20050317_to_20050408.zip: 34163456it [00:05, 6299947.16it/s]                               \n",
      "Downloading: https://storage.googleapis.com/gfd_v1_4/DFO_2648_From_20050418_to_20050604.zip: 11809280it [00:03, 3114585.06it/s]                               \n",
      "Downloading: https://storage.googleapis.com/gfd_v1_4/DFO_2827_From_20060328_to_20060509.zip: 20910336it [00:04, 5064191.45it/s]                               \n",
      "Downloading: https://storage.googleapis.com/gfd_v1_4/DFO_2832_From_20060404_to_20060511.zip: 18903168it [00:04, 4198587.40it/s]                               \n",
      "Downloading: https://storage.googleapis.com/gfd_v1_4/DFO_2839_From_20060407_to_20060524.zip: 17551616it [00:04, 4119035.84it/s]                               \n",
      "Downloading: https://storage.googleapis.com/gfd_v1_4/DFO_3193_From_20070918_to_20070920.zip: 9723136it [00:03, 2658530.99it/s]                              \n",
      "Downloading: https://storage.googleapis.com/gfd_v1_4/DFO_3648_From_20100515_to_20100524.zip: 14474624it [00:04, 3613075.26it/s]                               \n",
      "Downloading: https://storage.googleapis.com/gfd_v1_4/DFO_3657_From_20100529_to_20100611.zip: 19492864it [00:05, 3587267.74it/s]                               \n",
      "Downloading: https://storage.googleapis.com/gfd_v1_4/DFO_4334_From_20160306_to_20160310.zip: 8499328it [00:03, 2293421.83it/s]                              \n"
     ]
    },
    {
     "name": "stdout",
     "output_type": "stream",
     "text": [
      "Downloading India (IND).\n"
     ]
    },
    {
     "name": "stderr",
     "output_type": "stream",
     "text": [
      "Downloading: https://storage.googleapis.com/gfd_v1_4/DFO_1641_From_20000918_to_20001021.zip: 25968768it [00:05, 5116479.14it/s]                               \n",
      "Downloading: https://storage.googleapis.com/gfd_v1_4/DFO_1747_From_20010708_to_20010810.zip: 8413440it [00:03, 2303536.64it/s]                              \n",
      "Downloading: https://storage.googleapis.com/gfd_v1_4/DFO_1789_From_20010820_to_20010911.zip: 17278208it [00:05, 3163178.18it/s]                               \n",
      "Downloading: https://storage.googleapis.com/gfd_v1_4/DFO_1791_From_20010907_to_20010924.zip: 15143808it [00:03, 3819436.12it/s]                               \n",
      "Downloading: https://storage.googleapis.com/gfd_v1_4/DFO_1974_From_20020621_to_20020828.zip: 46438528it [00:05, 8784632.31it/s]                               \n",
      "Downloading: https://storage.googleapis.com/gfd_v1_4/DFO_1980_From_20020707_to_20020709.zip: 13100288it [00:03, 3389202.43it/s]                               \n",
      "Downloading: https://storage.googleapis.com/gfd_v1_4/DFO_1999_From_20020721_to_20020815.zip: 21978240it [00:06, 3658111.99it/s]                               \n",
      "Downloading: https://storage.googleapis.com/gfd_v1_4/DFO_2041_From_20020817_to_20020904.zip: 9269632it [00:03, 2513757.71it/s]                              \n",
      "Downloading: https://storage.googleapis.com/gfd_v1_4/DFO_2049_From_20020903_to_20020906.zip: 7406848it [00:03, 2054493.14it/s]                              \n",
      "Downloading: https://storage.googleapis.com/gfd_v1_4/DFO_2160_From_20030216_to_20030222.zip: 21482240it [00:04, 4743688.64it/s]                               \n",
      "Downloading: https://storage.googleapis.com/gfd_v1_4/DFO_2248_From_20030611_to_20031010.zip: 91019264it [00:06, 14524135.72it/s]                              \n",
      "Downloading: https://storage.googleapis.com/gfd_v1_4/DFO_2257_From_20030619_to_20030703.zip: 2336640it [00:02, 939061.88it/s]                              \n",
      "Downloading: https://storage.googleapis.com/gfd_v1_4/DFO_2276_From_20030702_to_20030901.zip: 16430080it [00:03, 5272083.28it/s]                               \n",
      "Downloading: https://storage.googleapis.com/gfd_v1_4/DFO_2279_From_20030715_to_20030901.zip: 65999232it [00:04, 13442629.49it/s]                              \n",
      "Downloading: https://storage.googleapis.com/gfd_v1_4/DFO_2338_From_20030827_to_20031020.zip: 14061824it [00:02, 4769651.90it/s]                               \n",
      "Downloading: https://storage.googleapis.com/gfd_v1_4/DFO_2473_From_20040414_to_20040503.zip: 13171840it [00:02, 4637894.49it/s]                               \n",
      "Downloading: https://storage.googleapis.com/gfd_v1_4/DFO_2507_From_20040620_to_20041007.zip: 82961152it [00:06, 12732551.78it/s]                              \n",
      "Downloading: https://storage.googleapis.com/gfd_v1_4/DFO_2519_From_20040705_to_20040811.zip: 30657024it [00:04, 6543522.28it/s]                               \n",
      "Downloading: https://storage.googleapis.com/gfd_v1_4/DFO_2570_From_20041007_to_20041018.zip: 27644032it [00:04, 6226387.02it/s]                               \n",
      "Downloading: https://storage.googleapis.com/gfd_v1_4/DFO_2657_From_20050525_to_20050528.zip: 1793792it [00:03, 574009.67it/s]                              \n",
      "Downloading: https://storage.googleapis.com/gfd_v1_4/DFO_2676_From_20050623_to_20050630.zip: 19476352it [00:05, 3524254.32it/s]                               \n",
      "Downloading: https://storage.googleapis.com/gfd_v1_4/DFO_2680_From_20050628_to_20050715.zip: 19605632it [00:04, 4103993.11it/s]                               \n",
      "Downloading: https://storage.googleapis.com/gfd_v1_4/DFO_2686_From_20050702_to_20050715.zip: 27666432it [00:03, 7274156.57it/s]                               \n",
      "Downloading: https://storage.googleapis.com/gfd_v1_4/DFO_2689_From_20050705_to_20050814.zip: 49325184it [00:05, 8884695.48it/s]                               \n",
      "Downloading: https://storage.googleapis.com/gfd_v1_4/DFO_2690_From_20050707_to_20050727.zip: 46257664it [00:05, 8774543.92it/s]                               \n",
      "Downloading: https://storage.googleapis.com/gfd_v1_4/DFO_2698_From_20050723_to_20050816.zip: 30209536it [00:04, 6407853.12it/s]                               \n",
      "Downloading: https://storage.googleapis.com/gfd_v1_4/DFO_2718_From_20050826_to_20050830.zip: 14639488it [00:03, 4460270.32it/s]                               \n",
      "Downloading: https://storage.googleapis.com/gfd_v1_4/DFO_2728_From_20050914_to_20050930.zip: 34691840it [00:05, 6309917.49it/s]                               \n",
      "Downloading: https://storage.googleapis.com/gfd_v1_4/DFO_2731_From_20050916_to_20051005.zip: 34272768it [00:06, 5352447.24it/s]                               \n",
      "Downloading: https://storage.googleapis.com/gfd_v1_4/DFO_2734_From_20050922_to_20051011.zip: 10265216it [00:02, 3782983.83it/s]                              \n",
      "Downloading: https://storage.googleapis.com/gfd_v1_4/DFO_2737_From_20050925_to_20051002.zip: 16968832it [00:04, 3855242.63it/s]                               \n",
      "Downloading: https://storage.googleapis.com/gfd_v1_4/DFO_2747_From_20051003_to_20051022.zip: 24627200it [00:04, 5961854.45it/s]                               \n",
      "Downloading: https://storage.googleapis.com/gfd_v1_4/DFO_2754_From_20051021_to_20051028.zip: 3947520it [00:02, 1689892.01it/s]                             \n",
      "Downloading: https://storage.googleapis.com/gfd_v1_4/DFO_2758_From_20051023_to_20051209.zip: 7793536it [00:03, 2133932.49it/s]                              \n",
      "Downloading: https://storage.googleapis.com/gfd_v1_4/DFO_2859_From_20060429_to_20060505.zip: 9790848it [00:03, 2632832.23it/s]                              \n",
      "Downloading: https://storage.googleapis.com/gfd_v1_4/DFO_2879_From_20060531_to_20060724.zip: 43199104it [00:04, 9565196.78it/s]                               \n",
      "Downloading: https://storage.googleapis.com/gfd_v1_4/DFO_2894_From_20060624_to_20060803.zip: 36461184it [00:05, 6642242.17it/s]                               \n",
      "Downloading: https://storage.googleapis.com/gfd_v1_4/DFO_2911_From_20060704_to_20060707.zip: 15098880it [00:04, 3704846.22it/s]                               \n",
      "Downloading: https://storage.googleapis.com/gfd_v1_4/DFO_2931_From_20060724_to_20060822.zip: 12745856it [00:02, 4535345.48it/s]                               \n",
      "Downloading: https://storage.googleapis.com/gfd_v1_4/DFO_2935_From_20060728_to_20060912.zip: 70708608it [00:04, 14900874.29it/s]                              \n",
      "Downloading: https://storage.googleapis.com/gfd_v1_4/DFO_2940_From_20060801_to_20060910.zip: 29094144it [00:04, 6693658.47it/s]                               \n",
      "Downloading: https://storage.googleapis.com/gfd_v1_4/DFO_2954_From_20060826_to_20060913.zip: 22133248it [00:04, 4835815.99it/s]                               \n",
      "Downloading: https://storage.googleapis.com/gfd_v1_4/DFO_2956_From_20060829_to_20060904.zip: 17120640it [00:04, 4182039.26it/s]                               \n",
      "Downloading: https://storage.googleapis.com/gfd_v1_4/DFO_2958_From_20060831_to_20060911.zip: 9024896it [00:00, 23084487.29it/s]                             \n",
      "Downloading: https://storage.googleapis.com/gfd_v1_4/DFO_2961_From_20060824_to_20060920.zip: 35013248it [00:05, 6411253.00it/s]                               \n",
      "Downloading: https://storage.googleapis.com/gfd_v1_4/DFO_3097_From_20070611_to_20070624.zip: 13163904it [00:02, 4568707.52it/s]                               \n",
      "Downloading: https://storage.googleapis.com/gfd_v1_4/DFO_3100_From_20070615_to_20070618.zip: 13609472it [00:03, 3487581.17it/s]                               \n",
      "Downloading: https://storage.googleapis.com/gfd_v1_4/DFO_3104_From_20070618_to_20070626.zip: 10361728it [00:03, 2766274.93it/s]                              \n",
      "Downloading: https://storage.googleapis.com/gfd_v1_4/DFO_3107_From_20070622_to_20070704.zip: 23317888it [00:05, 4163477.55it/s]                               \n",
      "Downloading: https://storage.googleapis.com/gfd_v1_4/DFO_3112_From_20070626_to_20070720.zip: 17895936it [00:05, 3249664.85it/s]                               \n",
      "Downloading: https://storage.googleapis.com/gfd_v1_4/DFO_3118_From_20070630_to_20070713.zip: 23822720it [00:05, 4709682.09it/s]                               \n",
      "Downloading: https://storage.googleapis.com/gfd_v1_4/DFO_3119_From_20070701_to_20070706.zip: 15152512it [00:04, 3661948.78it/s]                               \n",
      "Downloading: https://storage.googleapis.com/gfd_v1_4/DFO_3120_From_20070701_to_20070713.zip: 43648256it [00:06, 7269981.76it/s]                               \n",
      "Downloading: https://storage.googleapis.com/gfd_v1_4/DFO_3122_From_20070703_to_20070922.zip: 47788032it [00:05, 8719115.69it/s]                               \n",
      "Downloading: https://storage.googleapis.com/gfd_v1_4/DFO_3125_From_20070706_to_20070801.zip: 16837504it [00:05, 3061665.77it/s]                               \n",
      "Downloading: https://storage.googleapis.com/gfd_v1_4/DFO_3128_From_20070712_to_20071010.zip: 48284416it [00:05, 8607965.91it/s]                               \n",
      "Downloading: https://storage.googleapis.com/gfd_v1_4/DFO_3134_From_20070718_to_20070813.zip: 41242496it [00:05, 7400687.18it/s]                               \n",
      "Downloading: https://storage.googleapis.com/gfd_v1_4/DFO_3136_From_20070721_to_20071015.zip: 54386560it [00:05, 9594506.06it/s]                               \n",
      "Downloading: https://storage.googleapis.com/gfd_v1_4/DFO_3143_From_20070723_to_20071002.zip: 32132736it [00:05, 5912905.23it/s]                               \n",
      "Downloading: https://storage.googleapis.com/gfd_v1_4/DFO_3150_From_20070803_to_20070827.zip: 11543168it [00:04, 2856226.18it/s]                               \n",
      "Downloading: https://storage.googleapis.com/gfd_v1_4/DFO_3160_From_20070808_to_20070815.zip: 18232960it [00:05, 3296683.88it/s]                               \n",
      "Downloading: https://storage.googleapis.com/gfd_v1_4/DFO_3162_From_20070810_to_20070813.zip: 9760896it [00:03, 2607093.72it/s]                              \n",
      "Downloading: https://storage.googleapis.com/gfd_v1_4/DFO_3164_From_20070812_to_20070817.zip: 26141056it [00:05, 5166929.74it/s]                               \n",
      "Downloading: https://storage.googleapis.com/gfd_v1_4/DFO_3169_From_20070814_to_20071004.zip: 19998976it [00:04, 4167441.59it/s]                               \n",
      "Downloading: https://storage.googleapis.com/gfd_v1_4/DFO_3191_From_20070916_to_20071007.zip: 17733248it [00:05, 3229672.87it/s]                               \n",
      "Downloading: https://storage.googleapis.com/gfd_v1_4/DFO_3195_From_20070922_to_20071008.zip: 10840576it [00:03, 2840353.14it/s]                               \n",
      "Downloading: https://storage.googleapis.com/gfd_v1_4/DFO_3208_From_20071017_to_20071024.zip: 9295488it [00:03, 2556269.01it/s]                              \n",
      "Downloading: https://storage.googleapis.com/gfd_v1_4/DFO_3217_From_20071027_to_20071101.zip: 9357952it [00:03, 2521262.90it/s]                              \n",
      "Downloading: https://storage.googleapis.com/gfd_v1_4/DFO_3226_From_20071115_to_20071201.zip: 9441792it [00:03, 2536189.77it/s]                              \n",
      "Downloading: https://storage.googleapis.com/gfd_v1_4/DFO_3302_From_20080503_to_20080522.zip: 25195008it [00:05, 4432011.18it/s]                               \n",
      "Downloading: https://storage.googleapis.com/gfd_v1_4/DFO_3312_From_20080524_to_20080528.zip: 12597376it [00:03, 3233201.49it/s]                               \n",
      "Downloading: https://storage.googleapis.com/gfd_v1_4/DFO_3327_From_20080705_to_20080714.zip: 36825088it [00:03, 9913210.66it/s]                               \n",
      "Downloading: https://storage.googleapis.com/gfd_v1_4/DFO_3338_From_20080720_to_20080808.zip: 30480640it [00:03, 9250860.54it/s]                               \n",
      "Downloading: https://storage.googleapis.com/gfd_v1_4/DFO_3356_From_20080805_to_20080811.zip: 12543872it [00:02, 4479876.16it/s]                               \n",
      "Downloading: https://storage.googleapis.com/gfd_v1_4/DFO_3359_From_20080809_to_20080820.zip: 15115520it [00:02, 5107495.07it/s]                               \n",
      "Downloading: https://storage.googleapis.com/gfd_v1_4/DFO_3365_From_20080818_to_20080924.zip: 32584576it [00:03, 9744635.74it/s]                               \n",
      "Downloading: https://storage.googleapis.com/gfd_v1_4/DFO_3371_From_20080830_to_20080908.zip: 25137920it [00:03, 8097311.93it/s]                               \n",
      "Downloading: https://storage.googleapis.com/gfd_v1_4/DFO_3372_From_20080830_to_20080908.zip: 16645376it [00:03, 5526350.91it/s]                               \n",
      "Downloading: https://storage.googleapis.com/gfd_v1_4/DFO_3382_From_20080922_to_20080929.zip: 39644928it [00:03, 11194821.88it/s]                              \n",
      "Downloading: https://storage.googleapis.com/gfd_v1_4/DFO_3383_From_20080922_to_20080929.zip: 26668928it [00:03, 8001582.85it/s]                               \n",
      "Downloading: https://storage.googleapis.com/gfd_v1_4/DFO_3485_From_20090420_to_20090515.zip: 4313344it [00:02, 1846375.70it/s]                             \n",
      "Downloading: https://storage.googleapis.com/gfd_v1_4/DFO_3495_From_20090703_to_20090706.zip: 19142656it [00:03, 5757643.83it/s]                               \n",
      "Downloading: https://storage.googleapis.com/gfd_v1_4/DFO_3496_From_20090703_to_20090706.zip: 9031680it [00:02, 3476932.26it/s]                              \n",
      "Downloading: https://storage.googleapis.com/gfd_v1_4/DFO_3530_From_20090818_to_20090827.zip: 16139904it [00:04, 4015349.46it/s]                               \n",
      "Downloading: https://storage.googleapis.com/gfd_v1_4/DFO_3551_From_20090925_to_20091012.zip: 27087232it [00:04, 6196322.66it/s]                               \n",
      "Downloading: https://storage.googleapis.com/gfd_v1_4/DFO_3553_From_20091004_to_20091012.zip: 23765376it [00:03, 7102000.99it/s]                               \n",
      "Downloading: https://storage.googleapis.com/gfd_v1_4/DFO_3633_From_20100327_to_20100407.zip: 3354240it [00:02, 1417101.13it/s]                             \n",
      "Downloading: https://storage.googleapis.com/gfd_v1_4/DFO_3636_From_20100418_to_20100421.zip: 2768896it [00:02, 1240494.39it/s]                             \n",
      "Downloading: https://storage.googleapis.com/gfd_v1_4/DFO_3650_From_20100515_to_20100626.zip: 5402624it [00:02, 2234230.31it/s]                             \n",
      "Downloading: https://storage.googleapis.com/gfd_v1_4/DFO_3652_From_20100518_to_20100524.zip: 12099584it [00:02, 4246552.43it/s]                               \n",
      "Downloading: https://storage.googleapis.com/gfd_v1_4/DFO_3658_From_20100606_to_20100607.zip: 7395072it [00:03, 2032074.59it/s]                              \n",
      "Downloading: https://storage.googleapis.com/gfd_v1_4/DFO_3662_From_20100615_to_20100626.zip: 10999168it [00:02, 3821782.97it/s]                              \n",
      "Downloading: https://storage.googleapis.com/gfd_v1_4/DFO_3674_From_20100705_to_20100715.zip: 31659136it [00:03, 9470697.30it/s]                               \n",
      "Downloading: https://storage.googleapis.com/gfd_v1_4/DFO_3679_From_20100701_to_20100713.zip: 32836480it [00:03, 9717895.18it/s]                               \n",
      "Downloading: https://storage.googleapis.com/gfd_v1_4/DFO_3696_From_20100727_to_20101115.zip: 13203584it [00:03, 3430208.30it/s]                               \n",
      "Downloading: https://storage.googleapis.com/gfd_v1_4/DFO_3713_From_20100905_to_20100917.zip: 4787712it [00:02, 1998881.92it/s]                             \n",
      "Downloading: https://storage.googleapis.com/gfd_v1_4/DFO_3716_From_20100909_to_20100930.zip: 34751232it [00:03, 9796213.34it/s]                               \n",
      "Downloading: https://storage.googleapis.com/gfd_v1_4/DFO_3717_From_20100918_to_20100930.zip: 18747008it [00:03, 6136823.79it/s]                               \n",
      "Downloading: https://storage.googleapis.com/gfd_v1_4/DFO_3732_From_20101001_to_20101012.zip: 30071680it [00:04, 6741909.20it/s]                               \n",
      "Downloading: https://storage.googleapis.com/gfd_v1_4/DFO_3843_From_20110721_to_20110729.zip: 4658432it [00:02, 1931547.91it/s]                             \n",
      "Downloading: https://storage.googleapis.com/gfd_v1_4/DFO_3854_From_20110815_to_20111002.zip: 30138752it [00:04, 7070015.65it/s]                               \n",
      "Downloading: https://storage.googleapis.com/gfd_v1_4/DFO_3856_From_20110815_to_20110908.zip: 5337984it [00:02, 2171423.83it/s]                             \n",
      "Downloading: https://storage.googleapis.com/gfd_v1_4/DFO_3857_From_20110812_to_20111101.zip: 17271552it [00:04, 3799570.48it/s]                               \n",
      "Downloading: https://storage.googleapis.com/gfd_v1_4/DFO_3864_From_20110825_to_20110913.zip: 10516096it [00:02, 3818989.98it/s]                              \n",
      "Downloading: https://storage.googleapis.com/gfd_v1_4/DFO_3866_From_20110905_to_20111002.zip: 11243136it [00:02, 3998859.48it/s]                              \n",
      "Downloading: https://storage.googleapis.com/gfd_v1_4/DFO_3960_From_20120803_to_20120806.zip: 7884032it [00:02, 2946108.30it/s]                              \n",
      "Downloading: https://storage.googleapis.com/gfd_v1_4/DFO_3966_From_20120816_to_20120820.zip: 7484928it [00:03, 2089150.49it/s]                              \n",
      "Downloading: https://storage.googleapis.com/gfd_v1_4/DFO_3974_From_20120823_to_20120829.zip: 9787136it [00:02, 3695996.42it/s]                              \n",
      "Downloading: https://storage.googleapis.com/gfd_v1_4/DFO_3983_From_20120916_to_20120918.zip: 25506176it [00:03, 8143368.07it/s]                               \n",
      "Downloading: https://storage.googleapis.com/gfd_v1_4/DFO_3984_From_20120910_to_20121029.zip: 100%|██████████| 14143488/14143488 [00:02<00:00, 4819204.02it/s] \n",
      "Downloading: https://storage.googleapis.com/gfd_v1_4/DFO_4001_From_20121104_to_20121108.zip: 5131520it [00:02, 2135718.18it/s]                             \n",
      "Downloading: https://storage.googleapis.com/gfd_v1_4/DFO_4078_From_20130801_to_20130807.zip: 26208768it [00:04, 5932649.21it/s]                               \n",
      "Downloading: https://storage.googleapis.com/gfd_v1_4/DFO_4082_From_20130807_to_20130821.zip: 27354496it [00:03, 8574662.96it/s]                               \n",
      "Downloading: https://storage.googleapis.com/gfd_v1_4/DFO_4098_From_20131012_to_20131110.zip: 29101312it [00:03, 8612828.59it/s]                               \n",
      "Downloading: https://storage.googleapis.com/gfd_v1_4/DFO_4154_From_20140623_to_20140625.zip: 7222272it [00:03, 2018629.51it/s]                              \n",
      "Downloading: https://storage.googleapis.com/gfd_v1_4/DFO_4171_From_20140811_to_20140908.zip: 25297152it [00:04, 6099578.66it/s]                               \n",
      "Downloading: https://storage.googleapis.com/gfd_v1_4/DFO_4174_From_20140814_to_20140908.zip: 24897408it [00:03, 7416886.39it/s]                               \n",
      "Downloading: https://storage.googleapis.com/gfd_v1_4/DFO_4176_From_20140815_to_20140908.zip: 9650432it [00:02, 3628886.39it/s]                              \n",
      "Downloading: https://storage.googleapis.com/gfd_v1_4/DFO_4178_From_20140820_to_20140908.zip: 29899648it [00:04, 6508920.96it/s]                               \n",
      "Downloading: https://storage.googleapis.com/gfd_v1_4/DFO_4179_From_20140901_to_20141011.zip: 13586560it [00:02, 4742679.85it/s]                               \n",
      "Downloading: https://storage.googleapis.com/gfd_v1_4/DFO_4188_From_20140924_to_20141011.zip: 10931584it [00:02, 4022043.46it/s]                               \n",
      "Downloading: https://storage.googleapis.com/gfd_v1_4/DFO_4198_From_20141012_to_20141027.zip: 28814848it [00:03, 8888085.57it/s]                               \n",
      "Downloading: https://storage.googleapis.com/gfd_v1_4/DFO_4239_From_20150320_to_20150331.zip: 5721728it [00:02, 2331342.22it/s]                             \n",
      "Downloading: https://storage.googleapis.com/gfd_v1_4/DFO_4251_From_20150517_to_20150521.zip: 4686464it [00:02, 1951626.93it/s]                             \n",
      "Downloading: https://storage.googleapis.com/gfd_v1_4/DFO_4259_From_20150602_to_20150629.zip: 9638016it [00:02, 3614514.42it/s]                              \n",
      "Downloading: https://storage.googleapis.com/gfd_v1_4/DFO_4265_From_20150624_to_20150629.zip: 2489856it [00:02, 1130662.29it/s]                             \n",
      "Downloading: https://storage.googleapis.com/gfd_v1_4/DFO_4272_From_20150715_to_20150819.zip: 13287168it [00:02, 4626984.05it/s]                               \n",
      "Downloading: https://storage.googleapis.com/gfd_v1_4/DFO_4282_From_20150715_to_20150819.zip: 73621376it [00:04, 15560068.56it/s]                              \n",
      "Downloading: https://storage.googleapis.com/gfd_v1_4/DFO_4283_From_20150715_to_20150819.zip: 17913856it [00:04, 4398739.99it/s]                               \n",
      "Downloading: https://storage.googleapis.com/gfd_v1_4/DFO_4288_From_20150813_to_20150911.zip: 10036224it [00:02, 3770639.84it/s]                              \n",
      "Downloading: https://storage.googleapis.com/gfd_v1_4/DFO_4309_From_20151110_to_20151204.zip: 6346752it [00:02, 2460515.58it/s]                             \n",
      "Downloading: https://storage.googleapis.com/gfd_v1_4/DFO_4339_From_20160312_to_20160413.zip: 8876800it [00:02, 3332519.22it/s]                              \n",
      "Downloading: https://storage.googleapis.com/gfd_v1_4/DFO_4355_From_20160420_to_20160501.zip: 17167360it [00:03, 5654396.54it/s]                               \n",
      "Downloading: https://storage.googleapis.com/gfd_v1_4/DFO_4365_From_20160601_to_20160816.zip: 15878272it [00:02, 5315425.04it/s]                               \n",
      "Downloading: https://storage.googleapis.com/gfd_v1_4/DFO_4378_From_20160707_to_20160803.zip: 41001088it [00:03, 11163381.17it/s]                              \n",
      "Downloading: https://storage.googleapis.com/gfd_v1_4/DFO_4382_From_20160725_to_20160826.zip: 41706752it [00:04, 9050202.64it/s]                               \n",
      "Downloading: https://storage.googleapis.com/gfd_v1_4/DFO_4390_From_20160815_to_20160826.zip: 8020352it [00:02, 3120756.14it/s]                              \n",
      "Downloading: https://storage.googleapis.com/gfd_v1_4/DFO_4459_From_20170330_to_20170418.zip: 5575936it [00:02, 2317846.71it/s]                             \n",
      "Downloading: https://storage.googleapis.com/gfd_v1_4/DFO_4483_From_20170602_to_20170703.zip: 18870016it [00:03, 4918338.30it/s]                               \n",
      "Downloading: https://storage.googleapis.com/gfd_v1_4/DFO_4499_From_20170727_to_20170810.zip: 4887936it [00:03, 1399158.25it/s]                             \n",
      "Downloading: https://storage.googleapis.com/gfd_v1_4/DFO_4507_From_20170810_to_20170826.zip: 41056000it [00:04, 9145403.99it/s]                               \n",
      "Downloading: https://storage.googleapis.com/gfd_v1_4/DFO_4508_From_20170810_to_20170826.zip: 35916672it [00:03, 9906009.48it/s]                               \n",
      "Downloading: https://storage.googleapis.com/gfd_v1_4/DFO_4632_From_20180615_to_20180620.zip: 14192512it [00:03, 3585412.22it/s]                               \n",
      "Downloading: https://storage.googleapis.com/gfd_v1_4/DFO_4640_From_20180625_to_20180711.zip: 4756736it [00:02, 1858573.97it/s]                             \n",
      "Downloading: https://storage.googleapis.com/gfd_v1_4/DFO_4645_From_20180703_to_20180711.zip: 8178432it [00:02, 3067427.22it/s]                              \n",
      "Downloading: https://storage.googleapis.com/gfd_v1_4/DFO_4665_From_20180802_to_20180810.zip: 8966016it [00:02, 3436147.37it/s]                              \n",
      "Downloading: https://storage.googleapis.com/gfd_v1_4/DFO_4673_From_20180901_to_20180907.zip: 16128640it [00:03, 5265891.65it/s]                               \n"
     ]
    },
    {
     "name": "stdout",
     "output_type": "stream",
     "text": [
      "Downloading Indonesia (IDN).\n"
     ]
    },
    {
     "name": "stderr",
     "output_type": "stream",
     "text": [
      "Downloading: https://storage.googleapis.com/gfd_v1_4/DFO_2106_From_20021215_to_20021220.zip: 5979008it [00:02, 2411305.02it/s]                             \n",
      "Downloading: https://storage.googleapis.com/gfd_v1_4/DFO_2127_From_20030114_to_20030206.zip: 4567040it [00:03, 1300264.43it/s]                             \n",
      "Downloading: https://storage.googleapis.com/gfd_v1_4/DFO_2148_From_20030130_to_20030209.zip: 3273984it [00:03, 978015.80it/s]                              \n",
      "Downloading: https://storage.googleapis.com/gfd_v1_4/DFO_2158_From_20030216_to_20030217.zip: 2642304it [00:02, 1077047.42it/s]                             \n",
      "Downloading: https://storage.googleapis.com/gfd_v1_4/DFO_2220_From_20030414_to_20030504.zip: 5483776it [00:02, 2244214.85it/s]                             \n",
      "Downloading: https://storage.googleapis.com/gfd_v1_4/DFO_2222_From_20030503_to_20030506.zip: 1807488it [00:02, 789270.69it/s]                              \n",
      "Downloading: https://storage.googleapis.com/gfd_v1_4/DFO_2403_From_20031210_to_20040123.zip: 13364736it [00:03, 3411021.51it/s]                               \n",
      "Downloading: https://storage.googleapis.com/gfd_v1_4/DFO_2437_From_20040217_to_20040225.zip: 3087744it [00:03, 917878.50it/s]                              \n",
      "Downloading: https://storage.googleapis.com/gfd_v1_4/DFO_2480_From_20040507_to_20040511.zip: 11005312it [00:03, 2888456.20it/s]                               \n",
      "Downloading: https://storage.googleapis.com/gfd_v1_4/DFO_2612_From_20050111_to_20050210.zip: 3493248it [00:03, 1032970.91it/s]                             \n",
      "Downloading: https://storage.googleapis.com/gfd_v1_4/DFO_2627_From_20050219_to_20050225.zip: 3198464it [00:03, 934575.43it/s]                              \n",
      "Downloading: https://storage.googleapis.com/gfd_v1_4/DFO_2779_From_20060108_to_20060112.zip: 2879744it [00:02, 1266922.97it/s]                             \n",
      "Downloading: https://storage.googleapis.com/gfd_v1_4/DFO_2789_From_20060126_to_20060214.zip: 3386880it [00:03, 1000133.65it/s]                             \n",
      "Downloading: https://storage.googleapis.com/gfd_v1_4/DFO_2890_From_20060619_to_20060623.zip: 4422016it [00:02, 1860632.28it/s]                             \n",
      "Downloading: https://storage.googleapis.com/gfd_v1_4/DFO_2896_From_20060625_to_20060629.zip: 1313152it [00:03, 414938.49it/s]                             \n",
      "Downloading: https://storage.googleapis.com/gfd_v1_4/DFO_3065_From_20070501_to_20070525.zip: 7645440it [00:02, 2996456.05it/s]                             \n",
      "Downloading: https://storage.googleapis.com/gfd_v1_4/DFO_3081_From_20070515_to_20070605.zip: 8354560it [00:02, 3234091.38it/s]                              \n",
      "Downloading: https://storage.googleapis.com/gfd_v1_4/DFO_3103_From_20070616_to_20070620.zip: 4528384it [00:02, 1901988.15it/s]                             \n",
      "Downloading: https://storage.googleapis.com/gfd_v1_4/DFO_3141_From_20070725_to_20070802.zip: 4483456it [00:02, 1871232.90it/s]                             \n",
      "Downloading: https://storage.googleapis.com/gfd_v1_4/DFO_3249_From_20071225_to_20080103.zip: 2740096it [00:02, 1213335.04it/s]                             \n",
      "Downloading: https://storage.googleapis.com/gfd_v1_4/DFO_3251_From_20080102_to_20080106.zip: 2843520it [00:02, 1270702.08it/s]                             \n",
      "Downloading: https://storage.googleapis.com/gfd_v1_4/DFO_3271_From_20080214_to_20080314.zip: 3429376it [00:03, 1010527.01it/s]                             \n",
      "Downloading: https://storage.googleapis.com/gfd_v1_4/DFO_3280_From_20080301_to_20080403.zip: 3922048it [00:02, 1682243.10it/s]                             \n",
      "Downloading: https://storage.googleapis.com/gfd_v1_4/DFO_3425_From_20081226_to_20081228.zip: 5743744it [00:02, 2322101.90it/s]                             \n",
      "Downloading: https://storage.googleapis.com/gfd_v1_4/DFO_3465_From_20090324_to_20090420.zip: 9202944it [00:02, 3450518.98it/s]                              \n",
      "Downloading: https://storage.googleapis.com/gfd_v1_4/DFO_3640_From_20100416_to_20100502.zip: 6245888it [00:02, 2485934.25it/s]                             \n",
      "Downloading: https://storage.googleapis.com/gfd_v1_4/DFO_3726_From_20101002_to_20101006.zip: 5773824it [00:02, 2293355.45it/s]                             \n",
      "Downloading: https://storage.googleapis.com/gfd_v1_4/DFO_3878_From_20111127_to_20111130.zip: 4492288it [00:03, 1311617.32it/s]                             \n",
      "Downloading: https://storage.googleapis.com/gfd_v1_4/DFO_3888_From_20111218_to_20120104.zip: 3290880it [00:02, 1383472.26it/s]                             \n",
      "Downloading: https://storage.googleapis.com/gfd_v1_4/DFO_3895_From_20120127_to_20120129.zip: 2508416it [00:02, 1120378.19it/s]                             \n",
      "Downloading: https://storage.googleapis.com/gfd_v1_4/DFO_3899_From_20120212_to_20120214.zip: 2880000it [00:03, 858817.02it/s]                              \n",
      "Downloading: https://storage.googleapis.com/gfd_v1_4/DFO_3902_From_20120220_to_20120227.zip: 11991680it [00:02, 4169919.82it/s]                               \n",
      "Downloading: https://storage.googleapis.com/gfd_v1_4/DFO_4013_From_20130103_to_20130110.zip: 4467072it [00:02, 1854732.01it/s]                             \n",
      "Downloading: https://storage.googleapis.com/gfd_v1_4/DFO_4020_From_20130113_to_20130122.zip: 2922752it [00:02, 1246411.21it/s]                             \n",
      "Downloading: https://storage.googleapis.com/gfd_v1_4/DFO_4028_From_20121201_to_20130212.zip: 21207424it [00:04, 4470290.60it/s]                               \n",
      "Downloading: https://storage.googleapis.com/gfd_v1_4/DFO_4032_From_20130220_to_20130304.zip: 517120it [00:01, 297517.99it/s]                            \n",
      "Downloading: https://storage.googleapis.com/gfd_v1_4/DFO_4222_From_20150205_to_20150209.zip: 4519040it [00:03, 1299516.21it/s]                             \n",
      "Downloading: https://storage.googleapis.com/gfd_v1_4/DFO_4231_From_20150315_to_20150323.zip: 3286400it [00:03, 979536.96it/s]                              \n",
      "Downloading: https://storage.googleapis.com/gfd_v1_4/DFO_4330_From_20160118_to_20160310.zip: 18739072it [00:03, 6033267.34it/s]                               \n",
      "Downloading: https://storage.googleapis.com/gfd_v1_4/DFO_4364_From_20160617_to_20160624.zip: 3113216it [00:02, 1372358.79it/s]                             \n",
      "Downloading: https://storage.googleapis.com/gfd_v1_4/DFO_4584_From_20180305_to_20180306.zip: 1426560it [00:02, 699934.97it/s]                              \n"
     ]
    },
    {
     "name": "stdout",
     "output_type": "stream",
     "text": [
      "Downloading Iran (IRN).\n"
     ]
    },
    {
     "name": "stderr",
     "output_type": "stream",
     "text": [
      "Downloading: https://storage.googleapis.com/gfd_v1_4/DFO_1962_From_20020619_to_20020701.zip: 9533184it [00:02, 3599016.04it/s]                              \n",
      "Downloading: https://storage.googleapis.com/gfd_v1_4/DFO_2029_From_20020810_to_20020814.zip: 1005696it [00:01, 532313.49it/s]                             \n",
      "Downloading: https://storage.googleapis.com/gfd_v1_4/DFO_2160_From_20030216_to_20030222.zip: 21482240it [00:04, 5241356.92it/s]                               \n",
      "Downloading: https://storage.googleapis.com/gfd_v1_4/DFO_2206_From_20030416_to_20030604.zip: 6004736it [00:02, 2466009.29it/s]                             \n",
      "Downloading: https://storage.googleapis.com/gfd_v1_4/DFO_2415_From_20040110_to_20040119.zip: 8143104it [00:02, 3108041.80it/s]                              \n",
      "Downloading: https://storage.googleapis.com/gfd_v1_4/DFO_2432_From_20040116_to_20040225.zip: 25714688it [00:03, 7469583.87it/s]                               \n",
      "Downloading: https://storage.googleapis.com/gfd_v1_4/DFO_2599_From_20041209_to_20050101.zip: 19242240it [00:03, 5527720.91it/s]                               \n",
      "Downloading: https://storage.googleapis.com/gfd_v1_4/DFO_2632_From_20050305_to_20050405.zip: 17193344it [00:03, 5547497.52it/s]                               \n",
      "Downloading: https://storage.googleapis.com/gfd_v1_4/DFO_2637_From_20050313_to_20050325.zip: 17907712it [00:02, 6391957.84it/s]                               \n",
      "Downloading: https://storage.googleapis.com/gfd_v1_4/DFO_2650_From_20050425_to_20050530.zip: 86925440it [00:04, 17780894.93it/s]                              \n",
      "Downloading: https://storage.googleapis.com/gfd_v1_4/DFO_3109_From_20070624_to_20070703.zip: 10622208it [00:02, 3910046.74it/s]                               \n",
      "Downloading: https://storage.googleapis.com/gfd_v1_4/DFO_3112_From_20070626_to_20070720.zip: 17895936it [00:04, 4393095.47it/s]                               \n",
      "Downloading: https://storage.googleapis.com/gfd_v1_4/DFO_3115_From_20070627_to_20070629.zip: 4322816it [00:03, 1249722.10it/s]                             \n",
      "Downloading: https://storage.googleapis.com/gfd_v1_4/DFO_3643_From_20100504_to_20100514.zip: 9488512it [00:02, 3497369.78it/s]                              \n",
      "Downloading: https://storage.googleapis.com/gfd_v1_4/DFO_4082_From_20130807_to_20130821.zip: 27354496it [00:03, 7428440.90it/s]                               \n"
     ]
    },
    {
     "name": "stdout",
     "output_type": "stream",
     "text": [
      "Downloading Iraq (IRQ).\n"
     ]
    },
    {
     "name": "stderr",
     "output_type": "stream",
     "text": [
      "Downloading: https://storage.googleapis.com/gfd_v1_4/DFO_2415_From_20040110_to_20040119.zip: 8143104it [00:03, 2267166.88it/s]                              \n",
      "Downloading: https://storage.googleapis.com/gfd_v1_4/DFO_2432_From_20040116_to_20040225.zip: 25714688it [00:03, 8350591.97it/s]                               \n",
      "Downloading: https://storage.googleapis.com/gfd_v1_4/DFO_2637_From_20050313_to_20050325.zip: 17907712it [00:03, 5791171.93it/s]                               \n"
     ]
    },
    {
     "name": "stdout",
     "output_type": "stream",
     "text": [
      "Downloading Ireland (IRL).\n"
     ]
    },
    {
     "name": "stderr",
     "output_type": "stream",
     "text": [
      "Downloading: https://storage.googleapis.com/gfd_v1_4/DFO_4111_From_20131227_to_20140207.zip: 13486976it [00:02, 4635381.61it/s]                               \n",
      "Downloading: https://storage.googleapis.com/gfd_v1_4/DFO_4319_From_20151205_to_20160126.zip: 13233664it [00:02, 4589379.73it/s]                               \n"
     ]
    },
    {
     "name": "stdout",
     "output_type": "stream",
     "text": [
      "Downloading Israel (ISR).\n"
     ]
    },
    {
     "name": "stderr",
     "output_type": "stream",
     "text": [
      "Downloading: https://storage.googleapis.com/gfd_v1_4/DFO_1938_From_20020604_to_20020606.zip: 6878080it [00:02, 2664417.42it/s]                              \n",
      "Downloading: https://storage.googleapis.com/gfd_v1_4/DFO_2175_From_20030204_to_20030312.zip: 9720448it [00:02, 3637073.19it/s]                              \n",
      "Downloading: https://storage.googleapis.com/gfd_v1_4/DFO_2433_From_20040124_to_20040214.zip: 9122560it [00:02, 3451095.55it/s]                              \n",
      "Downloading: https://storage.googleapis.com/gfd_v1_4/DFO_3607_From_20100213_to_20100220.zip: 19352832it [00:03, 5497546.99it/s]                               \n",
      "Downloading: https://storage.googleapis.com/gfd_v1_4/DFO_3870_From_20111008_to_20111010.zip: 8552832it [00:02, 3194006.79it/s]                              \n",
      "Downloading: https://storage.googleapis.com/gfd_v1_4/DFO_3906_From_20120304_to_20120307.zip: 7902464it [00:02, 2996143.91it/s]                              \n",
      "Downloading: https://storage.googleapis.com/gfd_v1_4/DFO_4006_From_20121202_to_20121204.zip: 7805312it [00:03, 2176875.16it/s]                              \n",
      "Downloading: https://storage.googleapis.com/gfd_v1_4/DFO_4019_From_20130108_to_20130110.zip: 11673600it [00:02, 5116677.41it/s]                               \n",
      "Downloading: https://storage.googleapis.com/gfd_v1_4/DFO_4211_From_20141204_to_20141214.zip: 23506816it [00:03, 6138961.66it/s]                               \n",
      "Downloading: https://storage.googleapis.com/gfd_v1_4/DFO_4221_From_20150201_to_20150209.zip: 23606528it [00:04, 5708258.02it/s]                               \n"
     ]
    },
    {
     "name": "stdout",
     "output_type": "stream",
     "text": [
      "Downloading Italy (ITA).\n"
     ]
    },
    {
     "name": "stderr",
     "output_type": "stream",
     "text": [
      "Downloading: https://storage.googleapis.com/gfd_v1_4/DFO_2024_From_20020807_to_20020828.zip: 21745792it [00:03, 7017578.89it/s]                               \n",
      "Downloading: https://storage.googleapis.com/gfd_v1_4/DFO_2060_From_20020921_to_20021008.zip: 8101248it [00:02, 3180672.61it/s]                              \n",
      "Downloading: https://storage.googleapis.com/gfd_v1_4/DFO_2099_From_20021122_to_20021203.zip: 11553152it [00:02, 4186384.29it/s]                               \n",
      "Downloading: https://storage.googleapis.com/gfd_v1_4/DFO_2103_From_20021213_to_20021214.zip: 8058112it [00:02, 3104010.59it/s]                              \n",
      "Downloading: https://storage.googleapis.com/gfd_v1_4/DFO_2140_From_20030125_to_20030127.zip: 5623040it [00:02, 2316293.29it/s]                             \n",
      "Downloading: https://storage.googleapis.com/gfd_v1_4/DFO_2169_From_20030205_to_20030213.zip: 12968320it [00:03, 3244477.41it/s]                               \n",
      "Downloading: https://storage.googleapis.com/gfd_v1_4/DFO_2172_From_20030127_to_20030207.zip: 8097024it [00:02, 3150433.79it/s]                              \n",
      "Downloading: https://storage.googleapis.com/gfd_v1_4/DFO_2174_From_20030117_to_20030303.zip: 10411520it [00:02, 3896114.04it/s]                              \n",
      "Downloading: https://storage.googleapis.com/gfd_v1_4/DFO_2179_From_20030227_to_20030310.zip: 8454784it [00:02, 3074288.86it/s]                              \n",
      "Downloading: https://storage.googleapis.com/gfd_v1_4/DFO_2359_From_20030922_to_20030923.zip: 7927680it [00:02, 2995270.78it/s]                             \n",
      "Downloading: https://storage.googleapis.com/gfd_v1_4/DFO_2395_From_20031201_to_20031210.zip: 13965440it [00:02, 4737274.17it/s]                               \n",
      "Downloading: https://storage.googleapis.com/gfd_v1_4/DFO_2469_From_20040412_to_20040502.zip: 16473856it [00:03, 5457025.92it/s]                               \n",
      "Downloading: https://storage.googleapis.com/gfd_v1_4/DFO_2626_From_20050217_to_20050324.zip: 8904448it [00:02, 3361753.80it/s]                              \n",
      "Downloading: https://storage.googleapis.com/gfd_v1_4/DFO_2640_From_20050317_to_20050408.zip: 34163456it [00:03, 8800769.51it/s]                               \n",
      "Downloading: https://storage.googleapis.com/gfd_v1_4/DFO_2784_From_20060102_to_20060120.zip: 8704128it [00:02, 3337455.87it/s]                              \n",
      "Downloading: https://storage.googleapis.com/gfd_v1_4/DFO_2817_From_20060309_to_20060325.zip: 8044160it [00:02, 3128616.34it/s]                              \n",
      "Downloading: https://storage.googleapis.com/gfd_v1_4/DFO_2832_From_20060404_to_20060511.zip: 18903168it [00:03, 5631686.27it/s]                               \n",
      "Downloading: https://storage.googleapis.com/gfd_v1_4/DFO_3085_From_20070522_to_20070606.zip: 12132352it [00:02, 4337349.44it/s]                               \n",
      "Downloading: https://storage.googleapis.com/gfd_v1_4/DFO_3193_From_20070918_to_20070920.zip: 9723136it [00:02, 3640760.39it/s]                              \n",
      "Downloading: https://storage.googleapis.com/gfd_v1_4/DFO_3536_From_20090907_to_20090910.zip: 16941440it [00:04, 3918282.39it/s]                               \n",
      "Downloading: https://storage.googleapis.com/gfd_v1_4/DFO_3591_From_20100104_to_20100113.zip: 9654144it [00:02, 3629716.65it/s]                              \n",
      "Downloading: https://storage.googleapis.com/gfd_v1_4/DFO_3607_From_20100213_to_20100220.zip: 19352832it [00:03, 6384430.89it/s]                               \n",
      "Downloading: https://storage.googleapis.com/gfd_v1_4/DFO_3665_From_20100622_to_20100626.zip: 9102208it [00:02, 3447798.45it/s]                              \n",
      "Downloading: https://storage.googleapis.com/gfd_v1_4/DFO_3756_From_20101203_to_20101217.zip: 8519680it [00:03, 2345309.98it/s]                              \n",
      "Downloading: https://storage.googleapis.com/gfd_v1_4/DFO_3896_From_20120201_to_20120206.zip: 11061760it [00:02, 4055095.94it/s]                               \n",
      "Downloading: https://storage.googleapis.com/gfd_v1_4/DFO_3897_From_20120203_to_20120206.zip: 7316864it [00:02, 2879377.30it/s]                              \n",
      "Downloading: https://storage.googleapis.com/gfd_v1_4/DFO_4211_From_20141204_to_20141214.zip: 23506816it [00:03, 7061043.86it/s]                               \n",
      "Downloading: https://storage.googleapis.com/gfd_v1_4/DFO_4221_From_20150201_to_20150209.zip: 23606528it [00:03, 7084021.81it/s]                               \n",
      "Downloading: https://storage.googleapis.com/gfd_v1_4/DFO_4580_From_20180307_to_20180314.zip: 7630848it [00:02, 2974830.14it/s]                              \n",
      "Downloading: https://storage.googleapis.com/gfd_v1_4/DFO_4581_From_20180310_to_20180314.zip: 9143168it [00:02, 3405323.36it/s]                              \n",
      "Downloading: https://storage.googleapis.com/gfd_v1_4/DFO_4597_From_20180325_to_20180408.zip: 8590848it [00:02, 3277427.82it/s]                              \n"
     ]
    },
    {
     "name": "stdout",
     "output_type": "stream",
     "text": [
      "Downloading Côte d'Ivoire (CIV).\n"
     ]
    },
    {
     "name": "stderr",
     "output_type": "stream",
     "text": [
      "Downloading: https://storage.googleapis.com/gfd_v1_4/DFO_2316_From_20030809_to_20031105.zip: 57435264it [00:05, 11194611.70it/s]                              \n",
      "Downloading: https://storage.googleapis.com/gfd_v1_4/DFO_2320_From_20030810_to_20031019.zip: 82118272it [00:06, 13451689.25it/s]                              \n",
      "Downloading: https://storage.googleapis.com/gfd_v1_4/DFO_2947_From_20060803_to_20061011.zip: 119138432it [00:06, 18923072.36it/s]                               \n",
      "Downloading: https://storage.googleapis.com/gfd_v1_4/DFO_3166_From_20070726_to_20071010.zip: 90931328it [00:06, 14851488.97it/s]                              \n",
      "Downloading: https://storage.googleapis.com/gfd_v1_4/DFO_3534_From_20090810_to_20090902.zip: 156698752it [00:07, 20738597.62it/s]                               \n",
      "Downloading: https://storage.googleapis.com/gfd_v1_4/DFO_3663_From_20100622_to_20100626.zip: 7249920it [00:03, 2045177.54it/s]                              \n",
      "Downloading: https://storage.googleapis.com/gfd_v1_4/DFO_3872_From_20111026_to_20111029.zip: 1521664it [00:03, 494444.40it/s]                              \n",
      "Downloading: https://storage.googleapis.com/gfd_v1_4/DFO_3971_From_20120824_to_20120829.zip: 10093056it [00:02, 3793991.78it/s]                              \n",
      "Downloading: https://storage.googleapis.com/gfd_v1_4/DFO_3982_From_20120902_to_20120907.zip: 9936000it [00:03, 2660838.74it/s]                              \n"
     ]
    },
    {
     "name": "stdout",
     "output_type": "stream",
     "text": [
      "Downloading Japan (JPN).\n"
     ]
    },
    {
     "name": "stderr",
     "output_type": "stream",
     "text": [
      "Downloading: https://storage.googleapis.com/gfd_v1_4/DFO_3787_From_20110311_to_20110311.zip: 7001472it [00:02, 2693681.66it/s]                             \n",
      "Downloading: https://storage.googleapis.com/gfd_v1_4/DFO_3969_From_20120812_to_20120820.zip: 7639936it [00:02, 2905813.88it/s]                              \n"
     ]
    },
    {
     "name": "stdout",
     "output_type": "stream",
     "text": [
      "Downloading Jordan (JOR).\n"
     ]
    },
    {
     "name": "stderr",
     "output_type": "stream",
     "text": [
      "Downloading: https://storage.googleapis.com/gfd_v1_4/DFO_2175_From_20030204_to_20030312.zip: 9720448it [00:02, 3636934.33it/s]                              \n",
      "Downloading: https://storage.googleapis.com/gfd_v1_4/DFO_2433_From_20040124_to_20040214.zip: 9122560it [00:02, 3372547.27it/s]                              \n",
      "Downloading: https://storage.googleapis.com/gfd_v1_4/DFO_3536_From_20090907_to_20090910.zip: 16941440it [00:03, 5093024.33it/s]                               \n",
      "Downloading: https://storage.googleapis.com/gfd_v1_4/DFO_3870_From_20111008_to_20111010.zip: 8552832it [00:03, 2293228.64it/s]                              \n",
      "Downloading: https://storage.googleapis.com/gfd_v1_4/DFO_3906_From_20120304_to_20120307.zip: 7902464it [00:03, 2186297.02it/s]                              \n",
      "Downloading: https://storage.googleapis.com/gfd_v1_4/DFO_4019_From_20130108_to_20130110.zip: 11673600it [00:02, 4146447.72it/s]                               \n",
      "Downloading: https://storage.googleapis.com/gfd_v1_4/DFO_4211_From_20141204_to_20141214.zip: 23506816it [00:03, 7056566.29it/s]                               \n",
      "Downloading: https://storage.googleapis.com/gfd_v1_4/DFO_4221_From_20150201_to_20150209.zip: 23606528it [00:03, 6747079.62it/s]                               \n"
     ]
    },
    {
     "name": "stdout",
     "output_type": "stream",
     "text": [
      "Downloading Kazakhstan (KAZ).\n"
     ]
    },
    {
     "name": "stderr",
     "output_type": "stream",
     "text": [
      "Downloading: https://storage.googleapis.com/gfd_v1_4/DFO_1725_From_20010512_to_20010608.zip: 180677632it [00:09, 19743337.51it/s]                               \n",
      "Downloading: https://storage.googleapis.com/gfd_v1_4/DFO_1910_From_20020422_to_20020507.zip: 22614528it [00:03, 7396324.63it/s]                               \n",
      "Downloading: https://storage.googleapis.com/gfd_v1_4/DFO_1921_From_20020507_to_20020606.zip: 13182080it [00:02, 4580074.81it/s]                               \n",
      "Downloading: https://storage.googleapis.com/gfd_v1_4/DFO_2208_From_20030416_to_20030528.zip: 79968896it [00:04, 16210782.32it/s]                              \n",
      "Downloading: https://storage.googleapis.com/gfd_v1_4/DFO_2214_From_20030423_to_20030513.zip: 81249024it [00:04, 16814069.57it/s]                              \n",
      "Downloading: https://storage.googleapis.com/gfd_v1_4/DFO_2426_From_20040130_to_20040302.zip: 17469440it [00:03, 5395878.68it/s]                               \n",
      "Downloading: https://storage.googleapis.com/gfd_v1_4/DFO_2471_From_20040414_to_20040516.zip: 64254592it [00:04, 14854759.56it/s]                              \n",
      "Downloading: https://storage.googleapis.com/gfd_v1_4/DFO_2629_From_20050224_to_20050323.zip: 20772096it [00:04, 5058595.89it/s]                               \n",
      "Downloading: https://storage.googleapis.com/gfd_v1_4/DFO_2632_From_20050305_to_20050405.zip: 17193344it [00:03, 5067125.68it/s]                               \n",
      "Downloading: https://storage.googleapis.com/gfd_v1_4/DFO_2650_From_20050425_to_20050530.zip: 86925440it [00:05, 17377774.45it/s]                              \n",
      "Downloading: https://storage.googleapis.com/gfd_v1_4/DFO_2851_From_20060421_to_20060531.zip: 73062784it [00:05, 12352082.26it/s]                              \n",
      "Downloading: https://storage.googleapis.com/gfd_v1_4/DFO_3076_From_20070511_to_20070613.zip: 56724352it [00:05, 10949773.06it/s]                              \n",
      "Downloading: https://storage.googleapis.com/gfd_v1_4/DFO_3132_From_20070714_to_20070803.zip: 43125120it [00:03, 10941618.26it/s]                              \n",
      "Downloading: https://storage.googleapis.com/gfd_v1_4/DFO_3801_From_20110401_to_20110419.zip: 17976192it [00:03, 5867888.48it/s]                               \n",
      "Downloading: https://storage.googleapis.com/gfd_v1_4/DFO_4242_From_20150323_to_20150415.zip: 23883648it [00:04, 4820340.99it/s]                               \n",
      "Downloading: https://storage.googleapis.com/gfd_v1_4/DFO_4258_From_20150515_to_20150602.zip: 44251008it [00:03, 11398821.65it/s]                              \n",
      "Downloading: https://storage.googleapis.com/gfd_v1_4/DFO_4358_From_20160415_to_20160530.zip: 17568896it [00:04, 3769268.56it/s]                               \n",
      "Downloading: https://storage.googleapis.com/gfd_v1_4/DFO_4465_From_20170414_to_20170421.zip: 44475904it [00:04, 10319341.01it/s]                              \n",
      "Downloading: https://storage.googleapis.com/gfd_v1_4/DFO_4654_From_20180711_to_20180719.zip: 57517568it [00:04, 13565603.71it/s]                              \n"
     ]
    },
    {
     "name": "stdout",
     "output_type": "stream",
     "text": [
      "Downloading Kenya (KEN).\n"
     ]
    },
    {
     "name": "stderr",
     "output_type": "stream",
     "text": [
      "Downloading: https://storage.googleapis.com/gfd_v1_4/DFO_1917_From_20020426_to_20020528.zip: 61135488it [00:04, 14632356.34it/s]                              \n",
      "Downloading: https://storage.googleapis.com/gfd_v1_4/DFO_2649_From_20050423_to_20050614.zip: 31061632it [00:03, 9012108.71it/s]                               \n",
      "Downloading: https://storage.googleapis.com/gfd_v1_4/DFO_2952_From_20060812_to_20060821.zip: 13505024it [00:02, 4677850.52it/s]                               \n",
      "Downloading: https://storage.googleapis.com/gfd_v1_4/DFO_3078_From_20070515_to_20070614.zip: 9780096it [00:02, 3519513.39it/s]                              \n",
      "Downloading: https://storage.googleapis.com/gfd_v1_4/DFO_3123_From_20070703_to_20071008.zip: 110623744it [00:05, 18449717.88it/s]                               \n",
      "Downloading: https://storage.googleapis.com/gfd_v1_4/DFO_3146_From_20070729_to_20071005.zip: 69832064it [00:05, 12908535.01it/s]                              \n",
      "Downloading: https://storage.googleapis.com/gfd_v1_4/DFO_3170_From_20070815_to_20071031.zip: 29934976it [00:03, 8833101.47it/s]                               \n",
      "Downloading: https://storage.googleapis.com/gfd_v1_4/DFO_3235_From_20071121_to_20071216.zip: 9604992it [00:02, 3528082.16it/s]                              \n",
      "Downloading: https://storage.googleapis.com/gfd_v1_4/DFO_3287_From_20080320_to_20080402.zip: 5957760it [00:02, 2166174.41it/s]                             \n",
      "Downloading: https://storage.googleapis.com/gfd_v1_4/DFO_3394_From_20081014_to_20081016.zip: 7275264it [00:02, 2878580.50it/s]                              \n",
      "Downloading: https://storage.googleapis.com/gfd_v1_4/DFO_3404_From_20081116_to_20081120.zip: 4775680it [00:03, 1371686.65it/s]                             \n",
      "Downloading: https://storage.googleapis.com/gfd_v1_4/DFO_3863_From_20110820_to_20110908.zip: 16497920it [00:03, 5459159.89it/s]                               \n",
      "Downloading: https://storage.googleapis.com/gfd_v1_4/DFO_3874_From_20111109_to_20111115.zip: 4826368it [00:02, 1996811.40it/s]                             \n",
      "Downloading: https://storage.googleapis.com/gfd_v1_4/DFO_3875_From_20111109_to_20111220.zip: 20213888it [00:03, 6506377.34it/s]                               \n",
      "Downloading: https://storage.googleapis.com/gfd_v1_4/DFO_3881_From_20111129_to_20111222.zip: 10121856it [00:02, 3695480.43it/s]                              \n",
      "Downloading: https://storage.googleapis.com/gfd_v1_4/DFO_3886_From_20111220_to_20111222.zip: 3687040it [00:02, 1570092.68it/s]                             \n",
      "Downloading: https://storage.googleapis.com/gfd_v1_4/DFO_3917_From_20120409_to_20120426.zip: 24084352it [00:03, 7140142.00it/s]                               \n",
      "Downloading: https://storage.googleapis.com/gfd_v1_4/DFO_3980_From_20120820_to_20120907.zip: 16999296it [00:03, 5544945.16it/s]                               \n",
      "Downloading: https://storage.googleapis.com/gfd_v1_4/DFO_3981_From_20120815_to_20120907.zip: 17677696it [00:04, 4023994.68it/s]                               \n",
      "Downloading: https://storage.googleapis.com/gfd_v1_4/DFO_3991_From_20120907_to_20121003.zip: 39420288it [00:03, 10498541.65it/s]                              \n",
      "Downloading: https://storage.googleapis.com/gfd_v1_4/DFO_4022_From_20130113_to_20130117.zip: 21888768it [00:03, 7171866.59it/s]                               \n",
      "Downloading: https://storage.googleapis.com/gfd_v1_4/DFO_4055_From_20130501_to_20130516.zip: 25339648it [00:03, 8068329.09it/s]                               \n",
      "Downloading: https://storage.googleapis.com/gfd_v1_4/DFO_4094_From_20131008_to_20131014.zip: 19903616it [00:03, 6542388.25it/s]                               \n",
      "Downloading: https://storage.googleapis.com/gfd_v1_4/DFO_4137_From_20140418_to_20140501.zip: 10870784it [00:02, 3793421.64it/s]                              \n",
      "Downloading: https://storage.googleapis.com/gfd_v1_4/DFO_4140_From_20140510_to_20140516.zip: 8845056it [00:03, 2408274.76it/s]                              \n",
      "Downloading: https://storage.googleapis.com/gfd_v1_4/DFO_4186_From_20140921_to_20141011.zip: 12597888it [00:02, 4442520.68it/s]                               \n",
      "Downloading: https://storage.googleapis.com/gfd_v1_4/DFO_4201_From_20141024_to_20141116.zip: 17483776it [00:03, 5686374.60it/s]                               \n",
      "Downloading: https://storage.googleapis.com/gfd_v1_4/DFO_4317_From_20151201_to_20160106.zip: 10681856it [00:02, 3863637.03it/s]                               \n",
      "Downloading: https://storage.googleapis.com/gfd_v1_4/DFO_4324_From_20160114_to_20160129.zip: 23129472it [00:04, 5240436.62it/s]                               \n",
      "Downloading: https://storage.googleapis.com/gfd_v1_4/DFO_4357_From_20160422_to_20160530.zip: 13538816it [00:03, 3438137.80it/s]                               \n",
      "Downloading: https://storage.googleapis.com/gfd_v1_4/DFO_4472_From_20170508_to_20170515.zip: 7720064it [00:02, 2999069.10it/s]                             \n",
      "Downloading: https://storage.googleapis.com/gfd_v1_4/DFO_4602_From_20180428_to_20180501.zip: 15977088it [00:03, 5318341.23it/s]                               \n",
      "Downloading: https://storage.googleapis.com/gfd_v1_4/DFO_4603_From_20180423_to_20180425.zip: 15008000it [00:02, 5089471.01it/s]                               \n"
     ]
    },
    {
     "name": "stdout",
     "output_type": "stream",
     "text": [
      "Downloading Kuwait (KWT).\n"
     ]
    },
    {
     "name": "stderr",
     "output_type": "stream",
     "text": [
      "Downloading: https://storage.googleapis.com/gfd_v1_4/DFO_2415_From_20040110_to_20040119.zip: 8143104it [00:02, 3129918.52it/s]                              \n",
      "Downloading: https://storage.googleapis.com/gfd_v1_4/DFO_2432_From_20040116_to_20040225.zip: 25714688it [00:03, 7613668.39it/s]                               \n",
      "Downloading: https://storage.googleapis.com/gfd_v1_4/DFO_2637_From_20050313_to_20050325.zip: 17907712it [00:03, 5847089.33it/s]                               \n"
     ]
    },
    {
     "name": "stdout",
     "output_type": "stream",
     "text": [
      "Downloading Kyrgyzstan (KGZ).\n"
     ]
    },
    {
     "name": "stderr",
     "output_type": "stream",
     "text": [
      "Downloading: https://storage.googleapis.com/gfd_v1_4/DFO_2426_From_20040130_to_20040302.zip: 17469440it [00:03, 5174434.29it/s]                               \n",
      "Downloading: https://storage.googleapis.com/gfd_v1_4/DFO_2629_From_20050224_to_20050323.zip: 20772096it [00:03, 6130492.79it/s]                               \n",
      "Downloading: https://storage.googleapis.com/gfd_v1_4/DFO_2803_From_20060216_to_20060223.zip: 11670656it [00:02, 4037956.67it/s]                              \n",
      "Downloading: https://storage.googleapis.com/gfd_v1_4/DFO_4078_From_20130801_to_20130807.zip: 26208768it [00:03, 7870617.73it/s]                               \n",
      "Downloading: https://storage.googleapis.com/gfd_v1_4/DFO_4242_From_20150323_to_20150415.zip: 23883648it [00:04, 5641655.99it/s]                               \n"
     ]
    },
    {
     "name": "stdout",
     "output_type": "stream",
     "text": [
      "Downloading Laos (LAO).\n"
     ]
    },
    {
     "name": "stderr",
     "output_type": "stream",
     "text": [
      "Downloading: https://storage.googleapis.com/gfd_v1_4/DFO_1614_From_20000711_to_20000810.zip: 15939840it [00:03, 5288122.68it/s]                               \n",
      "Downloading: https://storage.googleapis.com/gfd_v1_4/DFO_1781_From_20010815_to_20011119.zip: 19201792it [00:03, 5627454.46it/s]                               \n",
      "Downloading: https://storage.googleapis.com/gfd_v1_4/DFO_1991_From_20020715_to_20021202.zip: 18511104it [00:03, 5249402.09it/s]                               \n",
      "Downloading: https://storage.googleapis.com/gfd_v1_4/DFO_2039_From_20020818_to_20021126.zip: 46376960it [00:03, 11972632.25it/s]                              \n",
      "Downloading: https://storage.googleapis.com/gfd_v1_4/DFO_2059_From_20020920_to_20020930.zip: 7643904it [00:02, 2948175.76it/s]                              \n",
      "Downloading: https://storage.googleapis.com/gfd_v1_4/DFO_2077_From_20021026_to_20021029.zip: 4276736it [00:02, 1806133.86it/s]                             \n",
      "Downloading: https://storage.googleapis.com/gfd_v1_4/DFO_2347_From_20030912_to_20031012.zip: 25644288it [00:03, 7159573.42it/s]                               \n",
      "Downloading: https://storage.googleapis.com/gfd_v1_4/DFO_2543_From_20040806_to_20041003.zip: 30823296it [00:03, 8855466.42it/s]                               \n",
      "Downloading: https://storage.googleapis.com/gfd_v1_4/DFO_2709_From_20050813_to_20050926.zip: 24035200it [00:04, 5750648.33it/s]                               \n",
      "Downloading: https://storage.googleapis.com/gfd_v1_4/DFO_2725_From_20050908_to_20051101.zip: 25326336it [00:03, 7790939.57it/s]                               \n",
      "Downloading: https://storage.googleapis.com/gfd_v1_4/DFO_2736_From_20050926_to_20051006.zip: 37553792it [00:04, 7695271.17it/s]                               \n",
      "Downloading: https://storage.googleapis.com/gfd_v1_4/DFO_2760_From_20051102_to_20051104.zip: 6563328it [00:03, 1853759.70it/s]                             \n",
      "Downloading: https://storage.googleapis.com/gfd_v1_4/DFO_2867_From_20060522_to_20060611.zip: 16186368it [00:03, 5153726.01it/s]                               \n",
      "Downloading: https://storage.googleapis.com/gfd_v1_4/DFO_2948_From_20060812_to_20060902.zip: 10332800it [00:02, 3746954.06it/s]                              \n",
      "Downloading: https://storage.googleapis.com/gfd_v1_4/DFO_2949_From_20060810_to_20061101.zip: 21155456it [00:03, 5422464.28it/s]                               \n",
      "Downloading: https://storage.googleapis.com/gfd_v1_4/DFO_2951_From_20060820_to_20061213.zip: 41867776it [00:03, 10979375.90it/s]                              \n",
      "Downloading: https://storage.googleapis.com/gfd_v1_4/DFO_3002_From_20061130_to_20061208.zip: 20277248it [00:03, 6504417.66it/s]                               \n",
      "Downloading: https://storage.googleapis.com/gfd_v1_4/DFO_3073_From_20070511_to_20070521.zip: 9767808it [00:02, 3644500.13it/s]                              \n",
      "Downloading: https://storage.googleapis.com/gfd_v1_4/DFO_3149_From_20070803_to_20070817.zip: 8457600it [00:02, 3271596.62it/s]                              \n",
      "Downloading: https://storage.googleapis.com/gfd_v1_4/DFO_3168_From_20070810_to_20070824.zip: 7033600it [00:02, 2640580.51it/s]                              \n",
      "Downloading: https://storage.googleapis.com/gfd_v1_4/DFO_3188_From_20070905_to_20071110.zip: 40772992it [00:03, 10873446.32it/s]                              \n",
      "Downloading: https://storage.googleapis.com/gfd_v1_4/DFO_3219_From_20071028_to_20071109.zip: 8780800it [00:02, 3291833.67it/s]                              \n",
      "Downloading: https://storage.googleapis.com/gfd_v1_4/DFO_3360_From_20080811_to_20080820.zip: 20290432it [00:03, 5807715.38it/s]                               \n",
      "Downloading: https://storage.googleapis.com/gfd_v1_4/DFO_3384_From_20080911_to_20081004.zip: 19540096it [00:03, 6359666.83it/s]                               \n",
      "Downloading: https://storage.googleapis.com/gfd_v1_4/DFO_3494_From_20090510_to_20090701.zip: 13152512it [00:02, 4526022.15it/s]                               \n",
      "Downloading: https://storage.googleapis.com/gfd_v1_4/DFO_3723_From_20100920_to_20100930.zip: 18779648it [00:03, 5257071.42it/s]                               \n",
      "Downloading: https://storage.googleapis.com/gfd_v1_4/DFO_3850_From_20110805_to_20120109.zip: 20843776it [00:04, 4653624.88it/s]                               \n",
      "Downloading: https://storage.googleapis.com/gfd_v1_4/DFO_3985_From_20120912_to_20120926.zip: 14480896it [00:04, 3619222.62it/s]                               \n",
      "Downloading: https://storage.googleapis.com/gfd_v1_4/DFO_4090_From_20130927_to_20131014.zip: 10065280it [00:03, 2703761.23it/s]                              \n",
      "Downloading: https://storage.googleapis.com/gfd_v1_4/DFO_4092_From_20130930_to_20131014.zip: 28427776it [00:03, 7890321.45it/s]                               \n",
      "Downloading: https://storage.googleapis.com/gfd_v1_4/DFO_4293_From_20150907_to_20150911.zip: 17891712it [00:03, 5373891.98it/s]                               \n",
      "Downloading: https://storage.googleapis.com/gfd_v1_4/DFO_4704_From_20181124_to_20181129.zip: 7693184it [00:02, 2918734.74it/s]                              \n"
     ]
    },
    {
     "name": "stdout",
     "output_type": "stream",
     "text": [
      "Downloading Latvia (LVA).\n"
     ]
    },
    {
     "name": "stderr",
     "output_type": "stream",
     "text": [
      "Downloading: https://storage.googleapis.com/gfd_v1_4/DFO_2193_From_20030322_to_20030505.zip: 34770944it [00:03, 9936906.30it/s]                               \n",
      "Downloading: https://storage.googleapis.com/gfd_v1_4/DFO_2209_From_20030415_to_20030518.zip: 34712192it [00:03, 9015793.31it/s]                               \n",
      "Downloading: https://storage.googleapis.com/gfd_v1_4/DFO_2463_From_20040330_to_20040505.zip: 74277504it [00:04, 15828991.73it/s]                              \n",
      "Downloading: https://storage.googleapis.com/gfd_v1_4/DFO_3630_From_20100327_to_20100331.zip: 8015616it [00:02, 3081096.26it/s]                              \n",
      "Downloading: https://storage.googleapis.com/gfd_v1_4/DFO_3916_From_20120408_to_20120426.zip: 65857408it [00:04, 14892551.61it/s]                              \n"
     ]
    },
    {
     "name": "stdout",
     "output_type": "stream",
     "text": [
      "Downloading Lebanon (LBN).\n"
     ]
    },
    {
     "name": "stderr",
     "output_type": "stream",
     "text": [
      "Downloading: https://storage.googleapis.com/gfd_v1_4/DFO_1938_From_20020604_to_20020606.zip: 6878080it [00:02, 2796007.27it/s]                             \n",
      "Downloading: https://storage.googleapis.com/gfd_v1_4/DFO_2175_From_20030204_to_20030312.zip: 9720448it [00:02, 3595110.32it/s]                              \n",
      "Downloading: https://storage.googleapis.com/gfd_v1_4/DFO_2433_From_20040124_to_20040214.zip: 9122560it [00:02, 3506906.10it/s]                              \n",
      "Downloading: https://storage.googleapis.com/gfd_v1_4/DFO_3536_From_20090907_to_20090910.zip: 16941440it [00:03, 5601454.63it/s]                               \n",
      "Downloading: https://storage.googleapis.com/gfd_v1_4/DFO_3607_From_20100213_to_20100220.zip: 19352832it [00:03, 6272773.16it/s]                               \n",
      "Downloading: https://storage.googleapis.com/gfd_v1_4/DFO_3870_From_20111008_to_20111010.zip: 8552832it [00:03, 2317807.97it/s]                              \n",
      "Downloading: https://storage.googleapis.com/gfd_v1_4/DFO_3906_From_20120304_to_20120307.zip: 7902464it [00:02, 3142724.65it/s]                              \n",
      "Downloading: https://storage.googleapis.com/gfd_v1_4/DFO_4006_From_20121202_to_20121204.zip: 7805312it [00:02, 2968032.12it/s]                              \n",
      "Downloading: https://storage.googleapis.com/gfd_v1_4/DFO_4019_From_20130108_to_20130110.zip: 11673600it [00:03, 2992884.71it/s]                               \n",
      "Downloading: https://storage.googleapis.com/gfd_v1_4/DFO_4211_From_20141204_to_20141214.zip: 23506816it [00:03, 7676507.19it/s]                               \n",
      "Downloading: https://storage.googleapis.com/gfd_v1_4/DFO_4221_From_20150201_to_20150209.zip: 23606528it [00:04, 5287913.51it/s]                               \n"
     ]
    },
    {
     "name": "stdout",
     "output_type": "stream",
     "text": [
      "Downloading Lesotho (LSO).\n"
     ]
    },
    {
     "name": "stderr",
     "output_type": "stream",
     "text": [
      "Downloading: https://storage.googleapis.com/gfd_v1_4/DFO_3323_From_20080619_to_20080622.zip: 4882816it [00:02, 1966630.18it/s]                             \n",
      "Downloading: https://storage.googleapis.com/gfd_v1_4/DFO_3778_From_20110201_to_20110216.zip: 2056704it [00:02, 934743.87it/s]                              \n",
      "Downloading: https://storage.googleapis.com/gfd_v1_4/DFO_3880_From_20111127_to_20111202.zip: 4653824it [00:02, 1934605.91it/s]                             \n",
      "Downloading: https://storage.googleapis.com/gfd_v1_4/DFO_4381_From_20160725_to_20160803.zip: 8806016it [00:02, 3230689.93it/s]                              \n"
     ]
    },
    {
     "name": "stdout",
     "output_type": "stream",
     "text": [
      "Downloading Liberia (LBR).\n"
     ]
    },
    {
     "name": "stderr",
     "output_type": "stream",
     "text": [
      "Downloading: https://storage.googleapis.com/gfd_v1_4/DFO_2316_From_20030809_to_20031105.zip: 57435264it [00:04, 14146989.96it/s]                              \n",
      "Downloading: https://storage.googleapis.com/gfd_v1_4/DFO_3534_From_20090810_to_20090902.zip: 156698752it [00:07, 21462506.06it/s]                               \n",
      "Downloading: https://storage.googleapis.com/gfd_v1_4/DFO_3971_From_20120824_to_20120829.zip: 10093056it [00:02, 3798971.51it/s]                              \n",
      "Downloading: https://storage.googleapis.com/gfd_v1_4/DFO_3982_From_20120902_to_20120907.zip: 9936000it [00:03, 2654925.67it/s]                              \n"
     ]
    },
    {
     "name": "stdout",
     "output_type": "stream",
     "text": [
      "Downloading Libya (LBY).\n",
      "Downloading Liechtenstein (LIE).\n",
      "Downloading Lithuania (LTU).\n"
     ]
    },
    {
     "name": "stderr",
     "output_type": "stream",
     "text": [
      "Downloading: https://storage.googleapis.com/gfd_v1_4/DFO_2193_From_20030322_to_20030505.zip: 34770944it [00:03, 10065837.93it/s]                              \n",
      "Downloading: https://storage.googleapis.com/gfd_v1_4/DFO_2209_From_20030415_to_20030518.zip: 34712192it [00:03, 10289966.40it/s]                              \n",
      "Downloading: https://storage.googleapis.com/gfd_v1_4/DFO_2463_From_20040330_to_20040505.zip: 74277504it [00:04, 16515103.52it/s]                              \n",
      "Downloading: https://storage.googleapis.com/gfd_v1_4/DFO_3630_From_20100327_to_20100331.zip: 8015616it [00:02, 3153693.76it/s]                              \n",
      "Downloading: https://storage.googleapis.com/gfd_v1_4/DFO_3916_From_20120408_to_20120426.zip: 65857408it [00:04, 14713173.63it/s]                              \n"
     ]
    },
    {
     "name": "stdout",
     "output_type": "stream",
     "text": [
      "Downloading Luxembourg (LUX).\n"
     ]
    },
    {
     "name": "stderr",
     "output_type": "stream",
     "text": [
      "Downloading: https://storage.googleapis.com/gfd_v1_4/DFO_2024_From_20020807_to_20020828.zip: 21745792it [00:03, 6998033.93it/s]                               \n"
     ]
    },
    {
     "name": "stdout",
     "output_type": "stream",
     "text": [
      "Downloading Macau (MAC).\n"
     ]
    },
    {
     "name": "stderr",
     "output_type": "stream",
     "text": [
      "Downloading: https://storage.googleapis.com/gfd_v1_4/DFO_2522_From_20040714_to_20040727.zip: 9839616it [00:02, 3644845.44it/s]                              \n",
      "Downloading: https://storage.googleapis.com/gfd_v1_4/DFO_2921_From_20060711_to_20060719.zip: 36860800it [00:04, 7590354.01it/s]                               \n",
      "Downloading: https://storage.googleapis.com/gfd_v1_4/DFO_3094_From_20070606_to_20070817.zip: 72559616it [00:04, 15956810.79it/s]                              \n",
      "Downloading: https://storage.googleapis.com/gfd_v1_4/DFO_3688_From_20100721_to_20100723.zip: 9508224it [00:03, 2515066.25it/s]                              \n",
      "Downloading: https://storage.googleapis.com/gfd_v1_4/DFO_4146_From_20140530_to_20140610.zip: 10859776it [00:02, 3964112.10it/s]                               \n",
      "Downloading: https://storage.googleapis.com/gfd_v1_4/DFO_4515_From_20170823_to_20170826.zip: 9462912it [00:00, 25479447.87it/s]                             \n"
     ]
    },
    {
     "name": "stdout",
     "output_type": "stream",
     "text": [
      "Downloading Macedonia (MKD).\n"
     ]
    },
    {
     "name": "stderr",
     "output_type": "stream",
     "text": [
      "Downloading: https://storage.googleapis.com/gfd_v1_4/DFO_2060_From_20020921_to_20021008.zip: 8101248it [00:02, 3121866.17it/s]                              \n",
      "Downloading: https://storage.googleapis.com/gfd_v1_4/DFO_2099_From_20021122_to_20021203.zip: 11553152it [00:02, 4218437.84it/s]                               \n",
      "Downloading: https://storage.googleapis.com/gfd_v1_4/DFO_2172_From_20030127_to_20030207.zip: 8097024it [00:02, 3149372.70it/s]                              \n",
      "Downloading: https://storage.googleapis.com/gfd_v1_4/DFO_2174_From_20030117_to_20030303.zip: 10411520it [00:02, 3909416.02it/s]                              \n",
      "Downloading: https://storage.googleapis.com/gfd_v1_4/DFO_2626_From_20050217_to_20050324.zip: 8904448it [00:02, 3446912.79it/s]                              \n",
      "Downloading: https://storage.googleapis.com/gfd_v1_4/DFO_2784_From_20060102_to_20060120.zip: 8704128it [00:02, 3365938.71it/s]                              \n",
      "Downloading: https://storage.googleapis.com/gfd_v1_4/DFO_2817_From_20060309_to_20060325.zip: 8044160it [00:02, 3138229.60it/s]                              \n",
      "Downloading: https://storage.googleapis.com/gfd_v1_4/DFO_3085_From_20070522_to_20070606.zip: 12132352it [00:02, 4404280.28it/s]                               \n",
      "Downloading: https://storage.googleapis.com/gfd_v1_4/DFO_3193_From_20070918_to_20070920.zip: 9723136it [00:02, 3595707.82it/s]                              \n",
      "Downloading: https://storage.googleapis.com/gfd_v1_4/DFO_3536_From_20090907_to_20090910.zip: 16941440it [00:03, 5096320.59it/s]                               \n",
      "Downloading: https://storage.googleapis.com/gfd_v1_4/DFO_3591_From_20100104_to_20100113.zip: 9654144it [00:02, 3624348.91it/s]                              \n",
      "Downloading: https://storage.googleapis.com/gfd_v1_4/DFO_3607_From_20100213_to_20100220.zip: 19352832it [00:04, 4439601.88it/s]                               \n",
      "Downloading: https://storage.googleapis.com/gfd_v1_4/DFO_3665_From_20100622_to_20100626.zip: 9102208it [00:02, 3444741.64it/s]                              \n",
      "Downloading: https://storage.googleapis.com/gfd_v1_4/DFO_3756_From_20101203_to_20101217.zip: 8519680it [00:03, 2352734.26it/s]                              \n",
      "Downloading: https://storage.googleapis.com/gfd_v1_4/DFO_3896_From_20120201_to_20120206.zip: 11061760it [00:02, 4069364.23it/s]                               \n",
      "Downloading: https://storage.googleapis.com/gfd_v1_4/DFO_4211_From_20141204_to_20141214.zip: 23506816it [00:03, 7735145.48it/s]                               \n",
      "Downloading: https://storage.googleapis.com/gfd_v1_4/DFO_4221_From_20150201_to_20150209.zip: 23606528it [00:03, 7788841.67it/s]                               \n",
      "Downloading: https://storage.googleapis.com/gfd_v1_4/DFO_4580_From_20180307_to_20180314.zip: 7630848it [00:03, 2147878.81it/s]                              \n",
      "Downloading: https://storage.googleapis.com/gfd_v1_4/DFO_4581_From_20180310_to_20180314.zip: 9143168it [00:02, 3509132.63it/s]                              \n",
      "Downloading: https://storage.googleapis.com/gfd_v1_4/DFO_4583_From_20180226_to_20180302.zip: 7512704it [00:02, 2995102.36it/s]                             \n",
      "Downloading: https://storage.googleapis.com/gfd_v1_4/DFO_4597_From_20180325_to_20180408.zip: 8590848it [00:03, 2372916.20it/s]                              \n"
     ]
    },
    {
     "name": "stdout",
     "output_type": "stream",
     "text": [
      "Downloading Madagascar (MDG).\n"
     ]
    },
    {
     "name": "stderr",
     "output_type": "stream",
     "text": [
      "Downloading: https://storage.googleapis.com/gfd_v1_4/DFO_1587_From_20000217_to_20000311.zip: 8533376it [00:02, 3284748.28it/s]                              \n",
      "Downloading: https://storage.googleapis.com/gfd_v1_4/DFO_2431_From_20040108_to_20040220.zip: 14939776it [00:03, 4899385.31it/s]                               \n",
      "Downloading: https://storage.googleapis.com/gfd_v1_4/DFO_2633_From_20050302_to_20050315.zip: 7723008it [00:03, 2129840.03it/s]                              \n",
      "Downloading: https://storage.googleapis.com/gfd_v1_4/DFO_3274_From_20080217_to_20080305.zip: 12083712it [00:03, 3139163.69it/s]                               \n",
      "Downloading: https://storage.googleapis.com/gfd_v1_4/DFO_3441_From_20090126_to_20090127.zip: 10079104it [00:02, 3573011.89it/s]                              \n",
      "Downloading: https://storage.googleapis.com/gfd_v1_4/DFO_4224_From_20150105_to_20150209.zip: 16603136it [00:04, 4009154.67it/s]                               \n",
      "Downloading: https://storage.googleapis.com/gfd_v1_4/DFO_4241_From_20150305_to_20150415.zip: 12852224it [00:03, 3277505.42it/s]                               \n",
      "Downloading: https://storage.googleapis.com/gfd_v1_4/DFO_4590_From_20180316_to_20180323.zip: 9410688it [00:02, 3466175.93it/s]                              \n"
     ]
    },
    {
     "name": "stdout",
     "output_type": "stream",
     "text": [
      "Downloading Malawi (MWI).\n"
     ]
    },
    {
     "name": "stderr",
     "output_type": "stream",
     "text": [
      "Downloading: https://storage.googleapis.com/gfd_v1_4/DFO_1917_From_20020426_to_20020528.zip: 61135488it [00:04, 14673310.27it/s]                              \n",
      "Downloading: https://storage.googleapis.com/gfd_v1_4/DFO_2119_From_20030101_to_20030217.zip: 39678464it [00:03, 10718213.22it/s]                              \n",
      "Downloading: https://storage.googleapis.com/gfd_v1_4/DFO_2638_From_20050301_to_20050401.zip: 29967872it [00:03, 8425797.17it/s]                               \n",
      "Downloading: https://storage.googleapis.com/gfd_v1_4/DFO_2773_From_20051222_to_20060207.zip: 28429184it [00:03, 8131529.32it/s]                               \n",
      "Downloading: https://storage.googleapis.com/gfd_v1_4/DFO_3242_From_20071211_to_20080103.zip: 30551040it [00:04, 6677742.49it/s]                               \n",
      "Downloading: https://storage.googleapis.com/gfd_v1_4/DFO_3892_From_20120117_to_20120214.zip: 29576832it [00:03, 8147652.96it/s]                               \n",
      "Downloading: https://storage.googleapis.com/gfd_v1_4/DFO_4219_From_20150101_to_20150209.zip: 31604480it [00:03, 8559642.24it/s]                               \n"
     ]
    },
    {
     "name": "stdout",
     "output_type": "stream",
     "text": [
      "Downloading Malaysia (MYS).\n"
     ]
    },
    {
     "name": "stderr",
     "output_type": "stream",
     "text": [
      "Downloading: https://storage.googleapis.com/gfd_v1_4/DFO_2061_From_20020917_to_20021202.zip: 26788224it [00:03, 7029747.72it/s]                               \n",
      "Downloading: https://storage.googleapis.com/gfd_v1_4/DFO_2127_From_20030114_to_20030206.zip: 4567040it [00:02, 1908493.23it/s]                             \n",
      "Downloading: https://storage.googleapis.com/gfd_v1_4/DFO_2134_From_20030120_to_20030210.zip: 7314688it [00:02, 2888573.57it/s]                              \n",
      "Downloading: https://storage.googleapis.com/gfd_v1_4/DFO_2370_From_20031017_to_20031104.zip: 13585024it [00:03, 3414743.04it/s]                               \n",
      "Downloading: https://storage.googleapis.com/gfd_v1_4/DFO_2480_From_20040507_to_20040511.zip: 11005312it [00:02, 3916093.80it/s]                               \n",
      "Downloading: https://storage.googleapis.com/gfd_v1_4/DFO_2600_From_20041210_to_20041218.zip: 6325376it [00:03, 1736983.57it/s]                             \n",
      "Downloading: https://storage.googleapis.com/gfd_v1_4/DFO_2768_From_20051123_to_20060112.zip: 8028544it [00:02, 3085238.29it/s]                              \n",
      "Downloading: https://storage.googleapis.com/gfd_v1_4/DFO_2798_From_20060210_to_20060218.zip: 6606592it [00:03, 1853162.74it/s]                             \n",
      "Downloading: https://storage.googleapis.com/gfd_v1_4/DFO_2951_From_20060820_to_20061213.zip: 41867776it [00:03, 11266758.74it/s]                              \n",
      "Downloading: https://storage.googleapis.com/gfd_v1_4/DFO_3081_From_20070515_to_20070605.zip: 8354560it [00:03, 2282466.93it/s]                              \n",
      "Downloading: https://storage.googleapis.com/gfd_v1_4/DFO_3188_From_20070905_to_20071110.zip: 40772992it [00:03, 11309048.52it/s]                              \n",
      "Downloading: https://storage.googleapis.com/gfd_v1_4/DFO_3302_From_20080503_to_20080522.zip: 25195008it [00:03, 7888337.59it/s]                               \n",
      "Downloading: https://storage.googleapis.com/gfd_v1_4/DFO_3723_From_20100920_to_20100930.zip: 18779648it [00:03, 5606810.95it/s]                               \n",
      "Downloading: https://storage.googleapis.com/gfd_v1_4/DFO_3795_From_20110323_to_20110410.zip: 7218304it [00:02, 2819093.20it/s]                              \n",
      "Downloading: https://storage.googleapis.com/gfd_v1_4/DFO_3889_From_20120101_to_20120109.zip: 6460288it [00:02, 2598372.38it/s]                             \n",
      "Downloading: https://storage.googleapis.com/gfd_v1_4/DFO_4092_From_20130930_to_20131014.zip: 28427776it [00:04, 6771718.58it/s]                               \n",
      "Downloading: https://storage.googleapis.com/gfd_v1_4/DFO_4206_From_20141107_to_20141116.zip: 6486912it [00:02, 2543535.85it/s]                             \n",
      "Downloading: https://storage.googleapis.com/gfd_v1_4/DFO_4216_From_20141220_to_20150101.zip: 6287744it [00:02, 2488406.54it/s]                             \n",
      "Downloading: https://storage.googleapis.com/gfd_v1_4/DFO_4376_From_20160718_to_20160719.zip: 5998976it [00:02, 2341901.82it/s]                             \n",
      "Downloading: https://storage.googleapis.com/gfd_v1_4/DFO_4423_From_20161201_to_20161207.zip: 12868608it [00:02, 4472812.03it/s]                               \n",
      "Downloading: https://storage.googleapis.com/gfd_v1_4/DFO_4432_From_20161231_to_20170207.zip: 7466624it [00:02, 2876662.61it/s]                              \n"
     ]
    },
    {
     "name": "stdout",
     "output_type": "stream",
     "text": [
      "Downloading Mali (MLI).\n"
     ]
    },
    {
     "name": "stderr",
     "output_type": "stream",
     "text": [
      "Downloading: https://storage.googleapis.com/gfd_v1_4/DFO_1793_From_20010818_to_20011009.zip: 23542784it [00:03, 6057680.35it/s]                               \n",
      "Downloading: https://storage.googleapis.com/gfd_v1_4/DFO_2311_From_20030805_to_20031012.zip: 45515136it [00:03, 11931677.16it/s]                              \n",
      "Downloading: https://storage.googleapis.com/gfd_v1_4/DFO_2316_From_20030809_to_20031105.zip: 57435264it [00:04, 13129870.61it/s]                              \n",
      "Downloading: https://storage.googleapis.com/gfd_v1_4/DFO_2320_From_20030810_to_20031019.zip: 82118272it [00:05, 14223638.75it/s]                              \n",
      "Downloading: https://storage.googleapis.com/gfd_v1_4/DFO_2742_From_20050927_to_20051007.zip: 11636864it [00:02, 4240746.49it/s]                               \n",
      "Downloading: https://storage.googleapis.com/gfd_v1_4/DFO_2947_From_20060803_to_20061011.zip: 119138432it [00:06, 18702352.29it/s]                               \n",
      "Downloading: https://storage.googleapis.com/gfd_v1_4/DFO_3166_From_20070726_to_20071010.zip: 90931328it [00:05, 17565232.64it/s]                              \n",
      "Downloading: https://storage.googleapis.com/gfd_v1_4/DFO_3180_From_20070831_to_20070920.zip: 18003712it [00:03, 5765853.42it/s]                               \n",
      "Downloading: https://storage.googleapis.com/gfd_v1_4/DFO_3534_From_20090810_to_20090902.zip: 156698752it [00:09, 17356999.34it/s]                               \n",
      "Downloading: https://storage.googleapis.com/gfd_v1_4/DFO_3994_From_20120915_to_20121015.zip: 24517248it [00:03, 6985179.25it/s]                               \n",
      "Downloading: https://storage.googleapis.com/gfd_v1_4/DFO_4175_From_20140813_to_20140819.zip: 28426240it [00:03, 8205471.60it/s]                               \n"
     ]
    },
    {
     "name": "stdout",
     "output_type": "stream",
     "text": [
      "Downloading Mauritania (MRT).\n"
     ]
    },
    {
     "name": "stderr",
     "output_type": "stream",
     "text": [
      "Downloading: https://storage.googleapis.com/gfd_v1_4/DFO_1793_From_20010818_to_20011009.zip: 23542784it [00:04, 4996914.58it/s]                               \n",
      "Downloading: https://storage.googleapis.com/gfd_v1_4/DFO_2316_From_20030809_to_20031105.zip: 57435264it [00:04, 13100908.38it/s]                              \n",
      "Downloading: https://storage.googleapis.com/gfd_v1_4/DFO_2320_From_20030810_to_20031019.zip: 82118272it [00:04, 16906672.12it/s]                              \n",
      "Downloading: https://storage.googleapis.com/gfd_v1_4/DFO_2742_From_20050927_to_20051007.zip: 11636864it [00:02, 4211452.56it/s]                               \n",
      "Downloading: https://storage.googleapis.com/gfd_v1_4/DFO_2947_From_20060803_to_20061011.zip: 119138432it [00:06, 17103598.41it/s]                               \n",
      "Downloading: https://storage.googleapis.com/gfd_v1_4/DFO_3153_From_20070807_to_20070905.zip: 1371648it [00:02, 674961.20it/s]                              \n",
      "Downloading: https://storage.googleapis.com/gfd_v1_4/DFO_3180_From_20070831_to_20070920.zip: 18003712it [00:03, 5925579.82it/s]                               \n",
      "Downloading: https://storage.googleapis.com/gfd_v1_4/DFO_3534_From_20090810_to_20090902.zip: 156698752it [00:07, 21553539.95it/s]                               \n",
      "Downloading: https://storage.googleapis.com/gfd_v1_4/DFO_3971_From_20120824_to_20120829.zip: 10093056it [00:02, 3769282.34it/s]                              \n"
     ]
    },
    {
     "name": "stdout",
     "output_type": "stream",
     "text": [
      "Downloading Mexico (MEX).\n"
     ]
    },
    {
     "name": "stderr",
     "output_type": "stream",
     "text": [
      "Downloading: https://storage.googleapis.com/gfd_v1_4/DFO_1818_From_20011026_to_20011115.zip: 11133184it [00:02, 4093808.24it/s]                               \n",
      "Downloading: https://storage.googleapis.com/gfd_v1_4/DFO_1972_From_20020630_to_20020723.zip: 20260352it [00:03, 6483526.33it/s]                               \n",
      "Downloading: https://storage.googleapis.com/gfd_v1_4/DFO_2056_From_20020906_to_20020919.zip: 7773440it [00:02, 3037016.82it/s]                              \n",
      "Downloading: https://storage.googleapis.com/gfd_v1_4/DFO_2076_From_20021023_to_20021113.zip: 17652480it [00:03, 4994996.05it/s]                               \n",
      "Downloading: https://storage.googleapis.com/gfd_v1_4/DFO_2356_From_20030922_to_20031001.zip: 17934848it [00:03, 5220135.18it/s]                               \n",
      "Downloading: https://storage.googleapis.com/gfd_v1_4/DFO_2366_From_20031012_to_20031024.zip: 14032000it [00:02, 4707054.23it/s]                               \n",
      "Downloading: https://storage.googleapis.com/gfd_v1_4/DFO_2510_From_20040624_to_20040720.zip: 10182656it [00:03, 3273399.39it/s]                             \n",
      "Downloading: https://storage.googleapis.com/gfd_v1_4/DFO_2584_From_20041115_to_20041129.zip: 6567424it [00:02, 2378941.26it/s]                             \n",
      "Downloading: https://storage.googleapis.com/gfd_v1_4/DFO_2717_From_20050821_to_20050830.zip: 20369024it [00:03, 6131909.14it/s]                               \n",
      "Downloading: https://storage.googleapis.com/gfd_v1_4/DFO_2744_From_20051001_to_20051016.zip: 21100800it [00:03, 5719873.99it/s]                               \n",
      "Downloading: https://storage.googleapis.com/gfd_v1_4/DFO_2753_From_20051019_to_20051025.zip: 21271040it [00:03, 6847231.52it/s]                               \n",
      "Downloading: https://storage.googleapis.com/gfd_v1_4/DFO_2963_From_20060916_to_20060918.zip: 2243840it [00:02, 1005182.20it/s]                             \n",
      "Downloading: https://storage.googleapis.com/gfd_v1_4/DFO_3083_From_20070524_to_20070529.zip: 39565056it [00:03, 10860015.11it/s]                              \n",
      "Downloading: https://storage.googleapis.com/gfd_v1_4/DFO_3113_From_20070626_to_20070723.zip: 65743744it [00:04, 15218238.60it/s]                              \n",
      "Downloading: https://storage.googleapis.com/gfd_v1_4/DFO_3171_From_20070816_to_20070827.zip: 78223488it [00:04, 16192213.40it/s]                              \n",
      "Downloading: https://storage.googleapis.com/gfd_v1_4/DFO_3184_From_20070904_to_20070912.zip: 15148160it [00:02, 5146873.63it/s]                               \n",
      "Downloading: https://storage.googleapis.com/gfd_v1_4/DFO_3199_From_20070928_to_20071001.zip: 6331648it [00:02, 2519262.31it/s]                             \n",
      "Downloading: https://storage.googleapis.com/gfd_v1_4/DFO_3205_From_20071012_to_20071026.zip: 17747456it [00:03, 5865162.94it/s]                               \n",
      "Downloading: https://storage.googleapis.com/gfd_v1_4/DFO_3220_From_20071028_to_20071201.zip: 14229504it [00:03, 3579430.27it/s]                               \n",
      "Downloading: https://storage.googleapis.com/gfd_v1_4/DFO_3332_From_20080715_to_20080716.zip: 9874048it [00:02, 3656976.28it/s]                              \n",
      "Downloading: https://storage.googleapis.com/gfd_v1_4/DFO_3336_From_20080721_to_20080729.zip: 20186496it [00:04, 4915352.07it/s]                               \n",
      "Downloading: https://storage.googleapis.com/gfd_v1_4/DFO_3490_From_20090619_to_20090622.zip: 16278400it [00:03, 5374939.70it/s]                               \n",
      "Downloading: https://storage.googleapis.com/gfd_v1_4/DFO_3543_From_20090910_to_20090919.zip: 2724352it [00:02, 1217268.04it/s]                             \n",
      "Downloading: https://storage.googleapis.com/gfd_v1_4/DFO_3602_From_20100126_to_20100213.zip: 9019520it [00:02, 3152058.23it/s]                             \n",
      "Downloading: https://storage.googleapis.com/gfd_v1_4/DFO_3653_From_20100518_to_20100524.zip: 16951040it [00:03, 4892971.05it/s]                               \n",
      "Downloading: https://storage.googleapis.com/gfd_v1_4/DFO_3671_From_20100630_to_20100707.zip: 22428288it [00:03, 6708897.33it/s]                               \n",
      "Downloading: https://storage.googleapis.com/gfd_v1_4/DFO_3707_From_20100815_to_20101006.zip: 18687360it [00:03, 5270864.45it/s]                               \n",
      "Downloading: https://storage.googleapis.com/gfd_v1_4/DFO_3721_From_20100918_to_20100930.zip: 19787776it [00:03, 6458361.73it/s]                               \n",
      "Downloading: https://storage.googleapis.com/gfd_v1_4/DFO_3871_From_20111010_to_20111101.zip: 30494464it [00:04, 7020556.03it/s]                               \n",
      "Downloading: https://storage.googleapis.com/gfd_v1_4/DFO_3948_From_20120713_to_20120716.zip: 7815808it [00:02, 3014063.02it/s]                              \n",
      "Downloading: https://storage.googleapis.com/gfd_v1_4/DFO_4101_From_20131031_to_20131110.zip: 5825920it [00:02, 2383836.87it/s]                             \n",
      "Downloading: https://storage.googleapis.com/gfd_v1_4/DFO_4197_From_20141018_to_20141027.zip: 13338880it [00:02, 4609378.10it/s]                               \n",
      "Downloading: https://storage.googleapis.com/gfd_v1_4/DFO_4213_From_20141211_to_20141214.zip: 12626176it [00:02, 4446171.94it/s]                               \n",
      "Downloading: https://storage.googleapis.com/gfd_v1_4/DFO_4337_From_20160308_to_20160325.zip: 11804160it [00:03, 3043005.90it/s]                               \n",
      "Downloading: https://storage.googleapis.com/gfd_v1_4/DFO_4359_From_20160526_to_20160624.zip: 16519168it [00:03, 5194421.73it/s]                               \n",
      "Downloading: https://storage.googleapis.com/gfd_v1_4/DFO_4444_From_20170216_to_20170303.zip: 16006912it [00:03, 5252283.52it/s]                               \n",
      "Downloading: https://storage.googleapis.com/gfd_v1_4/DFO_4589_From_20180321_to_20180324.zip: 9904512it [00:03, 2550089.84it/s]                              \n",
      "Downloading: https://storage.googleapis.com/gfd_v1_4/DFO_4695_From_20181023_to_20181027.zip: 18492288it [00:04, 4088749.05it/s]                               \n",
      "Downloading: https://storage.googleapis.com/gfd_v1_4/DFO_4711_From_20181205_to_20181210.zip: 100%|██████████| 11627392/11627392 [00:02<00:00, 4046647.92it/s] \n"
     ]
    },
    {
     "name": "stdout",
     "output_type": "stream",
     "text": [
      "Downloading Moldova (MDA).\n"
     ]
    },
    {
     "name": "stderr",
     "output_type": "stream",
     "text": [
      "Downloading: https://storage.googleapis.com/gfd_v1_4/DFO_2187_From_20030322_to_20030404.zip: 16371968it [00:03, 5043182.80it/s]                               \n",
      "Downloading: https://storage.googleapis.com/gfd_v1_4/DFO_2193_From_20030322_to_20030505.zip: 34770944it [00:04, 7640834.33it/s]                               \n",
      "Downloading: https://storage.googleapis.com/gfd_v1_4/DFO_2640_From_20050317_to_20050408.zip: 34163456it [00:03, 9986119.01it/s]                               \n",
      "Downloading: https://storage.googleapis.com/gfd_v1_4/DFO_2692_From_20050712_to_20050728.zip: 7437440it [00:03, 2035663.25it/s]                              \n",
      "Downloading: https://storage.googleapis.com/gfd_v1_4/DFO_2839_From_20060407_to_20060524.zip: 17551616it [00:03, 5186093.00it/s]                               \n",
      "Downloading: https://storage.googleapis.com/gfd_v1_4/DFO_3657_From_20100529_to_20100611.zip: 19492864it [00:03, 5807129.31it/s]                               \n"
     ]
    },
    {
     "name": "stdout",
     "output_type": "stream",
     "text": [
      "Downloading Mongolia (MNG).\n"
     ]
    },
    {
     "name": "stderr",
     "output_type": "stream",
     "text": [
      "Downloading: https://storage.googleapis.com/gfd_v1_4/DFO_1725_From_20010512_to_20010608.zip: 180677632it [00:08, 20980269.87it/s]                               \n",
      "Downloading: https://storage.googleapis.com/gfd_v1_4/DFO_2214_From_20030423_to_20030513.zip: 81249024it [00:04, 17034194.96it/s]                              \n",
      "Downloading: https://storage.googleapis.com/gfd_v1_4/DFO_2471_From_20040414_to_20040516.zip: 64254592it [00:05, 11700085.04it/s]                              \n",
      "Downloading: https://storage.googleapis.com/gfd_v1_4/DFO_2851_From_20060421_to_20060531.zip: 73062784it [00:05, 13126126.63it/s]                              \n",
      "Downloading: https://storage.googleapis.com/gfd_v1_4/DFO_2923_From_20060712_to_20060714.zip: 24888704it [00:03, 7723704.83it/s]                               \n",
      "Downloading: https://storage.googleapis.com/gfd_v1_4/DFO_3076_From_20070511_to_20070613.zip: 56724352it [00:04, 14138872.50it/s]                              \n",
      "Downloading: https://storage.googleapis.com/gfd_v1_4/DFO_3132_From_20070714_to_20070803.zip: 43125120it [00:03, 11675147.63it/s]                              \n",
      "Downloading: https://storage.googleapis.com/gfd_v1_4/DFO_3676_From_20100706_to_20100713.zip: 20302080it [00:03, 5973260.64it/s]                               \n",
      "Downloading: https://storage.googleapis.com/gfd_v1_4/DFO_4083_From_20130807_to_20131014.zip: 115256320it [00:06, 18483111.21it/s]                               \n",
      "Downloading: https://storage.googleapis.com/gfd_v1_4/DFO_4258_From_20150515_to_20150602.zip: 44251008it [00:05, 8167912.16it/s]                               \n",
      "Downloading: https://storage.googleapis.com/gfd_v1_4/DFO_4465_From_20170414_to_20170421.zip: 44475904it [00:03, 11600854.36it/s]                              \n",
      "Downloading: https://storage.googleapis.com/gfd_v1_4/DFO_4654_From_20180711_to_20180719.zip: 57517568it [00:04, 13942653.58it/s]                              \n"
     ]
    },
    {
     "name": "stdout",
     "output_type": "stream",
     "text": [
      "Downloading Morocco (MAR).\n"
     ]
    },
    {
     "name": "stderr",
     "output_type": "stream",
     "text": [
      "Downloading: https://storage.googleapis.com/gfd_v1_4/DFO_2097_From_20021124_to_20021129.zip: 2072448it [00:02, 950555.97it/s]                              \n",
      "Downloading: https://storage.googleapis.com/gfd_v1_4/DFO_3197_From_20070921_to_20070924.zip: 7311104it [00:02, 2816480.58it/s]                              \n",
      "Downloading: https://storage.googleapis.com/gfd_v1_4/DFO_3221_From_20071030_to_20071102.zip: 10361600it [00:02, 3841641.63it/s]                              \n",
      "Downloading: https://storage.googleapis.com/gfd_v1_4/DFO_3279_From_20080226_to_20080228.zip: 2060672it [00:02, 964022.32it/s]                              \n",
      "Downloading: https://storage.googleapis.com/gfd_v1_4/DFO_3331_From_20080706_to_20080711.zip: 6423936it [00:02, 2597857.41it/s]                             \n",
      "Downloading: https://storage.googleapis.com/gfd_v1_4/DFO_3445_From_20090207_to_20090209.zip: 13552896it [00:02, 4722677.90it/s]                               \n",
      "Downloading: https://storage.googleapis.com/gfd_v1_4/DFO_3904_From_20120225_to_20120227.zip: 9159040it [00:03, 2465938.51it/s]                              \n"
     ]
    },
    {
     "name": "stdout",
     "output_type": "stream",
     "text": [
      "Downloading Mozambique (MOZ).\n"
     ]
    },
    {
     "name": "stderr",
     "output_type": "stream",
     "text": [
      "Downloading: https://storage.googleapis.com/gfd_v1_4/DFO_1917_From_20020426_to_20020528.zip: 61135488it [00:04, 14959834.41it/s]                              \n",
      "Downloading: https://storage.googleapis.com/gfd_v1_4/DFO_2119_From_20030101_to_20030217.zip: 39678464it [00:03, 10778624.78it/s]                              \n",
      "Downloading: https://storage.googleapis.com/gfd_v1_4/DFO_2178_From_20030305_to_20030316.zip: 7283328it [00:02, 2828217.60it/s]                              \n",
      "Downloading: https://storage.googleapis.com/gfd_v1_4/DFO_2194_From_20030326_to_20030328.zip: 4618496it [00:02, 1724249.53it/s]                             \n",
      "Downloading: https://storage.googleapis.com/gfd_v1_4/DFO_2423_From_20040125_to_20040206.zip: 1311872it [00:03, 430493.25it/s]                             \n",
      "Downloading: https://storage.googleapis.com/gfd_v1_4/DFO_2448_From_20040305_to_20040319.zip: 6207360it [00:02, 2286357.26it/s]                             \n",
      "Downloading: https://storage.googleapis.com/gfd_v1_4/DFO_2638_From_20050301_to_20050401.zip: 29967872it [00:03, 8824077.87it/s]                               \n",
      "Downloading: https://storage.googleapis.com/gfd_v1_4/DFO_2773_From_20051222_to_20060207.zip: 28429184it [00:04, 6107775.13it/s]                               \n",
      "Downloading: https://storage.googleapis.com/gfd_v1_4/DFO_3242_From_20071211_to_20080103.zip: 30551040it [00:04, 6948164.49it/s]                               \n",
      "Downloading: https://storage.googleapis.com/gfd_v1_4/DFO_3323_From_20080619_to_20080622.zip: 4882816it [00:02, 2020027.32it/s]                             \n",
      "Downloading: https://storage.googleapis.com/gfd_v1_4/DFO_3426_From_20081226_to_20090112.zip: 10331904it [00:03, 2721380.34it/s]                              \n",
      "Downloading: https://storage.googleapis.com/gfd_v1_4/DFO_3467_From_20090327_to_20090327.zip: 30733440it [00:03, 9384360.74it/s]                               \n",
      "Downloading: https://storage.googleapis.com/gfd_v1_4/DFO_3616_From_20100301_to_20100317.zip: 19769472it [00:03, 5806391.71it/s]                               \n",
      "Downloading: https://storage.googleapis.com/gfd_v1_4/DFO_3880_From_20111127_to_20111202.zip: 4653824it [00:02, 1942221.82it/s]                             \n",
      "Downloading: https://storage.googleapis.com/gfd_v1_4/DFO_3892_From_20120117_to_20120214.zip: 29576832it [00:04, 6404266.31it/s]                               \n",
      "Downloading: https://storage.googleapis.com/gfd_v1_4/DFO_4023_From_20130117_to_20130304.zip: 15397504it [00:03, 5081996.04it/s]                               \n",
      "Downloading: https://storage.googleapis.com/gfd_v1_4/DFO_4219_From_20150101_to_20150209.zip: 31604480it [00:03, 9057511.27it/s]                               \n",
      "Downloading: https://storage.googleapis.com/gfd_v1_4/DFO_4381_From_20160725_to_20160803.zip: 8806016it [00:02, 3362544.93it/s]                              \n",
      "Downloading: https://storage.googleapis.com/gfd_v1_4/DFO_4439_From_20170101_to_20170207.zip: 9694464it [00:02, 3594895.54it/s]                              \n"
     ]
    },
    {
     "name": "stdout",
     "output_type": "stream",
     "text": [
      "Downloading Myanmar (Burma) (MMR).\n"
     ]
    },
    {
     "name": "stderr",
     "output_type": "stream",
     "text": [
      "Downloading: https://storage.googleapis.com/gfd_v1_4/DFO_1974_From_20020621_to_20020828.zip: 46438528it [00:03, 12407130.99it/s]                              \n",
      "Downloading: https://storage.googleapis.com/gfd_v1_4/DFO_2039_From_20020818_to_20021126.zip: 46376960it [00:04, 11131131.32it/s]                              \n",
      "Downloading: https://storage.googleapis.com/gfd_v1_4/DFO_2041_From_20020817_to_20020904.zip: 9269632it [00:02, 3554329.76it/s]                              \n",
      "Downloading: https://storage.googleapis.com/gfd_v1_4/DFO_2061_From_20020917_to_20021202.zip: 26788224it [00:03, 8690981.42it/s]                               \n",
      "Downloading: https://storage.googleapis.com/gfd_v1_4/DFO_2134_From_20030120_to_20030210.zip: 7314688it [00:02, 2977631.40it/s]                              \n",
      "Downloading: https://storage.googleapis.com/gfd_v1_4/DFO_2248_From_20030611_to_20031010.zip: 91019264it [00:05, 17403642.04it/s]                              \n",
      "Downloading: https://storage.googleapis.com/gfd_v1_4/DFO_2257_From_20030619_to_20030703.zip: 2336640it [00:02, 785416.67it/s]                              \n",
      "Downloading: https://storage.googleapis.com/gfd_v1_4/DFO_2276_From_20030702_to_20030901.zip: 16430080it [00:03, 5371829.02it/s]                               \n",
      "Downloading: https://storage.googleapis.com/gfd_v1_4/DFO_2347_From_20030912_to_20031012.zip: 25644288it [00:05, 5016105.07it/s]                               \n",
      "Downloading: https://storage.googleapis.com/gfd_v1_4/DFO_2370_From_20031017_to_20031104.zip: 13585024it [00:03, 3483525.95it/s]                               \n",
      "Downloading: https://storage.googleapis.com/gfd_v1_4/DFO_2473_From_20040414_to_20040503.zip: 13171840it [00:02, 4589280.64it/s]                               \n",
      "Downloading: https://storage.googleapis.com/gfd_v1_4/DFO_2507_From_20040620_to_20041007.zip: 82961152it [00:04, 16893848.73it/s]                              \n",
      "Downloading: https://storage.googleapis.com/gfd_v1_4/DFO_2543_From_20040806_to_20041003.zip: 30823296it [00:04, 7169848.70it/s]                               \n",
      "Downloading: https://storage.googleapis.com/gfd_v1_4/DFO_2600_From_20041210_to_20041218.zip: 6325376it [00:03, 1802870.97it/s]                             \n",
      "Downloading: https://storage.googleapis.com/gfd_v1_4/DFO_2690_From_20050707_to_20050727.zip: 46257664it [00:03, 12275966.55it/s]                              \n",
      "Downloading: https://storage.googleapis.com/gfd_v1_4/DFO_2709_From_20050813_to_20050926.zip: 24035200it [00:04, 5175083.68it/s]                               \n",
      "Downloading: https://storage.googleapis.com/gfd_v1_4/DFO_2736_From_20050926_to_20051006.zip: 37553792it [00:03, 9802216.94it/s]                               \n",
      "Downloading: https://storage.googleapis.com/gfd_v1_4/DFO_2768_From_20051123_to_20060112.zip: 8028544it [00:02, 3183949.26it/s]                              \n",
      "Downloading: https://storage.googleapis.com/gfd_v1_4/DFO_2798_From_20060210_to_20060218.zip: 6606592it [00:02, 2671693.86it/s]                             \n",
      "Downloading: https://storage.googleapis.com/gfd_v1_4/DFO_2859_From_20060429_to_20060505.zip: 9790848it [00:02, 3606459.32it/s]                              \n",
      "Downloading: https://storage.googleapis.com/gfd_v1_4/DFO_2879_From_20060531_to_20060724.zip: 43199104it [00:03, 10982115.92it/s]                              \n",
      "Downloading: https://storage.googleapis.com/gfd_v1_4/DFO_2951_From_20060820_to_20061213.zip: 41867776it [00:03, 11066177.34it/s]                              \n",
      "Downloading: https://storage.googleapis.com/gfd_v1_4/DFO_3068_From_20070504_to_20070509.zip: 6971392it [00:03, 1938916.29it/s]                              \n",
      "Downloading: https://storage.googleapis.com/gfd_v1_4/DFO_3097_From_20070611_to_20070624.zip: 13163904it [00:02, 4582153.17it/s]                               \n",
      "Downloading: https://storage.googleapis.com/gfd_v1_4/DFO_3125_From_20070706_to_20070801.zip: 16837504it [00:03, 4970286.67it/s]                               \n",
      "Downloading: https://storage.googleapis.com/gfd_v1_4/DFO_3128_From_20070712_to_20071010.zip: 48284416it [00:03, 12234466.33it/s]                              \n",
      "Downloading: https://storage.googleapis.com/gfd_v1_4/DFO_3134_From_20070718_to_20070813.zip: 41242496it [00:05, 7086714.68it/s]                               \n",
      "Downloading: https://storage.googleapis.com/gfd_v1_4/DFO_3136_From_20070721_to_20071015.zip: 54386560it [00:04, 13439669.37it/s]                              \n",
      "Downloading: https://storage.googleapis.com/gfd_v1_4/DFO_3169_From_20070814_to_20071004.zip: 19998976it [00:04, 4807036.38it/s]                               \n",
      "Downloading: https://storage.googleapis.com/gfd_v1_4/DFO_3188_From_20070905_to_20071110.zip: 40772992it [00:03, 11624243.44it/s]                              \n",
      "Downloading: https://storage.googleapis.com/gfd_v1_4/DFO_3208_From_20071017_to_20071024.zip: 9295488it [00:02, 3548460.46it/s]                              \n",
      "Downloading: https://storage.googleapis.com/gfd_v1_4/DFO_3226_From_20071115_to_20071201.zip: 9441792it [00:02, 3510643.69it/s]                              \n",
      "Downloading: https://storage.googleapis.com/gfd_v1_4/DFO_3302_From_20080503_to_20080522.zip: 25195008it [00:03, 7902919.41it/s]                               \n",
      "Downloading: https://storage.googleapis.com/gfd_v1_4/DFO_3312_From_20080524_to_20080528.zip: 12597376it [00:02, 4510934.04it/s]                               \n",
      "Downloading: https://storage.googleapis.com/gfd_v1_4/DFO_3327_From_20080705_to_20080714.zip: 36825088it [00:03, 10197408.84it/s]                              \n",
      "Downloading: https://storage.googleapis.com/gfd_v1_4/DFO_3360_From_20080811_to_20080820.zip: 20290432it [00:03, 5788977.99it/s]                               \n",
      "Downloading: https://storage.googleapis.com/gfd_v1_4/DFO_3372_From_20080830_to_20080908.zip: 16645376it [00:03, 5475594.41it/s]                               \n",
      "Downloading: https://storage.googleapis.com/gfd_v1_4/DFO_3384_From_20080911_to_20081004.zip: 19540096it [00:03, 5160646.40it/s]                               \n",
      "Downloading: https://storage.googleapis.com/gfd_v1_4/DFO_3530_From_20090818_to_20090827.zip: 16139904it [00:03, 5362230.28it/s]                               \n",
      "Downloading: https://storage.googleapis.com/gfd_v1_4/DFO_3662_From_20100615_to_20100626.zip: 10999168it [00:02, 3956956.43it/s]                              \n",
      "Downloading: https://storage.googleapis.com/gfd_v1_4/DFO_3679_From_20100701_to_20100713.zip: 32836480it [00:03, 8624351.72it/s]                               \n",
      "Downloading: https://storage.googleapis.com/gfd_v1_4/DFO_3723_From_20100920_to_20100930.zip: 18779648it [00:04, 4172809.85it/s]                               \n",
      "Downloading: https://storage.googleapis.com/gfd_v1_4/DFO_3732_From_20101001_to_20101012.zip: 30071680it [00:04, 6771055.22it/s]                               \n",
      "Downloading: https://storage.googleapis.com/gfd_v1_4/DFO_3795_From_20110323_to_20110410.zip: 7218304it [00:02, 2886084.13it/s]                             \n",
      "Downloading: https://storage.googleapis.com/gfd_v1_4/DFO_3889_From_20120101_to_20120109.zip: 6460288it [00:02, 2625415.49it/s]                             \n",
      "Downloading: https://storage.googleapis.com/gfd_v1_4/DFO_3985_From_20120912_to_20120926.zip: 14480896it [00:02, 4920718.92it/s]                               \n",
      "Downloading: https://storage.googleapis.com/gfd_v1_4/DFO_4092_From_20130930_to_20131014.zip: 28427776it [00:03, 7734939.51it/s]                               \n",
      "Downloading: https://storage.googleapis.com/gfd_v1_4/DFO_4156_From_20140711_to_20140714.zip: 14888064it [00:02, 5048147.24it/s]                               \n",
      "Downloading: https://storage.googleapis.com/gfd_v1_4/DFO_4206_From_20141107_to_20141116.zip: 6486912it [00:02, 2611177.54it/s]                             \n",
      "Downloading: https://storage.googleapis.com/gfd_v1_4/DFO_4216_From_20141220_to_20150101.zip: 6287744it [00:02, 2532805.42it/s]                             \n",
      "Downloading: https://storage.googleapis.com/gfd_v1_4/DFO_4283_From_20150715_to_20150819.zip: 17913856it [00:03, 5715733.09it/s]                               \n",
      "Downloading: https://storage.googleapis.com/gfd_v1_4/DFO_4355_From_20160420_to_20160501.zip: 17167360it [00:03, 5096711.48it/s]                               \n",
      "Downloading: https://storage.googleapis.com/gfd_v1_4/DFO_4365_From_20160601_to_20160816.zip: 15878272it [00:04, 3969528.72it/s]                               \n",
      "Downloading: https://storage.googleapis.com/gfd_v1_4/DFO_4376_From_20160718_to_20160719.zip: 5998976it [00:02, 2432488.44it/s]                             \n",
      "Downloading: https://storage.googleapis.com/gfd_v1_4/DFO_4382_From_20160725_to_20160826.zip: 41706752it [00:04, 9407559.67it/s]                               \n",
      "Downloading: https://storage.googleapis.com/gfd_v1_4/DFO_4390_From_20160815_to_20160826.zip: 8020352it [00:02, 3115843.34it/s]                              \n",
      "Downloading: https://storage.googleapis.com/gfd_v1_4/DFO_4423_From_20161201_to_20161207.zip: 12868608it [00:02, 4568035.26it/s]                               \n",
      "Downloading: https://storage.googleapis.com/gfd_v1_4/DFO_4432_From_20161231_to_20170207.zip: 7466624it [00:02, 2969930.82it/s]                              \n",
      "Downloading: https://storage.googleapis.com/gfd_v1_4/DFO_4483_From_20170602_to_20170703.zip: 18870016it [00:04, 4652748.79it/s]                               \n",
      "Downloading: https://storage.googleapis.com/gfd_v1_4/DFO_4508_From_20170810_to_20170826.zip: 35916672it [00:05, 6568162.37it/s]                               \n",
      "Downloading: https://storage.googleapis.com/gfd_v1_4/DFO_4632_From_20180615_to_20180620.zip: 14192512it [00:04, 3541027.46it/s]                               \n",
      "Downloading: https://storage.googleapis.com/gfd_v1_4/DFO_4666_From_20180715_to_20180810.zip: 12219264it [00:03, 3934154.44it/s]                               \n"
     ]
    },
    {
     "name": "stdout",
     "output_type": "stream",
     "text": [
      "Downloading Namibia (NAM).\n"
     ]
    },
    {
     "name": "stderr",
     "output_type": "stream",
     "text": [
      "Downloading: https://storage.googleapis.com/gfd_v1_4/DFO_2161_From_20030115_to_20030701.zip: 85033600it [00:06, 12952111.20it/s]                              \n",
      "Downloading: https://storage.googleapis.com/gfd_v1_4/DFO_2162_From_20030206_to_20030220.zip: 28603264it [00:05, 5538724.82it/s]                               \n",
      "Downloading: https://storage.googleapis.com/gfd_v1_4/DFO_2425_From_20040127_to_20040301.zip: 17378176it [00:04, 4176288.32it/s]                               \n",
      "Downloading: https://storage.googleapis.com/gfd_v1_4/DFO_2430_From_20040201_to_20040602.zip: 97285376it [00:05, 16493447.41it/s]                              \n",
      "Downloading: https://storage.googleapis.com/gfd_v1_4/DFO_2620_From_20050127_to_20050328.zip: 36258432it [00:03, 10095331.24it/s]                              \n",
      "Downloading: https://storage.googleapis.com/gfd_v1_4/DFO_3272_From_20080209_to_20080501.zip: 77951872it [00:06, 12440035.36it/s]                              \n",
      "Downloading: https://storage.googleapis.com/gfd_v1_4/DFO_3462_From_20090304_to_20090309.zip: 9820288it [00:02, 3684119.44it/s]                              \n",
      "Downloading: https://storage.googleapis.com/gfd_v1_4/DFO_3467_From_20090327_to_20090327.zip: 30733440it [00:03, 8858630.71it/s]                               \n",
      "Downloading: https://storage.googleapis.com/gfd_v1_4/DFO_3493_From_20090621_to_20090628.zip: 14777600it [00:02, 4992455.69it/s]                               \n",
      "Downloading: https://storage.googleapis.com/gfd_v1_4/DFO_3616_From_20100301_to_20100317.zip: 19769472it [00:03, 6510436.78it/s]                               \n",
      "Downloading: https://storage.googleapis.com/gfd_v1_4/DFO_3639_From_20100416_to_20100421.zip: 6271744it [00:02, 2451767.87it/s]                             \n",
      "Downloading: https://storage.googleapis.com/gfd_v1_4/DFO_4026_From_20130115_to_20130201.zip: 16159616it [00:03, 5145039.86it/s]                               \n",
      "Downloading: https://storage.googleapis.com/gfd_v1_4/DFO_4037_From_20130301_to_20130317.zip: 23007488it [00:04, 5187668.59it/s]                               \n",
      "Downloading: https://storage.googleapis.com/gfd_v1_4/DFO_4455_From_20170309_to_20170322.zip: 25326848it [00:03, 7886616.13it/s]                               \n",
      "Downloading: https://storage.googleapis.com/gfd_v1_4/DFO_4586_From_20180301_to_20180314.zip: 45594240it [00:04, 9159183.04it/s]                               \n"
     ]
    },
    {
     "name": "stdout",
     "output_type": "stream",
     "text": [
      "Downloading Nepal (NPL).\n"
     ]
    },
    {
     "name": "stderr",
     "output_type": "stream",
     "text": [
      "Downloading: https://storage.googleapis.com/gfd_v1_4/DFO_1641_From_20000918_to_20001021.zip: 25968768it [00:03, 7528068.12it/s]                               \n",
      "Downloading: https://storage.googleapis.com/gfd_v1_4/DFO_1789_From_20010820_to_20010911.zip: 17278208it [00:03, 5670771.18it/s]                               \n",
      "Downloading: https://storage.googleapis.com/gfd_v1_4/DFO_1791_From_20010907_to_20010924.zip: 15143808it [00:02, 5162241.29it/s]                               \n",
      "Downloading: https://storage.googleapis.com/gfd_v1_4/DFO_1974_From_20020621_to_20020828.zip: 46438528it [00:04, 9722471.16it/s]                               \n",
      "Downloading: https://storage.googleapis.com/gfd_v1_4/DFO_1980_From_20020707_to_20020709.zip: 13100288it [00:02, 4618645.60it/s]                               \n",
      "Downloading: https://storage.googleapis.com/gfd_v1_4/DFO_1999_From_20020721_to_20020815.zip: 21978240it [00:03, 6914677.70it/s]                               \n",
      "Downloading: https://storage.googleapis.com/gfd_v1_4/DFO_2248_From_20030611_to_20031010.zip: 91019264it [00:06, 14584695.79it/s]                              \n",
      "Downloading: https://storage.googleapis.com/gfd_v1_4/DFO_2279_From_20030715_to_20030901.zip: 65999232it [00:04, 15526557.91it/s]                              \n",
      "Downloading: https://storage.googleapis.com/gfd_v1_4/DFO_2507_From_20040620_to_20041007.zip: 82961152it [00:05, 14194107.11it/s]                              \n",
      "Downloading: https://storage.googleapis.com/gfd_v1_4/DFO_2519_From_20040705_to_20040811.zip: 30657024it [00:04, 6856809.53it/s]                               \n",
      "Downloading: https://storage.googleapis.com/gfd_v1_4/DFO_2570_From_20041007_to_20041018.zip: 27644032it [00:04, 6427929.12it/s]                               \n",
      "Downloading: https://storage.googleapis.com/gfd_v1_4/DFO_2676_From_20050623_to_20050630.zip: 19476352it [00:03, 6365352.70it/s]                               \n",
      "Downloading: https://storage.googleapis.com/gfd_v1_4/DFO_2686_From_20050702_to_20050715.zip: 27666432it [00:04, 6644402.49it/s]                               \n",
      "Downloading: https://storage.googleapis.com/gfd_v1_4/DFO_2689_From_20050705_to_20050814.zip: 49325184it [00:04, 10221253.59it/s]                              \n",
      "Downloading: https://storage.googleapis.com/gfd_v1_4/DFO_2690_From_20050707_to_20050727.zip: 46257664it [00:04, 10751618.94it/s]                              \n",
      "Downloading: https://storage.googleapis.com/gfd_v1_4/DFO_2718_From_20050826_to_20050830.zip: 14639488it [00:02, 4997402.36it/s]                               \n",
      "Downloading: https://storage.googleapis.com/gfd_v1_4/DFO_2731_From_20050916_to_20051005.zip: 34272768it [00:03, 9554311.60it/s]                               \n",
      "Downloading: https://storage.googleapis.com/gfd_v1_4/DFO_2737_From_20050925_to_20051002.zip: 16968832it [00:03, 5036328.32it/s]                               \n",
      "Downloading: https://storage.googleapis.com/gfd_v1_4/DFO_2747_From_20051003_to_20051022.zip: 24627200it [00:04, 5501434.08it/s]                               \n",
      "Downloading: https://storage.googleapis.com/gfd_v1_4/DFO_2879_From_20060531_to_20060724.zip: 43199104it [00:03, 11827837.84it/s]                              \n",
      "Downloading: https://storage.googleapis.com/gfd_v1_4/DFO_2894_From_20060624_to_20060803.zip: 36461184it [00:04, 8344438.38it/s]                               \n",
      "Downloading: https://storage.googleapis.com/gfd_v1_4/DFO_2935_From_20060728_to_20060912.zip: 70708608it [00:04, 15651647.58it/s]                              \n",
      "Downloading: https://storage.googleapis.com/gfd_v1_4/DFO_2954_From_20060826_to_20060913.zip: 22133248it [00:03, 6495750.99it/s]                               \n",
      "Downloading: https://storage.googleapis.com/gfd_v1_4/DFO_2956_From_20060829_to_20060904.zip: 17120640it [00:03, 5618044.36it/s]                               \n",
      "Downloading: https://storage.googleapis.com/gfd_v1_4/DFO_2961_From_20060824_to_20060920.zip: 35013248it [00:03, 10735535.19it/s]                              \n",
      "Downloading: https://storage.googleapis.com/gfd_v1_4/DFO_3100_From_20070615_to_20070618.zip: 13609472it [00:02, 4762892.20it/s]                               \n",
      "Downloading: https://storage.googleapis.com/gfd_v1_4/DFO_3120_From_20070701_to_20070713.zip: 43648256it [00:04, 9355297.23it/s]                               \n",
      "Downloading: https://storage.googleapis.com/gfd_v1_4/DFO_3122_From_20070703_to_20070922.zip: 47788032it [00:05, 9046091.12it/s]                               \n",
      "Downloading: https://storage.googleapis.com/gfd_v1_4/DFO_3128_From_20070712_to_20071010.zip: 48284416it [00:03, 12866524.43it/s]                              \n",
      "Downloading: https://storage.googleapis.com/gfd_v1_4/DFO_3136_From_20070721_to_20071015.zip: 54386560it [00:04, 13048095.84it/s]                              \n",
      "Downloading: https://storage.googleapis.com/gfd_v1_4/DFO_3143_From_20070723_to_20071002.zip: 32132736it [00:03, 9434042.89it/s]                               \n",
      "Downloading: https://storage.googleapis.com/gfd_v1_4/DFO_3164_From_20070812_to_20070817.zip: 26141056it [00:03, 8315965.54it/s]                               \n",
      "Downloading: https://storage.googleapis.com/gfd_v1_4/DFO_3327_From_20080705_to_20080714.zip: 36825088it [00:03, 10044774.45it/s]                              \n",
      "Downloading: https://storage.googleapis.com/gfd_v1_4/DFO_3338_From_20080720_to_20080808.zip: 30480640it [00:03, 8903219.03it/s]                               \n",
      "Downloading: https://storage.googleapis.com/gfd_v1_4/DFO_3365_From_20080818_to_20080924.zip: 32584576it [00:03, 8965363.08it/s]                               \n",
      "Downloading: https://storage.googleapis.com/gfd_v1_4/DFO_3371_From_20080830_to_20080908.zip: 25137920it [00:03, 7293561.22it/s]                               \n",
      "Downloading: https://storage.googleapis.com/gfd_v1_4/DFO_3372_From_20080830_to_20080908.zip: 16645376it [00:03, 5485855.48it/s]                               \n",
      "Downloading: https://storage.googleapis.com/gfd_v1_4/DFO_3382_From_20080922_to_20080929.zip: 39644928it [00:03, 10716690.43it/s]                              \n",
      "Downloading: https://storage.googleapis.com/gfd_v1_4/DFO_3383_From_20080922_to_20080929.zip: 26668928it [00:03, 7794963.34it/s]                               \n",
      "Downloading: https://storage.googleapis.com/gfd_v1_4/DFO_3495_From_20090703_to_20090706.zip: 19142656it [00:03, 6151588.79it/s]                               \n",
      "Downloading: https://storage.googleapis.com/gfd_v1_4/DFO_3553_From_20091004_to_20091012.zip: 23765376it [00:03, 7644975.48it/s]                               \n",
      "Downloading: https://storage.googleapis.com/gfd_v1_4/DFO_3674_From_20100705_to_20100715.zip: 31659136it [00:03, 9160614.22it/s]                               \n",
      "Downloading: https://storage.googleapis.com/gfd_v1_4/DFO_3679_From_20100701_to_20100713.zip: 32836480it [00:03, 9620384.82it/s]                               \n",
      "Downloading: https://storage.googleapis.com/gfd_v1_4/DFO_3696_From_20100727_to_20101115.zip: 13203584it [00:02, 4595970.12it/s]                               \n",
      "Downloading: https://storage.googleapis.com/gfd_v1_4/DFO_3716_From_20100909_to_20100930.zip: 34751232it [00:03, 9759005.13it/s]                               \n",
      "Downloading: https://storage.googleapis.com/gfd_v1_4/DFO_3717_From_20100918_to_20100930.zip: 18747008it [00:03, 5401940.82it/s]                               \n",
      "Downloading: https://storage.googleapis.com/gfd_v1_4/DFO_3732_From_20101001_to_20101012.zip: 30071680it [00:03, 9120589.17it/s]                               \n",
      "Downloading: https://storage.googleapis.com/gfd_v1_4/DFO_3854_From_20110815_to_20111002.zip: 30138752it [00:03, 9065768.97it/s]                               \n",
      "Downloading: https://storage.googleapis.com/gfd_v1_4/DFO_3983_From_20120916_to_20120918.zip: 25506176it [00:03, 8168390.28it/s]                               \n",
      "Downloading: https://storage.googleapis.com/gfd_v1_4/DFO_4078_From_20130801_to_20130807.zip: 26208768it [00:03, 7971553.00it/s]                               \n",
      "Downloading: https://storage.googleapis.com/gfd_v1_4/DFO_4082_From_20130807_to_20130821.zip: 27354496it [00:03, 8270142.19it/s]                               \n",
      "Downloading: https://storage.googleapis.com/gfd_v1_4/DFO_4098_From_20131012_to_20131110.zip: 29101312it [00:05, 5253871.70it/s]                               \n",
      "Downloading: https://storage.googleapis.com/gfd_v1_4/DFO_4171_From_20140811_to_20140908.zip: 25297152it [00:03, 7812638.67it/s]                               \n",
      "Downloading: https://storage.googleapis.com/gfd_v1_4/DFO_4174_From_20140814_to_20140908.zip: 24897408it [00:03, 7347956.45it/s]                               \n",
      "Downloading: https://storage.googleapis.com/gfd_v1_4/DFO_4178_From_20140820_to_20140908.zip: 29899648it [00:03, 8041672.71it/s]                               \n",
      "Downloading: https://storage.googleapis.com/gfd_v1_4/DFO_4188_From_20140924_to_20141011.zip: 10931584it [00:02, 3926127.64it/s]                               \n",
      "Downloading: https://storage.googleapis.com/gfd_v1_4/DFO_4259_From_20150602_to_20150629.zip: 9638016it [00:02, 3463589.52it/s]                              \n",
      "Downloading: https://storage.googleapis.com/gfd_v1_4/DFO_4282_From_20150715_to_20150819.zip: 73621376it [00:04, 16165398.92it/s]                              \n",
      "Downloading: https://storage.googleapis.com/gfd_v1_4/DFO_4288_From_20150813_to_20150911.zip: 10036224it [00:02, 3718711.89it/s]                              \n",
      "Downloading: https://storage.googleapis.com/gfd_v1_4/DFO_4378_From_20160707_to_20160803.zip: 41001088it [00:03, 11087108.25it/s]                              \n",
      "Downloading: https://storage.googleapis.com/gfd_v1_4/DFO_4382_From_20160725_to_20160826.zip: 41706752it [00:03, 11516365.72it/s]                              \n",
      "Downloading: https://storage.googleapis.com/gfd_v1_4/DFO_4459_From_20170330_to_20170418.zip: 5575936it [00:03, 1600291.08it/s]                             \n",
      "Downloading: https://storage.googleapis.com/gfd_v1_4/DFO_4507_From_20170810_to_20170826.zip: 41056000it [00:03, 10680022.15it/s]                              \n",
      "Downloading: https://storage.googleapis.com/gfd_v1_4/DFO_4508_From_20170810_to_20170826.zip: 35916672it [00:04, 7721481.16it/s]                               \n",
      "Downloading: https://storage.googleapis.com/gfd_v1_4/DFO_4673_From_20180901_to_20180907.zip: 16128640it [00:03, 5322927.42it/s]                               \n"
     ]
    },
    {
     "name": "stdout",
     "output_type": "stream",
     "text": [
      "Downloading Netherlands (NLD).\n"
     ]
    },
    {
     "name": "stderr",
     "output_type": "stream",
     "text": [
      "Downloading: https://storage.googleapis.com/gfd_v1_4/DFO_2024_From_20020807_to_20020828.zip: 21745792it [00:03, 5772910.74it/s]                               \n",
      "Downloading: https://storage.googleapis.com/gfd_v1_4/DFO_2117_From_20030101_to_20030108.zip: 34964608it [00:04, 8603008.24it/s]                               \n",
      "Downloading: https://storage.googleapis.com/gfd_v1_4/DFO_4503_From_20170725_to_20170729.zip: 7489536it [00:02, 2955260.51it/s]                              \n"
     ]
    },
    {
     "name": "stdout",
     "output_type": "stream",
     "text": [
      "Downloading New Zealand (NZL).\n"
     ]
    },
    {
     "name": "stderr",
     "output_type": "stream",
     "text": [
      "Downloading: https://storage.googleapis.com/gfd_v1_4/DFO_1985_From_20020712_to_20020715.zip: 3096832it [00:02, 1338056.07it/s]                             \n",
      "Downloading: https://storage.googleapis.com/gfd_v1_4/DFO_2090_From_20021119_to_20021121.zip: 3386880it [00:02, 1456907.96it/s]                             \n",
      "Downloading: https://storage.googleapis.com/gfd_v1_4/DFO_3127_From_20070710_to_20070713.zip: 3062912it [00:02, 1337750.86it/s]                             \n",
      "Downloading: https://storage.googleapis.com/gfd_v1_4/DFO_3654_From_20100525_to_20100531.zip: 3654528it [00:02, 1561384.90it/s]                             \n",
      "Downloading: https://storage.googleapis.com/gfd_v1_4/DFO_3772_From_20110128_to_20110131.zip: 2951936it [00:02, 1297943.80it/s]                             \n",
      "Downloading: https://storage.googleapis.com/gfd_v1_4/DFO_4157_From_20140705_to_20140714.zip: 3332480it [00:02, 1424643.68it/s]                             \n",
      "Downloading: https://storage.googleapis.com/gfd_v1_4/DFO_4461_From_20170405_to_20170421.zip: 3410944it [00:02, 1468848.97it/s]                             \n"
     ]
    },
    {
     "name": "stdout",
     "output_type": "stream",
     "text": [
      "Downloading Nicaragua (NIC).\n"
     ]
    },
    {
     "name": "stderr",
     "output_type": "stream",
     "text": [
      "Downloading: https://storage.googleapis.com/gfd_v1_4/DFO_1818_From_20011026_to_20011115.zip: 11133184it [00:02, 4090270.73it/s]                              \n",
      "Downloading: https://storage.googleapis.com/gfd_v1_4/DFO_2510_From_20040624_to_20040720.zip: 10182656it [00:02, 3800470.44it/s]                              \n",
      "Downloading: https://storage.googleapis.com/gfd_v1_4/DFO_2717_From_20050821_to_20050830.zip: 20369024it [00:04, 4510690.87it/s]                               \n",
      "Downloading: https://storage.googleapis.com/gfd_v1_4/DFO_2744_From_20051001_to_20051016.zip: 21100800it [00:03, 6006387.03it/s]                               \n",
      "Downloading: https://storage.googleapis.com/gfd_v1_4/DFO_2753_From_20051019_to_20051025.zip: 21271040it [00:03, 6148384.42it/s]                               \n",
      "Downloading: https://storage.googleapis.com/gfd_v1_4/DFO_3184_From_20070904_to_20070912.zip: 15148160it [00:02, 5174558.14it/s]                               \n",
      "Downloading: https://storage.googleapis.com/gfd_v1_4/DFO_3205_From_20071012_to_20071026.zip: 17747456it [00:03, 5585094.68it/s]                               \n",
      "Downloading: https://storage.googleapis.com/gfd_v1_4/DFO_3220_From_20071028_to_20071201.zip: 14229504it [00:02, 4818124.57it/s]                               \n",
      "Downloading: https://storage.googleapis.com/gfd_v1_4/DFO_3490_From_20090619_to_20090622.zip: 16278400it [00:03, 5359443.30it/s]                               \n",
      "Downloading: https://storage.googleapis.com/gfd_v1_4/DFO_3653_From_20100518_to_20100524.zip: 16951040it [00:03, 5583146.11it/s]                               \n",
      "Downloading: https://storage.googleapis.com/gfd_v1_4/DFO_3707_From_20100815_to_20101006.zip: 18687360it [00:03, 6155601.56it/s]                               \n",
      "Downloading: https://storage.googleapis.com/gfd_v1_4/DFO_3721_From_20100918_to_20100930.zip: 19787776it [00:03, 6526790.56it/s]                               \n",
      "Downloading: https://storage.googleapis.com/gfd_v1_4/DFO_3871_From_20111010_to_20111101.zip: 30494464it [00:03, 9050432.87it/s]                               \n"
     ]
    },
    {
     "name": "stdout",
     "output_type": "stream",
     "text": [
      "Downloading Niger (NER).\n"
     ]
    },
    {
     "name": "stderr",
     "output_type": "stream",
     "text": [
      "Downloading: https://storage.googleapis.com/gfd_v1_4/DFO_2311_From_20030805_to_20031012.zip: 45515136it [00:04, 10685335.84it/s]                              \n",
      "Downloading: https://storage.googleapis.com/gfd_v1_4/DFO_2314_From_20030805_to_20031012.zip: 14945408it [00:02, 5031921.08it/s]                               \n",
      "Downloading: https://storage.googleapis.com/gfd_v1_4/DFO_2320_From_20030810_to_20031019.zip: 82118272it [00:04, 16993941.74it/s]                              \n",
      "Downloading: https://storage.googleapis.com/gfd_v1_4/DFO_2345_From_20030905_to_20031028.zip: 15668480it [00:02, 5255318.99it/s]                               \n",
      "Downloading: https://storage.googleapis.com/gfd_v1_4/DFO_2634_From_20050306_to_20050309.zip: 25037952it [00:03, 6780474.93it/s]                               \n",
      "Downloading: https://storage.googleapis.com/gfd_v1_4/DFO_2721_From_20050807_to_20050916.zip: 18062976it [00:03, 5249962.65it/s]                               \n",
      "Downloading: https://storage.googleapis.com/gfd_v1_4/DFO_2947_From_20060803_to_20061011.zip: 119138432it [00:06, 19777490.50it/s]                               \n",
      "Downloading: https://storage.googleapis.com/gfd_v1_4/DFO_3151_From_20070804_to_20071021.zip: 36338560it [00:03, 9794581.88it/s]                               \n",
      "Downloading: https://storage.googleapis.com/gfd_v1_4/DFO_3166_From_20070726_to_20071010.zip: 90931328it [00:05, 17437525.74it/s]                              \n",
      "Downloading: https://storage.googleapis.com/gfd_v1_4/DFO_3534_From_20090810_to_20090902.zip: 156698752it [00:07, 20535889.25it/s]                               \n",
      "Downloading: https://storage.googleapis.com/gfd_v1_4/DFO_3994_From_20120915_to_20121015.zip: 24517248it [00:03, 6155189.36it/s]                               \n",
      "Downloading: https://storage.googleapis.com/gfd_v1_4/DFO_4175_From_20140813_to_20140819.zip: 28426240it [00:03, 8560297.95it/s]                               \n",
      "Downloading: https://storage.googleapis.com/gfd_v1_4/DFO_4294_From_20150830_to_20150911.zip: 12548864it [00:02, 4382536.85it/s]                               \n",
      "Downloading: https://storage.googleapis.com/gfd_v1_4/DFO_4391_From_20160914_to_20160922.zip: 12014720it [00:03, 3070495.22it/s]                               \n"
     ]
    },
    {
     "name": "stdout",
     "output_type": "stream",
     "text": [
      "Downloading Nigeria (NGA).\n"
     ]
    },
    {
     "name": "stderr",
     "output_type": "stream",
     "text": [
      "Downloading: https://storage.googleapis.com/gfd_v1_4/DFO_1778_From_20010819_to_20011011.zip: 21939840it [00:03, 7097768.18it/s]                               \n",
      "Downloading: https://storage.googleapis.com/gfd_v1_4/DFO_2303_From_20030803_to_20031102.zip: 53370624it [00:03, 13421550.69it/s]                              \n",
      "Downloading: https://storage.googleapis.com/gfd_v1_4/DFO_2311_From_20030805_to_20031012.zip: 45515136it [00:03, 11664179.02it/s]                              \n",
      "Downloading: https://storage.googleapis.com/gfd_v1_4/DFO_2314_From_20030805_to_20031012.zip: 14945408it [00:02, 5135780.84it/s]                               \n",
      "Downloading: https://storage.googleapis.com/gfd_v1_4/DFO_2320_From_20030810_to_20031019.zip: 82118272it [00:04, 16949937.27it/s]                              \n",
      "Downloading: https://storage.googleapis.com/gfd_v1_4/DFO_2345_From_20030905_to_20031028.zip: 15668480it [00:03, 4945028.34it/s]                               \n",
      "Downloading: https://storage.googleapis.com/gfd_v1_4/DFO_2361_From_20030922_to_20031010.zip: 8756608it [00:02, 3393011.41it/s]                              \n",
      "Downloading: https://storage.googleapis.com/gfd_v1_4/DFO_2576_From_20041007_to_20041104.zip: 5117696it [00:02, 2153722.56it/s]                             \n",
      "Downloading: https://storage.googleapis.com/gfd_v1_4/DFO_2721_From_20050807_to_20050916.zip: 18062976it [00:03, 5252709.69it/s]                               \n",
      "Downloading: https://storage.googleapis.com/gfd_v1_4/DFO_2947_From_20060803_to_20061011.zip: 119138432it [00:06, 18847133.03it/s]                               \n",
      "Downloading: https://storage.googleapis.com/gfd_v1_4/DFO_3151_From_20070804_to_20071021.zip: 36338560it [00:03, 10611601.82it/s]                              \n",
      "Downloading: https://storage.googleapis.com/gfd_v1_4/DFO_3166_From_20070726_to_20071010.zip: 90931328it [00:05, 17872515.33it/s]                              \n",
      "Downloading: https://storage.googleapis.com/gfd_v1_4/DFO_3167_From_20070809_to_20070815.zip: 6960384it [00:02, 2700014.53it/s]                              \n",
      "Downloading: https://storage.googleapis.com/gfd_v1_4/DFO_3348_From_20080802_to_20080808.zip: 20294016it [00:03, 5861066.51it/s]                               \n",
      "Downloading: https://storage.googleapis.com/gfd_v1_4/DFO_3534_From_20090810_to_20090902.zip: 156698752it [00:07, 20532943.19it/s]                               \n",
      "Downloading: https://storage.googleapis.com/gfd_v1_4/DFO_3555_From_20091020_to_20091026.zip: 5390848it [00:02, 2208927.67it/s]                             \n",
      "Downloading: https://storage.googleapis.com/gfd_v1_4/DFO_3714_From_20100815_to_20100917.zip: 46160512it [00:04, 10511656.74it/s]                              \n",
      "Downloading: https://storage.googleapis.com/gfd_v1_4/DFO_3741_From_20101001_to_20101105.zip: 5889408it [00:03, 1681795.09it/s]                             \n",
      "Downloading: https://storage.googleapis.com/gfd_v1_4/DFO_3901_From_20120220_to_20120227.zip: 5298944it [00:02, 2170569.77it/s]                             \n",
      "Downloading: https://storage.googleapis.com/gfd_v1_4/DFO_3976_From_20120825_to_20120926.zip: 11017472it [00:02, 4037076.55it/s]                               \n",
      "Downloading: https://storage.googleapis.com/gfd_v1_4/DFO_3994_From_20120915_to_20121015.zip: 24517248it [00:03, 7239597.95it/s]                               \n",
      "Downloading: https://storage.googleapis.com/gfd_v1_4/DFO_4175_From_20140813_to_20140819.zip: 28426240it [00:03, 8472860.18it/s]                               \n",
      "Downloading: https://storage.googleapis.com/gfd_v1_4/DFO_4294_From_20150830_to_20150911.zip: 12548864it [00:02, 4472762.79it/s]                               \n",
      "Downloading: https://storage.googleapis.com/gfd_v1_4/DFO_4391_From_20160914_to_20160922.zip: 12014720it [00:03, 3159000.58it/s]                               \n",
      "Downloading: https://storage.googleapis.com/gfd_v1_4/DFO_4667_From_20180820_to_20181002.zip: 30144384it [00:04, 6668518.13it/s]                               \n"
     ]
    },
    {
     "name": "stdout",
     "output_type": "stream",
     "text": [
      "Downloading North Korea (PRK).\n"
     ]
    },
    {
     "name": "stderr",
     "output_type": "stream",
     "text": [
      "Downloading: https://storage.googleapis.com/gfd_v1_4/DFO_1627_From_20000830_to_20000910.zip: 21906304it [00:03, 7013657.56it/s]                               \n",
      "Downloading: https://storage.googleapis.com/gfd_v1_4/DFO_1997_From_20020720_to_20020726.zip: 8485888it [00:02, 3252533.31it/s]                              \n",
      "Downloading: https://storage.googleapis.com/gfd_v1_4/DFO_2045_From_20020831_to_20020903.zip: 2702208it [00:02, 1198159.61it/s]                             \n",
      "Downloading: https://storage.googleapis.com/gfd_v1_4/DFO_2296_From_20030727_to_20031010.zip: 27379072it [00:03, 7658964.26it/s]                               \n",
      "Downloading: https://storage.googleapis.com/gfd_v1_4/DFO_2348_From_20030912_to_20030915.zip: 2459264it [00:02, 1123812.64it/s]                             \n",
      "Downloading: https://storage.googleapis.com/gfd_v1_4/DFO_2516_From_20040629_to_20040713.zip: 16215936it [00:03, 5041237.03it/s]                               \n",
      "Downloading: https://storage.googleapis.com/gfd_v1_4/DFO_2685_From_20050630_to_20050702.zip: 3299584it [00:02, 1436233.80it/s]                             \n",
      "Downloading: https://storage.googleapis.com/gfd_v1_4/DFO_2711_From_20050813_to_20050820.zip: 18097536it [00:03, 5857330.37it/s]                               \n",
      "Downloading: https://storage.googleapis.com/gfd_v1_4/DFO_2919_From_20060711_to_20060713.zip: 11442816it [00:02, 4043398.33it/s]                               \n",
      "Downloading: https://storage.googleapis.com/gfd_v1_4/DFO_3979_From_20120817_to_20120907.zip: 4222208it [00:02, 1805883.57it/s]                             \n",
      "Downloading: https://storage.googleapis.com/gfd_v1_4/DFO_4083_From_20130807_to_20131014.zip: 115256320it [00:06, 18498397.41it/s]                               \n"
     ]
    },
    {
     "name": "stdout",
     "output_type": "stream",
     "text": [
      "Downloading Oman (OMN).\n"
     ]
    },
    {
     "name": "stderr",
     "output_type": "stream",
     "text": [
      "Downloading: https://storage.googleapis.com/gfd_v1_4/DFO_4105_From_20131108_to_20131119.zip: 7640960it [00:02, 2929012.08it/s]                              \n"
     ]
    },
    {
     "name": "stdout",
     "output_type": "stream",
     "text": [
      "Downloading Pakistan (PAK).\n"
     ]
    },
    {
     "name": "stderr",
     "output_type": "stream",
     "text": [
      "Downloading: https://storage.googleapis.com/gfd_v1_4/DFO_2160_From_20030216_to_20030222.zip: 21482240it [00:03, 7125835.32it/s]                               \n",
      "Downloading: https://storage.googleapis.com/gfd_v1_4/DFO_2248_From_20030611_to_20031010.zip: 91019264it [00:05, 17685015.26it/s]                              \n",
      "Downloading: https://storage.googleapis.com/gfd_v1_4/DFO_2279_From_20030715_to_20030901.zip: 65999232it [00:04, 15038109.49it/s]                              \n",
      "Downloading: https://storage.googleapis.com/gfd_v1_4/DFO_2599_From_20041209_to_20050101.zip: 19242240it [00:03, 5660884.25it/s]                               \n",
      "Downloading: https://storage.googleapis.com/gfd_v1_4/DFO_2632_From_20050305_to_20050405.zip: 17193344it [00:04, 4141397.16it/s]                               \n",
      "Downloading: https://storage.googleapis.com/gfd_v1_4/DFO_2641_From_20050320_to_20050324.zip: 4910976it [00:02, 2020114.15it/s]                             \n",
      "Downloading: https://storage.googleapis.com/gfd_v1_4/DFO_2675_From_20050621_to_20050805.zip: 5382272it [00:02, 2153380.93it/s]                             \n",
      "Downloading: https://storage.googleapis.com/gfd_v1_4/DFO_2680_From_20050628_to_20050715.zip: 19605632it [00:03, 6334345.13it/s]                               \n",
      "Downloading: https://storage.googleapis.com/gfd_v1_4/DFO_2689_From_20050705_to_20050814.zip: 49325184it [00:03, 12737472.42it/s]                              \n",
      "Downloading: https://storage.googleapis.com/gfd_v1_4/DFO_2731_From_20050916_to_20051005.zip: 34272768it [00:03, 9811401.03it/s]                               \n",
      "Downloading: https://storage.googleapis.com/gfd_v1_4/DFO_2911_From_20060704_to_20060707.zip: 15098880it [00:03, 4917916.76it/s]                               \n",
      "Downloading: https://storage.googleapis.com/gfd_v1_4/DFO_2916_From_20060709_to_20060713.zip: 2203648it [00:02, 1011075.69it/s]                             \n",
      "Downloading: https://storage.googleapis.com/gfd_v1_4/DFO_2931_From_20060724_to_20060822.zip: 12745856it [00:03, 3302259.48it/s]                               \n",
      "Downloading: https://storage.googleapis.com/gfd_v1_4/DFO_2935_From_20060728_to_20060912.zip: 70708608it [00:04, 14605219.50it/s]                              \n",
      "Downloading: https://storage.googleapis.com/gfd_v1_4/DFO_2958_From_20060831_to_20060911.zip: 9024896it [00:03, 2434107.57it/s]                              \n",
      "Downloading: https://storage.googleapis.com/gfd_v1_4/DFO_2995_From_20061119_to_20061121.zip: 3307136it [00:03, 990301.53it/s]                              \n",
      "Downloading: https://storage.googleapis.com/gfd_v1_4/DFO_3055_From_20070417_to_20070418.zip: 6266112it [00:02, 2510646.39it/s]                             \n",
      "Downloading: https://storage.googleapis.com/gfd_v1_4/DFO_3061_From_20070423_to_20070504.zip: 5770240it [00:02, 2322756.55it/s]                             \n",
      "Downloading: https://storage.googleapis.com/gfd_v1_4/DFO_3101_From_20070616_to_20070620.zip: 2128000it [00:02, 983869.37it/s]                              \n",
      "Downloading: https://storage.googleapis.com/gfd_v1_4/DFO_3109_From_20070624_to_20070703.zip: 10622208it [00:02, 3934301.82it/s]                              \n",
      "Downloading: https://storage.googleapis.com/gfd_v1_4/DFO_3112_From_20070626_to_20070720.zip: 17895936it [00:03, 5326764.64it/s]                               \n",
      "Downloading: https://storage.googleapis.com/gfd_v1_4/DFO_3116_From_20070628_to_20070722.zip: 5095808it [00:02, 2216310.12it/s]                             \n",
      "Downloading: https://storage.googleapis.com/gfd_v1_4/DFO_3120_From_20070701_to_20070713.zip: 43648256it [00:03, 11444700.62it/s]                              \n",
      "Downloading: https://storage.googleapis.com/gfd_v1_4/DFO_3160_From_20070808_to_20070815.zip: 18232960it [00:03, 5799780.03it/s]                               \n",
      "Downloading: https://storage.googleapis.com/gfd_v1_4/DFO_3162_From_20070810_to_20070813.zip: 9760896it [00:02, 3638730.87it/s]                              \n",
      "Downloading: https://storage.googleapis.com/gfd_v1_4/DFO_3164_From_20070812_to_20070817.zip: 26141056it [00:03, 7659433.06it/s]                               \n",
      "Downloading: https://storage.googleapis.com/gfd_v1_4/DFO_3165_From_20070812_to_20070814.zip: 1002752it [00:02, 337028.04it/s]                             \n",
      "Downloading: https://storage.googleapis.com/gfd_v1_4/DFO_3359_From_20080809_to_20080820.zip: 15115520it [00:02, 5097514.36it/s]                               \n",
      "Downloading: https://storage.googleapis.com/gfd_v1_4/DFO_3383_From_20080922_to_20080929.zip: 26668928it [00:04, 5647333.42it/s]                               \n",
      "Downloading: https://storage.googleapis.com/gfd_v1_4/DFO_3553_From_20091004_to_20091012.zip: 23765376it [00:04, 5355012.04it/s]                               \n",
      "Downloading: https://storage.googleapis.com/gfd_v1_4/DFO_3658_From_20100606_to_20100607.zip: 7395072it [00:03, 2090082.11it/s]                              \n",
      "Downloading: https://storage.googleapis.com/gfd_v1_4/DFO_3666_From_20100622_to_20100624.zip: 2138496it [00:02, 1000424.77it/s]                             \n",
      "Downloading: https://storage.googleapis.com/gfd_v1_4/DFO_3674_From_20100705_to_20100715.zip: 31659136it [00:03, 9343291.17it/s]                               \n",
      "Downloading: https://storage.googleapis.com/gfd_v1_4/DFO_3696_From_20100727_to_20101115.zip: 13203584it [00:02, 4657613.19it/s]                               \n",
      "Downloading: https://storage.googleapis.com/gfd_v1_4/DFO_3857_From_20110812_to_20111101.zip: 17271552it [00:04, 4133439.02it/s]                               \n",
      "Downloading: https://storage.googleapis.com/gfd_v1_4/DFO_3974_From_20120823_to_20120829.zip: 9787136it [00:03, 2620482.74it/s]                              \n",
      "Downloading: https://storage.googleapis.com/gfd_v1_4/DFO_3983_From_20120916_to_20120918.zip: 25506176it [00:03, 8399324.26it/s]                               \n",
      "Downloading: https://storage.googleapis.com/gfd_v1_4/DFO_3984_From_20120910_to_20121029.zip: 100%|██████████| 14143488/14143488 [00:03<00:00, 4604294.05it/s] \n",
      "Downloading: https://storage.googleapis.com/gfd_v1_4/DFO_4078_From_20130801_to_20130807.zip: 26208768it [00:03, 8089973.03it/s]                               \n",
      "Downloading: https://storage.googleapis.com/gfd_v1_4/DFO_4082_From_20130807_to_20130821.zip: 27354496it [00:03, 8106940.64it/s]                               \n",
      "Downloading: https://storage.googleapis.com/gfd_v1_4/DFO_4179_From_20140901_to_20141011.zip: 13586560it [00:02, 4667160.33it/s]                               \n",
      "Downloading: https://storage.googleapis.com/gfd_v1_4/DFO_4239_From_20150320_to_20150331.zip: 5721728it [00:03, 1626401.50it/s]                             \n",
      "Downloading: https://storage.googleapis.com/gfd_v1_4/DFO_4272_From_20150715_to_20150819.zip: 13287168it [00:02, 4647698.83it/s]                               \n",
      "Downloading: https://storage.googleapis.com/gfd_v1_4/DFO_4282_From_20150715_to_20150819.zip: 73621376it [00:04, 15195301.94it/s]                              \n",
      "Downloading: https://storage.googleapis.com/gfd_v1_4/DFO_4339_From_20160312_to_20160413.zip: 8876800it [00:02, 3398886.52it/s]                              \n",
      "Downloading: https://storage.googleapis.com/gfd_v1_4/DFO_4507_From_20170810_to_20170826.zip: 41056000it [00:03, 11199160.96it/s]                              \n",
      "Downloading: https://storage.googleapis.com/gfd_v1_4/DFO_4640_From_20180625_to_20180711.zip: 4756736it [00:02, 1971683.46it/s]                             \n",
      "Downloading: https://storage.googleapis.com/gfd_v1_4/DFO_4645_From_20180703_to_20180711.zip: 8178432it [00:02, 3125737.41it/s]                              \n"
     ]
    },
    {
     "name": "stdout",
     "output_type": "stream",
     "text": [
      "Downloading Panama (PAN).\n"
     ]
    },
    {
     "name": "stderr",
     "output_type": "stream",
     "text": [
      "Downloading: https://storage.googleapis.com/gfd_v1_4/DFO_2717_From_20050821_to_20050830.zip: 20369024it [00:03, 6754997.02it/s]                               \n",
      "Downloading: https://storage.googleapis.com/gfd_v1_4/DFO_2744_From_20051001_to_20051016.zip: 21100800it [00:04, 4811479.65it/s]                               \n",
      "Downloading: https://storage.googleapis.com/gfd_v1_4/DFO_2761_From_20050915_to_20051216.zip: 24585600it [00:03, 6186361.01it/s]                               \n",
      "Downloading: https://storage.googleapis.com/gfd_v1_4/DFO_2802_From_20060216_to_20060506.zip: 14673920it [00:02, 4940518.63it/s]                               \n",
      "Downloading: https://storage.googleapis.com/gfd_v1_4/DFO_2823_From_20060322_to_20060602.zip: 72523904it [00:05, 12345058.91it/s]                              \n",
      "Downloading: https://storage.googleapis.com/gfd_v1_4/DFO_3205_From_20071012_to_20071026.zip: 17747456it [00:03, 5788913.91it/s]                               \n",
      "Downloading: https://storage.googleapis.com/gfd_v1_4/DFO_3212_From_20071001_to_20071210.zip: 23651840it [00:03, 7711595.02it/s]                               \n",
      "Downloading: https://storage.googleapis.com/gfd_v1_4/DFO_3263_From_20080130_to_20080501.zip: 75597824it [00:04, 16537453.65it/s]                              \n",
      "Downloading: https://storage.googleapis.com/gfd_v1_4/DFO_3421_From_20081213_to_20081214.zip: 12647168it [00:02, 4420490.14it/s]                               \n",
      "Downloading: https://storage.googleapis.com/gfd_v1_4/DFO_3452_From_20090212_to_20090216.zip: 9550080it [00:02, 3616269.88it/s]                              \n",
      "Downloading: https://storage.googleapis.com/gfd_v1_4/DFO_3490_From_20090619_to_20090622.zip: 16278400it [00:03, 5302010.31it/s]                               \n",
      "Downloading: https://storage.googleapis.com/gfd_v1_4/DFO_3653_From_20100518_to_20100524.zip: 16951040it [00:03, 5627626.25it/s]                               \n",
      "Downloading: https://storage.googleapis.com/gfd_v1_4/DFO_3721_From_20100918_to_20100930.zip: 19787776it [00:03, 5789098.43it/s]                               \n",
      "Downloading: https://storage.googleapis.com/gfd_v1_4/DFO_3750_From_20101115_to_20101220.zip: 97321600it [00:05, 18410226.98it/s]                              \n",
      "Downloading: https://storage.googleapis.com/gfd_v1_4/DFO_3871_From_20111010_to_20111101.zip: 30494464it [00:03, 8998331.12it/s]                               \n",
      "Downloading: https://storage.googleapis.com/gfd_v1_4/DFO_3910_From_20120301_to_20120326.zip: 49886720it [00:04, 11328987.66it/s]                              \n",
      "Downloading: https://storage.googleapis.com/gfd_v1_4/DFO_4326_From_20160119_to_20160129.zip: 40345728it [00:03, 10361362.46it/s]                              \n"
     ]
    },
    {
     "name": "stdout",
     "output_type": "stream",
     "text": [
      "Downloading Papua New Guinea (PNG).\n"
     ]
    },
    {
     "name": "stderr",
     "output_type": "stream",
     "text": [
      "Downloading: https://storage.googleapis.com/gfd_v1_4/DFO_2220_From_20030414_to_20030504.zip: 5483776it [00:02, 2233583.98it/s]                             \n",
      "Downloading: https://storage.googleapis.com/gfd_v1_4/DFO_3726_From_20101002_to_20101006.zip: 5773824it [00:02, 2289502.65it/s]                             \n",
      "Downloading: https://storage.googleapis.com/gfd_v1_4/DFO_4028_From_20121201_to_20130212.zip: 21207424it [00:03, 5344722.50it/s]                               \n"
     ]
    },
    {
     "name": "stdout",
     "output_type": "stream",
     "text": [
      "Downloading Paraguay (PRY).\n"
     ]
    },
    {
     "name": "stderr",
     "output_type": "stream",
     "text": [
      "Downloading: https://storage.googleapis.com/gfd_v1_4/DFO_1925_From_20020506_to_20020528.zip: 30465024it [00:03, 8610214.66it/s]                               \n",
      "Downloading: https://storage.googleapis.com/gfd_v1_4/DFO_2070_From_20021012_to_20021102.zip: 50782464it [00:04, 12526052.45it/s]                              \n",
      "Downloading: https://storage.googleapis.com/gfd_v1_4/DFO_2073_From_20021012_to_20021111.zip: 49836800it [00:05, 9795463.25it/s]                               \n",
      "Downloading: https://storage.googleapis.com/gfd_v1_4/DFO_2586_From_20041107_to_20041215.zip: 47988096it [00:04, 9920009.38it/s]                               \n",
      "Downloading: https://storage.googleapis.com/gfd_v1_4/DFO_2786_From_20060125_to_20060417.zip: 151504512it [00:07, 20422670.93it/s]                               \n",
      "Downloading: https://storage.googleapis.com/gfd_v1_4/DFO_3019_From_20070110_to_20070501.zip: 90576768it [00:05, 17442352.17it/s]                              \n",
      "Downloading: https://storage.googleapis.com/gfd_v1_4/DFO_3246_From_20071215_to_20071228.zip: 54316288it [00:04, 11912999.70it/s]                              \n",
      "Downloading: https://storage.googleapis.com/gfd_v1_4/DFO_3448_From_20090207_to_20090212.zip: 35380224it [00:03, 10210085.54it/s]                              \n",
      "Downloading: https://storage.googleapis.com/gfd_v1_4/DFO_3457_From_20090201_to_20090216.zip: 55639168it [00:05, 10650105.61it/s]                              \n",
      "Downloading: https://storage.googleapis.com/gfd_v1_4/DFO_3559_From_20091026_to_20091028.zip: 26734976it [00:03, 8271680.03it/s]                               \n",
      "Downloading: https://storage.googleapis.com/gfd_v1_4/DFO_3775_From_20110130_to_20110131.zip: 38603136it [00:03, 10695980.17it/s]                              \n",
      "Downloading: https://storage.googleapis.com/gfd_v1_4/DFO_3919_From_20120405_to_20120426.zip: 26791040it [00:04, 6490607.93it/s]                               \n",
      "Downloading: https://storage.googleapis.com/gfd_v1_4/DFO_4007_From_20121120_to_20121204.zip: 51302912it [00:05, 9444713.75it/s]                               \n",
      "Downloading: https://storage.googleapis.com/gfd_v1_4/DFO_4075_From_20130704_to_20130715.zip: 25573888it [00:04, 5524224.40it/s]                               \n",
      "Downloading: https://storage.googleapis.com/gfd_v1_4/DFO_4117_From_20140110_to_20140501.zip: 91545728it [00:05, 16440015.99it/s]                              \n",
      "Downloading: https://storage.googleapis.com/gfd_v1_4/DFO_4150_From_20140603_to_20140714.zip: 54543872it [00:04, 13518076.93it/s]                              \n",
      "Downloading: https://storage.googleapis.com/gfd_v1_4/DFO_4276_From_20150710_to_20150721.zip: 29734272it [00:03, 8757302.56it/s]                               \n",
      "Downloading: https://storage.googleapis.com/gfd_v1_4/DFO_4301_From_20151014_to_20151028.zip: 45721216it [00:04, 10400656.03it/s]                              \n",
      "Downloading: https://storage.googleapis.com/gfd_v1_4/DFO_4315_From_20151201_to_20160129.zip: 60896384it [00:04, 13720270.06it/s]                              \n",
      "Downloading: https://storage.googleapis.com/gfd_v1_4/DFO_4325_From_20160105_to_20160129.zip: 26795776it [00:03, 8038937.69it/s]                               \n",
      "Downloading: https://storage.googleapis.com/gfd_v1_4/DFO_4435_From_20170105_to_20170121.zip: 51821952it [00:05, 10264805.51it/s]                              \n",
      "Downloading: https://storage.googleapis.com/gfd_v1_4/DFO_4464_From_20170405_to_20170421.zip: 36993024it [00:04, 7956660.53it/s]                               \n",
      "Downloading: https://storage.googleapis.com/gfd_v1_4/DFO_4562_From_20180113_to_20180122.zip: 22353664it [00:04, 4873302.04it/s]                               \n",
      "Downloading: https://storage.googleapis.com/gfd_v1_4/DFO_4569_From_20180201_to_20180221.zip: 45127552it [00:03, 11354468.49it/s]                              \n",
      "Downloading: https://storage.googleapis.com/gfd_v1_4/DFO_4703_From_20181029_to_20181107.zip: 27269632it [00:03, 8545350.07it/s]                               \n"
     ]
    },
    {
     "name": "stdout",
     "output_type": "stream",
     "text": [
      "Downloading Peru (PER).\n"
     ]
    },
    {
     "name": "stderr",
     "output_type": "stream",
     "text": [
      "Downloading: https://storage.googleapis.com/gfd_v1_4/DFO_2120_From_20030103_to_20030108.zip: 22763136it [00:03, 6771039.69it/s]                               \n",
      "Downloading: https://storage.googleapis.com/gfd_v1_4/DFO_2138_From_20030123_to_20030210.zip: 29637888it [00:03, 8364380.05it/s]                               \n",
      "Downloading: https://storage.googleapis.com/gfd_v1_4/DFO_2145_From_20030128_to_20030210.zip: 67656448it [00:04, 15753966.60it/s]                              \n",
      "Downloading: https://storage.googleapis.com/gfd_v1_4/DFO_2443_From_20040223_to_20040401.zip: 35763712it [00:03, 10194867.84it/s]                              \n",
      "Downloading: https://storage.googleapis.com/gfd_v1_4/DFO_2761_From_20050915_to_20051216.zip: 24585600it [00:03, 8054205.92it/s]                               \n",
      "Downloading: https://storage.googleapis.com/gfd_v1_4/DFO_2786_From_20060125_to_20060417.zip: 151504512it [00:07, 19380493.71it/s]                               \n",
      "Downloading: https://storage.googleapis.com/gfd_v1_4/DFO_2802_From_20060216_to_20060506.zip: 14673920it [00:03, 3733044.80it/s]                               \n",
      "Downloading: https://storage.googleapis.com/gfd_v1_4/DFO_2823_From_20060322_to_20060602.zip: 72523904it [00:04, 15251662.47it/s]                              \n",
      "Downloading: https://storage.googleapis.com/gfd_v1_4/DFO_3007_From_20061226_to_20070202.zip: 49601024it [00:04, 11291667.09it/s]                              \n",
      "Downloading: https://storage.googleapis.com/gfd_v1_4/DFO_3019_From_20070110_to_20070501.zip: 90576768it [00:05, 18042529.70it/s]                              \n",
      "Downloading: https://storage.googleapis.com/gfd_v1_4/DFO_3212_From_20071001_to_20071210.zip: 23651840it [00:03, 6089829.20it/s]                               \n",
      "Downloading: https://storage.googleapis.com/gfd_v1_4/DFO_3246_From_20071215_to_20071228.zip: 54316288it [00:05, 9986100.14it/s]                               \n",
      "Downloading: https://storage.googleapis.com/gfd_v1_4/DFO_3263_From_20080130_to_20080501.zip: 75597824it [00:04, 16665671.83it/s]                              \n",
      "Downloading: https://storage.googleapis.com/gfd_v1_4/DFO_3267_From_20080204_to_20080507.zip: 120307328it [00:05, 20249257.66it/s]                               \n",
      "Downloading: https://storage.googleapis.com/gfd_v1_4/DFO_3448_From_20090207_to_20090212.zip: 35380224it [00:03, 10367551.18it/s]                              \n",
      "Downloading: https://storage.googleapis.com/gfd_v1_4/DFO_3452_From_20090212_to_20090216.zip: 9550080it [00:02, 3588948.85it/s]                              \n",
      "Downloading: https://storage.googleapis.com/gfd_v1_4/DFO_3457_From_20090201_to_20090216.zip: 55639168it [00:03, 13959065.36it/s]                              \n",
      "Downloading: https://storage.googleapis.com/gfd_v1_4/DFO_3750_From_20101115_to_20101220.zip: 97321600it [00:05, 18250765.15it/s]                              \n",
      "Downloading: https://storage.googleapis.com/gfd_v1_4/DFO_3775_From_20110130_to_20110131.zip: 38603136it [00:03, 10427192.44it/s]                              \n",
      "Downloading: https://storage.googleapis.com/gfd_v1_4/DFO_3910_From_20120301_to_20120326.zip: 49886720it [00:03, 12800539.85it/s]                              \n",
      "Downloading: https://storage.googleapis.com/gfd_v1_4/DFO_3925_From_20120501_to_20120507.zip: 60683008it [00:04, 13547031.54it/s]                              \n",
      "Downloading: https://storage.googleapis.com/gfd_v1_4/DFO_4017_From_20130104_to_20130110.zip: 34797056it [00:03, 10059511.68it/s]                              \n",
      "Downloading: https://storage.googleapis.com/gfd_v1_4/DFO_4117_From_20140110_to_20140501.zip: 91545728it [00:05, 17804842.38it/s]                              \n",
      "Downloading: https://storage.googleapis.com/gfd_v1_4/DFO_4159_From_20140522_to_20140729.zip: 155167232it [00:07, 19625634.55it/s]                               \n",
      "Downloading: https://storage.googleapis.com/gfd_v1_4/DFO_4220_From_20150105_to_20150209.zip: 34403584it [00:03, 9512974.81it/s]                               \n",
      "Downloading: https://storage.googleapis.com/gfd_v1_4/DFO_4225_From_20150220_to_20150224.zip: 45023232it [00:05, 8193946.40it/s]                               \n",
      "Downloading: https://storage.googleapis.com/gfd_v1_4/DFO_4326_From_20160119_to_20160129.zip: 40345728it [00:03, 10893090.80it/s]                              \n",
      "Downloading: https://storage.googleapis.com/gfd_v1_4/DFO_4335_From_20160228_to_20160310.zip: 24689152it [00:03, 7968630.30it/s]                               \n",
      "Downloading: https://storage.googleapis.com/gfd_v1_4/DFO_4569_From_20180201_to_20180221.zip: 45127552it [00:03, 12190652.10it/s]                              \n",
      "Downloading: https://storage.googleapis.com/gfd_v1_4/DFO_4577_From_20180210_to_20180221.zip: 24895232it [00:03, 7235704.12it/s]                               \n"
     ]
    },
    {
     "name": "stdout",
     "output_type": "stream",
     "text": [
      "Downloading Philippines (PHL).\n"
     ]
    },
    {
     "name": "stderr",
     "output_type": "stream",
     "text": [
      "Downloading: https://storage.googleapis.com/gfd_v1_4/DFO_1981_From_20020706_to_20020719.zip: 7290880it [00:02, 2887811.97it/s]                              \n",
      "Downloading: https://storage.googleapis.com/gfd_v1_4/DFO_1998_From_20020720_to_20020728.zip: 7200384it [00:02, 2854603.42it/s]                              \n",
      "Downloading: https://storage.googleapis.com/gfd_v1_4/DFO_2264_From_20030625_to_20030626.zip: 6867200it [00:02, 2713517.41it/s]                              \n",
      "Downloading: https://storage.googleapis.com/gfd_v1_4/DFO_2284_From_20030719_to_20030723.zip: 6599680it [00:02, 2599493.89it/s]                             \n",
      "Downloading: https://storage.googleapis.com/gfd_v1_4/DFO_2407_From_20031219_to_20040107.zip: 7525248it [00:02, 2960070.71it/s]                              \n",
      "Downloading: https://storage.googleapis.com/gfd_v1_4/DFO_2434_From_20040211_to_20040225.zip: 7486080it [00:02, 2955572.07it/s]                              \n",
      "Downloading: https://storage.googleapis.com/gfd_v1_4/DFO_2514_From_20040628_to_20040630.zip: 6289664it [00:02, 2506280.52it/s]                             \n",
      "Downloading: https://storage.googleapis.com/gfd_v1_4/DFO_2516_From_20040629_to_20040713.zip: 16215936it [00:03, 5396852.74it/s]                               \n",
      "Downloading: https://storage.googleapis.com/gfd_v1_4/DFO_2539_From_20040731_to_20040813.zip: 7250432it [00:02, 2842819.78it/s]                              \n",
      "Downloading: https://storage.googleapis.com/gfd_v1_4/DFO_2554_From_20040824_to_20040912.zip: 9307008it [00:02, 3459757.00it/s]                              \n",
      "Downloading: https://storage.googleapis.com/gfd_v1_4/DFO_2587_From_20041119_to_20041129.zip: 7356032it [00:02, 2883086.83it/s]                              \n",
      "Downloading: https://storage.googleapis.com/gfd_v1_4/DFO_2589_From_20041123_to_20041128.zip: 7175040it [00:02, 2768483.77it/s]                              \n",
      "Downloading: https://storage.googleapis.com/gfd_v1_4/DFO_2592_From_20041129_to_20041222.zip: 8254208it [00:02, 3156939.08it/s]                              \n",
      "Downloading: https://storage.googleapis.com/gfd_v1_4/DFO_2699_From_20050727_to_20050730.zip: 6736896it [00:02, 2665323.77it/s]                              \n",
      "Downloading: https://storage.googleapis.com/gfd_v1_4/DFO_2730_From_20050915_to_20050927.zip: 7235712it [00:02, 2864635.72it/s]                             \n",
      "Downloading: https://storage.googleapis.com/gfd_v1_4/DFO_2785_From_20060126_to_20060205.zip: 7416320it [00:02, 2903132.45it/s]                              \n",
      "Downloading: https://storage.googleapis.com/gfd_v1_4/DFO_2921_From_20060711_to_20060719.zip: 36860800it [00:03, 9892567.71it/s]                               \n",
      "Downloading: https://storage.googleapis.com/gfd_v1_4/DFO_3002_From_20061130_to_20061208.zip: 20277248it [00:04, 4656788.88it/s]                               \n",
      "Downloading: https://storage.googleapis.com/gfd_v1_4/DFO_3014_From_20070110_to_20070124.zip: 7419136it [00:03, 2073123.74it/s]                              \n",
      "Downloading: https://storage.googleapis.com/gfd_v1_4/DFO_3216_From_20071027_to_20071102.zip: 7002240it [00:02, 2764948.99it/s]                              \n",
      "Downloading: https://storage.googleapis.com/gfd_v1_4/DFO_3273_From_20080212_to_20080312.zip: 100%|██████████| 8003584/8003584 [00:02<00:00, 3079095.06it/s] \n",
      "Downloading: https://storage.googleapis.com/gfd_v1_4/DFO_3305_From_20080510_to_20080518.zip: 7045632it [00:02, 2745156.30it/s]                              \n",
      "Downloading: https://storage.googleapis.com/gfd_v1_4/DFO_3339_From_20080728_to_20080729.zip: 7757440it [00:02, 3040199.06it/s]                             \n",
      "Downloading: https://storage.googleapis.com/gfd_v1_4/DFO_3427_From_20081228_to_20090119.zip: 7457792it [00:02, 2974608.93it/s]                             \n",
      "Downloading: https://storage.googleapis.com/gfd_v1_4/DFO_3437_From_20090120_to_20090127.zip: 7344256it [00:02, 2706436.90it/s]                             \n",
      "Downloading: https://storage.googleapis.com/gfd_v1_4/DFO_3444_From_20090202_to_20090212.zip: 7034240it [00:02, 2704027.71it/s]                             \n",
      "Downloading: https://storage.googleapis.com/gfd_v1_4/DFO_3518_From_20090725_to_20090804.zip: 7262080it [00:02, 2820605.18it/s]                             \n",
      "Downloading: https://storage.googleapis.com/gfd_v1_4/DFO_3552_From_20091002_to_20091017.zip: 7566848it [00:02, 2880980.14it/s]                              \n",
      "Downloading: https://storage.googleapis.com/gfd_v1_4/DFO_3656_From_20100529_to_20100601.zip: 7007872it [00:02, 2766859.52it/s]                             \n",
      "Downloading: https://storage.googleapis.com/gfd_v1_4/DFO_3765_From_20110101_to_20110118.zip: 7507072it [00:03, 2084958.43it/s]                              \n",
      "Downloading: https://storage.googleapis.com/gfd_v1_4/DFO_3777_From_20110201_to_20110204.zip: 6556928it [00:02, 2594369.31it/s]                             \n",
      "Downloading: https://storage.googleapis.com/gfd_v1_4/DFO_3820_From_20110605_to_20110621.zip: 7671936it [00:02, 2954812.30it/s]                              \n",
      "Downloading: https://storage.googleapis.com/gfd_v1_4/DFO_3867_From_20110928_to_20111002.zip: 6732160it [00:02, 2664315.58it/s]                             \n",
      "Downloading: https://storage.googleapis.com/gfd_v1_4/DFO_3884_From_20111216_to_20111222.zip: 7227136it [00:02, 2833190.12it/s]                             \n",
      "Downloading: https://storage.googleapis.com/gfd_v1_4/DFO_3900_From_20120220_to_20120227.zip: 7452032it [00:02, 2911328.30it/s]                              \n",
      "Downloading: https://storage.googleapis.com/gfd_v1_4/DFO_3914_From_20120326_to_20120330.zip: 6927872it [00:02, 2705607.91it/s]                             \n",
      "Downloading: https://storage.googleapis.com/gfd_v1_4/DFO_4005_From_20121204_to_20121204.zip: 6444416it [00:02, 2550002.21it/s]                             \n",
      "Downloading: https://storage.googleapis.com/gfd_v1_4/DFO_4016_From_20130104_to_20130110.zip: 6790016it [00:02, 2713373.44it/s]                              \n",
      "Downloading: https://storage.googleapis.com/gfd_v1_4/DFO_4153_From_20140617_to_20140625.zip: 7556992it [00:02, 2953175.63it/s]                              \n",
      "Downloading: https://storage.googleapis.com/gfd_v1_4/DFO_4189_From_20140919_to_20141011.zip: 7951232it [00:02, 3014261.64it/s]                              \n",
      "Downloading: https://storage.googleapis.com/gfd_v1_4/DFO_4217_From_20141210_to_20150101.zip: 7936128it [00:02, 3084695.28it/s]                             \n",
      "Downloading: https://storage.googleapis.com/gfd_v1_4/DFO_4300_From_20151022_to_20151028.zip: 7275648it [00:02, 2869801.35it/s]                              \n",
      "Downloading: https://storage.googleapis.com/gfd_v1_4/DFO_4318_From_20151212_to_20160106.zip: 8007680it [00:02, 3121723.43it/s]                              \n",
      "Downloading: https://storage.googleapis.com/gfd_v1_4/DFO_4485_From_20170612_to_20170614.zip: 6966656it [00:02, 2742455.96it/s]                              \n"
     ]
    },
    {
     "name": "stdout",
     "output_type": "stream",
     "text": [
      "Downloading Poland (POL).\n"
     ]
    },
    {
     "name": "stderr",
     "output_type": "stream",
     "text": [
      "Downloading: https://storage.googleapis.com/gfd_v1_4/DFO_1595_From_20000405_to_20000425.zip: 12872192it [00:02, 4542959.66it/s]                               \n",
      "Downloading: https://storage.googleapis.com/gfd_v1_4/DFO_2024_From_20020807_to_20020828.zip: 21745792it [00:03, 6558304.74it/s]                               \n",
      "Downloading: https://storage.googleapis.com/gfd_v1_4/DFO_2193_From_20030322_to_20030505.zip: 34770944it [00:03, 9789025.00it/s]                               \n",
      "Downloading: https://storage.googleapis.com/gfd_v1_4/DFO_2460_From_20040323_to_20040403.zip: 10863232it [00:02, 4010835.55it/s]                               \n",
      "Downloading: https://storage.googleapis.com/gfd_v1_4/DFO_2463_From_20040330_to_20040505.zip: 74277504it [00:04, 16026799.96it/s]                              \n",
      "Downloading: https://storage.googleapis.com/gfd_v1_4/DFO_2469_From_20040412_to_20040502.zip: 16473856it [00:03, 5387614.46it/s]                               \n",
      "Downloading: https://storage.googleapis.com/gfd_v1_4/DFO_2640_From_20050317_to_20050408.zip: 34163456it [00:03, 10209217.41it/s]                              \n",
      "Downloading: https://storage.googleapis.com/gfd_v1_4/DFO_2827_From_20060328_to_20060509.zip: 20910336it [00:03, 5722287.22it/s]                               \n",
      "Downloading: https://storage.googleapis.com/gfd_v1_4/DFO_2832_From_20060404_to_20060511.zip: 18903168it [00:03, 6255698.76it/s]                               \n",
      "Downloading: https://storage.googleapis.com/gfd_v1_4/DFO_2839_From_20060407_to_20060524.zip: 17551616it [00:03, 4627886.78it/s]                               \n",
      "Downloading: https://storage.googleapis.com/gfd_v1_4/DFO_3630_From_20100327_to_20100331.zip: 8015616it [00:02, 3106774.89it/s]                              \n",
      "Downloading: https://storage.googleapis.com/gfd_v1_4/DFO_3648_From_20100515_to_20100524.zip: 14474624it [00:03, 3681809.29it/s]                               \n",
      "Downloading: https://storage.googleapis.com/gfd_v1_4/DFO_3657_From_20100529_to_20100611.zip: 19492864it [00:03, 5711077.90it/s]                               \n",
      "Downloading: https://storage.googleapis.com/gfd_v1_4/DFO_3698_From_20100727_to_20100808.zip: 6945920it [00:02, 2806200.22it/s]                             \n"
     ]
    },
    {
     "name": "stdout",
     "output_type": "stream",
     "text": [
      "Downloading Portugal (PRT).\n"
     ]
    },
    {
     "name": "stderr",
     "output_type": "stream",
     "text": [
      "Downloading: https://storage.googleapis.com/gfd_v1_4/DFO_2117_From_20030101_to_20030108.zip: 34964608it [00:03, 9810704.42it/s]                               \n",
      "Downloading: https://storage.googleapis.com/gfd_v1_4/DFO_2169_From_20030205_to_20030213.zip: 12968320it [00:02, 4551048.17it/s]                               \n",
      "Downloading: https://storage.googleapis.com/gfd_v1_4/DFO_4199_From_20141019_to_20141022.zip: 741376it [00:01, 408343.36it/s]                            \n"
     ]
    },
    {
     "name": "stdout",
     "output_type": "stream",
     "text": [
      "Downloading Puerto Rico (PRI).\n"
     ]
    },
    {
     "name": "stderr",
     "output_type": "stream",
     "text": [
      "Downloading: https://storage.googleapis.com/gfd_v1_4/DFO_2380_From_20031110_to_20031126.zip: 3084800it [00:02, 1323036.48it/s]                             \n",
      "Downloading: https://storage.googleapis.com/gfd_v1_4/DFO_2566_From_20040915_to_20041001.zip: 13792768it [00:02, 4735355.15it/s]                               \n"
     ]
    },
    {
     "name": "stdout",
     "output_type": "stream",
     "text": [
      "Downloading Qatar (QAT).\n"
     ]
    },
    {
     "name": "stderr",
     "output_type": "stream",
     "text": [
      "Downloading: https://storage.googleapis.com/gfd_v1_4/DFO_2415_From_20040110_to_20040119.zip: 8143104it [00:02, 3124243.39it/s]                              \n",
      "Downloading: https://storage.googleapis.com/gfd_v1_4/DFO_2432_From_20040116_to_20040225.zip: 25714688it [00:03, 8203469.88it/s]                               \n",
      "Downloading: https://storage.googleapis.com/gfd_v1_4/DFO_2637_From_20050313_to_20050325.zip: 17907712it [00:03, 5342684.23it/s]                               \n"
     ]
    },
    {
     "name": "stdout",
     "output_type": "stream",
     "text": [
      "Downloading Romania (ROU).\n"
     ]
    },
    {
     "name": "stderr",
     "output_type": "stream",
     "text": [
      "Downloading: https://storage.googleapis.com/gfd_v1_4/DFO_1595_From_20000405_to_20000425.zip: 12872192it [00:02, 4501171.10it/s]                               \n",
      "Downloading: https://storage.googleapis.com/gfd_v1_4/DFO_1995_From_20020719_to_20020723.zip: 6340608it [00:02, 2478956.85it/s]                             \n",
      "Downloading: https://storage.googleapis.com/gfd_v1_4/DFO_2174_From_20030117_to_20030303.zip: 10411520it [00:03, 2801065.03it/s]                              \n",
      "Downloading: https://storage.googleapis.com/gfd_v1_4/DFO_2187_From_20030322_to_20030404.zip: 16371968it [00:03, 5428961.83it/s]                               \n",
      "Downloading: https://storage.googleapis.com/gfd_v1_4/DFO_2460_From_20040323_to_20040403.zip: 10863232it [00:02, 4054063.20it/s]                              \n",
      "Downloading: https://storage.googleapis.com/gfd_v1_4/DFO_2469_From_20040412_to_20040502.zip: 16473856it [00:03, 5334320.90it/s]                               \n",
      "Downloading: https://storage.googleapis.com/gfd_v1_4/DFO_2640_From_20050317_to_20050408.zip: 34163456it [00:03, 9434373.79it/s]                               \n",
      "Downloading: https://storage.googleapis.com/gfd_v1_4/DFO_2648_From_20050418_to_20050604.zip: 11809280it [00:02, 4230161.91it/s]                               \n",
      "Downloading: https://storage.googleapis.com/gfd_v1_4/DFO_2692_From_20050712_to_20050728.zip: 7437440it [00:03, 2080581.90it/s]                              \n",
      "Downloading: https://storage.googleapis.com/gfd_v1_4/DFO_2733_From_20050921_to_20051009.zip: 6466560it [00:02, 2591975.42it/s]                             \n",
      "Downloading: https://storage.googleapis.com/gfd_v1_4/DFO_2827_From_20060328_to_20060509.zip: 20910336it [00:03, 6285017.34it/s]                               \n",
      "Downloading: https://storage.googleapis.com/gfd_v1_4/DFO_2832_From_20060404_to_20060511.zip: 18903168it [00:03, 5678642.14it/s]                               \n",
      "Downloading: https://storage.googleapis.com/gfd_v1_4/DFO_2839_From_20060407_to_20060524.zip: 17551616it [00:03, 5446639.98it/s]                               \n",
      "Downloading: https://storage.googleapis.com/gfd_v1_4/DFO_3085_From_20070522_to_20070606.zip: 12132352it [00:02, 4385583.94it/s]                               \n",
      "Downloading: https://storage.googleapis.com/gfd_v1_4/DFO_3536_From_20090907_to_20090910.zip: 16941440it [00:03, 5080506.54it/s]                               \n",
      "Downloading: https://storage.googleapis.com/gfd_v1_4/DFO_3607_From_20100213_to_20100220.zip: 19352832it [00:03, 6092026.57it/s]                               \n",
      "Downloading: https://storage.googleapis.com/gfd_v1_4/DFO_3635_From_20100420_to_20100422.zip: 3952512it [00:02, 1679693.62it/s]                             \n",
      "Downloading: https://storage.googleapis.com/gfd_v1_4/DFO_3648_From_20100515_to_20100524.zip: 14474624it [00:02, 4987332.52it/s]                               \n",
      "Downloading: https://storage.googleapis.com/gfd_v1_4/DFO_3657_From_20100529_to_20100611.zip: 19492864it [00:03, 5850007.12it/s]                               \n",
      "Downloading: https://storage.googleapis.com/gfd_v1_4/DFO_3896_From_20120201_to_20120206.zip: 11061760it [00:02, 4083190.60it/s]                               \n",
      "Downloading: https://storage.googleapis.com/gfd_v1_4/DFO_4211_From_20141204_to_20141214.zip: 23506816it [00:04, 4768107.55it/s]                               \n",
      "Downloading: https://storage.googleapis.com/gfd_v1_4/DFO_4221_From_20150201_to_20150209.zip: 23606528it [00:03, 7790792.41it/s]                               \n",
      "Downloading: https://storage.googleapis.com/gfd_v1_4/DFO_4334_From_20160306_to_20160310.zip: 8499328it [00:02, 3251658.28it/s]                              \n",
      "Downloading: https://storage.googleapis.com/gfd_v1_4/DFO_4597_From_20180325_to_20180408.zip: 8590848it [00:02, 3325087.95it/s]                              \n"
     ]
    },
    {
     "name": "stdout",
     "output_type": "stream",
     "text": [
      "Downloading Russia (RUS).\n"
     ]
    },
    {
     "name": "stderr",
     "output_type": "stream",
     "text": [
      "Downloading: https://storage.googleapis.com/gfd_v1_4/DFO_1627_From_20000830_to_20000910.zip: 21906304it [00:03, 7031322.82it/s]                               \n",
      "Downloading: https://storage.googleapis.com/gfd_v1_4/DFO_1725_From_20010512_to_20010608.zip: 180677632it [00:09, 18380821.47it/s]                               \n",
      "Downloading: https://storage.googleapis.com/gfd_v1_4/DFO_1910_From_20020422_to_20020507.zip: 22614528it [00:03, 7040454.93it/s]                               \n",
      "Downloading: https://storage.googleapis.com/gfd_v1_4/DFO_1921_From_20020507_to_20020606.zip: 13182080it [00:02, 4610962.94it/s]                               \n",
      "Downloading: https://storage.googleapis.com/gfd_v1_4/DFO_1931_From_20020524_to_20020601.zip: 22383872it [00:03, 6504493.77it/s]                               \n",
      "Downloading: https://storage.googleapis.com/gfd_v1_4/DFO_1962_From_20020619_to_20020701.zip: 9533184it [00:02, 3610232.13it/s]                              \n",
      "Downloading: https://storage.googleapis.com/gfd_v1_4/DFO_1997_From_20020720_to_20020726.zip: 8485888it [00:02, 3273700.38it/s]                              \n",
      "Downloading: https://storage.googleapis.com/gfd_v1_4/DFO_2046_From_20020828_to_20020906.zip: 4111360it [00:02, 1735483.36it/s]                             \n",
      "Downloading: https://storage.googleapis.com/gfd_v1_4/DFO_2187_From_20030322_to_20030404.zip: 16371968it [00:02, 5490760.12it/s]                               \n",
      "Downloading: https://storage.googleapis.com/gfd_v1_4/DFO_2191_From_20030325_to_20030411.zip: 4710912it [00:02, 1948292.21it/s]                             \n",
      "Downloading: https://storage.googleapis.com/gfd_v1_4/DFO_2193_From_20030322_to_20030505.zip: 34770944it [00:03, 9710818.61it/s]                               \n",
      "Downloading: https://storage.googleapis.com/gfd_v1_4/DFO_2206_From_20030416_to_20030604.zip: 6004736it [00:02, 2443359.77it/s]                             \n",
      "Downloading: https://storage.googleapis.com/gfd_v1_4/DFO_2208_From_20030416_to_20030528.zip: 79968896it [00:05, 15895837.77it/s]                              \n",
      "Downloading: https://storage.googleapis.com/gfd_v1_4/DFO_2209_From_20030415_to_20030518.zip: 34712192it [00:03, 10200111.59it/s]                              \n",
      "Downloading: https://storage.googleapis.com/gfd_v1_4/DFO_2214_From_20030423_to_20030513.zip: 81249024it [00:04, 16382100.40it/s]                              \n",
      "Downloading: https://storage.googleapis.com/gfd_v1_4/DFO_2221_From_20030501_to_20030516.zip: 40411136it [00:03, 10756250.67it/s]                              \n",
      "Downloading: https://storage.googleapis.com/gfd_v1_4/DFO_2238_From_20030527_to_20030620.zip: 64060416it [00:04, 13965464.37it/s]                              \n",
      "Downloading: https://storage.googleapis.com/gfd_v1_4/DFO_2296_From_20030727_to_20031010.zip: 27379072it [00:03, 7601410.56it/s]                               \n",
      "Downloading: https://storage.googleapis.com/gfd_v1_4/DFO_2336_From_20030827_to_20030829.zip: 1948416it [00:03, 613797.27it/s]                              \n",
      "Downloading: https://storage.googleapis.com/gfd_v1_4/DFO_2463_From_20040330_to_20040505.zip: 74277504it [00:04, 15828883.96it/s]                              \n",
      "Downloading: https://storage.googleapis.com/gfd_v1_4/DFO_2471_From_20040414_to_20040516.zip: 64254592it [00:04, 14489629.19it/s]                              \n",
      "Downloading: https://storage.googleapis.com/gfd_v1_4/DFO_2650_From_20050425_to_20050530.zip: 86925440it [00:06, 13515560.07it/s]                              \n",
      "Downloading: https://storage.googleapis.com/gfd_v1_4/DFO_2688_From_20050701_to_20050812.zip: 25734528it [00:03, 7428748.21it/s]                               \n",
      "Downloading: https://storage.googleapis.com/gfd_v1_4/DFO_2851_From_20060421_to_20060531.zip: 73062784it [00:04, 16069019.32it/s]                              \n",
      "Downloading: https://storage.googleapis.com/gfd_v1_4/DFO_2923_From_20060712_to_20060714.zip: 24888704it [00:03, 7638144.13it/s]                               \n",
      "Downloading: https://storage.googleapis.com/gfd_v1_4/DFO_3075_From_20070513_to_20070613.zip: 66491008it [00:04, 15303087.70it/s]                              \n",
      "Downloading: https://storage.googleapis.com/gfd_v1_4/DFO_3076_From_20070511_to_20070613.zip: 56724352it [00:04, 13581655.50it/s]                              \n",
      "Downloading: https://storage.googleapis.com/gfd_v1_4/DFO_3132_From_20070714_to_20070803.zip: 43125120it [00:03, 11645360.60it/s]                              \n",
      "Downloading: https://storage.googleapis.com/gfd_v1_4/DFO_3306_From_20080512_to_20080525.zip: 72052864it [00:04, 15513255.25it/s]                              \n",
      "Downloading: https://storage.googleapis.com/gfd_v1_4/DFO_3630_From_20100327_to_20100331.zip: 8015616it [00:02, 3180141.71it/s]                              \n",
      "Downloading: https://storage.googleapis.com/gfd_v1_4/DFO_3801_From_20110401_to_20110419.zip: 17976192it [00:03, 5451697.09it/s]                               \n",
      "Downloading: https://storage.googleapis.com/gfd_v1_4/DFO_3916_From_20120408_to_20120426.zip: 65857408it [00:04, 14640727.45it/s]                              \n",
      "Downloading: https://storage.googleapis.com/gfd_v1_4/DFO_3931_From_20120520_to_20120529.zip: 31152000it [00:03, 8588835.50it/s]                               \n",
      "Downloading: https://storage.googleapis.com/gfd_v1_4/DFO_4079_From_20130801_to_20130807.zip: 24845184it [00:03, 7949059.76it/s]                               \n",
      "Downloading: https://storage.googleapis.com/gfd_v1_4/DFO_4083_From_20130807_to_20131014.zip: 115256320it [00:05, 20190390.92it/s]                               \n",
      "Downloading: https://storage.googleapis.com/gfd_v1_4/DFO_4242_From_20150323_to_20150415.zip: 23883648it [00:03, 6745232.80it/s]                               \n",
      "Downloading: https://storage.googleapis.com/gfd_v1_4/DFO_4258_From_20150515_to_20150602.zip: 44251008it [00:03, 12102104.30it/s]                              \n",
      "Downloading: https://storage.googleapis.com/gfd_v1_4/DFO_4358_From_20160415_to_20160530.zip: 17568896it [00:04, 4250104.58it/s]                               \n",
      "Downloading: https://storage.googleapis.com/gfd_v1_4/DFO_4465_From_20170414_to_20170421.zip: 44475904it [00:03, 11896293.05it/s]                              \n",
      "Downloading: https://storage.googleapis.com/gfd_v1_4/DFO_4654_From_20180711_to_20180719.zip: 57517568it [00:04, 13949686.17it/s]                              \n"
     ]
    },
    {
     "name": "stdout",
     "output_type": "stream",
     "text": [
      "Downloading Rwanda (RWA).\n"
     ]
    },
    {
     "name": "stderr",
     "output_type": "stream",
     "text": [
      "Downloading: https://storage.googleapis.com/gfd_v1_4/DFO_1917_From_20020426_to_20020528.zip: 61135488it [00:05, 11749983.13it/s]                              \n",
      "Downloading: https://storage.googleapis.com/gfd_v1_4/DFO_2638_From_20050301_to_20050401.zip: 29967872it [00:03, 8754079.53it/s]                               \n",
      "Downloading: https://storage.googleapis.com/gfd_v1_4/DFO_2952_From_20060812_to_20060821.zip: 13505024it [00:02, 4583341.62it/s]                               \n",
      "Downloading: https://storage.googleapis.com/gfd_v1_4/DFO_3123_From_20070703_to_20071008.zip: 110623744it [00:05, 19060239.01it/s]                               \n",
      "Downloading: https://storage.googleapis.com/gfd_v1_4/DFO_3170_From_20070815_to_20071031.zip: 29934976it [00:05, 5401250.99it/s]                               \n",
      "Downloading: https://storage.googleapis.com/gfd_v1_4/DFO_3863_From_20110820_to_20110908.zip: 16497920it [00:04, 4052527.96it/s]                               \n",
      "Downloading: https://storage.googleapis.com/gfd_v1_4/DFO_3875_From_20111109_to_20111220.zip: 20213888it [00:04, 4248014.13it/s]                               \n",
      "Downloading: https://storage.googleapis.com/gfd_v1_4/DFO_3917_From_20120409_to_20120426.zip: 24084352it [00:04, 5413658.61it/s]                               \n",
      "Downloading: https://storage.googleapis.com/gfd_v1_4/DFO_3980_From_20120820_to_20120907.zip: 16999296it [00:05, 3104350.99it/s]                               \n",
      "Downloading: https://storage.googleapis.com/gfd_v1_4/DFO_3981_From_20120815_to_20120907.zip: 17677696it [00:04, 3929734.59it/s]                               \n",
      "Downloading: https://storage.googleapis.com/gfd_v1_4/DFO_3991_From_20120907_to_20121003.zip: 39420288it [00:05, 7151828.26it/s]                               \n",
      "Downloading: https://storage.googleapis.com/gfd_v1_4/DFO_4022_From_20130113_to_20130117.zip: 21888768it [00:04, 5297660.08it/s]                               \n",
      "Downloading: https://storage.googleapis.com/gfd_v1_4/DFO_4094_From_20131008_to_20131014.zip: 19903616it [00:03, 5904575.86it/s]                               \n",
      "Downloading: https://storage.googleapis.com/gfd_v1_4/DFO_4324_From_20160114_to_20160129.zip: 23129472it [00:03, 6829493.76it/s]                               \n",
      "Downloading: https://storage.googleapis.com/gfd_v1_4/DFO_4602_From_20180428_to_20180501.zip: 15977088it [00:03, 5321004.62it/s]                               \n",
      "Downloading: https://storage.googleapis.com/gfd_v1_4/DFO_4603_From_20180423_to_20180425.zip: 15008000it [00:03, 4944839.97it/s]                               \n"
     ]
    },
    {
     "name": "stdout",
     "output_type": "stream",
     "text": [
      "Downloading Saudi Arabia (SAU).\n"
     ]
    },
    {
     "name": "stderr",
     "output_type": "stream",
     "text": [
      "Downloading: https://storage.googleapis.com/gfd_v1_4/DFO_2415_From_20040110_to_20040119.zip: 8143104it [00:02, 3200832.88it/s]                              \n",
      "Downloading: https://storage.googleapis.com/gfd_v1_4/DFO_2432_From_20040116_to_20040225.zip: 25714688it [00:03, 7145178.01it/s]                               \n",
      "Downloading: https://storage.googleapis.com/gfd_v1_4/DFO_2637_From_20050313_to_20050325.zip: 17907712it [00:03, 5815071.92it/s]                               \n",
      "Downloading: https://storage.googleapis.com/gfd_v1_4/DFO_4019_From_20130108_to_20130110.zip: 11673600it [00:02, 4264643.81it/s]                               \n",
      "Downloading: https://storage.googleapis.com/gfd_v1_4/DFO_4105_From_20131108_to_20131119.zip: 7640960it [00:02, 3004124.33it/s]                              \n"
     ]
    },
    {
     "name": "stdout",
     "output_type": "stream",
     "text": [
      "Downloading Senegal (SEN).\n"
     ]
    },
    {
     "name": "stderr",
     "output_type": "stream",
     "text": [
      "Downloading: https://storage.googleapis.com/gfd_v1_4/DFO_2316_From_20030809_to_20031105.zip: 57435264it [00:04, 14155978.97it/s]                              \n",
      "Downloading: https://storage.googleapis.com/gfd_v1_4/DFO_2742_From_20050927_to_20051007.zip: 11636864it [00:02, 4214875.89it/s]                               \n",
      "Downloading: https://storage.googleapis.com/gfd_v1_4/DFO_3180_From_20070831_to_20070920.zip: 18003712it [00:03, 5319982.64it/s]                               \n",
      "Downloading: https://storage.googleapis.com/gfd_v1_4/DFO_3531_From_20090824_to_20090826.zip: 1024384it [00:01, 538930.20it/s]                             \n",
      "Downloading: https://storage.googleapis.com/gfd_v1_4/DFO_3534_From_20090810_to_20090902.zip: 156698752it [00:07, 19682401.25it/s]                               \n",
      "Downloading: https://storage.googleapis.com/gfd_v1_4/DFO_3971_From_20120824_to_20120829.zip: 10093056it [00:02, 3765899.74it/s]                              \n",
      "Downloading: https://storage.googleapis.com/gfd_v1_4/DFO_3982_From_20120902_to_20120907.zip: 9936000it [00:02, 3685971.25it/s]                              \n"
     ]
    },
    {
     "name": "stdout",
     "output_type": "stream",
     "text": [
      "Downloading Serbia (SRB).\n"
     ]
    },
    {
     "name": "stderr",
     "output_type": "stream",
     "text": [
      "Downloading: https://storage.googleapis.com/gfd_v1_4/DFO_1595_From_20000405_to_20000425.zip: 12872192it [00:02, 4591579.18it/s]                               \n",
      "Downloading: https://storage.googleapis.com/gfd_v1_4/DFO_1995_From_20020719_to_20020723.zip: 6340608it [00:02, 2552980.14it/s]                             \n",
      "Downloading: https://storage.googleapis.com/gfd_v1_4/DFO_2024_From_20020807_to_20020828.zip: 21745792it [00:03, 6437180.53it/s]                               \n",
      "Downloading: https://storage.googleapis.com/gfd_v1_4/DFO_2060_From_20020921_to_20021008.zip: 8101248it [00:02, 3159787.77it/s]                              \n",
      "Downloading: https://storage.googleapis.com/gfd_v1_4/DFO_2099_From_20021122_to_20021203.zip: 11553152it [00:02, 4238391.79it/s]                               \n",
      "Downloading: https://storage.googleapis.com/gfd_v1_4/DFO_2172_From_20030127_to_20030207.zip: 8097024it [00:02, 3182455.84it/s]                              \n",
      "Downloading: https://storage.googleapis.com/gfd_v1_4/DFO_2174_From_20030117_to_20030303.zip: 10411520it [00:02, 3547952.27it/s]                              \n",
      "Downloading: https://storage.googleapis.com/gfd_v1_4/DFO_2460_From_20040323_to_20040403.zip: 10863232it [00:03, 2902155.76it/s]                              \n",
      "Downloading: https://storage.googleapis.com/gfd_v1_4/DFO_2469_From_20040412_to_20040502.zip: 16473856it [00:03, 5184568.75it/s]                               \n",
      "Downloading: https://storage.googleapis.com/gfd_v1_4/DFO_2626_From_20050217_to_20050324.zip: 8904448it [00:03, 2431727.04it/s]                              \n",
      "Downloading: https://storage.googleapis.com/gfd_v1_4/DFO_2640_From_20050317_to_20050408.zip: 34163456it [00:05, 6294006.51it/s]                               \n",
      "Downloading: https://storage.googleapis.com/gfd_v1_4/DFO_2648_From_20050418_to_20050604.zip: 11809280it [00:02, 4030978.65it/s]                               \n",
      "Downloading: https://storage.googleapis.com/gfd_v1_4/DFO_2692_From_20050712_to_20050728.zip: 7437440it [00:02, 2625301.65it/s]                             \n",
      "Downloading: https://storage.googleapis.com/gfd_v1_4/DFO_2733_From_20050921_to_20051009.zip: 6466560it [00:03, 1832775.86it/s]                             \n",
      "Downloading: https://storage.googleapis.com/gfd_v1_4/DFO_2784_From_20060102_to_20060120.zip: 8704128it [00:03, 2391609.04it/s]                              \n",
      "Downloading: https://storage.googleapis.com/gfd_v1_4/DFO_2817_From_20060309_to_20060325.zip: 8044160it [00:02, 3173525.68it/s]                              \n",
      "Downloading: https://storage.googleapis.com/gfd_v1_4/DFO_2827_From_20060328_to_20060509.zip: 20910336it [00:04, 4792178.87it/s]                               \n",
      "Downloading: https://storage.googleapis.com/gfd_v1_4/DFO_2832_From_20060404_to_20060511.zip: 18903168it [00:03, 5372919.24it/s]                               \n",
      "Downloading: https://storage.googleapis.com/gfd_v1_4/DFO_2839_From_20060407_to_20060524.zip: 17551616it [00:03, 5195036.34it/s]                               \n",
      "Downloading: https://storage.googleapis.com/gfd_v1_4/DFO_3085_From_20070522_to_20070606.zip: 12132352it [00:03, 3183845.52it/s]                               \n",
      "Downloading: https://storage.googleapis.com/gfd_v1_4/DFO_3193_From_20070918_to_20070920.zip: 9723136it [00:02, 3676462.10it/s]                              \n",
      "Downloading: https://storage.googleapis.com/gfd_v1_4/DFO_3536_From_20090907_to_20090910.zip: 16941440it [00:04, 4169011.28it/s]                               \n",
      "Downloading: https://storage.googleapis.com/gfd_v1_4/DFO_3591_From_20100104_to_20100113.zip: 9654144it [00:02, 3433567.47it/s]                              \n",
      "Downloading: https://storage.googleapis.com/gfd_v1_4/DFO_3607_From_20100213_to_20100220.zip: 19352832it [00:04, 4748676.35it/s]                               \n",
      "Downloading: https://storage.googleapis.com/gfd_v1_4/DFO_3635_From_20100420_to_20100422.zip: 3952512it [00:03, 1165584.97it/s]                             \n",
      "Downloading: https://storage.googleapis.com/gfd_v1_4/DFO_3648_From_20100515_to_20100524.zip: 14474624it [00:03, 3693725.49it/s]                               \n",
      "Downloading: https://storage.googleapis.com/gfd_v1_4/DFO_3657_From_20100529_to_20100611.zip: 19492864it [00:04, 4471229.48it/s]                               \n",
      "Downloading: https://storage.googleapis.com/gfd_v1_4/DFO_3665_From_20100622_to_20100626.zip: 9102208it [00:02, 3479471.01it/s]                              \n",
      "Downloading: https://storage.googleapis.com/gfd_v1_4/DFO_3756_From_20101203_to_20101217.zip: 8519680it [00:03, 2357173.50it/s]                              \n",
      "Downloading: https://storage.googleapis.com/gfd_v1_4/DFO_3896_From_20120201_to_20120206.zip: 11061760it [00:03, 2933899.30it/s]                               \n",
      "Downloading: https://storage.googleapis.com/gfd_v1_4/DFO_4211_From_20141204_to_20141214.zip: 23506816it [00:03, 6116987.64it/s]                               \n",
      "Downloading: https://storage.googleapis.com/gfd_v1_4/DFO_4221_From_20150201_to_20150209.zip: 23606528it [00:04, 4835088.87it/s]                               \n",
      "Downloading: https://storage.googleapis.com/gfd_v1_4/DFO_4334_From_20160306_to_20160310.zip: 8499328it [00:02, 3325590.65it/s]                              \n",
      "Downloading: https://storage.googleapis.com/gfd_v1_4/DFO_4580_From_20180307_to_20180314.zip: 7630848it [00:03, 2155473.68it/s]                              \n",
      "Downloading: https://storage.googleapis.com/gfd_v1_4/DFO_4581_From_20180310_to_20180314.zip: 9143168it [00:02, 3515355.04it/s]                              \n",
      "Downloading: https://storage.googleapis.com/gfd_v1_4/DFO_4583_From_20180226_to_20180302.zip: 7512704it [00:03, 2090574.63it/s]                             \n",
      "Downloading: https://storage.googleapis.com/gfd_v1_4/DFO_4597_From_20180325_to_20180408.zip: 8590848it [00:02, 3339261.78it/s]                              \n"
     ]
    },
    {
     "name": "stdout",
     "output_type": "stream",
     "text": [
      "Downloading Sierra Leone (SLE).\n"
     ]
    },
    {
     "name": "stderr",
     "output_type": "stream",
     "text": [
      "Downloading: https://storage.googleapis.com/gfd_v1_4/DFO_2316_From_20030809_to_20031105.zip: 57435264it [00:04, 14096856.64it/s]                              \n",
      "Downloading: https://storage.googleapis.com/gfd_v1_4/DFO_3534_From_20090810_to_20090902.zip: 156698752it [00:07, 21220261.77it/s]                               \n",
      "Downloading: https://storage.googleapis.com/gfd_v1_4/DFO_3971_From_20120824_to_20120829.zip: 10093056it [00:02, 3696313.40it/s]                              \n",
      "Downloading: https://storage.googleapis.com/gfd_v1_4/DFO_3982_From_20120902_to_20120907.zip: 9936000it [00:02, 3743626.86it/s]                              \n"
     ]
    },
    {
     "name": "stdout",
     "output_type": "stream",
     "text": [
      "Downloading Singapore (SGP).\n"
     ]
    },
    {
     "name": "stderr",
     "output_type": "stream",
     "text": [
      "Downloading: https://storage.googleapis.com/gfd_v1_4/DFO_2061_From_20020917_to_20021202.zip: 26788224it [00:03, 8171928.03it/s]                               \n",
      "Downloading: https://storage.googleapis.com/gfd_v1_4/DFO_2134_From_20030120_to_20030210.zip: 7314688it [00:02, 2883925.31it/s]                             \n",
      "Downloading: https://storage.googleapis.com/gfd_v1_4/DFO_2370_From_20031017_to_20031104.zip: 13585024it [00:03, 3439254.64it/s]                               \n",
      "Downloading: https://storage.googleapis.com/gfd_v1_4/DFO_2768_From_20051123_to_20060112.zip: 8028544it [00:03, 2231807.34it/s]                              \n",
      "Downloading: https://storage.googleapis.com/gfd_v1_4/DFO_2798_From_20060210_to_20060218.zip: 6606592it [00:02, 2648157.75it/s]                             \n",
      "Downloading: https://storage.googleapis.com/gfd_v1_4/DFO_2951_From_20060820_to_20061213.zip: 41867776it [00:03, 10478898.05it/s]                              \n",
      "Downloading: https://storage.googleapis.com/gfd_v1_4/DFO_3188_From_20070905_to_20071110.zip: 40772992it [00:03, 11176634.62it/s]                              \n",
      "Downloading: https://storage.googleapis.com/gfd_v1_4/DFO_3302_From_20080503_to_20080522.zip: 25195008it [00:04, 5655938.90it/s]                               \n",
      "Downloading: https://storage.googleapis.com/gfd_v1_4/DFO_3723_From_20100920_to_20100930.zip: 18779648it [00:03, 5544049.37it/s]                               \n",
      "Downloading: https://storage.googleapis.com/gfd_v1_4/DFO_3795_From_20110323_to_20110410.zip: 7218304it [00:02, 2801534.85it/s]                              \n",
      "Downloading: https://storage.googleapis.com/gfd_v1_4/DFO_3889_From_20120101_to_20120109.zip: 6460288it [00:02, 2597019.11it/s]                             \n",
      "Downloading: https://storage.googleapis.com/gfd_v1_4/DFO_4092_From_20130930_to_20131014.zip: 28427776it [00:04, 6867065.59it/s]                               \n",
      "Downloading: https://storage.googleapis.com/gfd_v1_4/DFO_4376_From_20160718_to_20160719.zip: 5998976it [00:02, 2428128.16it/s]                             \n",
      "Downloading: https://storage.googleapis.com/gfd_v1_4/DFO_4423_From_20161201_to_20161207.zip: 12868608it [00:02, 4563583.21it/s]                               \n",
      "Downloading: https://storage.googleapis.com/gfd_v1_4/DFO_4432_From_20161231_to_20170207.zip: 7466624it [00:02, 2920321.74it/s]                              \n"
     ]
    },
    {
     "name": "stdout",
     "output_type": "stream",
     "text": [
      "Downloading Slovakia (SVK).\n"
     ]
    },
    {
     "name": "stderr",
     "output_type": "stream",
     "text": [
      "Downloading: https://storage.googleapis.com/gfd_v1_4/DFO_2024_From_20020807_to_20020828.zip: 21745792it [00:03, 7109427.19it/s]                               \n",
      "Downloading: https://storage.googleapis.com/gfd_v1_4/DFO_2193_From_20030322_to_20030505.zip: 34770944it [00:03, 9971203.52it/s]                               \n",
      "Downloading: https://storage.googleapis.com/gfd_v1_4/DFO_2460_From_20040323_to_20040403.zip: 10863232it [00:02, 3999564.74it/s]                              \n",
      "Downloading: https://storage.googleapis.com/gfd_v1_4/DFO_2463_From_20040330_to_20040505.zip: 74277504it [00:05, 13295819.00it/s]                              \n",
      "Downloading: https://storage.googleapis.com/gfd_v1_4/DFO_2469_From_20040412_to_20040502.zip: 16473856it [00:04, 4075388.16it/s]                               \n",
      "Downloading: https://storage.googleapis.com/gfd_v1_4/DFO_2640_From_20050317_to_20050408.zip: 34163456it [00:04, 7797107.93it/s]                               \n",
      "Downloading: https://storage.googleapis.com/gfd_v1_4/DFO_2648_From_20050418_to_20050604.zip: 11809280it [00:02, 4312987.04it/s]                              \n",
      "Downloading: https://storage.googleapis.com/gfd_v1_4/DFO_2827_From_20060328_to_20060509.zip: 20910336it [00:04, 4670267.15it/s]                               \n",
      "Downloading: https://storage.googleapis.com/gfd_v1_4/DFO_2832_From_20060404_to_20060511.zip: 18903168it [00:03, 4864010.51it/s]                               \n",
      "Downloading: https://storage.googleapis.com/gfd_v1_4/DFO_2839_From_20060407_to_20060524.zip: 17551616it [00:03, 5804167.28it/s]                               \n",
      "Downloading: https://storage.googleapis.com/gfd_v1_4/DFO_3648_From_20100515_to_20100524.zip: 14474624it [00:02, 4943118.28it/s]                               \n",
      "Downloading: https://storage.googleapis.com/gfd_v1_4/DFO_3657_From_20100529_to_20100611.zip: 19492864it [00:03, 5844101.08it/s]                               \n",
      "Downloading: https://storage.googleapis.com/gfd_v1_4/DFO_4334_From_20160306_to_20160310.zip: 8499328it [00:02, 3312184.98it/s]                              \n"
     ]
    },
    {
     "name": "stdout",
     "output_type": "stream",
     "text": [
      "Downloading Slovenia (SVN).\n"
     ]
    },
    {
     "name": "stderr",
     "output_type": "stream",
     "text": [
      "Downloading: https://storage.googleapis.com/gfd_v1_4/DFO_1595_From_20000405_to_20000425.zip: 12872192it [00:02, 4581992.37it/s]                               \n",
      "Downloading: https://storage.googleapis.com/gfd_v1_4/DFO_2024_From_20020807_to_20020828.zip: 21745792it [00:04, 5368202.60it/s]                               \n",
      "Downloading: https://storage.googleapis.com/gfd_v1_4/DFO_2060_From_20020921_to_20021008.zip: 8101248it [00:02, 3197261.69it/s]                              \n",
      "Downloading: https://storage.googleapis.com/gfd_v1_4/DFO_2099_From_20021122_to_20021203.zip: 11553152it [00:03, 3061406.42it/s]                               \n",
      "Downloading: https://storage.googleapis.com/gfd_v1_4/DFO_2172_From_20030127_to_20030207.zip: 8097024it [00:02, 3171662.94it/s]                              \n",
      "Downloading: https://storage.googleapis.com/gfd_v1_4/DFO_2174_From_20030117_to_20030303.zip: 10411520it [00:02, 3882910.57it/s]                              \n",
      "Downloading: https://storage.googleapis.com/gfd_v1_4/DFO_2460_From_20040323_to_20040403.zip: 10863232it [00:02, 4052906.37it/s]                              \n",
      "Downloading: https://storage.googleapis.com/gfd_v1_4/DFO_2469_From_20040412_to_20040502.zip: 16473856it [00:04, 4078024.82it/s]                               \n",
      "Downloading: https://storage.googleapis.com/gfd_v1_4/DFO_2626_From_20050217_to_20050324.zip: 8904448it [00:02, 3442847.22it/s]                              \n",
      "Downloading: https://storage.googleapis.com/gfd_v1_4/DFO_2640_From_20050317_to_20050408.zip: 34163456it [00:03, 10104275.24it/s]                              \n",
      "Downloading: https://storage.googleapis.com/gfd_v1_4/DFO_2648_From_20050418_to_20050604.zip: 11809280it [00:02, 4310078.08it/s]                               \n",
      "Downloading: https://storage.googleapis.com/gfd_v1_4/DFO_2784_From_20060102_to_20060120.zip: 8704128it [00:02, 3396811.57it/s]                              \n",
      "Downloading: https://storage.googleapis.com/gfd_v1_4/DFO_2817_From_20060309_to_20060325.zip: 8044160it [00:02, 3158108.82it/s]                              \n",
      "Downloading: https://storage.googleapis.com/gfd_v1_4/DFO_2832_From_20060404_to_20060511.zip: 18903168it [00:03, 6256178.06it/s]                               \n",
      "Downloading: https://storage.googleapis.com/gfd_v1_4/DFO_3085_From_20070522_to_20070606.zip: 12132352it [00:02, 4389898.86it/s]                               \n",
      "Downloading: https://storage.googleapis.com/gfd_v1_4/DFO_3193_From_20070918_to_20070920.zip: 9723136it [00:02, 3710760.47it/s]                              \n",
      "Downloading: https://storage.googleapis.com/gfd_v1_4/DFO_3536_From_20090907_to_20090910.zip: 16941440it [00:03, 5565294.73it/s]                               \n",
      "Downloading: https://storage.googleapis.com/gfd_v1_4/DFO_3591_From_20100104_to_20100113.zip: 9654144it [00:02, 3622921.44it/s]                              \n",
      "Downloading: https://storage.googleapis.com/gfd_v1_4/DFO_3607_From_20100213_to_20100220.zip: 19352832it [00:03, 5821960.99it/s]                               \n",
      "Downloading: https://storage.googleapis.com/gfd_v1_4/DFO_3665_From_20100622_to_20100626.zip: 9102208it [00:02, 3473234.68it/s]                              \n",
      "Downloading: https://storage.googleapis.com/gfd_v1_4/DFO_3756_From_20101203_to_20101217.zip: 8519680it [00:03, 2363008.17it/s]                              \n",
      "Downloading: https://storage.googleapis.com/gfd_v1_4/DFO_3896_From_20120201_to_20120206.zip: 11061760it [00:02, 4074867.85it/s]                               \n",
      "Downloading: https://storage.googleapis.com/gfd_v1_4/DFO_3897_From_20120203_to_20120206.zip: 7316864it [00:02, 2911688.11it/s]                              \n",
      "Downloading: https://storage.googleapis.com/gfd_v1_4/DFO_4211_From_20141204_to_20141214.zip: 23506816it [00:03, 7772389.91it/s]                               \n",
      "Downloading: https://storage.googleapis.com/gfd_v1_4/DFO_4221_From_20150201_to_20150209.zip: 23606528it [00:03, 7788841.67it/s]                               \n",
      "Downloading: https://storage.googleapis.com/gfd_v1_4/DFO_4334_From_20160306_to_20160310.zip: 8499328it [00:02, 3304845.36it/s]                              \n",
      "Downloading: https://storage.googleapis.com/gfd_v1_4/DFO_4580_From_20180307_to_20180314.zip: 7630848it [00:02, 3047414.57it/s]                              \n",
      "Downloading: https://storage.googleapis.com/gfd_v1_4/DFO_4581_From_20180310_to_20180314.zip: 9143168it [00:02, 3502793.99it/s]                              \n",
      "Downloading: https://storage.googleapis.com/gfd_v1_4/DFO_4583_From_20180226_to_20180302.zip: 7512704it [00:03, 2122924.24it/s]                              \n",
      "Downloading: https://storage.googleapis.com/gfd_v1_4/DFO_4597_From_20180325_to_20180408.zip: 8590848it [00:02, 3338084.70it/s]                              \n"
     ]
    },
    {
     "name": "stdout",
     "output_type": "stream",
     "text": [
      "Downloading Somalia (SOM).\n"
     ]
    },
    {
     "name": "stderr",
     "output_type": "stream",
     "text": [
      "Downloading: https://storage.googleapis.com/gfd_v1_4/DFO_1917_From_20020426_to_20020528.zip: 61135488it [00:04, 14546063.90it/s]                              \n",
      "Downloading: https://storage.googleapis.com/gfd_v1_4/DFO_2224_From_20030504_to_20030520.zip: 13506688it [00:03, 3406889.30it/s]                               \n",
      "Downloading: https://storage.googleapis.com/gfd_v1_4/DFO_2649_From_20050423_to_20050614.zip: 31061632it [00:03, 9286998.68it/s]                               \n",
      "Downloading: https://storage.googleapis.com/gfd_v1_4/DFO_2955_From_20060824_to_20061010.zip: 11292032it [00:02, 3813182.37it/s]                               \n",
      "Downloading: https://storage.googleapis.com/gfd_v1_4/DFO_3078_From_20070515_to_20070614.zip: 9780096it [00:02, 3571905.25it/s]                              \n",
      "Downloading: https://storage.googleapis.com/gfd_v1_4/DFO_3146_From_20070729_to_20071005.zip: 69832064it [00:05, 12145741.71it/s]                              \n",
      "Downloading: https://storage.googleapis.com/gfd_v1_4/DFO_3183_From_20070901_to_20071004.zip: 9243008it [00:02, 3483482.38it/s]                              \n",
      "Downloading: https://storage.googleapis.com/gfd_v1_4/DFO_3235_From_20071121_to_20071216.zip: 9604992it [00:02, 3610035.52it/s]                              \n",
      "Downloading: https://storage.googleapis.com/gfd_v1_4/DFO_3287_From_20080320_to_20080402.zip: 5957760it [00:02, 2428300.46it/s]                             \n",
      "Downloading: https://storage.googleapis.com/gfd_v1_4/DFO_3394_From_20081014_to_20081016.zip: 7275264it [00:02, 2863080.22it/s]                              \n",
      "Downloading: https://storage.googleapis.com/gfd_v1_4/DFO_3404_From_20081116_to_20081120.zip: 4775680it [00:02, 1918790.19it/s]                             \n",
      "Downloading: https://storage.googleapis.com/gfd_v1_4/DFO_3874_From_20111109_to_20111115.zip: 4826368it [00:03, 1424680.75it/s]                             \n",
      "Downloading: https://storage.googleapis.com/gfd_v1_4/DFO_3881_From_20111129_to_20111222.zip: 10121856it [00:02, 3776145.35it/s]                              \n",
      "Downloading: https://storage.googleapis.com/gfd_v1_4/DFO_3992_From_20120922_to_20121003.zip: 9675008it [00:03, 2592306.68it/s]                              \n",
      "Downloading: https://storage.googleapis.com/gfd_v1_4/DFO_4022_From_20130113_to_20130117.zip: 21888768it [00:03, 6511351.42it/s]                               \n",
      "Downloading: https://storage.googleapis.com/gfd_v1_4/DFO_4055_From_20130501_to_20130516.zip: 25339648it [00:03, 6402161.50it/s]                               \n",
      "Downloading: https://storage.googleapis.com/gfd_v1_4/DFO_4201_From_20141024_to_20141116.zip: 17483776it [00:03, 5618764.55it/s]                               \n",
      "Downloading: https://storage.googleapis.com/gfd_v1_4/DFO_4317_From_20151201_to_20160106.zip: 10681856it [00:02, 3884362.46it/s]                               \n"
     ]
    },
    {
     "name": "stdout",
     "output_type": "stream",
     "text": [
      "Downloading South Africa (ZAF).\n"
     ]
    },
    {
     "name": "stderr",
     "output_type": "stream",
     "text": [
      "Downloading: https://storage.googleapis.com/gfd_v1_4/DFO_2009_From_20020728_to_20020803.zip: 2383744it [00:03, 741402.38it/s]                              \n",
      "Downloading: https://storage.googleapis.com/gfd_v1_4/DFO_2178_From_20030305_to_20030316.zip: 7283328it [00:02, 2805430.42it/s]                              \n",
      "Downloading: https://storage.googleapis.com/gfd_v1_4/DFO_2423_From_20040125_to_20040206.zip: 1311872it [00:01, 665764.92it/s]                              \n",
      "Downloading: https://storage.googleapis.com/gfd_v1_4/DFO_2825_From_20060326_to_20060330.zip: 3472384it [00:02, 1503371.60it/s]                             \n",
      "Downloading: https://storage.googleapis.com/gfd_v1_4/DFO_3098_From_20070607_to_20070616.zip: 3160192it [00:02, 1388391.97it/s]                             \n",
      "Downloading: https://storage.googleapis.com/gfd_v1_4/DFO_3144_From_20070727_to_20070802.zip: 2872192it [00:02, 1272721.53it/s]                             \n",
      "Downloading: https://storage.googleapis.com/gfd_v1_4/DFO_3323_From_20080619_to_20080622.zip: 4882816it [00:03, 1418809.53it/s]                             \n",
      "Downloading: https://storage.googleapis.com/gfd_v1_4/DFO_3405_From_20081112_to_20081117.zip: 3440000it [00:03, 1024510.21it/s]                             \n",
      "Downloading: https://storage.googleapis.com/gfd_v1_4/DFO_3426_From_20081226_to_20090112.zip: 10331904it [00:02, 3818979.34it/s]                              \n",
      "Downloading: https://storage.googleapis.com/gfd_v1_4/DFO_3467_From_20090327_to_20090327.zip: 30733440it [00:04, 6992247.90it/s]                               \n",
      "Downloading: https://storage.googleapis.com/gfd_v1_4/DFO_3778_From_20110201_to_20110216.zip: 2056704it [00:02, 952447.08it/s]                              \n",
      "Downloading: https://storage.googleapis.com/gfd_v1_4/DFO_3880_From_20111127_to_20111202.zip: 4653824it [00:02, 1943402.35it/s]                             \n",
      "Downloading: https://storage.googleapis.com/gfd_v1_4/DFO_3892_From_20120117_to_20120214.zip: 29576832it [00:03, 8912121.34it/s]                               \n",
      "Downloading: https://storage.googleapis.com/gfd_v1_4/DFO_4023_From_20130117_to_20130304.zip: 15397504it [00:03, 4965121.93it/s]                               \n",
      "Downloading: https://storage.googleapis.com/gfd_v1_4/DFO_4026_From_20130115_to_20130201.zip: 16159616it [00:03, 5378447.64it/s]                               \n",
      "Downloading: https://storage.googleapis.com/gfd_v1_4/DFO_4381_From_20160725_to_20160803.zip: 8806016it [00:02, 3392551.78it/s]                              \n",
      "Downloading: https://storage.googleapis.com/gfd_v1_4/DFO_4455_From_20170309_to_20170322.zip: 25326848it [00:03, 8085259.70it/s]                               \n"
     ]
    },
    {
     "name": "stdout",
     "output_type": "stream",
     "text": [
      "Downloading South Korea (KOR).\n"
     ]
    },
    {
     "name": "stderr",
     "output_type": "stream",
     "text": [
      "Downloading: https://storage.googleapis.com/gfd_v1_4/DFO_1627_From_20000830_to_20000910.zip: 21906304it [00:03, 6381564.27it/s]                               \n",
      "Downloading: https://storage.googleapis.com/gfd_v1_4/DFO_2045_From_20020831_to_20020903.zip: 2702208it [00:02, 1179890.13it/s]                             \n",
      "Downloading: https://storage.googleapis.com/gfd_v1_4/DFO_2348_From_20030912_to_20030915.zip: 2459264it [00:02, 823986.94it/s]                              \n",
      "Downloading: https://storage.googleapis.com/gfd_v1_4/DFO_2516_From_20040629_to_20040713.zip: 16215936it [00:03, 5361495.96it/s]                               \n",
      "Downloading: https://storage.googleapis.com/gfd_v1_4/DFO_2685_From_20050630_to_20050702.zip: 3299584it [00:03, 1002722.05it/s]                             \n",
      "Downloading: https://storage.googleapis.com/gfd_v1_4/DFO_3979_From_20120817_to_20120907.zip: 4222208it [00:02, 1792214.25it/s]                             \n"
     ]
    },
    {
     "name": "stdout",
     "output_type": "stream",
     "text": [
      "Downloading Spain (ESP).\n"
     ]
    },
    {
     "name": "stderr",
     "output_type": "stream",
     "text": [
      "Downloading: https://storage.googleapis.com/gfd_v1_4/DFO_2052_From_20020908_to_20020912.zip: 8138368it [00:02, 3126526.36it/s]                              \n",
      "Downloading: https://storage.googleapis.com/gfd_v1_4/DFO_2103_From_20021213_to_20021214.zip: 8058112it [00:02, 3061575.55it/s]                              \n",
      "Downloading: https://storage.googleapis.com/gfd_v1_4/DFO_2117_From_20030101_to_20030108.zip: 34964608it [00:03, 10159774.89it/s]                              \n",
      "Downloading: https://storage.googleapis.com/gfd_v1_4/DFO_2169_From_20030205_to_20030213.zip: 12968320it [00:02, 4587054.48it/s]                               \n",
      "Downloading: https://storage.googleapis.com/gfd_v1_4/DFO_2179_From_20030227_to_20030310.zip: 8454784it [00:02, 3187189.95it/s]                              \n",
      "Downloading: https://storage.googleapis.com/gfd_v1_4/DFO_2359_From_20030922_to_20030923.zip: 7927680it [00:02, 3054869.23it/s]                              \n",
      "Downloading: https://storage.googleapis.com/gfd_v1_4/DFO_2386_From_20031101_to_20040118.zip: 2264832it [00:02, 1040535.49it/s]                             \n",
      "Downloading: https://storage.googleapis.com/gfd_v1_4/DFO_2395_From_20031201_to_20031210.zip: 13965440it [00:03, 3568409.17it/s]                               \n",
      "Downloading: https://storage.googleapis.com/gfd_v1_4/DFO_2724_From_20050907_to_20050909.zip: 10353664it [00:03, 2720089.70it/s]                              \n",
      "Downloading: https://storage.googleapis.com/gfd_v1_4/DFO_3661_From_20100616_to_20100617.zip: 7793024it [00:02, 2974268.42it/s]                              \n",
      "Downloading: https://storage.googleapis.com/gfd_v1_4/DFO_4199_From_20141019_to_20141022.zip: 741376it [00:01, 418619.56it/s]                             \n"
     ]
    },
    {
     "name": "stdout",
     "output_type": "stream",
     "text": [
      "Downloading Sri Lanka (LKA).\n"
     ]
    },
    {
     "name": "stderr",
     "output_type": "stream",
     "text": [
      "Downloading: https://storage.googleapis.com/gfd_v1_4/DFO_2601_From_20041211_to_20041223.zip: 1313280it [00:02, 649331.60it/s]                              \n",
      "Downloading: https://storage.googleapis.com/gfd_v1_4/DFO_3004_From_20061217_to_20061220.zip: 1006720it [00:01, 533426.06it/s]                             \n",
      "Downloading: https://storage.googleapis.com/gfd_v1_4/DFO_3016_From_20070112_to_20070116.zip: 1153152it [00:01, 584776.57it/s]                              \n",
      "Downloading: https://storage.googleapis.com/gfd_v1_4/DFO_3067_From_20070502_to_20070507.zip: 1320064it [00:02, 647242.93it/s]                             \n",
      "Downloading: https://storage.googleapis.com/gfd_v1_4/DFO_3243_From_20071216_to_20080101.zip: 1393152it [00:02, 679227.01it/s]                              \n",
      "Downloading: https://storage.googleapis.com/gfd_v1_4/DFO_3254_From_20080107_to_20080116.zip: 1288192it [00:02, 637964.52it/s]                             \n",
      "Downloading: https://storage.googleapis.com/gfd_v1_4/DFO_3413_From_20081122_to_20081204.zip: 1421824it [00:02, 701383.47it/s]                              \n",
      "Downloading: https://storage.googleapis.com/gfd_v1_4/DFO_3776_From_20110201_to_20110214.zip: 1313664it [00:02, 650261.41it/s]                              \n",
      "Downloading: https://storage.googleapis.com/gfd_v1_4/DFO_4215_From_20141220_to_20150101.zip: 1249280it [00:01, 628755.25it/s]                             \n"
     ]
    },
    {
     "name": "stdout",
     "output_type": "stream",
     "text": [
      "Downloading Sudan (SDN).\n"
     ]
    },
    {
     "name": "stderr",
     "output_type": "stream",
     "text": [
      "Downloading: https://storage.googleapis.com/gfd_v1_4/DFO_1772_From_20010806_to_20010913.zip: 32349824it [00:03, 9355198.11it/s]                               \n",
      "Downloading: https://storage.googleapis.com/gfd_v1_4/DFO_1778_From_20010819_to_20011011.zip: 21939840it [00:04, 4941481.76it/s]                               \n",
      "Downloading: https://storage.googleapis.com/gfd_v1_4/DFO_1917_From_20020426_to_20020528.zip: 61135488it [00:05, 10970416.80it/s]                              \n",
      "Downloading: https://storage.googleapis.com/gfd_v1_4/DFO_2303_From_20030803_to_20031102.zip: 53370624it [00:04, 11997003.15it/s]                              \n",
      "Downloading: https://storage.googleapis.com/gfd_v1_4/DFO_2952_From_20060812_to_20060821.zip: 13505024it [00:02, 4609401.26it/s]                               \n",
      "Downloading: https://storage.googleapis.com/gfd_v1_4/DFO_3123_From_20070703_to_20071008.zip: 110623744it [00:05, 19193534.64it/s]                               \n",
      "Downloading: https://storage.googleapis.com/gfd_v1_4/DFO_3146_From_20070729_to_20071005.zip: 69832064it [00:04, 15616556.61it/s]                              \n",
      "Downloading: https://storage.googleapis.com/gfd_v1_4/DFO_3170_From_20070815_to_20071031.zip: 29934976it [00:03, 8998658.95it/s]                               \n",
      "Downloading: https://storage.googleapis.com/gfd_v1_4/DFO_3179_From_20070825_to_20071001.zip: 32189568it [00:04, 6894602.02it/s]                               \n",
      "Downloading: https://storage.googleapis.com/gfd_v1_4/DFO_3348_From_20080802_to_20080808.zip: 20294016it [00:03, 6669166.51it/s]                               \n",
      "Downloading: https://storage.googleapis.com/gfd_v1_4/DFO_3367_From_20080820_to_20080828.zip: 9012224it [00:02, 3392577.83it/s]                              \n",
      "Downloading: https://storage.googleapis.com/gfd_v1_4/DFO_3368_From_20080720_to_20080825.zip: 20153984it [00:03, 5881847.07it/s]                               \n",
      "Downloading: https://storage.googleapis.com/gfd_v1_4/DFO_3714_From_20100815_to_20100917.zip: 46160512it [00:05, 8249510.22it/s]                               \n",
      "Downloading: https://storage.googleapis.com/gfd_v1_4/DFO_3863_From_20110820_to_20110908.zip: 16497920it [00:03, 5357183.01it/s]                               \n",
      "Downloading: https://storage.googleapis.com/gfd_v1_4/DFO_3875_From_20111109_to_20111220.zip: 20213888it [00:03, 6653175.46it/s]                               \n",
      "Downloading: https://storage.googleapis.com/gfd_v1_4/DFO_3881_From_20111129_to_20111222.zip: 10121856it [00:02, 3765711.76it/s]                              \n",
      "Downloading: https://storage.googleapis.com/gfd_v1_4/DFO_3917_From_20120409_to_20120426.zip: 24084352it [00:03, 7972488.20it/s]                               \n",
      "Downloading: https://storage.googleapis.com/gfd_v1_4/DFO_3980_From_20120820_to_20120907.zip: 16999296it [00:03, 5629753.12it/s]                               \n",
      "Downloading: https://storage.googleapis.com/gfd_v1_4/DFO_3981_From_20120815_to_20120907.zip: 17677696it [00:03, 5577282.45it/s]                               \n",
      "Downloading: https://storage.googleapis.com/gfd_v1_4/DFO_3991_From_20120907_to_20121003.zip: 39420288it [00:04, 8733838.93it/s]                               \n",
      "Downloading: https://storage.googleapis.com/gfd_v1_4/DFO_3995_From_20120915_to_20121015.zip: 16037248it [00:03, 5325296.55it/s]                               \n",
      "Downloading: https://storage.googleapis.com/gfd_v1_4/DFO_4022_From_20130113_to_20130117.zip: 21888768it [00:04, 5384007.03it/s]                               \n",
      "Downloading: https://storage.googleapis.com/gfd_v1_4/DFO_4094_From_20131008_to_20131014.zip: 19903616it [00:03, 6472355.72it/s]                               \n",
      "Downloading: https://storage.googleapis.com/gfd_v1_4/DFO_4186_From_20140921_to_20141011.zip: 12597888it [00:02, 4308425.98it/s]                               \n",
      "Downloading: https://storage.googleapis.com/gfd_v1_4/DFO_4305_From_20151024_to_20151028.zip: 11037312it [00:03, 2908643.68it/s]                              \n",
      "Downloading: https://storage.googleapis.com/gfd_v1_4/DFO_4324_From_20160114_to_20160129.zip: 23129472it [00:03, 6713003.50it/s]                               \n",
      "Downloading: https://storage.googleapis.com/gfd_v1_4/DFO_4369_From_20160630_to_20160706.zip: 9648256it [00:02, 3496270.15it/s]                              \n",
      "Downloading: https://storage.googleapis.com/gfd_v1_4/DFO_4602_From_20180428_to_20180501.zip: 15977088it [00:04, 3920246.72it/s]                               \n",
      "Downloading: https://storage.googleapis.com/gfd_v1_4/DFO_4603_From_20180423_to_20180425.zip: 15008000it [00:02, 5049684.08it/s]                               \n"
     ]
    },
    {
     "name": "stdout",
     "output_type": "stream",
     "text": [
      "Downloading Suriname (SUR).\n"
     ]
    },
    {
     "name": "stderr",
     "output_type": "stream",
     "text": [
      "Downloading: https://storage.googleapis.com/gfd_v1_4/DFO_2782_From_20060108_to_20060214.zip: 10067584it [00:02, 3751351.27it/s]                              \n",
      "Downloading: https://storage.googleapis.com/gfd_v1_4/DFO_3422_From_20081213_to_20090112.zip: 7882624it [00:02, 3061744.40it/s]                              \n"
     ]
    },
    {
     "name": "stdout",
     "output_type": "stream",
     "text": [
      "Downloading Swaziland (SWZ).\n"
     ]
    },
    {
     "name": "stderr",
     "output_type": "stream",
     "text": [
      "Downloading: https://storage.googleapis.com/gfd_v1_4/DFO_3426_From_20081226_to_20090112.zip: 10331904it [00:02, 3811513.05it/s]                              \n",
      "Downloading: https://storage.googleapis.com/gfd_v1_4/DFO_3892_From_20120117_to_20120214.zip: 29576832it [00:04, 6662971.66it/s]                               \n",
      "Downloading: https://storage.googleapis.com/gfd_v1_4/DFO_4023_From_20130117_to_20130304.zip: 15397504it [00:04, 3823884.37it/s]                               \n",
      "Downloading: https://storage.googleapis.com/gfd_v1_4/DFO_4381_From_20160725_to_20160803.zip: 8806016it [00:02, 3396597.58it/s]                              \n"
     ]
    },
    {
     "name": "stdout",
     "output_type": "stream",
     "text": [
      "Downloading Sweden (SWE).\n",
      "Downloading Switzerland (CHE).\n"
     ]
    },
    {
     "name": "stderr",
     "output_type": "stream",
     "text": [
      "Downloading: https://storage.googleapis.com/gfd_v1_4/DFO_2024_From_20020807_to_20020828.zip: 21745792it [00:04, 5354380.58it/s]                               \n",
      "Downloading: https://storage.googleapis.com/gfd_v1_4/DFO_2052_From_20020908_to_20020912.zip: 8138368it [00:02, 3150150.03it/s]                              \n",
      "Downloading: https://storage.googleapis.com/gfd_v1_4/DFO_2099_From_20021122_to_20021203.zip: 11553152it [00:03, 3060043.86it/s]                               \n",
      "Downloading: https://storage.googleapis.com/gfd_v1_4/DFO_2103_From_20021213_to_20021214.zip: 8058112it [00:03, 2259142.58it/s]                              \n",
      "Downloading: https://storage.googleapis.com/gfd_v1_4/DFO_2117_From_20030101_to_20030108.zip: 34964608it [00:03, 9973029.71it/s]                               \n",
      "Downloading: https://storage.googleapis.com/gfd_v1_4/DFO_2140_From_20030125_to_20030127.zip: 5623040it [00:02, 2268861.82it/s]                             \n",
      "Downloading: https://storage.googleapis.com/gfd_v1_4/DFO_2169_From_20030205_to_20030213.zip: 12968320it [00:02, 4468029.15it/s]                               \n",
      "Downloading: https://storage.googleapis.com/gfd_v1_4/DFO_2179_From_20030227_to_20030310.zip: 8454784it [00:02, 3257392.97it/s]                              \n",
      "Downloading: https://storage.googleapis.com/gfd_v1_4/DFO_2359_From_20030922_to_20030923.zip: 7927680it [00:02, 3122902.08it/s]                              \n",
      "Downloading: https://storage.googleapis.com/gfd_v1_4/DFO_2395_From_20031201_to_20031210.zip: 13965440it [00:03, 3571250.94it/s]                               \n",
      "Downloading: https://storage.googleapis.com/gfd_v1_4/DFO_2460_From_20040323_to_20040403.zip: 10863232it [00:02, 4040206.32it/s]                               \n",
      "Downloading: https://storage.googleapis.com/gfd_v1_4/DFO_2469_From_20040412_to_20040502.zip: 16473856it [00:03, 5463671.52it/s]                               \n",
      "Downloading: https://storage.googleapis.com/gfd_v1_4/DFO_2640_From_20050317_to_20050408.zip: 34163456it [00:03, 10088255.04it/s]                              \n",
      "Downloading: https://storage.googleapis.com/gfd_v1_4/DFO_2724_From_20050907_to_20050909.zip: 10353664it [00:02, 3739779.29it/s]                              \n",
      "Downloading: https://storage.googleapis.com/gfd_v1_4/DFO_2827_From_20060328_to_20060509.zip: 20910336it [00:03, 6866736.42it/s]                               \n",
      "Downloading: https://storage.googleapis.com/gfd_v1_4/DFO_2832_From_20060404_to_20060511.zip: 18903168it [00:03, 5595528.83it/s]                               \n",
      "Downloading: https://storage.googleapis.com/gfd_v1_4/DFO_3648_From_20100515_to_20100524.zip: 14474624it [00:02, 4996980.41it/s]                               \n",
      "Downloading: https://storage.googleapis.com/gfd_v1_4/DFO_3657_From_20100529_to_20100611.zip: 19492864it [00:03, 5835510.91it/s]                               \n"
     ]
    },
    {
     "name": "stdout",
     "output_type": "stream",
     "text": [
      "Downloading Syria (SYR).\n"
     ]
    },
    {
     "name": "stderr",
     "output_type": "stream",
     "text": [
      "Downloading: https://storage.googleapis.com/gfd_v1_4/DFO_1938_From_20020604_to_20020606.zip: 6878080it [00:02, 2772485.92it/s]                             \n",
      "Downloading: https://storage.googleapis.com/gfd_v1_4/DFO_2175_From_20030204_to_20030312.zip: 9720448it [00:03, 2597461.32it/s]                              \n",
      "Downloading: https://storage.googleapis.com/gfd_v1_4/DFO_2432_From_20040116_to_20040225.zip: 25714688it [00:03, 6540410.73it/s]                               \n",
      "Downloading: https://storage.googleapis.com/gfd_v1_4/DFO_2433_From_20040124_to_20040214.zip: 9122560it [00:02, 3465254.25it/s]                              \n",
      "Downloading: https://storage.googleapis.com/gfd_v1_4/DFO_2637_From_20050313_to_20050325.zip: 17907712it [00:03, 5866910.94it/s]                               \n",
      "Downloading: https://storage.googleapis.com/gfd_v1_4/DFO_3536_From_20090907_to_20090910.zip: 16941440it [00:03, 5072911.12it/s]                               \n",
      "Downloading: https://storage.googleapis.com/gfd_v1_4/DFO_3607_From_20100213_to_20100220.zip: 19352832it [00:03, 6404545.71it/s]                               \n",
      "Downloading: https://storage.googleapis.com/gfd_v1_4/DFO_3870_From_20111008_to_20111010.zip: 8552832it [00:02, 3320997.03it/s]                              \n",
      "Downloading: https://storage.googleapis.com/gfd_v1_4/DFO_3906_From_20120304_to_20120307.zip: 7902464it [00:02, 3104233.61it/s]                              \n",
      "Downloading: https://storage.googleapis.com/gfd_v1_4/DFO_4006_From_20121202_to_20121204.zip: 7805312it [00:02, 3060793.11it/s]                              \n",
      "Downloading: https://storage.googleapis.com/gfd_v1_4/DFO_4019_From_20130108_to_20130110.zip: 11673600it [00:02, 4227827.18it/s]                               \n",
      "Downloading: https://storage.googleapis.com/gfd_v1_4/DFO_4211_From_20141204_to_20141214.zip: 23506816it [00:03, 6129562.27it/s]                               \n",
      "Downloading: https://storage.googleapis.com/gfd_v1_4/DFO_4221_From_20150201_to_20150209.zip: 23606528it [00:03, 7792423.99it/s]                               \n"
     ]
    },
    {
     "name": "stdout",
     "output_type": "stream",
     "text": [
      "Downloading Taiwan (TWN).\n"
     ]
    },
    {
     "name": "stderr",
     "output_type": "stream",
     "text": [
      "Downloading: https://storage.googleapis.com/gfd_v1_4/DFO_2516_From_20040629_to_20040713.zip: 16215936it [00:03, 5396356.46it/s]                               \n",
      "Downloading: https://storage.googleapis.com/gfd_v1_4/DFO_2554_From_20040824_to_20040912.zip: 9307008it [00:02, 3451976.81it/s]                              \n",
      "Downloading: https://storage.googleapis.com/gfd_v1_4/DFO_2669_From_20050611_to_20050617.zip: 792192it [00:01, 422393.80it/s]                             \n",
      "Downloading: https://storage.googleapis.com/gfd_v1_4/DFO_2694_From_20050716_to_20050720.zip: 4647808it [00:02, 1943167.78it/s]                             \n",
      "Downloading: https://storage.googleapis.com/gfd_v1_4/DFO_2722_From_20050901_to_20050904.zip: 11477760it [00:02, 4158969.77it/s]                               \n",
      "Downloading: https://storage.googleapis.com/gfd_v1_4/DFO_3339_From_20080728_to_20080729.zip: 7757440it [00:03, 2154489.64it/s]                              \n",
      "Downloading: https://storage.googleapis.com/gfd_v1_4/DFO_3668_From_20100625_to_20100627.zip: 793984it [00:01, 429932.05it/s]                             \n"
     ]
    },
    {
     "name": "stdout",
     "output_type": "stream",
     "text": [
      "Downloading Tajikistan (TJK).\n"
     ]
    },
    {
     "name": "stderr",
     "output_type": "stream",
     "text": [
      "Downloading: https://storage.googleapis.com/gfd_v1_4/DFO_2426_From_20040130_to_20040302.zip: 17469440it [00:04, 3986989.42it/s]                               \n",
      "Downloading: https://storage.googleapis.com/gfd_v1_4/DFO_2629_From_20050224_to_20050323.zip: 20772096it [00:03, 6893954.90it/s]                               \n",
      "Downloading: https://storage.googleapis.com/gfd_v1_4/DFO_3055_From_20070417_to_20070418.zip: 6266112it [00:02, 2522171.81it/s]                             \n",
      "Downloading: https://storage.googleapis.com/gfd_v1_4/DFO_3061_From_20070423_to_20070504.zip: 5770240it [00:02, 2345127.09it/s]                             \n",
      "Downloading: https://storage.googleapis.com/gfd_v1_4/DFO_3109_From_20070624_to_20070703.zip: 10622208it [00:03, 2850365.16it/s]                              \n",
      "Downloading: https://storage.googleapis.com/gfd_v1_4/DFO_4078_From_20130801_to_20130807.zip: 26208768it [00:03, 8506448.46it/s]                               \n",
      "Downloading: https://storage.googleapis.com/gfd_v1_4/DFO_4179_From_20140901_to_20141011.zip: 13586560it [00:02, 4762108.19it/s]                               \n",
      "Downloading: https://storage.googleapis.com/gfd_v1_4/DFO_4242_From_20150323_to_20150415.zip: 23883648it [00:04, 4847983.55it/s]                               \n",
      "Downloading: https://storage.googleapis.com/gfd_v1_4/DFO_4272_From_20150715_to_20150819.zip: 13287168it [00:02, 4690592.57it/s]                               \n"
     ]
    },
    {
     "name": "stdout",
     "output_type": "stream",
     "text": [
      "Downloading Tanzania (TZA).\n"
     ]
    },
    {
     "name": "stderr",
     "output_type": "stream",
     "text": [
      "Downloading: https://storage.googleapis.com/gfd_v1_4/DFO_1917_From_20020426_to_20020528.zip: 61135488it [00:04, 14540953.84it/s]                              \n",
      "Downloading: https://storage.googleapis.com/gfd_v1_4/DFO_2119_From_20030101_to_20030217.zip: 39678464it [00:03, 11010095.59it/s]                              \n",
      "Downloading: https://storage.googleapis.com/gfd_v1_4/DFO_2638_From_20050301_to_20050401.zip: 29967872it [00:04, 7180877.00it/s]                               \n",
      "Downloading: https://storage.googleapis.com/gfd_v1_4/DFO_2773_From_20051222_to_20060207.zip: 28429184it [00:03, 8767095.90it/s]                               \n",
      "Downloading: https://storage.googleapis.com/gfd_v1_4/DFO_2952_From_20060812_to_20060821.zip: 13505024it [00:02, 4741126.79it/s]                               \n",
      "Downloading: https://storage.googleapis.com/gfd_v1_4/DFO_3078_From_20070515_to_20070614.zip: 9780096it [00:03, 2653935.40it/s]                              \n",
      "Downloading: https://storage.googleapis.com/gfd_v1_4/DFO_3123_From_20070703_to_20071008.zip: 110623744it [00:05, 19071364.55it/s]                               \n",
      "Downloading: https://storage.googleapis.com/gfd_v1_4/DFO_3170_From_20070815_to_20071031.zip: 29934976it [00:03, 9305692.76it/s]                               \n",
      "Downloading: https://storage.googleapis.com/gfd_v1_4/DFO_3235_From_20071121_to_20071216.zip: 9604992it [00:03, 2627126.45it/s]                              \n",
      "Downloading: https://storage.googleapis.com/gfd_v1_4/DFO_3242_From_20071211_to_20080103.zip: 30551040it [00:03, 8901872.19it/s]                               \n",
      "Downloading: https://storage.googleapis.com/gfd_v1_4/DFO_3294_From_20080411_to_20080516.zip: 5870720it [00:02, 2380572.67it/s]                             \n",
      "Downloading: https://storage.googleapis.com/gfd_v1_4/DFO_3863_From_20110820_to_20110908.zip: 16497920it [00:03, 5447181.67it/s]                               \n",
      "Downloading: https://storage.googleapis.com/gfd_v1_4/DFO_3875_From_20111109_to_20111220.zip: 20213888it [00:03, 6064332.67it/s]                               \n",
      "Downloading: https://storage.googleapis.com/gfd_v1_4/DFO_3886_From_20111220_to_20111222.zip: 3687040it [00:02, 1609756.97it/s]                             \n",
      "Downloading: https://storage.googleapis.com/gfd_v1_4/DFO_3892_From_20120117_to_20120214.zip: 29576832it [00:03, 8996618.88it/s]                               \n",
      "Downloading: https://storage.googleapis.com/gfd_v1_4/DFO_3917_From_20120409_to_20120426.zip: 24084352it [00:04, 5942510.23it/s]                               \n",
      "Downloading: https://storage.googleapis.com/gfd_v1_4/DFO_3980_From_20120820_to_20120907.zip: 16999296it [00:03, 5609243.44it/s]                               \n",
      "Downloading: https://storage.googleapis.com/gfd_v1_4/DFO_3981_From_20120815_to_20120907.zip: 17677696it [00:03, 5322004.63it/s]                               \n",
      "Downloading: https://storage.googleapis.com/gfd_v1_4/DFO_3991_From_20120907_to_20121003.zip: 39420288it [00:04, 9053914.25it/s]                               \n",
      "Downloading: https://storage.googleapis.com/gfd_v1_4/DFO_4022_From_20130113_to_20130117.zip: 21888768it [00:03, 7222905.94it/s]                               \n",
      "Downloading: https://storage.googleapis.com/gfd_v1_4/DFO_4094_From_20131008_to_20131014.zip: 19903616it [00:03, 6492486.22it/s]                               \n",
      "Downloading: https://storage.googleapis.com/gfd_v1_4/DFO_4137_From_20140418_to_20140501.zip: 10870784it [00:02, 3999217.34it/s]                               \n",
      "Downloading: https://storage.googleapis.com/gfd_v1_4/DFO_4140_From_20140510_to_20140516.zip: 8845056it [00:02, 3410519.21it/s]                              \n",
      "Downloading: https://storage.googleapis.com/gfd_v1_4/DFO_4219_From_20150101_to_20150209.zip: 31604480it [00:03, 9351722.56it/s]                               \n",
      "Downloading: https://storage.googleapis.com/gfd_v1_4/DFO_4317_From_20151201_to_20160106.zip: 10681856it [00:02, 3925837.69it/s]                               \n",
      "Downloading: https://storage.googleapis.com/gfd_v1_4/DFO_4324_From_20160114_to_20160129.zip: 23129472it [00:04, 5346548.78it/s]                               \n",
      "Downloading: https://storage.googleapis.com/gfd_v1_4/DFO_4357_From_20160422_to_20160530.zip: 13538816it [00:02, 4652816.63it/s]                               \n",
      "Downloading: https://storage.googleapis.com/gfd_v1_4/DFO_4472_From_20170508_to_20170515.zip: 7720064it [00:02, 3042301.25it/s]                              \n",
      "Downloading: https://storage.googleapis.com/gfd_v1_4/DFO_4602_From_20180428_to_20180501.zip: 15977088it [00:02, 5388745.58it/s]                               \n",
      "Downloading: https://storage.googleapis.com/gfd_v1_4/DFO_4603_From_20180423_to_20180425.zip: 15008000it [00:04, 3696065.37it/s]                               \n"
     ]
    },
    {
     "name": "stdout",
     "output_type": "stream",
     "text": [
      "Downloading Thailand (THA).\n"
     ]
    },
    {
     "name": "stderr",
     "output_type": "stream",
     "text": [
      "Downloading: https://storage.googleapis.com/gfd_v1_4/DFO_1614_From_20000711_to_20000810.zip: 15939840it [00:02, 5322344.93it/s]                               \n",
      "Downloading: https://storage.googleapis.com/gfd_v1_4/DFO_1781_From_20010815_to_20011119.zip: 19201792it [00:03, 6290272.59it/s]                               \n",
      "Downloading: https://storage.googleapis.com/gfd_v1_4/DFO_1991_From_20020715_to_20021202.zip: 18511104it [00:03, 6064442.66it/s]                               \n",
      "Downloading: https://storage.googleapis.com/gfd_v1_4/DFO_2039_From_20020818_to_20021126.zip: 46376960it [00:04, 10556323.34it/s]                              \n",
      "Downloading: https://storage.googleapis.com/gfd_v1_4/DFO_2059_From_20020920_to_20020930.zip: 7643904it [00:02, 3011181.57it/s]                              \n",
      "Downloading: https://storage.googleapis.com/gfd_v1_4/DFO_2061_From_20020917_to_20021202.zip: 26788224it [00:03, 8353607.84it/s]                               \n",
      "Downloading: https://storage.googleapis.com/gfd_v1_4/DFO_2134_From_20030120_to_20030210.zip: 7314688it [00:02, 2560564.87it/s]                              \n",
      "Downloading: https://storage.googleapis.com/gfd_v1_4/DFO_2347_From_20030912_to_20031012.zip: 25644288it [00:03, 6474179.48it/s]                               \n",
      "Downloading: https://storage.googleapis.com/gfd_v1_4/DFO_2370_From_20031017_to_20031104.zip: 13585024it [00:02, 4692233.16it/s]                               \n",
      "Downloading: https://storage.googleapis.com/gfd_v1_4/DFO_2543_From_20040806_to_20041003.zip: 30823296it [00:03, 9414130.25it/s]                               \n",
      "Downloading: https://storage.googleapis.com/gfd_v1_4/DFO_2555_From_20040824_to_20041021.zip: 19302656it [00:04, 4717250.46it/s]                               \n",
      "Downloading: https://storage.googleapis.com/gfd_v1_4/DFO_2600_From_20041210_to_20041218.zip: 6325376it [00:02, 2457651.54it/s]                             \n",
      "Downloading: https://storage.googleapis.com/gfd_v1_4/DFO_2709_From_20050813_to_20050926.zip: 24035200it [00:04, 4858023.31it/s]                               \n",
      "Downloading: https://storage.googleapis.com/gfd_v1_4/DFO_2725_From_20050908_to_20051101.zip: 25326336it [00:03, 7958841.90it/s]                               \n",
      "Downloading: https://storage.googleapis.com/gfd_v1_4/DFO_2736_From_20050926_to_20051006.zip: 37553792it [00:04, 8439564.34it/s]                               \n",
      "Downloading: https://storage.googleapis.com/gfd_v1_4/DFO_2760_From_20051102_to_20051104.zip: 6563328it [00:02, 2626867.12it/s]                             \n",
      "Downloading: https://storage.googleapis.com/gfd_v1_4/DFO_2768_From_20051123_to_20060112.zip: 8028544it [00:02, 3162753.93it/s]                             \n",
      "Downloading: https://storage.googleapis.com/gfd_v1_4/DFO_2798_From_20060210_to_20060218.zip: 6606592it [00:02, 2647454.14it/s]                             \n",
      "Downloading: https://storage.googleapis.com/gfd_v1_4/DFO_2867_From_20060522_to_20060611.zip: 16186368it [00:04, 3978430.28it/s]                               \n",
      "Downloading: https://storage.googleapis.com/gfd_v1_4/DFO_2948_From_20060812_to_20060902.zip: 10332800it [00:02, 3813466.31it/s]                              \n",
      "Downloading: https://storage.googleapis.com/gfd_v1_4/DFO_2949_From_20060810_to_20061101.zip: 21155456it [00:04, 4770372.91it/s]                               \n",
      "Downloading: https://storage.googleapis.com/gfd_v1_4/DFO_2951_From_20060820_to_20061213.zip: 41867776it [00:03, 11142577.16it/s]                              \n",
      "Downloading: https://storage.googleapis.com/gfd_v1_4/DFO_3002_From_20061130_to_20061208.zip: 20277248it [00:03, 5987404.85it/s]                               \n",
      "Downloading: https://storage.googleapis.com/gfd_v1_4/DFO_3073_From_20070511_to_20070521.zip: 9767808it [00:02, 3653561.74it/s]                              \n",
      "Downloading: https://storage.googleapis.com/gfd_v1_4/DFO_3134_From_20070718_to_20070813.zip: 41242496it [00:04, 8704608.37it/s]                               \n",
      "Downloading: https://storage.googleapis.com/gfd_v1_4/DFO_3149_From_20070803_to_20070817.zip: 8457600it [00:02, 3201869.75it/s]                              \n",
      "Downloading: https://storage.googleapis.com/gfd_v1_4/DFO_3168_From_20070810_to_20070824.zip: 7033600it [00:02, 2793953.29it/s]                              \n",
      "Downloading: https://storage.googleapis.com/gfd_v1_4/DFO_3188_From_20070905_to_20071110.zip: 40772992it [00:03, 11028640.49it/s]                              \n",
      "Downloading: https://storage.googleapis.com/gfd_v1_4/DFO_3210_From_20071020_to_20071116.zip: 100%|██████████| 16019584/16019584 [00:03<00:00, 5324272.19it/s] \n",
      "Downloading: https://storage.googleapis.com/gfd_v1_4/DFO_3219_From_20071028_to_20071109.zip: 8780800it [00:02, 3355620.83it/s]                              \n",
      "Downloading: https://storage.googleapis.com/gfd_v1_4/DFO_3302_From_20080503_to_20080522.zip: 25195008it [00:03, 7260899.96it/s]                               \n",
      "Downloading: https://storage.googleapis.com/gfd_v1_4/DFO_3360_From_20080811_to_20080820.zip: 20290432it [00:03, 5981874.78it/s]                               \n",
      "Downloading: https://storage.googleapis.com/gfd_v1_4/DFO_3384_From_20080911_to_20081004.zip: 19540096it [00:03, 6371656.14it/s]                               \n",
      "Downloading: https://storage.googleapis.com/gfd_v1_4/DFO_3723_From_20100920_to_20100930.zip: 18779648it [00:03, 6143802.42it/s]                               \n",
      "Downloading: https://storage.googleapis.com/gfd_v1_4/DFO_3737_From_20101010_to_20101115.zip: 11135104it [00:02, 4062450.88it/s]                               \n",
      "Downloading: https://storage.googleapis.com/gfd_v1_4/DFO_3795_From_20110323_to_20110410.zip: 7218304it [00:02, 2890784.22it/s]                             \n",
      "Downloading: https://storage.googleapis.com/gfd_v1_4/DFO_3850_From_20110805_to_20120109.zip: 20843776it [00:03, 6073088.06it/s]                               \n",
      "Downloading: https://storage.googleapis.com/gfd_v1_4/DFO_3853_From_20110810_to_20111115.zip: 12448768it [00:02, 4230360.78it/s]                               \n",
      "Downloading: https://storage.googleapis.com/gfd_v1_4/DFO_3889_From_20120101_to_20120109.zip: 6460288it [00:03, 1812252.64it/s]                             \n",
      "Downloading: https://storage.googleapis.com/gfd_v1_4/DFO_3985_From_20120912_to_20120926.zip: 14480896it [00:02, 4948961.65it/s]                               \n",
      "Downloading: https://storage.googleapis.com/gfd_v1_4/DFO_4090_From_20130927_to_20131014.zip: 10065280it [00:02, 3711709.62it/s]                              \n",
      "Downloading: https://storage.googleapis.com/gfd_v1_4/DFO_4092_From_20130930_to_20131014.zip: 28427776it [00:03, 8598840.23it/s]                               \n",
      "Downloading: https://storage.googleapis.com/gfd_v1_4/DFO_4156_From_20140711_to_20140714.zip: 14888064it [00:03, 3743718.22it/s]                               \n",
      "Downloading: https://storage.googleapis.com/gfd_v1_4/DFO_4184_From_20140901_to_20140908.zip: 8228096it [00:02, 3181589.39it/s]                              \n",
      "Downloading: https://storage.googleapis.com/gfd_v1_4/DFO_4206_From_20141107_to_20141116.zip: 6486912it [00:02, 2568168.97it/s]                             \n",
      "Downloading: https://storage.googleapis.com/gfd_v1_4/DFO_4216_From_20141220_to_20150101.zip: 6287744it [00:03, 1780735.45it/s]                             \n",
      "Downloading: https://storage.googleapis.com/gfd_v1_4/DFO_4293_From_20150907_to_20150911.zip: 17891712it [00:04, 4038439.22it/s]                               \n",
      "Downloading: https://storage.googleapis.com/gfd_v1_4/DFO_4376_From_20160718_to_20160719.zip: 5998976it [00:03, 1703287.66it/s]                             \n",
      "Downloading: https://storage.googleapis.com/gfd_v1_4/DFO_4403_From_20161006_to_20161016.zip: 6390784it [00:02, 2580701.86it/s]                             \n",
      "Downloading: https://storage.googleapis.com/gfd_v1_4/DFO_4423_From_20161201_to_20161207.zip: 12868608it [00:02, 4486091.87it/s]                               \n",
      "Downloading: https://storage.googleapis.com/gfd_v1_4/DFO_4432_From_20161231_to_20170207.zip: 7466624it [00:02, 2848833.38it/s]                             \n"
     ]
    },
    {
     "name": "stdout",
     "output_type": "stream",
     "text": [
      "Downloading Togo (TGO).\n"
     ]
    },
    {
     "name": "stderr",
     "output_type": "stream",
     "text": [
      "Downloading: https://storage.googleapis.com/gfd_v1_4/DFO_2320_From_20030810_to_20031019.zip: 82118272it [00:04, 16916446.31it/s]                              \n",
      "Downloading: https://storage.googleapis.com/gfd_v1_4/DFO_2576_From_20041007_to_20041104.zip: 5117696it [00:02, 2139662.87it/s]                             \n",
      "Downloading: https://storage.googleapis.com/gfd_v1_4/DFO_2947_From_20060803_to_20061011.zip: 119138432it [00:05, 19875544.15it/s]                               \n",
      "Downloading: https://storage.googleapis.com/gfd_v1_4/DFO_3151_From_20070804_to_20071021.zip: 36338560it [00:03, 9772634.01it/s]                               \n",
      "Downloading: https://storage.googleapis.com/gfd_v1_4/DFO_3166_From_20070726_to_20071010.zip: 90931328it [00:06, 14751951.99it/s]                              \n",
      "Downloading: https://storage.googleapis.com/gfd_v1_4/DFO_3534_From_20090810_to_20090902.zip: 156698752it [00:07, 20433789.78it/s]                               \n",
      "Downloading: https://storage.googleapis.com/gfd_v1_4/DFO_3555_From_20091020_to_20091026.zip: 5390848it [00:02, 2203638.44it/s]                             \n",
      "Downloading: https://storage.googleapis.com/gfd_v1_4/DFO_3747_From_20101105_to_20101111.zip: 3331712it [00:02, 1463657.51it/s]                             \n",
      "Downloading: https://storage.googleapis.com/gfd_v1_4/DFO_4683_From_20180901_to_20181002.zip: 8356480it [00:03, 2250106.28it/s]                              \n"
     ]
    },
    {
     "name": "stdout",
     "output_type": "stream",
     "text": [
      "Downloading Tunisia (TUN).\n"
     ]
    },
    {
     "name": "stderr",
     "output_type": "stream",
     "text": [
      "Downloading: https://storage.googleapis.com/gfd_v1_4/DFO_3197_From_20070921_to_20070924.zip: 7311104it [00:02, 2847420.19it/s]                             \n",
      "Downloading: https://storage.googleapis.com/gfd_v1_4/DFO_3221_From_20071030_to_20071102.zip: 10361600it [00:02, 3776311.88it/s]                              \n",
      "Downloading: https://storage.googleapis.com/gfd_v1_4/DFO_3331_From_20080706_to_20080711.zip: 6423936it [00:02, 2529268.48it/s]                             \n",
      "Downloading: https://storage.googleapis.com/gfd_v1_4/DFO_3445_From_20090207_to_20090209.zip: 13552896it [00:03, 3443646.35it/s]                               \n",
      "Downloading: https://storage.googleapis.com/gfd_v1_4/DFO_3904_From_20120225_to_20120227.zip: 9159040it [00:02, 3398459.14it/s]                              \n"
     ]
    },
    {
     "name": "stdout",
     "output_type": "stream",
     "text": [
      "Downloading Turkey (TUR).\n"
     ]
    },
    {
     "name": "stderr",
     "output_type": "stream",
     "text": [
      "Downloading: https://storage.googleapis.com/gfd_v1_4/DFO_1938_From_20020604_to_20020606.zip: 6878080it [00:02, 2651162.12it/s]                              \n",
      "Downloading: https://storage.googleapis.com/gfd_v1_4/DFO_1962_From_20020619_to_20020701.zip: 9533184it [00:02, 3603978.89it/s]                              \n",
      "Downloading: https://storage.googleapis.com/gfd_v1_4/DFO_1995_From_20020719_to_20020723.zip: 6340608it [00:02, 2587976.52it/s]                             \n",
      "Downloading: https://storage.googleapis.com/gfd_v1_4/DFO_2060_From_20020921_to_20021008.zip: 8101248it [00:02, 3163479.71it/s]                              \n",
      "Downloading: https://storage.googleapis.com/gfd_v1_4/DFO_2099_From_20021122_to_20021203.zip: 11553152it [00:02, 4129239.58it/s]                               \n",
      "Downloading: https://storage.googleapis.com/gfd_v1_4/DFO_2172_From_20030127_to_20030207.zip: 8097024it [00:03, 2244801.53it/s]                              \n",
      "Downloading: https://storage.googleapis.com/gfd_v1_4/DFO_2174_From_20030117_to_20030303.zip: 10411520it [00:03, 2777774.03it/s]                              \n",
      "Downloading: https://storage.googleapis.com/gfd_v1_4/DFO_2175_From_20030204_to_20030312.zip: 9720448it [00:02, 3539617.16it/s]                              \n",
      "Downloading: https://storage.googleapis.com/gfd_v1_4/DFO_2206_From_20030416_to_20030604.zip: 6004736it [00:02, 2272357.32it/s]                             \n",
      "Downloading: https://storage.googleapis.com/gfd_v1_4/DFO_2432_From_20040116_to_20040225.zip: 25714688it [00:03, 7652990.04it/s]                               \n",
      "Downloading: https://storage.googleapis.com/gfd_v1_4/DFO_2433_From_20040124_to_20040214.zip: 9122560it [00:02, 3495077.73it/s]                              \n",
      "Downloading: https://storage.googleapis.com/gfd_v1_4/DFO_2626_From_20050217_to_20050324.zip: 8904448it [00:02, 3437880.86it/s]                              \n",
      "Downloading: https://storage.googleapis.com/gfd_v1_4/DFO_2637_From_20050313_to_20050325.zip: 17907712it [00:03, 5376452.30it/s]                               \n",
      "Downloading: https://storage.googleapis.com/gfd_v1_4/DFO_2650_From_20050425_to_20050530.zip: 86925440it [00:05, 17273646.87it/s]                              \n",
      "Downloading: https://storage.googleapis.com/gfd_v1_4/DFO_2692_From_20050712_to_20050728.zip: 7437440it [00:03, 2092521.13it/s]                             \n",
      "Downloading: https://storage.googleapis.com/gfd_v1_4/DFO_2733_From_20050921_to_20051009.zip: 6466560it [00:02, 2611958.28it/s]                             \n",
      "Downloading: https://storage.googleapis.com/gfd_v1_4/DFO_2784_From_20060102_to_20060120.zip: 8704128it [00:02, 3350423.18it/s]                              \n",
      "Downloading: https://storage.googleapis.com/gfd_v1_4/DFO_2817_From_20060309_to_20060325.zip: 8044160it [00:17, 457674.79it/s]                              \n",
      "Downloading: https://storage.googleapis.com/gfd_v1_4/DFO_2839_From_20060407_to_20060524.zip: 17551616it [00:03, 5612710.28it/s]                               \n",
      "Downloading: https://storage.googleapis.com/gfd_v1_4/DFO_3085_From_20070522_to_20070606.zip: 12132352it [00:02, 4269028.84it/s]                               \n",
      "Downloading: https://storage.googleapis.com/gfd_v1_4/DFO_3193_From_20070918_to_20070920.zip: 9723136it [00:03, 2594392.54it/s]                              \n",
      "Downloading: https://storage.googleapis.com/gfd_v1_4/DFO_3536_From_20090907_to_20090910.zip: 16941440it [00:03, 5594617.45it/s]                               \n",
      "Downloading: https://storage.googleapis.com/gfd_v1_4/DFO_3591_From_20100104_to_20100113.zip: 9654144it [00:03, 2630617.05it/s]                              \n",
      "Downloading: https://storage.googleapis.com/gfd_v1_4/DFO_3607_From_20100213_to_20100220.zip: 19352832it [00:03, 6403765.58it/s]                               \n",
      "Downloading: https://storage.googleapis.com/gfd_v1_4/DFO_3665_From_20100622_to_20100626.zip: 9102208it [00:03, 2503700.38it/s]                              \n",
      "Downloading: https://storage.googleapis.com/gfd_v1_4/DFO_3756_From_20101203_to_20101217.zip: 8519680it [00:02, 3312141.77it/s]                              \n",
      "Downloading: https://storage.googleapis.com/gfd_v1_4/DFO_3870_From_20111008_to_20111010.zip: 8552832it [00:02, 3326589.63it/s]                              \n",
      "Downloading: https://storage.googleapis.com/gfd_v1_4/DFO_3896_From_20120201_to_20120206.zip: 11061760it [00:02, 4089290.28it/s]                              \n",
      "Downloading: https://storage.googleapis.com/gfd_v1_4/DFO_3897_From_20120203_to_20120206.zip: 7316864it [00:02, 2921705.64it/s]                              \n",
      "Downloading: https://storage.googleapis.com/gfd_v1_4/DFO_3906_From_20120304_to_20120307.zip: 7902464it [00:03, 2223439.88it/s]                              \n",
      "Downloading: https://storage.googleapis.com/gfd_v1_4/DFO_4006_From_20121202_to_20121204.zip: 7805312it [00:02, 3081281.17it/s]                             \n",
      "Downloading: https://storage.googleapis.com/gfd_v1_4/DFO_4019_From_20130108_to_20130110.zip: 11673600it [00:02, 4277492.99it/s]                               \n",
      "Downloading: https://storage.googleapis.com/gfd_v1_4/DFO_4211_From_20141204_to_20141214.zip: 23506816it [00:03, 7052808.21it/s]                               \n",
      "Downloading: https://storage.googleapis.com/gfd_v1_4/DFO_4221_From_20150201_to_20150209.zip: 23606528it [00:03, 7789071.44it/s]                               \n",
      "Downloading: https://storage.googleapis.com/gfd_v1_4/DFO_4580_From_20180307_to_20180314.zip: 7630848it [00:03, 2155258.14it/s]                              \n",
      "Downloading: https://storage.googleapis.com/gfd_v1_4/DFO_4581_From_20180310_to_20180314.zip: 9143168it [00:02, 3517426.99it/s]                              \n",
      "Downloading: https://storage.googleapis.com/gfd_v1_4/DFO_4583_From_20180226_to_20180302.zip: 7512704it [00:02, 2999810.21it/s]                              \n",
      "Downloading: https://storage.googleapis.com/gfd_v1_4/DFO_4597_From_20180325_to_20180408.zip: 8590848it [00:02, 3337106.23it/s]                              \n"
     ]
    },
    {
     "name": "stdout",
     "output_type": "stream",
     "text": [
      "Downloading Turkmenistan (TKM).\n"
     ]
    },
    {
     "name": "stderr",
     "output_type": "stream",
     "text": [
      "Downloading: https://storage.googleapis.com/gfd_v1_4/DFO_2029_From_20020810_to_20020814.zip: 1005696it [00:01, 527674.78it/s]                             \n",
      "Downloading: https://storage.googleapis.com/gfd_v1_4/DFO_2426_From_20040130_to_20040302.zip: 17469440it [00:03, 5232815.79it/s]                               \n",
      "Downloading: https://storage.googleapis.com/gfd_v1_4/DFO_2632_From_20050305_to_20050405.zip: 17193344it [00:03, 5105456.35it/s]                               \n",
      "Downloading: https://storage.googleapis.com/gfd_v1_4/DFO_3055_From_20070417_to_20070418.zip: 6266112it [00:02, 2478918.39it/s]                             \n",
      "Downloading: https://storage.googleapis.com/gfd_v1_4/DFO_3061_From_20070423_to_20070504.zip: 5770240it [00:03, 1658959.18it/s]                             \n",
      "Downloading: https://storage.googleapis.com/gfd_v1_4/DFO_3109_From_20070624_to_20070703.zip: 10622208it [00:02, 3869929.93it/s]                              \n",
      "Downloading: https://storage.googleapis.com/gfd_v1_4/DFO_3643_From_20100504_to_20100514.zip: 9488512it [00:02, 3518997.12it/s]                              \n",
      "Downloading: https://storage.googleapis.com/gfd_v1_4/DFO_4078_From_20130801_to_20130807.zip: 26208768it [00:04, 6313499.12it/s]                               \n"
     ]
    },
    {
     "name": "stdout",
     "output_type": "stream",
     "text": [
      "Downloading Uganda (UGA).\n"
     ]
    },
    {
     "name": "stderr",
     "output_type": "stream",
     "text": [
      "Downloading: https://storage.googleapis.com/gfd_v1_4/DFO_1917_From_20020426_to_20020528.zip: 61135488it [00:04, 13923105.73it/s]                              \n",
      "Downloading: https://storage.googleapis.com/gfd_v1_4/DFO_2952_From_20060812_to_20060821.zip: 13505024it [00:03, 3478961.71it/s]                               \n",
      "Downloading: https://storage.googleapis.com/gfd_v1_4/DFO_3123_From_20070703_to_20071008.zip: 110623744it [00:06, 16471136.60it/s]                               \n",
      "Downloading: https://storage.googleapis.com/gfd_v1_4/DFO_3146_From_20070729_to_20071005.zip: 69832064it [00:04, 16032683.23it/s]                              \n",
      "Downloading: https://storage.googleapis.com/gfd_v1_4/DFO_3170_From_20070815_to_20071031.zip: 29934976it [00:04, 6968213.72it/s]                               \n",
      "Downloading: https://storage.googleapis.com/gfd_v1_4/DFO_3863_From_20110820_to_20110908.zip: 16497920it [00:04, 4084856.40it/s]                               \n",
      "Downloading: https://storage.googleapis.com/gfd_v1_4/DFO_3875_From_20111109_to_20111220.zip: 20213888it [00:03, 6063857.74it/s]                               \n",
      "Downloading: https://storage.googleapis.com/gfd_v1_4/DFO_3881_From_20111129_to_20111222.zip: 10121856it [00:02, 3801987.54it/s]                              \n",
      "Downloading: https://storage.googleapis.com/gfd_v1_4/DFO_3917_From_20120409_to_20120426.zip: 24084352it [00:04, 4930922.58it/s]                               \n",
      "Downloading: https://storage.googleapis.com/gfd_v1_4/DFO_3980_From_20120820_to_20120907.zip: 16999296it [00:04, 3930800.65it/s]                               \n",
      "Downloading: https://storage.googleapis.com/gfd_v1_4/DFO_3981_From_20120815_to_20120907.zip: 17677696it [00:03, 5852729.47it/s]                               \n",
      "Downloading: https://storage.googleapis.com/gfd_v1_4/DFO_3991_From_20120907_to_20121003.zip: 39420288it [00:04, 8189152.69it/s]                               \n",
      "Downloading: https://storage.googleapis.com/gfd_v1_4/DFO_4022_From_20130113_to_20130117.zip: 21888768it [00:04, 4999068.73it/s]                               \n",
      "Downloading: https://storage.googleapis.com/gfd_v1_4/DFO_4094_From_20131008_to_20131014.zip: 19903616it [00:04, 4565900.05it/s]                               \n",
      "Downloading: https://storage.googleapis.com/gfd_v1_4/DFO_4324_From_20160114_to_20160129.zip: 23129472it [00:03, 7630472.11it/s]                               \n",
      "Downloading: https://storage.googleapis.com/gfd_v1_4/DFO_4602_From_20180428_to_20180501.zip: 15977088it [00:03, 5303419.21it/s]                               \n",
      "Downloading: https://storage.googleapis.com/gfd_v1_4/DFO_4603_From_20180423_to_20180425.zip: 15008000it [00:03, 3802928.71it/s]                               \n"
     ]
    },
    {
     "name": "stdout",
     "output_type": "stream",
     "text": [
      "Downloading Ukraine (UKR).\n"
     ]
    },
    {
     "name": "stderr",
     "output_type": "stream",
     "text": [
      "Downloading: https://storage.googleapis.com/gfd_v1_4/DFO_1595_From_20000405_to_20000425.zip: 12872192it [00:02, 4577329.99it/s]                               \n",
      "Downloading: https://storage.googleapis.com/gfd_v1_4/DFO_2174_From_20030117_to_20030303.zip: 10411520it [00:02, 3903244.34it/s]                               \n",
      "Downloading: https://storage.googleapis.com/gfd_v1_4/DFO_2187_From_20030322_to_20030404.zip: 16371968it [00:03, 5416232.53it/s]                               \n",
      "Downloading: https://storage.googleapis.com/gfd_v1_4/DFO_2193_From_20030322_to_20030505.zip: 34770944it [00:03, 9368903.34it/s]                               \n",
      "Downloading: https://storage.googleapis.com/gfd_v1_4/DFO_2209_From_20030415_to_20030518.zip: 34712192it [00:04, 7801496.08it/s]                               \n",
      "Downloading: https://storage.googleapis.com/gfd_v1_4/DFO_2460_From_20040323_to_20040403.zip: 10863232it [00:02, 4048151.09it/s]                               \n",
      "Downloading: https://storage.googleapis.com/gfd_v1_4/DFO_2463_From_20040330_to_20040505.zip: 74277504it [00:05, 13454455.84it/s]                              \n",
      "Downloading: https://storage.googleapis.com/gfd_v1_4/DFO_2469_From_20040412_to_20040502.zip: 16473856it [00:04, 4074876.71it/s]                               \n",
      "Downloading: https://storage.googleapis.com/gfd_v1_4/DFO_2640_From_20050317_to_20050408.zip: 34163456it [00:03, 9789115.01it/s]                               \n",
      "Downloading: https://storage.googleapis.com/gfd_v1_4/DFO_2648_From_20050418_to_20050604.zip: 11809280it [00:03, 3128897.23it/s]                              \n",
      "Downloading: https://storage.googleapis.com/gfd_v1_4/DFO_2650_From_20050425_to_20050530.zip: 86925440it [00:04, 17499804.80it/s]                              \n",
      "Downloading: https://storage.googleapis.com/gfd_v1_4/DFO_2692_From_20050712_to_20050728.zip: 7437440it [00:02, 2957051.95it/s]                              \n",
      "Downloading: https://storage.googleapis.com/gfd_v1_4/DFO_2733_From_20050921_to_20051009.zip: 6466560it [00:02, 2592135.69it/s]                             \n",
      "Downloading: https://storage.googleapis.com/gfd_v1_4/DFO_2827_From_20060328_to_20060509.zip: 20910336it [00:03, 6935632.58it/s]                               \n",
      "Downloading: https://storage.googleapis.com/gfd_v1_4/DFO_2832_From_20060404_to_20060511.zip: 18903168it [00:03, 5683982.09it/s]                               \n",
      "Downloading: https://storage.googleapis.com/gfd_v1_4/DFO_2839_From_20060407_to_20060524.zip: 17551616it [00:03, 5290064.16it/s]                               \n",
      "Downloading: https://storage.googleapis.com/gfd_v1_4/DFO_3536_From_20090907_to_20090910.zip: 16941440it [00:03, 5611511.11it/s]                               \n",
      "Downloading: https://storage.googleapis.com/gfd_v1_4/DFO_3607_From_20100213_to_20100220.zip: 19352832it [00:03, 6372009.13it/s]                               \n",
      "Downloading: https://storage.googleapis.com/gfd_v1_4/DFO_3648_From_20100515_to_20100524.zip: 14474624it [00:02, 4984805.11it/s]                               \n",
      "Downloading: https://storage.googleapis.com/gfd_v1_4/DFO_3657_From_20100529_to_20100611.zip: 19492864it [00:03, 5519113.37it/s]                               \n",
      "Downloading: https://storage.googleapis.com/gfd_v1_4/DFO_3916_From_20120408_to_20120426.zip: 65857408it [00:04, 15560682.80it/s]                              \n",
      "Downloading: https://storage.googleapis.com/gfd_v1_4/DFO_4334_From_20160306_to_20160310.zip: 8499328it [00:02, 3323894.83it/s]                              \n",
      "Downloading: https://storage.googleapis.com/gfd_v1_4/DFO_4597_From_20180325_to_20180408.zip: 8590848it [00:02, 3337132.81it/s]                              \n"
     ]
    },
    {
     "name": "stdout",
     "output_type": "stream",
     "text": [
      "Downloading United Arab Emirates (ARE).\n"
     ]
    },
    {
     "name": "stderr",
     "output_type": "stream",
     "text": [
      "Downloading: https://storage.googleapis.com/gfd_v1_4/DFO_2415_From_20040110_to_20040119.zip: 8143104it [00:02, 3164742.15it/s]                              \n",
      "Downloading: https://storage.googleapis.com/gfd_v1_4/DFO_2432_From_20040116_to_20040225.zip: 25714688it [00:03, 7713075.37it/s]                               \n",
      "Downloading: https://storage.googleapis.com/gfd_v1_4/DFO_2637_From_20050313_to_20050325.zip: 17907712it [00:06, 2942029.55it/s]                               \n",
      "Downloading: https://storage.googleapis.com/gfd_v1_4/DFO_4105_From_20131108_to_20131119.zip: 7640960it [00:02, 3010146.51it/s]                              \n"
     ]
    },
    {
     "name": "stdout",
     "output_type": "stream",
     "text": [
      "Downloading United Kingdom (GBR).\n"
     ]
    },
    {
     "name": "stderr",
     "output_type": "stream",
     "text": [
      "Downloading: https://storage.googleapis.com/gfd_v1_4/DFO_2116_From_20030101_to_20030106.zip: 7914112it [00:02, 3071476.67it/s]                              \n",
      "Downloading: https://storage.googleapis.com/gfd_v1_4/DFO_2136_From_20030122_to_20030123.zip: 6604416it [00:02, 2552417.10it/s]                              \n",
      "Downloading: https://storage.googleapis.com/gfd_v1_4/DFO_2428_From_20040203_to_20040207.zip: 7006848it [00:03, 1974214.67it/s]                              \n",
      "Downloading: https://storage.googleapis.com/gfd_v1_4/DFO_3099_From_20070615_to_20070621.zip: 7125248it [00:02, 2798169.63it/s]                              \n",
      "Downloading: https://storage.googleapis.com/gfd_v1_4/DFO_3110_From_20070625_to_20070703.zip: 7375488it [00:02, 2913619.90it/s]                              \n",
      "Downloading: https://storage.googleapis.com/gfd_v1_4/DFO_3137_From_20070721_to_20070730.zip: 7430272it [00:02, 2897038.26it/s]                              \n",
      "Downloading: https://storage.googleapis.com/gfd_v1_4/DFO_3259_From_20080115_to_20080126.zip: 6940288it [00:03, 1933215.06it/s]                             \n",
      "Downloading: https://storage.googleapis.com/gfd_v1_4/DFO_3962_From_20120804_to_20120806.zip: 7015296it [00:03, 1930542.61it/s]                             \n",
      "Downloading: https://storage.googleapis.com/gfd_v1_4/DFO_4009_From_20121120_to_20121218.zip: 9266432it [00:03, 3028671.98it/s]                              \n",
      "Downloading: https://storage.googleapis.com/gfd_v1_4/DFO_4111_From_20131227_to_20140207.zip: 13486976it [00:02, 4623120.72it/s]                               \n",
      "Downloading: https://storage.googleapis.com/gfd_v1_4/DFO_4319_From_20151205_to_20160126.zip: 13233664it [00:03, 3370716.90it/s]                               \n",
      "Downloading: https://storage.googleapis.com/gfd_v1_4/DFO_4328_From_20160127_to_20160129.zip: 6267264it [00:02, 2483170.48it/s]                             \n"
     ]
    },
    {
     "name": "stdout",
     "output_type": "stream",
     "text": [
      "Downloading United States of America (USA).\n"
     ]
    },
    {
     "name": "stderr",
     "output_type": "stream",
     "text": [
      "Downloading: https://storage.googleapis.com/gfd_v1_4/DFO_1829_From_20011128_to_20011207.zip: 23962368it [00:05, 4248707.08it/s]                               \n",
      "Downloading: https://storage.googleapis.com/gfd_v1_4/DFO_1840_From_20011217_to_20011225.zip: 20356608it [00:05, 3636779.30it/s]                               \n",
      "Downloading: https://storage.googleapis.com/gfd_v1_4/DFO_1919_From_20020507_to_20020608.zip: 50996864it [00:05, 9192287.57it/s]                               \n",
      "Downloading: https://storage.googleapis.com/gfd_v1_4/DFO_1943_From_20020608_to_20020629.zip: 19954176it [00:05, 3543192.46it/s]                               \n",
      "Downloading: https://storage.googleapis.com/gfd_v1_4/DFO_1972_From_20020630_to_20020723.zip: 20260352it [00:03, 6465726.64it/s]                               \n",
      "Downloading: https://storage.googleapis.com/gfd_v1_4/DFO_1979_From_20020706_to_20020708.zip: 23210624it [00:03, 7298116.91it/s]                               \n",
      "Downloading: https://storage.googleapis.com/gfd_v1_4/DFO_2007_From_20020427_to_20020531.zip: 20228608it [00:05, 3595534.81it/s]                               \n",
      "Downloading: https://storage.googleapis.com/gfd_v1_4/DFO_2056_From_20020906_to_20020919.zip: 7773440it [00:03, 2181302.49it/s]                              \n",
      "Downloading: https://storage.googleapis.com/gfd_v1_4/DFO_2063_From_20020926_to_20020929.zip: 2155776it [00:02, 1005716.86it/s]                             \n",
      "Downloading: https://storage.googleapis.com/gfd_v1_4/DFO_2064_From_20020929_to_20021007.zip: 7783680it [00:02, 3022141.35it/s]                              \n",
      "Downloading: https://storage.googleapis.com/gfd_v1_4/DFO_2066_From_20021010_to_20021012.zip: 3011072it [00:03, 899240.79it/s]                              \n",
      "Downloading: https://storage.googleapis.com/gfd_v1_4/DFO_2075_From_20021024_to_20021028.zip: 1983360it [00:02, 958256.54it/s]                              \n",
      "Downloading: https://storage.googleapis.com/gfd_v1_4/DFO_2076_From_20021023_to_20021113.zip: 17652480it [00:03, 5401825.51it/s]                               \n",
      "Downloading: https://storage.googleapis.com/gfd_v1_4/DFO_2104_From_20021214_to_20021224.zip: 6711296it [00:03, 1863156.43it/s]                             \n",
      "Downloading: https://storage.googleapis.com/gfd_v1_4/DFO_2115_From_20030101_to_20030106.zip: 32796672it [00:04, 6782879.91it/s]                               \n",
      "Downloading: https://storage.googleapis.com/gfd_v1_4/DFO_2167_From_20030222_to_20030317.zip: 43051392it [00:05, 7781133.16it/s]                               \n",
      "Downloading: https://storage.googleapis.com/gfd_v1_4/DFO_2177_From_20030226_to_20030307.zip: 13057792it [00:02, 4563517.99it/s]                               \n",
      "Downloading: https://storage.googleapis.com/gfd_v1_4/DFO_2182_From_20030317_to_20030321.zip: 33076224it [00:05, 6010636.64it/s]                               \n",
      "Downloading: https://storage.googleapis.com/gfd_v1_4/DFO_2183_From_20030319_to_20030331.zip: 20582144it [00:05, 4041892.61it/s]                               \n",
      "Downloading: https://storage.googleapis.com/gfd_v1_4/DFO_2225_From_20030506_to_20030514.zip: 23910784it [00:04, 4787770.66it/s]                               \n",
      "Downloading: https://storage.googleapis.com/gfd_v1_4/DFO_2253_From_20030613_to_20030619.zip: 10431616it [00:02, 3847101.72it/s]                              \n",
      "Downloading: https://storage.googleapis.com/gfd_v1_4/DFO_2273_From_20030705_to_20030721.zip: 31806720it [00:04, 7249016.64it/s]                               \n",
      "Downloading: https://storage.googleapis.com/gfd_v1_4/DFO_2342_From_20030901_to_20030909.zip: 11088256it [00:02, 4011096.82it/s]                               \n",
      "Downloading: https://storage.googleapis.com/gfd_v1_4/DFO_2356_From_20030922_to_20031001.zip: 17934848it [00:04, 4057647.12it/s]                               \n",
      "Downloading: https://storage.googleapis.com/gfd_v1_4/DFO_2366_From_20031012_to_20031024.zip: 14032000it [00:03, 4561234.02it/s]                               \n",
      "Downloading: https://storage.googleapis.com/gfd_v1_4/DFO_2412_From_20040104_to_20040116.zip: 22776832it [00:03, 7307165.23it/s]                               \n",
      "Downloading: https://storage.googleapis.com/gfd_v1_4/DFO_2455_From_20040304_to_20040308.zip: 31576960it [00:05, 5827816.93it/s]                               \n",
      "Downloading: https://storage.googleapis.com/gfd_v1_4/DFO_2462_From_20040328_to_20040411.zip: 15570176it [00:03, 4997291.65it/s]                               \n",
      "Downloading: https://storage.googleapis.com/gfd_v1_4/DFO_2476_From_20040424_to_20040502.zip: 35632128it [00:04, 8032640.58it/s]                               \n",
      "Downloading: https://storage.googleapis.com/gfd_v1_4/DFO_2482_From_20040513_to_20040515.zip: 2589952it [00:02, 1158445.40it/s]                             \n",
      "Downloading: https://storage.googleapis.com/gfd_v1_4/DFO_2491_From_20040603_to_20041011.zip: 3686528it [00:02, 1569626.05it/s]                             \n",
      "Downloading: https://storage.googleapis.com/gfd_v1_4/DFO_2498_From_20040610_to_20040621.zip: 12295936it [00:02, 4332802.89it/s]                               \n",
      "Downloading: https://storage.googleapis.com/gfd_v1_4/DFO_2565_From_20040915_to_20040919.zip: 7117824it [00:03, 1990544.09it/s]                              \n",
      "Downloading: https://storage.googleapis.com/gfd_v1_4/DFO_2566_From_20040915_to_20041001.zip: 13792768it [00:02, 4789579.23it/s]                               \n",
      "Downloading: https://storage.googleapis.com/gfd_v1_4/DFO_2584_From_20041115_to_20041129.zip: 6567424it [00:02, 2573234.25it/s]                             \n",
      "Downloading: https://storage.googleapis.com/gfd_v1_4/DFO_2597_From_20041207_to_20041220.zip: 29873152it [00:03, 8338848.17it/s]                               \n",
      "Downloading: https://storage.googleapis.com/gfd_v1_4/DFO_2606_From_20050105_to_20050201.zip: 76187648it [00:05, 12717244.74it/s]                              \n",
      "Downloading: https://storage.googleapis.com/gfd_v1_4/DFO_2719_From_20050829_to_20050919.zip: 6817536it [00:02, 2656619.71it/s]                              \n",
      "Downloading: https://storage.googleapis.com/gfd_v1_4/DFO_2735_From_20050923_to_20051001.zip: 2529536it [00:03, 766080.91it/s]                              \n",
      "Downloading: https://storage.googleapis.com/gfd_v1_4/DFO_2753_From_20051019_to_20051025.zip: 21271040it [00:02, 7778364.27it/s]                               \n",
      "Downloading: https://storage.googleapis.com/gfd_v1_4/DFO_2776_From_20051231_to_20060118.zip: 11644288it [00:03, 2982086.95it/s]                               \n",
      "Downloading: https://storage.googleapis.com/gfd_v1_4/DFO_2818_From_20060312_to_20060322.zip: 9911296it [00:02, 3618501.54it/s]                              \n",
      "Downloading: https://storage.googleapis.com/gfd_v1_4/DFO_2829_From_20060330_to_20060425.zip: 17713536it [00:03, 5539319.79it/s]                               \n",
      "Downloading: https://storage.googleapis.com/gfd_v1_4/DFO_2834_From_20060404_to_20060417.zip: 3815168it [00:02, 1644680.45it/s]                             \n",
      "Downloading: https://storage.googleapis.com/gfd_v1_4/DFO_2841_From_20060411_to_20060509.zip: 15981952it [00:04, 3536135.25it/s]                               \n",
      "Downloading: https://storage.googleapis.com/gfd_v1_4/DFO_2871_From_20060525_to_20060528.zip: 13214976it [00:02, 4487419.44it/s]                               \n",
      "Downloading: https://storage.googleapis.com/gfd_v1_4/DFO_2959_From_20060902_to_20060907.zip: 2085248it [00:03, 641608.51it/s]                              \n",
      "Downloading: https://storage.googleapis.com/gfd_v1_4/DFO_3070_From_20070506_to_20070518.zip: 56228480it [00:05, 9585094.33it/s]                               \n",
      "Downloading: https://storage.googleapis.com/gfd_v1_4/DFO_3083_From_20070524_to_20070529.zip: 39565056it [00:05, 7215117.05it/s]                               \n",
      "Downloading: https://storage.googleapis.com/gfd_v1_4/DFO_3092_From_20070606_to_20070614.zip: 20447872it [00:04, 4186051.40it/s]                               \n",
      "Downloading: https://storage.googleapis.com/gfd_v1_4/DFO_3113_From_20070626_to_20070723.zip: 65743744it [00:07, 8688688.21it/s]                               \n",
      "Downloading: https://storage.googleapis.com/gfd_v1_4/DFO_3171_From_20070816_to_20070827.zip: 78223488it [00:06, 12704002.61it/s]                              \n",
      "Downloading: https://storage.googleapis.com/gfd_v1_4/DFO_3268_From_20080206_to_20080212.zip: 27904128it [00:05, 4940032.93it/s]                               \n",
      "Downloading: https://storage.googleapis.com/gfd_v1_4/DFO_3285_From_20080317_to_20080502.zip: 96243584it [00:07, 13278603.66it/s]                              \n",
      "Downloading: https://storage.googleapis.com/gfd_v1_4/DFO_3300_From_20080425_to_20080507.zip: 8315392it [00:03, 2265826.59it/s]                              \n",
      "Downloading: https://storage.googleapis.com/gfd_v1_4/DFO_3336_From_20080721_to_20080729.zip: 20186496it [00:04, 4089408.96it/s]                               \n",
      "Downloading: https://storage.googleapis.com/gfd_v1_4/DFO_3340_From_20080730_to_20080811.zip: 25136640it [00:03, 6925935.41it/s]                               \n",
      "Downloading: https://storage.googleapis.com/gfd_v1_4/DFO_3366_From_20080820_to_20080828.zip: 6372352it [00:02, 2491402.02it/s]                             \n",
      "Downloading: https://storage.googleapis.com/gfd_v1_4/DFO_3370_From_20080901_to_20080902.zip: 7252096it [00:03, 1955033.69it/s]                              \n",
      "Downloading: https://storage.googleapis.com/gfd_v1_4/DFO_3464_From_20090317_to_20090319.zip: 11702912it [00:02, 4238514.47it/s]                               \n",
      "Downloading: https://storage.googleapis.com/gfd_v1_4/DFO_3474_From_20090417_to_20090427.zip: 3571456it [00:02, 1513756.46it/s]                             \n",
      "Downloading: https://storage.googleapis.com/gfd_v1_4/DFO_3476_From_20090422_to_20090514.zip: 49762688it [00:04, 12270084.41it/s]                              \n",
      "Downloading: https://storage.googleapis.com/gfd_v1_4/DFO_3544_From_20090921_to_20090928.zip: 19745280it [00:03, 6269447.84it/s]                               \n",
      "Downloading: https://storage.googleapis.com/gfd_v1_4/DFO_3567_From_20091110_to_20091113.zip: 20410752it [00:03, 6647376.69it/s]                               \n",
      "Downloading: https://storage.googleapis.com/gfd_v1_4/DFO_3622_From_20100310_to_20100317.zip: 2881280it [00:02, 1276475.37it/s]                             \n",
      "Downloading: https://storage.googleapis.com/gfd_v1_4/DFO_3625_From_20100310_to_20100324.zip: 72644608it [00:04, 15367714.49it/s]                              \n",
      "Downloading: https://storage.googleapis.com/gfd_v1_4/DFO_3629_From_20100327_to_20100331.zip: 10768384it [00:02, 3948717.77it/s]                               \n",
      "Downloading: https://storage.googleapis.com/gfd_v1_4/DFO_3655_From_20100529_to_20100531.zip: 10364288it [00:02, 3826736.66it/s]                              \n",
      "Downloading: https://storage.googleapis.com/gfd_v1_4/DFO_3659_From_20100611_to_20100611.zip: 9047808it [00:02, 3410204.22it/s]                              \n",
      "Downloading: https://storage.googleapis.com/gfd_v1_4/DFO_3671_From_20100630_to_20100707.zip: 22428288it [00:03, 7070880.52it/s]                               \n",
      "Downloading: https://storage.googleapis.com/gfd_v1_4/DFO_3673_From_20100702_to_20100706.zip: 15379328it [00:02, 5176468.78it/s]                               \n",
      "Downloading: https://storage.googleapis.com/gfd_v1_4/DFO_3689_From_20100725_to_20100725.zip: 40650112it [00:04, 10003170.37it/s]                              \n",
      "Downloading: https://storage.googleapis.com/gfd_v1_4/DFO_3722_From_20100922_to_20100930.zip: 12307840it [00:02, 4310569.00it/s]                               \n",
      "Downloading: https://storage.googleapis.com/gfd_v1_4/DFO_3799_From_20100401_to_20110524.zip: 65425408it [00:05, 11288190.12it/s]                              \n",
      "Downloading: https://storage.googleapis.com/gfd_v1_4/DFO_3812_From_20110504_to_20110609.zip: 1749760it [00:03, 554921.32it/s]                              \n",
      "Downloading: https://storage.googleapis.com/gfd_v1_4/DFO_3815_From_20110604_to_20110729.zip: 32797184it [00:03, 9530271.58it/s]                               \n",
      "Downloading: https://storage.googleapis.com/gfd_v1_4/DFO_3861_From_20110827_to_20110913.zip: 22044288it [00:03, 7033123.55it/s]                               \n",
      "Downloading: https://storage.googleapis.com/gfd_v1_4/DFO_3948_From_20120713_to_20120716.zip: 7815808it [00:02, 3025598.98it/s]                             \n",
      "Downloading: https://storage.googleapis.com/gfd_v1_4/DFO_3977_From_20120828_to_20120907.zip: 10660864it [00:02, 3795659.92it/s]                              \n",
      "Downloading: https://storage.googleapis.com/gfd_v1_4/DFO_4051_From_20130427_to_20130429.zip: 11563392it [00:02, 4129322.67it/s]                               \n",
      "Downloading: https://storage.googleapis.com/gfd_v1_4/DFO_4101_From_20131031_to_20131110.zip: 5825920it [00:02, 2311407.67it/s]                             \n",
      "Downloading: https://storage.googleapis.com/gfd_v1_4/DFO_4115_From_20131222_to_20140104.zip: 11413120it [00:02, 4133679.04it/s]                               \n",
      "Downloading: https://storage.googleapis.com/gfd_v1_4/DFO_4213_From_20141211_to_20141214.zip: 12626176it [00:03, 3213859.81it/s]                               \n",
      "Downloading: https://storage.googleapis.com/gfd_v1_4/DFO_4230_From_20150310_to_20150323.zip: 10309120it [00:02, 3713294.11it/s]                              \n",
      "Downloading: https://storage.googleapis.com/gfd_v1_4/DFO_4274_From_20150718_to_20150721.zip: 10104576it [00:02, 3769980.40it/s]                              \n",
      "Downloading: https://storage.googleapis.com/gfd_v1_4/DFO_4314_From_20151215_to_20160129.zip: 95141760it [00:06, 15774354.98it/s]                              \n",
      "Downloading: https://storage.googleapis.com/gfd_v1_4/DFO_4337_From_20160308_to_20160325.zip: 11804160it [00:02, 4262640.01it/s]                               \n",
      "Downloading: https://storage.googleapis.com/gfd_v1_4/DFO_4359_From_20160526_to_20160624.zip: 16519168it [00:03, 5398009.26it/s]                               \n",
      "Downloading: https://storage.googleapis.com/gfd_v1_4/DFO_4386_From_20160730_to_20160731.zip: 2701824it [00:03, 831577.83it/s]                              \n",
      "Downloading: https://storage.googleapis.com/gfd_v1_4/DFO_4388_From_20160814_to_20160826.zip: 1388416it [00:02, 682478.57it/s]                              \n",
      "Downloading: https://storage.googleapis.com/gfd_v1_4/DFO_4434_From_20170104_to_20170105.zip: 5385216it [00:02, 2230912.30it/s]                             \n",
      "Downloading: https://storage.googleapis.com/gfd_v1_4/DFO_4444_From_20170216_to_20170303.zip: 16006912it [00:03, 5310777.42it/s]                               \n",
      "Downloading: https://storage.googleapis.com/gfd_v1_4/DFO_4516_From_20170908_to_20170919.zip: 15716992it [00:02, 5337337.28it/s]                               \n",
      "Downloading: https://storage.googleapis.com/gfd_v1_4/DFO_4589_From_20180321_to_20180324.zip: 9904512it [00:02, 3667429.65it/s]                              \n",
      "Downloading: https://storage.googleapis.com/gfd_v1_4/DFO_4594_From_20180403_to_20180408.zip: 12041216it [00:02, 4310826.33it/s]                               \n",
      "Downloading: https://storage.googleapis.com/gfd_v1_4/DFO_4676_From_20180915_to_20181002.zip: 4109184it [00:02, 1740119.17it/s]                             \n",
      "Downloading: https://storage.googleapis.com/gfd_v1_4/DFO_4695_From_20181023_to_20181027.zip: 18492288it [00:04, 3769403.89it/s]                               \n",
      "Downloading: https://storage.googleapis.com/gfd_v1_4/DFO_4711_From_20181205_to_20181210.zip: 100%|██████████| 11627392/11627392 [00:02<00:00, 3880431.19it/s] \n"
     ]
    },
    {
     "name": "stdout",
     "output_type": "stream",
     "text": [
      "Downloading Uruguay (URY).\n"
     ]
    },
    {
     "name": "stderr",
     "output_type": "stream",
     "text": [
      "Downloading: https://storage.googleapis.com/gfd_v1_4/DFO_1925_From_20020506_to_20020528.zip: 30465024it [00:03, 8886724.49it/s]                               \n",
      "Downloading: https://storage.googleapis.com/gfd_v1_4/DFO_1939_From_20020423_to_20020509.zip: 11231104it [00:02, 4059890.38it/s]                               \n",
      "Downloading: https://storage.googleapis.com/gfd_v1_4/DFO_2070_From_20021012_to_20021102.zip: 50782464it [00:03, 12961239.58it/s]                              \n",
      "Downloading: https://storage.googleapis.com/gfd_v1_4/DFO_2073_From_20021012_to_20021111.zip: 49836800it [00:03, 12763728.59it/s]                              \n",
      "Downloading: https://storage.googleapis.com/gfd_v1_4/DFO_2216_From_20030428_to_20030510.zip: 19767808it [00:04, 4840752.24it/s]                               \n",
      "Downloading: https://storage.googleapis.com/gfd_v1_4/DFO_2372_From_20031027_to_20031031.zip: 7980672it [00:02, 3098427.96it/s]                              \n",
      "Downloading: https://storage.googleapis.com/gfd_v1_4/DFO_2586_From_20041107_to_20041215.zip: 47988096it [00:04, 10632058.75it/s]                              \n",
      "Downloading: https://storage.googleapis.com/gfd_v1_4/DFO_3071_From_20070504_to_20070525.zip: 10022912it [00:02, 3689736.64it/s]                              \n",
      "Downloading: https://storage.googleapis.com/gfd_v1_4/DFO_3198_From_20070924_to_20071002.zip: 8973568it [00:03, 2439510.91it/s]                              \n",
      "Downloading: https://storage.googleapis.com/gfd_v1_4/DFO_3559_From_20091026_to_20091028.zip: 26734976it [00:03, 7930199.63it/s]                               \n",
      "Downloading: https://storage.googleapis.com/gfd_v1_4/DFO_3572_From_20091114_to_20091122.zip: 20856192it [00:03, 6052993.58it/s]                               \n",
      "Downloading: https://storage.googleapis.com/gfd_v1_4/DFO_3577_From_20091121_to_20091208.zip: 6640000it [00:03, 1880821.80it/s]                             \n",
      "Downloading: https://storage.googleapis.com/gfd_v1_4/DFO_3846_From_20110723_to_20110729.zip: 11360896it [00:03, 2973045.68it/s]                               \n",
      "Downloading: https://storage.googleapis.com/gfd_v1_4/DFO_4007_From_20121120_to_20121204.zip: 51302912it [00:05, 9385175.88it/s]                               \n",
      "Downloading: https://storage.googleapis.com/gfd_v1_4/DFO_4150_From_20140603_to_20140714.zip: 54543872it [00:04, 12295181.67it/s]                              \n",
      "Downloading: https://storage.googleapis.com/gfd_v1_4/DFO_4163_From_20140703_to_20140729.zip: 13037440it [00:04, 3248985.73it/s]                               \n",
      "Downloading: https://storage.googleapis.com/gfd_v1_4/DFO_4276_From_20150710_to_20150721.zip: 29734272it [00:04, 6678743.19it/s]                               \n",
      "Downloading: https://storage.googleapis.com/gfd_v1_4/DFO_4301_From_20151014_to_20151028.zip: 45721216it [00:04, 10334552.48it/s]                              \n",
      "Downloading: https://storage.googleapis.com/gfd_v1_4/DFO_4315_From_20151201_to_20160129.zip: 60896384it [00:04, 13705017.65it/s]                              \n",
      "Downloading: https://storage.googleapis.com/gfd_v1_4/DFO_4346_From_20160401_to_20160413.zip: 23655296it [00:03, 7332628.48it/s]                               \n",
      "Downloading: https://storage.googleapis.com/gfd_v1_4/DFO_4350_From_20160412_to_20160511.zip: 14797056it [00:02, 5011030.47it/s]                               \n",
      "Downloading: https://storage.googleapis.com/gfd_v1_4/DFO_4412_From_20161010_to_20161110.zip: 18678144it [00:03, 5753816.96it/s]                               \n",
      "Downloading: https://storage.googleapis.com/gfd_v1_4/DFO_4427_From_20161226_to_20170105.zip: 23115776it [00:03, 7363769.44it/s]                               \n",
      "Downloading: https://storage.googleapis.com/gfd_v1_4/DFO_4435_From_20170105_to_20170121.zip: 51821952it [00:03, 13151062.16it/s]                              \n"
     ]
    },
    {
     "name": "stdout",
     "output_type": "stream",
     "text": [
      "Downloading Uzbekistan (UZB).\n"
     ]
    },
    {
     "name": "stderr",
     "output_type": "stream",
     "text": [
      "Downloading: https://storage.googleapis.com/gfd_v1_4/DFO_2426_From_20040130_to_20040302.zip: 17469440it [00:03, 5081978.37it/s]                               \n",
      "Downloading: https://storage.googleapis.com/gfd_v1_4/DFO_2629_From_20050224_to_20050323.zip: 20772096it [00:04, 4371625.72it/s]                               \n",
      "Downloading: https://storage.googleapis.com/gfd_v1_4/DFO_2632_From_20050305_to_20050405.zip: 17193344it [00:03, 5508422.76it/s]                               \n",
      "Downloading: https://storage.googleapis.com/gfd_v1_4/DFO_3055_From_20070417_to_20070418.zip: 6266112it [00:00, 23850124.53it/s]                             \n",
      "Downloading: https://storage.googleapis.com/gfd_v1_4/DFO_3061_From_20070423_to_20070504.zip: 5770240it [00:00, 20925970.73it/s]                             \n",
      "Downloading: https://storage.googleapis.com/gfd_v1_4/DFO_3109_From_20070624_to_20070703.zip: 10622208it [00:02, 3930533.79it/s]                              \n",
      "Downloading: https://storage.googleapis.com/gfd_v1_4/DFO_3643_From_20100504_to_20100514.zip: 9488512it [00:02, 3614156.53it/s]                              \n",
      "Downloading: https://storage.googleapis.com/gfd_v1_4/DFO_4078_From_20130801_to_20130807.zip: 26208768it [00:04, 6449052.69it/s]                               \n",
      "Downloading: https://storage.googleapis.com/gfd_v1_4/DFO_4242_From_20150323_to_20150415.zip: 23883648it [00:03, 7678893.40it/s]                               \n"
     ]
    },
    {
     "name": "stdout",
     "output_type": "stream",
     "text": [
      "Downloading Venezuela (VEN).\n"
     ]
    },
    {
     "name": "stderr",
     "output_type": "stream",
     "text": [
      "Downloading: https://storage.googleapis.com/gfd_v1_4/DFO_1977_From_20020705_to_20020708.zip: 3631488it [00:02, 1559848.79it/s]                             \n",
      "Downloading: https://storage.googleapis.com/gfd_v1_4/DFO_1996_From_20020720_to_20020731.zip: 34671744it [00:04, 7703951.58it/s]                               \n",
      "Downloading: https://storage.googleapis.com/gfd_v1_4/DFO_2495_From_20040608_to_20041001.zip: 13412864it [00:03, 3396511.09it/s]                               \n",
      "Downloading: https://storage.googleapis.com/gfd_v1_4/DFO_2588_From_20041120_to_20041127.zip: 5677056it [00:02, 2315741.66it/s]                             \n",
      "Downloading: https://storage.googleapis.com/gfd_v1_4/DFO_2625_From_20050211_to_20050226.zip: 15248256it [00:03, 4614881.59it/s]                               \n",
      "Downloading: https://storage.googleapis.com/gfd_v1_4/DFO_2761_From_20050915_to_20051216.zip: 24585600it [00:04, 5031331.09it/s]                               \n",
      "Downloading: https://storage.googleapis.com/gfd_v1_4/DFO_2782_From_20060108_to_20060214.zip: 10067584it [00:02, 3789301.70it/s]                              \n",
      "Downloading: https://storage.googleapis.com/gfd_v1_4/DFO_3212_From_20071001_to_20071210.zip: 23651840it [00:03, 6961646.78it/s]                               \n",
      "Downloading: https://storage.googleapis.com/gfd_v1_4/DFO_3311_From_20080527_to_20080528.zip: 9105408it [00:03, 2434243.22it/s]                              \n",
      "Downloading: https://storage.googleapis.com/gfd_v1_4/DFO_3421_From_20081213_to_20081214.zip: 12647168it [00:03, 3303900.63it/s]                               \n",
      "Downloading: https://storage.googleapis.com/gfd_v1_4/DFO_3422_From_20081213_to_20090112.zip: 7882624it [00:02, 3064517.05it/s]                              \n",
      "Downloading: https://storage.googleapis.com/gfd_v1_4/DFO_3750_From_20101115_to_20101220.zip: 97321600it [00:05, 17908687.88it/s]                              \n",
      "Downloading: https://storage.googleapis.com/gfd_v1_4/DFO_3754_From_20101125_to_20101220.zip: 13393920it [00:03, 3397109.45it/s]                               \n",
      "Downloading: https://storage.googleapis.com/gfd_v1_4/DFO_3876_From_20111109_to_20111222.zip: 13628160it [00:03, 4270939.96it/s]                               \n",
      "Downloading: https://storage.googleapis.com/gfd_v1_4/DFO_3925_From_20120501_to_20120507.zip: 60683008it [00:05, 10233623.72it/s]                              \n",
      "Downloading: https://storage.googleapis.com/gfd_v1_4/DFO_4159_From_20140522_to_20140729.zip: 155167232it [00:08, 17971731.44it/s]                               \n",
      "Downloading: https://storage.googleapis.com/gfd_v1_4/DFO_4275_From_20150716_to_20150721.zip: 4593152it [00:03, 1337949.49it/s]                             \n",
      "Downloading: https://storage.googleapis.com/gfd_v1_4/DFO_4495_From_20170804_to_20170821.zip: 18403840it [00:05, 3348526.88it/s]                               \n",
      "Downloading: https://storage.googleapis.com/gfd_v1_4/DFO_4662_From_20180726_to_20180904.zip: 27594880it [00:05, 5337317.76it/s]                               \n"
     ]
    },
    {
     "name": "stdout",
     "output_type": "stream",
     "text": [
      "Downloading Vietnam (VNM).\n"
     ]
    },
    {
     "name": "stderr",
     "output_type": "stream",
     "text": [
      "Downloading: https://storage.googleapis.com/gfd_v1_4/DFO_1614_From_20000711_to_20000810.zip: 15939840it [00:04, 3890255.29it/s]                               \n",
      "Downloading: https://storage.googleapis.com/gfd_v1_4/DFO_1781_From_20010815_to_20011119.zip: 19201792it [00:03, 5542292.29it/s]                               \n",
      "Downloading: https://storage.googleapis.com/gfd_v1_4/DFO_1991_From_20020715_to_20021202.zip: 18511104it [00:03, 5398581.28it/s]                               \n",
      "Downloading: https://storage.googleapis.com/gfd_v1_4/DFO_2035_From_20020814_to_20020822.zip: 10927616it [00:03, 2904640.17it/s]                              \n",
      "Downloading: https://storage.googleapis.com/gfd_v1_4/DFO_2039_From_20020818_to_20021126.zip: 46376960it [00:05, 8438147.80it/s]                               \n",
      "Downloading: https://storage.googleapis.com/gfd_v1_4/DFO_2059_From_20020920_to_20020930.zip: 7643904it [00:03, 2138453.29it/s]                             \n",
      "Downloading: https://storage.googleapis.com/gfd_v1_4/DFO_2061_From_20020917_to_20021202.zip: 26788224it [00:05, 5225955.77it/s]                               \n",
      "Downloading: https://storage.googleapis.com/gfd_v1_4/DFO_2077_From_20021026_to_20021029.zip: 4276736it [00:03, 1259023.32it/s]                             \n",
      "Downloading: https://storage.googleapis.com/gfd_v1_4/DFO_2347_From_20030912_to_20031012.zip: 25644288it [00:04, 6400043.64it/s]                               \n",
      "Downloading: https://storage.googleapis.com/gfd_v1_4/DFO_2368_From_20031015_to_20031022.zip: 4472192it [00:03, 1297760.40it/s]                             \n",
      "Downloading: https://storage.googleapis.com/gfd_v1_4/DFO_2370_From_20031017_to_20031104.zip: 13585024it [00:03, 3431595.85it/s]                               \n",
      "Downloading: https://storage.googleapis.com/gfd_v1_4/DFO_2522_From_20040714_to_20040727.zip: 9839616it [00:03, 2627181.11it/s]                              \n",
      "Downloading: https://storage.googleapis.com/gfd_v1_4/DFO_2543_From_20040806_to_20041003.zip: 30823296it [00:05, 5845043.77it/s]                               \n",
      "Downloading: https://storage.googleapis.com/gfd_v1_4/DFO_2555_From_20040824_to_20041021.zip: 19302656it [00:04, 4602744.46it/s]                               \n",
      "Downloading: https://storage.googleapis.com/gfd_v1_4/DFO_2709_From_20050813_to_20050926.zip: 24035200it [00:05, 4427297.26it/s]                               \n",
      "Downloading: https://storage.googleapis.com/gfd_v1_4/DFO_2725_From_20050908_to_20051101.zip: 25326336it [00:04, 6217743.72it/s]                               \n",
      "Downloading: https://storage.googleapis.com/gfd_v1_4/DFO_2732_From_20050918_to_20050924.zip: 4579968it [00:03, 1335673.52it/s]                             \n",
      "Downloading: https://storage.googleapis.com/gfd_v1_4/DFO_2736_From_20050926_to_20051006.zip: 37553792it [00:05, 6821618.63it/s]                               \n",
      "Downloading: https://storage.googleapis.com/gfd_v1_4/DFO_2748_From_20051007_to_20051011.zip: 4399488it [00:03, 1285482.67it/s]                             \n",
      "Downloading: https://storage.googleapis.com/gfd_v1_4/DFO_2760_From_20051102_to_20051104.zip: 6563328it [00:02, 2593386.26it/s]                             \n",
      "Downloading: https://storage.googleapis.com/gfd_v1_4/DFO_2867_From_20060522_to_20060611.zip: 16186368it [00:03, 5331346.36it/s]                               \n",
      "Downloading: https://storage.googleapis.com/gfd_v1_4/DFO_2921_From_20060711_to_20060719.zip: 36860800it [00:04, 8328102.46it/s]                               \n",
      "Downloading: https://storage.googleapis.com/gfd_v1_4/DFO_2948_From_20060812_to_20060902.zip: 10332800it [00:03, 2762519.22it/s]                              \n",
      "Downloading: https://storage.googleapis.com/gfd_v1_4/DFO_2949_From_20060810_to_20061101.zip: 21155456it [00:04, 4484549.76it/s]                               \n",
      "Downloading: https://storage.googleapis.com/gfd_v1_4/DFO_2951_From_20060820_to_20061213.zip: 41867776it [00:03, 10718706.09it/s]                              \n",
      "Downloading: https://storage.googleapis.com/gfd_v1_4/DFO_3002_From_20061130_to_20061208.zip: 20277248it [00:04, 4618869.67it/s]                               \n",
      "Downloading: https://storage.googleapis.com/gfd_v1_4/DFO_3073_From_20070511_to_20070521.zip: 9767808it [00:03, 2643183.13it/s]                              \n",
      "Downloading: https://storage.googleapis.com/gfd_v1_4/DFO_3094_From_20070606_to_20070817.zip: 72559616it [00:05, 12970744.87it/s]                              \n",
      "Downloading: https://storage.googleapis.com/gfd_v1_4/DFO_3134_From_20070718_to_20070813.zip: 41242496it [00:03, 11150376.01it/s]                              \n",
      "Downloading: https://storage.googleapis.com/gfd_v1_4/DFO_3149_From_20070803_to_20070817.zip: 8457600it [00:03, 2322349.86it/s]                              \n",
      "Downloading: https://storage.googleapis.com/gfd_v1_4/DFO_3168_From_20070810_to_20070824.zip: 7033600it [00:03, 2001784.08it/s]                             \n",
      "Downloading: https://storage.googleapis.com/gfd_v1_4/DFO_3188_From_20070905_to_20071110.zip: 40772992it [00:05, 7461384.61it/s]                               \n",
      "Downloading: https://storage.googleapis.com/gfd_v1_4/DFO_3210_From_20071020_to_20071116.zip: 100%|██████████| 16019584/16019584 [00:04<00:00, 3976907.72it/s] \n",
      "Downloading: https://storage.googleapis.com/gfd_v1_4/DFO_3219_From_20071028_to_20071109.zip: 8780800it [00:02, 3420218.26it/s]                              \n",
      "Downloading: https://storage.googleapis.com/gfd_v1_4/DFO_3325_From_20080624_to_20080627.zip: 17329664it [00:04, 3786527.50it/s]                               \n",
      "Downloading: https://storage.googleapis.com/gfd_v1_4/DFO_3360_From_20080811_to_20080820.zip: 20290432it [00:04, 4321090.71it/s]                               \n",
      "Downloading: https://storage.googleapis.com/gfd_v1_4/DFO_3384_From_20080911_to_20081004.zip: 19540096it [00:03, 6407737.50it/s]                               \n",
      "Downloading: https://storage.googleapis.com/gfd_v1_4/DFO_3494_From_20090510_to_20090701.zip: 13152512it [00:02, 4576303.28it/s]                               \n",
      "Downloading: https://storage.googleapis.com/gfd_v1_4/DFO_3651_From_20100515_to_20100628.zip: 24103936it [00:05, 4329566.30it/s]                               \n",
      "Downloading: https://storage.googleapis.com/gfd_v1_4/DFO_3688_From_20100721_to_20100723.zip: 9508224it [00:02, 3548227.27it/s]                              \n",
      "Downloading: https://storage.googleapis.com/gfd_v1_4/DFO_3723_From_20100920_to_20100930.zip: 18779648it [00:04, 4247564.89it/s]                               \n",
      "Downloading: https://storage.googleapis.com/gfd_v1_4/DFO_3737_From_20101010_to_20101115.zip: 11135104it [00:03, 2945359.83it/s]                              \n",
      "Downloading: https://storage.googleapis.com/gfd_v1_4/DFO_3850_From_20110805_to_20120109.zip: 20843776it [00:04, 4433800.51it/s]                               \n",
      "Downloading: https://storage.googleapis.com/gfd_v1_4/DFO_3853_From_20110810_to_20111115.zip: 12448768it [00:02, 4401959.13it/s]                               \n",
      "Downloading: https://storage.googleapis.com/gfd_v1_4/DFO_3868_From_20111001_to_20111010.zip: 8439168it [00:02, 3206260.78it/s]                              \n",
      "Downloading: https://storage.googleapis.com/gfd_v1_4/DFO_3985_From_20120912_to_20120926.zip: 14480896it [00:02, 4937392.94it/s]                               \n",
      "Downloading: https://storage.googleapis.com/gfd_v1_4/DFO_4090_From_20130927_to_20131014.zip: 10065280it [00:02, 3742873.90it/s]                              \n",
      "Downloading: https://storage.googleapis.com/gfd_v1_4/DFO_4092_From_20130930_to_20131014.zip: 28427776it [00:03, 8622695.34it/s]                               \n",
      "Downloading: https://storage.googleapis.com/gfd_v1_4/DFO_4146_From_20140530_to_20140610.zip: 10859776it [00:02, 3821343.72it/s]                               \n",
      "Downloading: https://storage.googleapis.com/gfd_v1_4/DFO_4156_From_20140711_to_20140714.zip: 14888064it [00:02, 5075697.38it/s]                               \n",
      "Downloading: https://storage.googleapis.com/gfd_v1_4/DFO_4184_From_20140901_to_20140908.zip: 8228096it [00:02, 3121865.43it/s]                              \n",
      "Downloading: https://storage.googleapis.com/gfd_v1_4/DFO_4280_From_20150725_to_20150805.zip: 16068992it [00:03, 4849233.63it/s]                               \n",
      "Downloading: https://storage.googleapis.com/gfd_v1_4/DFO_4293_From_20150907_to_20150911.zip: 17891712it [00:03, 5859279.07it/s]                               \n",
      "Downloading: https://storage.googleapis.com/gfd_v1_4/DFO_4403_From_20161006_to_20161016.zip: 6390784it [00:02, 2527323.19it/s]                             \n",
      "Downloading: https://storage.googleapis.com/gfd_v1_4/DFO_4423_From_20161201_to_20161207.zip: 12868608it [00:02, 4497485.86it/s]                               \n",
      "Downloading: https://storage.googleapis.com/gfd_v1_4/DFO_4500_From_20170802_to_20170810.zip: 4719104it [00:02, 1955952.27it/s]                             \n",
      "Downloading: https://storage.googleapis.com/gfd_v1_4/DFO_4515_From_20170823_to_20170826.zip: 9462912it [00:02, 3469927.30it/s]                              \n",
      "Downloading: https://storage.googleapis.com/gfd_v1_4/DFO_4652_From_20180717_to_20180723.zip: 6709888it [00:02, 2677550.74it/s]                             \n",
      "Downloading: https://storage.googleapis.com/gfd_v1_4/DFO_4653_From_20180717_to_20180723.zip: 15348864it [00:03, 5102580.32it/s]                               \n",
      "Downloading: https://storage.googleapis.com/gfd_v1_4/DFO_4704_From_20181124_to_20181129.zip: 7693184it [00:02, 3006565.23it/s]                              \n"
     ]
    },
    {
     "name": "stdout",
     "output_type": "stream",
     "text": [
      "Downloading Yemen (YEM).\n"
     ]
    },
    {
     "name": "stderr",
     "output_type": "stream",
     "text": [
      "Downloading: https://storage.googleapis.com/gfd_v1_4/DFO_3642_From_20100505_to_20100506.zip: 2675712it [00:02, 1195496.23it/s]                             \n",
      "Downloading: https://storage.googleapis.com/gfd_v1_4/DFO_4105_From_20131108_to_20131119.zip: 7640960it [00:02, 3023085.48it/s]                              \n"
     ]
    },
    {
     "name": "stdout",
     "output_type": "stream",
     "text": [
      "Downloading Zambia (ZMB).\n"
     ]
    },
    {
     "name": "stderr",
     "output_type": "stream",
     "text": [
      "Downloading: https://storage.googleapis.com/gfd_v1_4/DFO_1917_From_20020426_to_20020528.zip: 61135488it [00:04, 14596978.88it/s]                              \n",
      "Downloading: https://storage.googleapis.com/gfd_v1_4/DFO_2119_From_20030101_to_20030217.zip: 39678464it [00:03, 10448381.89it/s]                              \n",
      "Downloading: https://storage.googleapis.com/gfd_v1_4/DFO_2161_From_20030115_to_20030701.zip: 85033600it [00:05, 16865120.35it/s]                              \n",
      "Downloading: https://storage.googleapis.com/gfd_v1_4/DFO_2162_From_20030206_to_20030220.zip: 28603264it [00:03, 8240042.58it/s]                               \n",
      "Downloading: https://storage.googleapis.com/gfd_v1_4/DFO_2181_From_20030311_to_20030315.zip: 5213696it [00:02, 2121164.38it/s]                             \n",
      "Downloading: https://storage.googleapis.com/gfd_v1_4/DFO_2430_From_20040201_to_20040602.zip: 97285376it [00:06, 15327513.16it/s]                              \n",
      "Downloading: https://storage.googleapis.com/gfd_v1_4/DFO_2620_From_20050127_to_20050328.zip: 36258432it [00:03, 9928978.45it/s]                               \n",
      "Downloading: https://storage.googleapis.com/gfd_v1_4/DFO_2638_From_20050301_to_20050401.zip: 29967872it [00:03, 8820090.26it/s]                               \n",
      "Downloading: https://storage.googleapis.com/gfd_v1_4/DFO_2773_From_20051222_to_20060207.zip: 28429184it [00:03, 8761761.90it/s]                               \n",
      "Downloading: https://storage.googleapis.com/gfd_v1_4/DFO_3242_From_20071211_to_20080103.zip: 30551040it [00:03, 8931118.59it/s]                               \n",
      "Downloading: https://storage.googleapis.com/gfd_v1_4/DFO_3272_From_20080209_to_20080501.zip: 77951872it [00:05, 13141868.35it/s]                              \n",
      "Downloading: https://storage.googleapis.com/gfd_v1_4/DFO_3467_From_20090327_to_20090327.zip: 30733440it [00:03, 8860933.72it/s]                               \n",
      "Downloading: https://storage.googleapis.com/gfd_v1_4/DFO_3493_From_20090621_to_20090628.zip: 14777600it [00:04, 3688299.23it/s]                               \n",
      "Downloading: https://storage.googleapis.com/gfd_v1_4/DFO_3616_From_20100301_to_20100317.zip: 19769472it [00:03, 6451477.47it/s]                               \n",
      "Downloading: https://storage.googleapis.com/gfd_v1_4/DFO_3639_From_20100416_to_20100421.zip: 6271744it [00:02, 2554492.67it/s]                             \n",
      "Downloading: https://storage.googleapis.com/gfd_v1_4/DFO_3892_From_20120117_to_20120214.zip: 29576832it [00:03, 9024205.93it/s]                               \n",
      "Downloading: https://storage.googleapis.com/gfd_v1_4/DFO_4026_From_20130115_to_20130201.zip: 16159616it [00:03, 5166456.67it/s]                               \n",
      "Downloading: https://storage.googleapis.com/gfd_v1_4/DFO_4037_From_20130301_to_20130317.zip: 23007488it [00:03, 7570009.47it/s]                               \n",
      "Downloading: https://storage.googleapis.com/gfd_v1_4/DFO_4586_From_20180301_to_20180314.zip: 45594240it [00:03, 11523178.65it/s]                              \n",
      "Downloading: https://storage.googleapis.com/gfd_v1_4/DFO_4602_From_20180428_to_20180501.zip: 15977088it [00:03, 5189583.45it/s]                               \n",
      "Downloading: https://storage.googleapis.com/gfd_v1_4/DFO_4603_From_20180423_to_20180425.zip: 15008000it [00:02, 5098551.96it/s]                               \n"
     ]
    },
    {
     "name": "stdout",
     "output_type": "stream",
     "text": [
      "Downloading Zimbabwe (ZWE).\n"
     ]
    },
    {
     "name": "stderr",
     "output_type": "stream",
     "text": [
      "Downloading: https://storage.googleapis.com/gfd_v1_4/DFO_2119_From_20030101_to_20030217.zip: 39678464it [00:03, 10131714.37it/s]                              \n",
      "Downloading: https://storage.googleapis.com/gfd_v1_4/DFO_2161_From_20030115_to_20030701.zip: 85033600it [00:04, 17516685.90it/s]                              \n",
      "Downloading: https://storage.googleapis.com/gfd_v1_4/DFO_2178_From_20030305_to_20030316.zip: 7283328it [00:02, 2820825.59it/s]                              \n",
      "Downloading: https://storage.googleapis.com/gfd_v1_4/DFO_2181_From_20030311_to_20030315.zip: 5213696it [00:02, 2162177.67it/s]                             \n",
      "Downloading: https://storage.googleapis.com/gfd_v1_4/DFO_2194_From_20030326_to_20030328.zip: 4618496it [00:02, 1913357.08it/s]                             \n",
      "Downloading: https://storage.googleapis.com/gfd_v1_4/DFO_2430_From_20040201_to_20040602.zip: 97285376it [00:05, 17792164.87it/s]                              \n",
      "Downloading: https://storage.googleapis.com/gfd_v1_4/DFO_2448_From_20040305_to_20040319.zip: 6207360it [00:03, 1737126.94it/s]                             \n",
      "Downloading: https://storage.googleapis.com/gfd_v1_4/DFO_2773_From_20051222_to_20060207.zip: 28429184it [00:03, 8319190.66it/s]                               \n",
      "Downloading: https://storage.googleapis.com/gfd_v1_4/DFO_3242_From_20071211_to_20080103.zip: 30551040it [00:05, 5715582.07it/s]                               \n",
      "Downloading: https://storage.googleapis.com/gfd_v1_4/DFO_3272_From_20080209_to_20080501.zip: 77951872it [00:04, 16844652.63it/s]                              \n",
      "Downloading: https://storage.googleapis.com/gfd_v1_4/DFO_3426_From_20081226_to_20090112.zip: 10331904it [00:02, 3751867.81it/s]                              \n",
      "Downloading: https://storage.googleapis.com/gfd_v1_4/DFO_3467_From_20090327_to_20090327.zip: 30733440it [00:04, 6916419.84it/s]                               \n",
      "Downloading: https://storage.googleapis.com/gfd_v1_4/DFO_3493_From_20090621_to_20090628.zip: 14777600it [00:02, 5037181.43it/s]                               \n",
      "Downloading: https://storage.googleapis.com/gfd_v1_4/DFO_3616_From_20100301_to_20100317.zip: 19769472it [00:03, 6542685.97it/s]                               \n",
      "Downloading: https://storage.googleapis.com/gfd_v1_4/DFO_3639_From_20100416_to_20100421.zip: 6271744it [00:02, 2519915.88it/s]                             \n",
      "Downloading: https://storage.googleapis.com/gfd_v1_4/DFO_3892_From_20120117_to_20120214.zip: 29576832it [00:03, 8867095.72it/s]                               \n",
      "Downloading: https://storage.googleapis.com/gfd_v1_4/DFO_4023_From_20130117_to_20130304.zip: 15397504it [00:04, 3837097.77it/s]                               \n",
      "Downloading: https://storage.googleapis.com/gfd_v1_4/DFO_4026_From_20130115_to_20130201.zip: 16159616it [00:03, 5312133.66it/s]                               \n",
      "Downloading: https://storage.googleapis.com/gfd_v1_4/DFO_4037_From_20130301_to_20130317.zip: 23007488it [00:03, 7622145.28it/s]                               \n",
      "Downloading: https://storage.googleapis.com/gfd_v1_4/DFO_4219_From_20150101_to_20150209.zip: 31604480it [00:03, 9005432.58it/s]                               \n",
      "Downloading: https://storage.googleapis.com/gfd_v1_4/DFO_4439_From_20170101_to_20170207.zip: 9694464it [00:02, 3572052.34it/s]                              \n"
     ]
    }
   ],
   "source": [
    "from crawler.GlobalFloodDatabase import GlobalFloodDatabase\n",
    "GlobalFloodDatabase().downloadAll(\"download\")"
   ]
  },
  {
   "cell_type": "markdown",
   "id": "7db33014",
   "metadata": {},
   "source": [
    "Download Peopulation data"
   ]
  },
  {
   "cell_type": "code",
   "execution_count": null,
   "id": "01975d10",
   "metadata": {},
   "outputs": [],
   "source": [
    "from crawler.GlobalPopulation import GlobalPopulation"
   ]
  }
 ],
 "metadata": {
  "kernelspec": {
   "display_name": "Python 3",
   "language": "python",
   "name": "python3"
  },
  "language_info": {
   "codemirror_mode": {
    "name": "ipython",
    "version": 3
   },
   "file_extension": ".py",
   "mimetype": "text/x-python",
   "name": "python",
   "nbconvert_exporter": "python",
   "pygments_lexer": "ipython3",
   "version": "3.13.2"
  }
 },
 "nbformat": 4,
 "nbformat_minor": 5
}
